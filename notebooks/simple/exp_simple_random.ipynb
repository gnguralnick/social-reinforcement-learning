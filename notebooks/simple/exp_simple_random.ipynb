{
 "cells": [
  {
   "cell_type": "code",
   "execution_count": 1,
   "metadata": {},
   "outputs": [
    {
     "name": "stderr",
     "output_type": "stream",
     "text": [
      "2023-11-22 00:53:26,430\tWARNING deprecation.py:50 -- DeprecationWarning: `DirectStepOptimizer` has been deprecated. This will raise an error in the future!\n"
     ]
    }
   ],
   "source": [
    "from environments import ZeroDCleanupEnv\n",
    "import numpy as np\n",
    "from tqdm import tqdm"
   ]
  },
  {
   "cell_type": "code",
   "execution_count": 2,
   "metadata": {},
   "outputs": [],
   "source": [
    "num_episodes = 100\n",
    "verbose_episode = num_episodes - 1\n",
    "steps_per_episode = 1000\n",
    "num_agents = 10\n",
    "agent_ids = [str(i) for i in range(num_agents)]\n",
    "action_size = 2"
   ]
  },
  {
   "cell_type": "code",
   "execution_count": 3,
   "metadata": {},
   "outputs": [],
   "source": [
    "thresholdDepletion = 0.4\n",
    "thresholdRestoration = 0.0\n",
    "wasteSpawnProbability = 0.5\n",
    "appleRespawnProbability = 0.05\n",
    "dirt_multiplier = 10\n",
    "\n",
    "area = 150"
   ]
  },
  {
   "cell_type": "code",
   "execution_count": 4,
   "metadata": {},
   "outputs": [],
   "source": [
    "env = ZeroDCleanupEnv(agent_ids, \n",
    "                      num_agents=num_agents, \n",
    "                      area=area, \n",
    "                      thresholdDepletion=thresholdDepletion,\n",
    "                      thresholdRestoration=thresholdRestoration,\n",
    "                      wasteSpawnProbability=wasteSpawnProbability,\n",
    "                      appleRespawnProbability=appleRespawnProbability,\n",
    "                      dirt_multiplier=dirt_multiplier,\n",
    "                      use_heuristic=False)"
   ]
  },
  {
   "cell_type": "code",
   "execution_count": 5,
   "metadata": {},
   "outputs": [
    {
     "name": "stdout",
     "output_type": "stream",
     "text": [
      "========= Episode 0 =========\n",
      "info: {'total_apple_consumed': 0, 'step_apple_consumed': 0, 'apple': 0, 'dirt': 78, 'picker': 0, 'cleaner': 0, 'total_reward_by_agent': {'2': 0, '8': 0, '1': 0, '7': 0, '5': 0, '4': 0, '6': 0, '3': 0, '9': 0, '0': 0}}\n"
     ]
    },
    {
     "name": "stderr",
     "output_type": "stream",
     "text": [
      "  0%|          | 0/1000 [00:00<?, ?it/s]"
     ]
    },
    {
     "name": "stderr",
     "output_type": "stream",
     "text": [
      "100%|█████████▉| 999/1000 [00:00<00:00, 6689.57it/s]\n"
     ]
    },
    {
     "name": "stdout",
     "output_type": "stream",
     "text": [
      "ending reward: 2661\n",
      "========= End of Episode 0 =========\n",
      "========= Episode 1 =========\n",
      "info: {'total_apple_consumed': 0, 'step_apple_consumed': 0, 'apple': 0, 'dirt': 78, 'picker': 0, 'cleaner': 0, 'total_reward_by_agent': {'2': 0, '8': 0, '1': 0, '7': 0, '5': 0, '4': 0, '6': 0, '3': 0, '9': 0, '0': 0}}\n"
     ]
    },
    {
     "name": "stderr",
     "output_type": "stream",
     "text": [
      "100%|█████████▉| 999/1000 [00:00<00:00, 7571.62it/s]\n"
     ]
    },
    {
     "name": "stdout",
     "output_type": "stream",
     "text": [
      "ending reward: 2539\n",
      "========= End of Episode 1 =========\n",
      "========= Episode 2 =========\n",
      "info: {'total_apple_consumed': 0, 'step_apple_consumed': 0, 'apple': 0, 'dirt': 78, 'picker': 0, 'cleaner': 0, 'total_reward_by_agent': {'2': 0, '8': 0, '1': 0, '7': 0, '5': 0, '4': 0, '6': 0, '3': 0, '9': 0, '0': 0}}\n"
     ]
    },
    {
     "name": "stderr",
     "output_type": "stream",
     "text": [
      "100%|█████████▉| 999/1000 [00:00<00:00, 7161.28it/s]\n"
     ]
    },
    {
     "name": "stdout",
     "output_type": "stream",
     "text": [
      "ending reward: 2600\n",
      "========= End of Episode 2 =========\n",
      "========= Episode 3 =========\n",
      "info: {'total_apple_consumed': 0, 'step_apple_consumed': 0, 'apple': 0, 'dirt': 78, 'picker': 0, 'cleaner': 0, 'total_reward_by_agent': {'2': 0, '8': 0, '1': 0, '7': 0, '5': 0, '4': 0, '6': 0, '3': 0, '9': 0, '0': 0}}\n"
     ]
    },
    {
     "name": "stderr",
     "output_type": "stream",
     "text": [
      "100%|█████████▉| 999/1000 [00:00<00:00, 7289.43it/s]\n"
     ]
    },
    {
     "name": "stdout",
     "output_type": "stream",
     "text": [
      "ending reward: 2683\n",
      "========= End of Episode 3 =========\n",
      "========= Episode 4 =========\n",
      "info: {'total_apple_consumed': 0, 'step_apple_consumed': 0, 'apple': 0, 'dirt': 78, 'picker': 0, 'cleaner': 0, 'total_reward_by_agent': {'2': 0, '8': 0, '1': 0, '7': 0, '5': 0, '4': 0, '6': 0, '3': 0, '9': 0, '0': 0}}\n"
     ]
    },
    {
     "name": "stderr",
     "output_type": "stream",
     "text": [
      "100%|█████████▉| 999/1000 [00:00<00:00, 7210.18it/s]\n"
     ]
    },
    {
     "name": "stdout",
     "output_type": "stream",
     "text": [
      "ending reward: 2607\n",
      "========= End of Episode 4 =========\n",
      "========= Episode 5 =========\n",
      "info: {'total_apple_consumed': 0, 'step_apple_consumed': 0, 'apple': 0, 'dirt': 78, 'picker': 0, 'cleaner': 0, 'total_reward_by_agent': {'2': 0, '8': 0, '1': 0, '7': 0, '5': 0, '4': 0, '6': 0, '3': 0, '9': 0, '0': 0}}\n"
     ]
    },
    {
     "name": "stderr",
     "output_type": "stream",
     "text": [
      "100%|█████████▉| 999/1000 [00:00<00:00, 7678.41it/s]\n"
     ]
    },
    {
     "name": "stdout",
     "output_type": "stream",
     "text": [
      "ending reward: 2531\n",
      "========= End of Episode 5 =========\n",
      "========= Episode 6 =========\n",
      "info: {'total_apple_consumed': 0, 'step_apple_consumed': 0, 'apple': 0, 'dirt': 78, 'picker': 0, 'cleaner': 0, 'total_reward_by_agent': {'2': 0, '8': 0, '1': 0, '7': 0, '5': 0, '4': 0, '6': 0, '3': 0, '9': 0, '0': 0}}\n"
     ]
    },
    {
     "name": "stderr",
     "output_type": "stream",
     "text": [
      "100%|█████████▉| 999/1000 [00:00<00:00, 7597.37it/s]\n"
     ]
    },
    {
     "name": "stdout",
     "output_type": "stream",
     "text": [
      "ending reward: 2601\n",
      "========= End of Episode 6 =========\n",
      "========= Episode 7 =========\n",
      "info: {'total_apple_consumed': 0, 'step_apple_consumed': 0, 'apple': 0, 'dirt': 78, 'picker': 0, 'cleaner': 0, 'total_reward_by_agent': {'2': 0, '8': 0, '1': 0, '7': 0, '5': 0, '4': 0, '6': 0, '3': 0, '9': 0, '0': 0}}\n"
     ]
    },
    {
     "name": "stderr",
     "output_type": "stream",
     "text": [
      "100%|█████████▉| 999/1000 [00:00<00:00, 7372.10it/s]\n"
     ]
    },
    {
     "name": "stdout",
     "output_type": "stream",
     "text": [
      "ending reward: 2594\n",
      "========= End of Episode 7 =========\n",
      "========= Episode 8 =========\n",
      "info: {'total_apple_consumed': 0, 'step_apple_consumed': 0, 'apple': 0, 'dirt': 78, 'picker': 0, 'cleaner': 0, 'total_reward_by_agent': {'2': 0, '8': 0, '1': 0, '7': 0, '5': 0, '4': 0, '6': 0, '3': 0, '9': 0, '0': 0}}\n"
     ]
    },
    {
     "name": "stderr",
     "output_type": "stream",
     "text": [
      "100%|█████████▉| 999/1000 [00:00<00:00, 6872.74it/s]\n"
     ]
    },
    {
     "name": "stdout",
     "output_type": "stream",
     "text": [
      "ending reward: 2598\n",
      "========= End of Episode 8 =========\n",
      "========= Episode 9 =========\n",
      "info: {'total_apple_consumed': 0, 'step_apple_consumed': 0, 'apple': 0, 'dirt': 78, 'picker': 0, 'cleaner': 0, 'total_reward_by_agent': {'2': 0, '8': 0, '1': 0, '7': 0, '5': 0, '4': 0, '6': 0, '3': 0, '9': 0, '0': 0}}\n"
     ]
    },
    {
     "name": "stderr",
     "output_type": "stream",
     "text": [
      "100%|█████████▉| 999/1000 [00:00<00:00, 7166.94it/s]\n"
     ]
    },
    {
     "name": "stdout",
     "output_type": "stream",
     "text": [
      "ending reward: 2566\n",
      "========= End of Episode 9 =========\n",
      "========= Episode 10 =========\n",
      "info: {'total_apple_consumed': 0, 'step_apple_consumed': 0, 'apple': 0, 'dirt': 78, 'picker': 0, 'cleaner': 0, 'total_reward_by_agent': {'2': 0, '8': 0, '1': 0, '7': 0, '5': 0, '4': 0, '6': 0, '3': 0, '9': 0, '0': 0}}\n"
     ]
    },
    {
     "name": "stderr",
     "output_type": "stream",
     "text": [
      "100%|█████████▉| 999/1000 [00:00<00:00, 7169.16it/s]\n"
     ]
    },
    {
     "name": "stdout",
     "output_type": "stream",
     "text": [
      "ending reward: 2676\n",
      "========= End of Episode 10 =========\n",
      "========= Episode 11 =========\n",
      "info: {'total_apple_consumed': 0, 'step_apple_consumed': 0, 'apple': 0, 'dirt': 78, 'picker': 0, 'cleaner': 0, 'total_reward_by_agent': {'2': 0, '8': 0, '1': 0, '7': 0, '5': 0, '4': 0, '6': 0, '3': 0, '9': 0, '0': 0}}\n"
     ]
    },
    {
     "name": "stderr",
     "output_type": "stream",
     "text": [
      "100%|█████████▉| 999/1000 [00:00<00:00, 7532.00it/s]\n"
     ]
    },
    {
     "name": "stdout",
     "output_type": "stream",
     "text": [
      "ending reward: 2551\n",
      "========= End of Episode 11 =========\n",
      "========= Episode 12 =========\n",
      "info: {'total_apple_consumed': 0, 'step_apple_consumed': 0, 'apple': 0, 'dirt': 78, 'picker': 0, 'cleaner': 0, 'total_reward_by_agent': {'2': 0, '8': 0, '1': 0, '7': 0, '5': 0, '4': 0, '6': 0, '3': 0, '9': 0, '0': 0}}\n"
     ]
    },
    {
     "name": "stderr",
     "output_type": "stream",
     "text": [
      "100%|█████████▉| 999/1000 [00:00<00:00, 7226.89it/s]\n"
     ]
    },
    {
     "name": "stdout",
     "output_type": "stream",
     "text": [
      "ending reward: 2631\n",
      "========= End of Episode 12 =========\n",
      "========= Episode 13 =========\n",
      "info: {'total_apple_consumed': 0, 'step_apple_consumed': 0, 'apple': 0, 'dirt': 78, 'picker': 0, 'cleaner': 0, 'total_reward_by_agent': {'2': 0, '8': 0, '1': 0, '7': 0, '5': 0, '4': 0, '6': 0, '3': 0, '9': 0, '0': 0}}\n"
     ]
    },
    {
     "name": "stderr",
     "output_type": "stream",
     "text": [
      "100%|█████████▉| 999/1000 [00:00<00:00, 7497.24it/s]\n"
     ]
    },
    {
     "name": "stdout",
     "output_type": "stream",
     "text": [
      "ending reward: 2680\n",
      "========= End of Episode 13 =========\n",
      "========= Episode 14 =========\n",
      "info: {'total_apple_consumed': 0, 'step_apple_consumed': 0, 'apple': 0, 'dirt': 78, 'picker': 0, 'cleaner': 0, 'total_reward_by_agent': {'2': 0, '8': 0, '1': 0, '7': 0, '5': 0, '4': 0, '6': 0, '3': 0, '9': 0, '0': 0}}\n"
     ]
    },
    {
     "name": "stderr",
     "output_type": "stream",
     "text": [
      "100%|█████████▉| 999/1000 [00:00<00:00, 7718.10it/s]\n"
     ]
    },
    {
     "name": "stdout",
     "output_type": "stream",
     "text": [
      "ending reward: 2552\n",
      "========= End of Episode 14 =========\n",
      "========= Episode 15 =========\n",
      "info: {'total_apple_consumed': 0, 'step_apple_consumed': 0, 'apple': 0, 'dirt': 78, 'picker': 0, 'cleaner': 0, 'total_reward_by_agent': {'2': 0, '8': 0, '1': 0, '7': 0, '5': 0, '4': 0, '6': 0, '3': 0, '9': 0, '0': 0}}\n"
     ]
    },
    {
     "name": "stderr",
     "output_type": "stream",
     "text": [
      "100%|█████████▉| 999/1000 [00:00<00:00, 6649.05it/s]\n"
     ]
    },
    {
     "name": "stdout",
     "output_type": "stream",
     "text": [
      "ending reward: 2590\n",
      "========= End of Episode 15 =========\n",
      "========= Episode 16 =========\n",
      "info: {'total_apple_consumed': 0, 'step_apple_consumed': 0, 'apple': 0, 'dirt': 78, 'picker': 0, 'cleaner': 0, 'total_reward_by_agent': {'2': 0, '8': 0, '1': 0, '7': 0, '5': 0, '4': 0, '6': 0, '3': 0, '9': 0, '0': 0}}\n"
     ]
    },
    {
     "name": "stderr",
     "output_type": "stream",
     "text": [
      "100%|█████████▉| 999/1000 [00:00<00:00, 6280.88it/s]\n"
     ]
    },
    {
     "name": "stdout",
     "output_type": "stream",
     "text": [
      "ending reward: 2665\n",
      "========= End of Episode 16 =========\n",
      "========= Episode 17 =========\n",
      "info: {'total_apple_consumed': 0, 'step_apple_consumed': 0, 'apple': 0, 'dirt': 78, 'picker': 0, 'cleaner': 0, 'total_reward_by_agent': {'2': 0, '8': 0, '1': 0, '7': 0, '5': 0, '4': 0, '6': 0, '3': 0, '9': 0, '0': 0}}\n"
     ]
    },
    {
     "name": "stderr",
     "output_type": "stream",
     "text": [
      "100%|█████████▉| 999/1000 [00:00<00:00, 7496.38it/s]\n"
     ]
    },
    {
     "name": "stdout",
     "output_type": "stream",
     "text": [
      "ending reward: 2526\n",
      "========= End of Episode 17 =========\n",
      "========= Episode 18 =========\n",
      "info: {'total_apple_consumed': 0, 'step_apple_consumed': 0, 'apple': 0, 'dirt': 78, 'picker': 0, 'cleaner': 0, 'total_reward_by_agent': {'2': 0, '8': 0, '1': 0, '7': 0, '5': 0, '4': 0, '6': 0, '3': 0, '9': 0, '0': 0}}\n"
     ]
    },
    {
     "name": "stderr",
     "output_type": "stream",
     "text": [
      "100%|█████████▉| 999/1000 [00:00<00:00, 7755.35it/s]\n"
     ]
    },
    {
     "name": "stdout",
     "output_type": "stream",
     "text": [
      "ending reward: 2523\n",
      "========= End of Episode 18 =========\n",
      "========= Episode 19 =========\n",
      "info: {'total_apple_consumed': 0, 'step_apple_consumed': 0, 'apple': 0, 'dirt': 78, 'picker': 0, 'cleaner': 0, 'total_reward_by_agent': {'2': 0, '8': 0, '1': 0, '7': 0, '5': 0, '4': 0, '6': 0, '3': 0, '9': 0, '0': 0}}\n"
     ]
    },
    {
     "name": "stderr",
     "output_type": "stream",
     "text": [
      "100%|█████████▉| 999/1000 [00:00<00:00, 7372.31it/s]\n"
     ]
    },
    {
     "name": "stdout",
     "output_type": "stream",
     "text": [
      "ending reward: 2625\n",
      "========= End of Episode 19 =========\n",
      "========= Episode 20 =========\n",
      "info: {'total_apple_consumed': 0, 'step_apple_consumed': 0, 'apple': 0, 'dirt': 78, 'picker': 0, 'cleaner': 0, 'total_reward_by_agent': {'2': 0, '8': 0, '1': 0, '7': 0, '5': 0, '4': 0, '6': 0, '3': 0, '9': 0, '0': 0}}\n"
     ]
    },
    {
     "name": "stderr",
     "output_type": "stream",
     "text": [
      "100%|█████████▉| 999/1000 [00:00<00:00, 4403.05it/s]\n"
     ]
    },
    {
     "name": "stdout",
     "output_type": "stream",
     "text": [
      "ending reward: 2646\n",
      "========= End of Episode 20 =========\n",
      "========= Episode 21 =========\n",
      "info: {'total_apple_consumed': 0, 'step_apple_consumed': 0, 'apple': 0, 'dirt': 78, 'picker': 0, 'cleaner': 0, 'total_reward_by_agent': {'2': 0, '8': 0, '1': 0, '7': 0, '5': 0, '4': 0, '6': 0, '3': 0, '9': 0, '0': 0}}\n"
     ]
    },
    {
     "name": "stderr",
     "output_type": "stream",
     "text": [
      "100%|█████████▉| 999/1000 [00:00<00:00, 7854.88it/s]\n"
     ]
    },
    {
     "name": "stdout",
     "output_type": "stream",
     "text": [
      "ending reward: 2511\n",
      "========= End of Episode 21 =========\n",
      "========= Episode 22 =========\n",
      "info: {'total_apple_consumed': 0, 'step_apple_consumed': 0, 'apple': 0, 'dirt': 78, 'picker': 0, 'cleaner': 0, 'total_reward_by_agent': {'2': 0, '8': 0, '1': 0, '7': 0, '5': 0, '4': 0, '6': 0, '3': 0, '9': 0, '0': 0}}\n"
     ]
    },
    {
     "name": "stderr",
     "output_type": "stream",
     "text": [
      "100%|█████████▉| 999/1000 [00:00<00:00, 7241.18it/s]\n"
     ]
    },
    {
     "name": "stdout",
     "output_type": "stream",
     "text": [
      "ending reward: 2548\n",
      "========= End of Episode 22 =========\n",
      "========= Episode 23 =========\n",
      "info: {'total_apple_consumed': 0, 'step_apple_consumed': 0, 'apple': 0, 'dirt': 78, 'picker': 0, 'cleaner': 0, 'total_reward_by_agent': {'2': 0, '8': 0, '1': 0, '7': 0, '5': 0, '4': 0, '6': 0, '3': 0, '9': 0, '0': 0}}\n"
     ]
    },
    {
     "name": "stderr",
     "output_type": "stream",
     "text": [
      "100%|█████████▉| 999/1000 [00:00<00:00, 7213.00it/s]\n"
     ]
    },
    {
     "name": "stdout",
     "output_type": "stream",
     "text": [
      "ending reward: 2574\n",
      "========= End of Episode 23 =========\n",
      "========= Episode 24 =========\n",
      "info: {'total_apple_consumed': 0, 'step_apple_consumed': 0, 'apple': 0, 'dirt': 78, 'picker': 0, 'cleaner': 0, 'total_reward_by_agent': {'2': 0, '8': 0, '1': 0, '7': 0, '5': 0, '4': 0, '6': 0, '3': 0, '9': 0, '0': 0}}\n"
     ]
    },
    {
     "name": "stderr",
     "output_type": "stream",
     "text": [
      "100%|█████████▉| 999/1000 [00:00<00:00, 7006.88it/s]\n"
     ]
    },
    {
     "name": "stdout",
     "output_type": "stream",
     "text": [
      "ending reward: 2575\n",
      "========= End of Episode 24 =========\n",
      "========= Episode 25 =========\n",
      "info: {'total_apple_consumed': 0, 'step_apple_consumed': 0, 'apple': 0, 'dirt': 78, 'picker': 0, 'cleaner': 0, 'total_reward_by_agent': {'2': 0, '8': 0, '1': 0, '7': 0, '5': 0, '4': 0, '6': 0, '3': 0, '9': 0, '0': 0}}\n"
     ]
    },
    {
     "name": "stderr",
     "output_type": "stream",
     "text": [
      "100%|█████████▉| 999/1000 [00:00<00:00, 6184.26it/s]\n"
     ]
    },
    {
     "name": "stdout",
     "output_type": "stream",
     "text": [
      "ending reward: 2662\n",
      "========= End of Episode 25 =========\n",
      "========= Episode 26 =========\n",
      "info: {'total_apple_consumed': 0, 'step_apple_consumed': 0, 'apple': 0, 'dirt': 78, 'picker': 0, 'cleaner': 0, 'total_reward_by_agent': {'2': 0, '8': 0, '1': 0, '7': 0, '5': 0, '4': 0, '6': 0, '3': 0, '9': 0, '0': 0}}\n"
     ]
    },
    {
     "name": "stderr",
     "output_type": "stream",
     "text": [
      "100%|█████████▉| 999/1000 [00:00<00:00, 7354.67it/s]\n"
     ]
    },
    {
     "name": "stdout",
     "output_type": "stream",
     "text": [
      "ending reward: 2551\n",
      "========= End of Episode 26 =========\n",
      "========= Episode 27 =========\n",
      "info: {'total_apple_consumed': 0, 'step_apple_consumed': 0, 'apple': 0, 'dirt': 78, 'picker': 0, 'cleaner': 0, 'total_reward_by_agent': {'2': 0, '8': 0, '1': 0, '7': 0, '5': 0, '4': 0, '6': 0, '3': 0, '9': 0, '0': 0}}\n"
     ]
    },
    {
     "name": "stderr",
     "output_type": "stream",
     "text": [
      "100%|█████████▉| 999/1000 [00:00<00:00, 6033.45it/s]\n"
     ]
    },
    {
     "name": "stdout",
     "output_type": "stream",
     "text": [
      "ending reward: 2595\n",
      "========= End of Episode 27 =========\n",
      "========= Episode 28 =========\n",
      "info: {'total_apple_consumed': 0, 'step_apple_consumed': 0, 'apple': 0, 'dirt': 78, 'picker': 0, 'cleaner': 0, 'total_reward_by_agent': {'2': 0, '8': 0, '1': 0, '7': 0, '5': 0, '4': 0, '6': 0, '3': 0, '9': 0, '0': 0}}\n"
     ]
    },
    {
     "name": "stderr",
     "output_type": "stream",
     "text": [
      "100%|█████████▉| 999/1000 [00:00<00:00, 8146.59it/s]\n"
     ]
    },
    {
     "name": "stdout",
     "output_type": "stream",
     "text": [
      "ending reward: 2589\n",
      "========= End of Episode 28 =========\n",
      "========= Episode 29 =========\n",
      "info: {'total_apple_consumed': 0, 'step_apple_consumed': 0, 'apple': 0, 'dirt': 78, 'picker': 0, 'cleaner': 0, 'total_reward_by_agent': {'2': 0, '8': 0, '1': 0, '7': 0, '5': 0, '4': 0, '6': 0, '3': 0, '9': 0, '0': 0}}\n"
     ]
    },
    {
     "name": "stderr",
     "output_type": "stream",
     "text": [
      "100%|█████████▉| 999/1000 [00:00<00:00, 7371.78it/s]\n"
     ]
    },
    {
     "name": "stdout",
     "output_type": "stream",
     "text": [
      "ending reward: 2625\n",
      "========= End of Episode 29 =========\n",
      "========= Episode 30 =========\n",
      "info: {'total_apple_consumed': 0, 'step_apple_consumed': 0, 'apple': 0, 'dirt': 78, 'picker': 0, 'cleaner': 0, 'total_reward_by_agent': {'2': 0, '8': 0, '1': 0, '7': 0, '5': 0, '4': 0, '6': 0, '3': 0, '9': 0, '0': 0}}\n"
     ]
    },
    {
     "name": "stderr",
     "output_type": "stream",
     "text": [
      "100%|█████████▉| 999/1000 [00:00<00:00, 6822.04it/s]\n"
     ]
    },
    {
     "name": "stdout",
     "output_type": "stream",
     "text": [
      "ending reward: 2655\n",
      "========= End of Episode 30 =========\n",
      "========= Episode 31 =========\n",
      "info: {'total_apple_consumed': 0, 'step_apple_consumed': 0, 'apple': 0, 'dirt': 78, 'picker': 0, 'cleaner': 0, 'total_reward_by_agent': {'2': 0, '8': 0, '1': 0, '7': 0, '5': 0, '4': 0, '6': 0, '3': 0, '9': 0, '0': 0}}\n"
     ]
    },
    {
     "name": "stderr",
     "output_type": "stream",
     "text": [
      "100%|█████████▉| 999/1000 [00:00<00:00, 7247.27it/s]\n"
     ]
    },
    {
     "name": "stdout",
     "output_type": "stream",
     "text": [
      "ending reward: 2602\n",
      "========= End of Episode 31 =========\n",
      "========= Episode 32 =========\n",
      "info: {'total_apple_consumed': 0, 'step_apple_consumed': 0, 'apple': 0, 'dirt': 78, 'picker': 0, 'cleaner': 0, 'total_reward_by_agent': {'2': 0, '8': 0, '1': 0, '7': 0, '5': 0, '4': 0, '6': 0, '3': 0, '9': 0, '0': 0}}\n"
     ]
    },
    {
     "name": "stderr",
     "output_type": "stream",
     "text": [
      "100%|█████████▉| 999/1000 [00:00<00:00, 7575.07it/s]\n"
     ]
    },
    {
     "name": "stdout",
     "output_type": "stream",
     "text": [
      "ending reward: 2685\n",
      "========= End of Episode 32 =========\n",
      "========= Episode 33 =========\n",
      "info: {'total_apple_consumed': 0, 'step_apple_consumed': 0, 'apple': 0, 'dirt': 78, 'picker': 0, 'cleaner': 0, 'total_reward_by_agent': {'2': 0, '8': 0, '1': 0, '7': 0, '5': 0, '4': 0, '6': 0, '3': 0, '9': 0, '0': 0}}\n"
     ]
    },
    {
     "name": "stderr",
     "output_type": "stream",
     "text": [
      "100%|█████████▉| 999/1000 [00:00<00:00, 7328.62it/s]\n"
     ]
    },
    {
     "name": "stdout",
     "output_type": "stream",
     "text": [
      "ending reward: 2597\n",
      "========= End of Episode 33 =========\n",
      "========= Episode 34 =========\n",
      "info: {'total_apple_consumed': 0, 'step_apple_consumed': 0, 'apple': 0, 'dirt': 78, 'picker': 0, 'cleaner': 0, 'total_reward_by_agent': {'2': 0, '8': 0, '1': 0, '7': 0, '5': 0, '4': 0, '6': 0, '3': 0, '9': 0, '0': 0}}\n"
     ]
    },
    {
     "name": "stderr",
     "output_type": "stream",
     "text": [
      "100%|█████████▉| 999/1000 [00:00<00:00, 7153.03it/s]\n"
     ]
    },
    {
     "name": "stdout",
     "output_type": "stream",
     "text": [
      "ending reward: 2631\n",
      "========= End of Episode 34 =========\n",
      "========= Episode 35 =========\n",
      "info: {'total_apple_consumed': 0, 'step_apple_consumed': 0, 'apple': 0, 'dirt': 78, 'picker': 0, 'cleaner': 0, 'total_reward_by_agent': {'2': 0, '8': 0, '1': 0, '7': 0, '5': 0, '4': 0, '6': 0, '3': 0, '9': 0, '0': 0}}\n"
     ]
    },
    {
     "name": "stderr",
     "output_type": "stream",
     "text": [
      "100%|█████████▉| 999/1000 [00:00<00:00, 7750.25it/s]\n"
     ]
    },
    {
     "name": "stdout",
     "output_type": "stream",
     "text": [
      "ending reward: 2554\n",
      "========= End of Episode 35 =========\n",
      "========= Episode 36 =========\n",
      "info: {'total_apple_consumed': 0, 'step_apple_consumed': 0, 'apple': 0, 'dirt': 78, 'picker': 0, 'cleaner': 0, 'total_reward_by_agent': {'2': 0, '8': 0, '1': 0, '7': 0, '5': 0, '4': 0, '6': 0, '3': 0, '9': 0, '0': 0}}\n"
     ]
    },
    {
     "name": "stderr",
     "output_type": "stream",
     "text": [
      "100%|█████████▉| 999/1000 [00:00<00:00, 7513.08it/s]\n"
     ]
    },
    {
     "name": "stdout",
     "output_type": "stream",
     "text": [
      "ending reward: 2500\n",
      "========= End of Episode 36 =========\n",
      "========= Episode 37 =========\n",
      "info: {'total_apple_consumed': 0, 'step_apple_consumed': 0, 'apple': 0, 'dirt': 78, 'picker': 0, 'cleaner': 0, 'total_reward_by_agent': {'2': 0, '8': 0, '1': 0, '7': 0, '5': 0, '4': 0, '6': 0, '3': 0, '9': 0, '0': 0}}\n"
     ]
    },
    {
     "name": "stderr",
     "output_type": "stream",
     "text": [
      "100%|█████████▉| 999/1000 [00:00<00:00, 7419.63it/s]\n"
     ]
    },
    {
     "name": "stdout",
     "output_type": "stream",
     "text": [
      "ending reward: 2583\n",
      "========= End of Episode 37 =========\n",
      "========= Episode 38 =========\n",
      "info: {'total_apple_consumed': 0, 'step_apple_consumed': 0, 'apple': 0, 'dirt': 78, 'picker': 0, 'cleaner': 0, 'total_reward_by_agent': {'2': 0, '8': 0, '1': 0, '7': 0, '5': 0, '4': 0, '6': 0, '3': 0, '9': 0, '0': 0}}\n"
     ]
    },
    {
     "name": "stderr",
     "output_type": "stream",
     "text": [
      "100%|█████████▉| 999/1000 [00:00<00:00, 7694.22it/s]\n"
     ]
    },
    {
     "name": "stdout",
     "output_type": "stream",
     "text": [
      "ending reward: 2559\n",
      "========= End of Episode 38 =========\n",
      "========= Episode 39 =========\n",
      "info: {'total_apple_consumed': 0, 'step_apple_consumed': 0, 'apple': 0, 'dirt': 78, 'picker': 0, 'cleaner': 0, 'total_reward_by_agent': {'2': 0, '8': 0, '1': 0, '7': 0, '5': 0, '4': 0, '6': 0, '3': 0, '9': 0, '0': 0}}\n"
     ]
    },
    {
     "name": "stderr",
     "output_type": "stream",
     "text": [
      "100%|█████████▉| 999/1000 [00:00<00:00, 7178.13it/s]\n"
     ]
    },
    {
     "name": "stdout",
     "output_type": "stream",
     "text": [
      "ending reward: 2551\n",
      "========= End of Episode 39 =========\n",
      "========= Episode 40 =========\n",
      "info: {'total_apple_consumed': 0, 'step_apple_consumed': 0, 'apple': 0, 'dirt': 78, 'picker': 0, 'cleaner': 0, 'total_reward_by_agent': {'2': 0, '8': 0, '1': 0, '7': 0, '5': 0, '4': 0, '6': 0, '3': 0, '9': 0, '0': 0}}\n"
     ]
    },
    {
     "name": "stderr",
     "output_type": "stream",
     "text": [
      "100%|█████████▉| 999/1000 [00:00<00:00, 7393.11it/s]\n"
     ]
    },
    {
     "name": "stdout",
     "output_type": "stream",
     "text": [
      "ending reward: 2592\n",
      "========= End of Episode 40 =========\n",
      "========= Episode 41 =========\n",
      "info: {'total_apple_consumed': 0, 'step_apple_consumed': 0, 'apple': 0, 'dirt': 78, 'picker': 0, 'cleaner': 0, 'total_reward_by_agent': {'2': 0, '8': 0, '1': 0, '7': 0, '5': 0, '4': 0, '6': 0, '3': 0, '9': 0, '0': 0}}\n"
     ]
    },
    {
     "name": "stderr",
     "output_type": "stream",
     "text": [
      "100%|█████████▉| 999/1000 [00:00<00:00, 7275.77it/s]\n"
     ]
    },
    {
     "name": "stdout",
     "output_type": "stream",
     "text": [
      "ending reward: 2629\n",
      "========= End of Episode 41 =========\n",
      "========= Episode 42 =========\n",
      "info: {'total_apple_consumed': 0, 'step_apple_consumed': 0, 'apple': 0, 'dirt': 78, 'picker': 0, 'cleaner': 0, 'total_reward_by_agent': {'2': 0, '8': 0, '1': 0, '7': 0, '5': 0, '4': 0, '6': 0, '3': 0, '9': 0, '0': 0}}\n"
     ]
    },
    {
     "name": "stderr",
     "output_type": "stream",
     "text": [
      "100%|█████████▉| 999/1000 [00:00<00:00, 6930.04it/s]\n"
     ]
    },
    {
     "name": "stdout",
     "output_type": "stream",
     "text": [
      "ending reward: 2638\n",
      "========= End of Episode 42 =========\n",
      "========= Episode 43 =========\n",
      "info: {'total_apple_consumed': 0, 'step_apple_consumed': 0, 'apple': 0, 'dirt': 78, 'picker': 0, 'cleaner': 0, 'total_reward_by_agent': {'2': 0, '8': 0, '1': 0, '7': 0, '5': 0, '4': 0, '6': 0, '3': 0, '9': 0, '0': 0}}\n"
     ]
    },
    {
     "name": "stderr",
     "output_type": "stream",
     "text": [
      "100%|█████████▉| 999/1000 [00:00<00:00, 5485.46it/s]\n"
     ]
    },
    {
     "name": "stdout",
     "output_type": "stream",
     "text": [
      "ending reward: 2534\n",
      "========= End of Episode 43 =========\n",
      "========= Episode 44 =========\n",
      "info: {'total_apple_consumed': 0, 'step_apple_consumed': 0, 'apple': 0, 'dirt': 78, 'picker': 0, 'cleaner': 0, 'total_reward_by_agent': {'2': 0, '8': 0, '1': 0, '7': 0, '5': 0, '4': 0, '6': 0, '3': 0, '9': 0, '0': 0}}\n"
     ]
    },
    {
     "name": "stderr",
     "output_type": "stream",
     "text": [
      "100%|█████████▉| 999/1000 [00:00<00:00, 7352.60it/s]\n"
     ]
    },
    {
     "name": "stdout",
     "output_type": "stream",
     "text": [
      "ending reward: 2547\n",
      "========= End of Episode 44 =========\n",
      "========= Episode 45 =========\n",
      "info: {'total_apple_consumed': 0, 'step_apple_consumed': 0, 'apple': 0, 'dirt': 78, 'picker': 0, 'cleaner': 0, 'total_reward_by_agent': {'2': 0, '8': 0, '1': 0, '7': 0, '5': 0, '4': 0, '6': 0, '3': 0, '9': 0, '0': 0}}\n"
     ]
    },
    {
     "name": "stderr",
     "output_type": "stream",
     "text": [
      "100%|█████████▉| 999/1000 [00:00<00:00, 7031.09it/s]\n"
     ]
    },
    {
     "name": "stdout",
     "output_type": "stream",
     "text": [
      "ending reward: 2600\n",
      "========= End of Episode 45 =========\n",
      "========= Episode 46 =========\n",
      "info: {'total_apple_consumed': 0, 'step_apple_consumed': 0, 'apple': 0, 'dirt': 78, 'picker': 0, 'cleaner': 0, 'total_reward_by_agent': {'2': 0, '8': 0, '1': 0, '7': 0, '5': 0, '4': 0, '6': 0, '3': 0, '9': 0, '0': 0}}\n"
     ]
    },
    {
     "name": "stderr",
     "output_type": "stream",
     "text": [
      "100%|█████████▉| 999/1000 [00:00<00:00, 7162.73it/s]\n"
     ]
    },
    {
     "name": "stdout",
     "output_type": "stream",
     "text": [
      "ending reward: 2608\n",
      "========= End of Episode 46 =========\n",
      "========= Episode 47 =========\n",
      "info: {'total_apple_consumed': 0, 'step_apple_consumed': 0, 'apple': 0, 'dirt': 78, 'picker': 0, 'cleaner': 0, 'total_reward_by_agent': {'2': 0, '8': 0, '1': 0, '7': 0, '5': 0, '4': 0, '6': 0, '3': 0, '9': 0, '0': 0}}\n"
     ]
    },
    {
     "name": "stderr",
     "output_type": "stream",
     "text": [
      "100%|█████████▉| 999/1000 [00:00<00:00, 7305.25it/s]\n"
     ]
    },
    {
     "name": "stdout",
     "output_type": "stream",
     "text": [
      "ending reward: 2544\n",
      "========= End of Episode 47 =========\n",
      "========= Episode 48 =========\n",
      "info: {'total_apple_consumed': 0, 'step_apple_consumed': 0, 'apple': 0, 'dirt': 78, 'picker': 0, 'cleaner': 0, 'total_reward_by_agent': {'2': 0, '8': 0, '1': 0, '7': 0, '5': 0, '4': 0, '6': 0, '3': 0, '9': 0, '0': 0}}\n"
     ]
    },
    {
     "name": "stderr",
     "output_type": "stream",
     "text": [
      "100%|█████████▉| 999/1000 [00:00<00:00, 7694.33it/s]\n"
     ]
    },
    {
     "name": "stdout",
     "output_type": "stream",
     "text": [
      "ending reward: 2562\n",
      "========= End of Episode 48 =========\n",
      "========= Episode 49 =========\n",
      "info: {'total_apple_consumed': 0, 'step_apple_consumed': 0, 'apple': 0, 'dirt': 78, 'picker': 0, 'cleaner': 0, 'total_reward_by_agent': {'2': 0, '8': 0, '1': 0, '7': 0, '5': 0, '4': 0, '6': 0, '3': 0, '9': 0, '0': 0}}\n"
     ]
    },
    {
     "name": "stderr",
     "output_type": "stream",
     "text": [
      "100%|█████████▉| 999/1000 [00:00<00:00, 6734.35it/s]\n"
     ]
    },
    {
     "name": "stdout",
     "output_type": "stream",
     "text": [
      "ending reward: 2565\n",
      "========= End of Episode 49 =========\n",
      "========= Episode 50 =========\n",
      "info: {'total_apple_consumed': 0, 'step_apple_consumed': 0, 'apple': 0, 'dirt': 78, 'picker': 0, 'cleaner': 0, 'total_reward_by_agent': {'2': 0, '8': 0, '1': 0, '7': 0, '5': 0, '4': 0, '6': 0, '3': 0, '9': 0, '0': 0}}\n"
     ]
    },
    {
     "name": "stderr",
     "output_type": "stream",
     "text": [
      "100%|█████████▉| 999/1000 [00:00<00:00, 7077.68it/s]\n"
     ]
    },
    {
     "name": "stdout",
     "output_type": "stream",
     "text": [
      "ending reward: 2532\n",
      "========= End of Episode 50 =========\n",
      "========= Episode 51 =========\n",
      "info: {'total_apple_consumed': 0, 'step_apple_consumed': 0, 'apple': 0, 'dirt': 78, 'picker': 0, 'cleaner': 0, 'total_reward_by_agent': {'2': 0, '8': 0, '1': 0, '7': 0, '5': 0, '4': 0, '6': 0, '3': 0, '9': 0, '0': 0}}\n"
     ]
    },
    {
     "name": "stderr",
     "output_type": "stream",
     "text": [
      "100%|█████████▉| 999/1000 [00:00<00:00, 7449.23it/s]\n"
     ]
    },
    {
     "name": "stdout",
     "output_type": "stream",
     "text": [
      "ending reward: 2538\n",
      "========= End of Episode 51 =========\n",
      "========= Episode 52 =========\n",
      "info: {'total_apple_consumed': 0, 'step_apple_consumed': 0, 'apple': 0, 'dirt': 78, 'picker': 0, 'cleaner': 0, 'total_reward_by_agent': {'2': 0, '8': 0, '1': 0, '7': 0, '5': 0, '4': 0, '6': 0, '3': 0, '9': 0, '0': 0}}\n"
     ]
    },
    {
     "name": "stderr",
     "output_type": "stream",
     "text": [
      "100%|█████████▉| 999/1000 [00:00<00:00, 7176.21it/s]\n"
     ]
    },
    {
     "name": "stdout",
     "output_type": "stream",
     "text": [
      "ending reward: 2541\n",
      "========= End of Episode 52 =========\n",
      "========= Episode 53 =========\n",
      "info: {'total_apple_consumed': 0, 'step_apple_consumed': 0, 'apple': 0, 'dirt': 78, 'picker': 0, 'cleaner': 0, 'total_reward_by_agent': {'2': 0, '8': 0, '1': 0, '7': 0, '5': 0, '4': 0, '6': 0, '3': 0, '9': 0, '0': 0}}\n"
     ]
    },
    {
     "name": "stderr",
     "output_type": "stream",
     "text": [
      "100%|█████████▉| 999/1000 [00:00<00:00, 6467.71it/s]\n"
     ]
    },
    {
     "name": "stdout",
     "output_type": "stream",
     "text": [
      "ending reward: 2543\n",
      "========= End of Episode 53 =========\n",
      "========= Episode 54 =========\n",
      "info: {'total_apple_consumed': 0, 'step_apple_consumed': 0, 'apple': 0, 'dirt': 78, 'picker': 0, 'cleaner': 0, 'total_reward_by_agent': {'2': 0, '8': 0, '1': 0, '7': 0, '5': 0, '4': 0, '6': 0, '3': 0, '9': 0, '0': 0}}\n"
     ]
    },
    {
     "name": "stderr",
     "output_type": "stream",
     "text": [
      "100%|█████████▉| 999/1000 [00:00<00:00, 6510.91it/s]\n"
     ]
    },
    {
     "name": "stdout",
     "output_type": "stream",
     "text": [
      "ending reward: 2582\n",
      "========= End of Episode 54 =========\n",
      "========= Episode 55 =========\n",
      "info: {'total_apple_consumed': 0, 'step_apple_consumed': 0, 'apple': 0, 'dirt': 78, 'picker': 0, 'cleaner': 0, 'total_reward_by_agent': {'2': 0, '8': 0, '1': 0, '7': 0, '5': 0, '4': 0, '6': 0, '3': 0, '9': 0, '0': 0}}\n"
     ]
    },
    {
     "name": "stderr",
     "output_type": "stream",
     "text": [
      "100%|█████████▉| 999/1000 [00:00<00:00, 7673.88it/s]\n"
     ]
    },
    {
     "name": "stdout",
     "output_type": "stream",
     "text": [
      "ending reward: 2588\n",
      "========= End of Episode 55 =========\n",
      "========= Episode 56 =========\n",
      "info: {'total_apple_consumed': 0, 'step_apple_consumed': 0, 'apple': 0, 'dirt': 78, 'picker': 0, 'cleaner': 0, 'total_reward_by_agent': {'2': 0, '8': 0, '1': 0, '7': 0, '5': 0, '4': 0, '6': 0, '3': 0, '9': 0, '0': 0}}\n"
     ]
    },
    {
     "name": "stderr",
     "output_type": "stream",
     "text": [
      "100%|█████████▉| 999/1000 [00:00<00:00, 6391.68it/s]\n"
     ]
    },
    {
     "name": "stdout",
     "output_type": "stream",
     "text": [
      "ending reward: 2624\n",
      "========= End of Episode 56 =========\n",
      "========= Episode 57 =========\n",
      "info: {'total_apple_consumed': 0, 'step_apple_consumed': 0, 'apple': 0, 'dirt': 78, 'picker': 0, 'cleaner': 0, 'total_reward_by_agent': {'2': 0, '8': 0, '1': 0, '7': 0, '5': 0, '4': 0, '6': 0, '3': 0, '9': 0, '0': 0}}\n"
     ]
    },
    {
     "name": "stderr",
     "output_type": "stream",
     "text": [
      "100%|█████████▉| 999/1000 [00:00<00:00, 6223.80it/s]\n"
     ]
    },
    {
     "name": "stdout",
     "output_type": "stream",
     "text": [
      "ending reward: 2597\n",
      "========= End of Episode 57 =========\n",
      "========= Episode 58 =========\n",
      "info: {'total_apple_consumed': 0, 'step_apple_consumed': 0, 'apple': 0, 'dirt': 78, 'picker': 0, 'cleaner': 0, 'total_reward_by_agent': {'2': 0, '8': 0, '1': 0, '7': 0, '5': 0, '4': 0, '6': 0, '3': 0, '9': 0, '0': 0}}\n"
     ]
    },
    {
     "name": "stderr",
     "output_type": "stream",
     "text": [
      "100%|█████████▉| 999/1000 [00:00<00:00, 7711.13it/s]\n"
     ]
    },
    {
     "name": "stdout",
     "output_type": "stream",
     "text": [
      "ending reward: 2515\n",
      "========= End of Episode 58 =========\n",
      "========= Episode 59 =========\n",
      "info: {'total_apple_consumed': 0, 'step_apple_consumed': 0, 'apple': 0, 'dirt': 78, 'picker': 0, 'cleaner': 0, 'total_reward_by_agent': {'2': 0, '8': 0, '1': 0, '7': 0, '5': 0, '4': 0, '6': 0, '3': 0, '9': 0, '0': 0}}\n"
     ]
    },
    {
     "name": "stderr",
     "output_type": "stream",
     "text": [
      "100%|█████████▉| 999/1000 [00:00<00:00, 5708.87it/s]\n"
     ]
    },
    {
     "name": "stdout",
     "output_type": "stream",
     "text": [
      "ending reward: 2558\n",
      "========= End of Episode 59 =========\n",
      "========= Episode 60 =========\n",
      "info: {'total_apple_consumed': 0, 'step_apple_consumed': 0, 'apple': 0, 'dirt': 78, 'picker': 0, 'cleaner': 0, 'total_reward_by_agent': {'2': 0, '8': 0, '1': 0, '7': 0, '5': 0, '4': 0, '6': 0, '3': 0, '9': 0, '0': 0}}\n"
     ]
    },
    {
     "name": "stderr",
     "output_type": "stream",
     "text": [
      "100%|█████████▉| 999/1000 [00:00<00:00, 7318.67it/s]\n"
     ]
    },
    {
     "name": "stdout",
     "output_type": "stream",
     "text": [
      "ending reward: 2590\n",
      "========= End of Episode 60 =========\n",
      "========= Episode 61 =========\n",
      "info: {'total_apple_consumed': 0, 'step_apple_consumed': 0, 'apple': 0, 'dirt': 78, 'picker': 0, 'cleaner': 0, 'total_reward_by_agent': {'2': 0, '8': 0, '1': 0, '7': 0, '5': 0, '4': 0, '6': 0, '3': 0, '9': 0, '0': 0}}\n"
     ]
    },
    {
     "name": "stderr",
     "output_type": "stream",
     "text": [
      "100%|█████████▉| 999/1000 [00:00<00:00, 7741.73it/s]\n"
     ]
    },
    {
     "name": "stdout",
     "output_type": "stream",
     "text": [
      "ending reward: 2595\n",
      "========= End of Episode 61 =========\n",
      "========= Episode 62 =========\n",
      "info: {'total_apple_consumed': 0, 'step_apple_consumed': 0, 'apple': 0, 'dirt': 78, 'picker': 0, 'cleaner': 0, 'total_reward_by_agent': {'2': 0, '8': 0, '1': 0, '7': 0, '5': 0, '4': 0, '6': 0, '3': 0, '9': 0, '0': 0}}\n"
     ]
    },
    {
     "name": "stderr",
     "output_type": "stream",
     "text": [
      "100%|█████████▉| 999/1000 [00:00<00:00, 7378.84it/s]\n"
     ]
    },
    {
     "name": "stdout",
     "output_type": "stream",
     "text": [
      "ending reward: 2566\n",
      "========= End of Episode 62 =========\n",
      "========= Episode 63 =========\n",
      "info: {'total_apple_consumed': 0, 'step_apple_consumed': 0, 'apple': 0, 'dirt': 78, 'picker': 0, 'cleaner': 0, 'total_reward_by_agent': {'2': 0, '8': 0, '1': 0, '7': 0, '5': 0, '4': 0, '6': 0, '3': 0, '9': 0, '0': 0}}\n"
     ]
    },
    {
     "name": "stderr",
     "output_type": "stream",
     "text": [
      "100%|█████████▉| 999/1000 [00:00<00:00, 7622.80it/s]\n"
     ]
    },
    {
     "name": "stdout",
     "output_type": "stream",
     "text": [
      "ending reward: 2610\n",
      "========= End of Episode 63 =========\n",
      "========= Episode 64 =========\n",
      "info: {'total_apple_consumed': 0, 'step_apple_consumed': 0, 'apple': 0, 'dirt': 78, 'picker': 0, 'cleaner': 0, 'total_reward_by_agent': {'2': 0, '8': 0, '1': 0, '7': 0, '5': 0, '4': 0, '6': 0, '3': 0, '9': 0, '0': 0}}\n"
     ]
    },
    {
     "name": "stderr",
     "output_type": "stream",
     "text": [
      "100%|█████████▉| 999/1000 [00:00<00:00, 7211.91it/s]\n"
     ]
    },
    {
     "name": "stdout",
     "output_type": "stream",
     "text": [
      "ending reward: 2633\n",
      "========= End of Episode 64 =========\n",
      "========= Episode 65 =========\n",
      "info: {'total_apple_consumed': 0, 'step_apple_consumed': 0, 'apple': 0, 'dirt': 78, 'picker': 0, 'cleaner': 0, 'total_reward_by_agent': {'2': 0, '8': 0, '1': 0, '7': 0, '5': 0, '4': 0, '6': 0, '3': 0, '9': 0, '0': 0}}\n"
     ]
    },
    {
     "name": "stderr",
     "output_type": "stream",
     "text": [
      "100%|█████████▉| 999/1000 [00:00<00:00, 7264.24it/s]\n"
     ]
    },
    {
     "name": "stdout",
     "output_type": "stream",
     "text": [
      "ending reward: 2636\n",
      "========= End of Episode 65 =========\n",
      "========= Episode 66 =========\n",
      "info: {'total_apple_consumed': 0, 'step_apple_consumed': 0, 'apple': 0, 'dirt': 78, 'picker': 0, 'cleaner': 0, 'total_reward_by_agent': {'2': 0, '8': 0, '1': 0, '7': 0, '5': 0, '4': 0, '6': 0, '3': 0, '9': 0, '0': 0}}\n"
     ]
    },
    {
     "name": "stderr",
     "output_type": "stream",
     "text": [
      "100%|█████████▉| 999/1000 [00:00<00:00, 6744.89it/s]\n"
     ]
    },
    {
     "name": "stdout",
     "output_type": "stream",
     "text": [
      "ending reward: 2602\n",
      "========= End of Episode 66 =========\n",
      "========= Episode 67 =========\n",
      "info: {'total_apple_consumed': 0, 'step_apple_consumed': 0, 'apple': 0, 'dirt': 78, 'picker': 0, 'cleaner': 0, 'total_reward_by_agent': {'2': 0, '8': 0, '1': 0, '7': 0, '5': 0, '4': 0, '6': 0, '3': 0, '9': 0, '0': 0}}\n"
     ]
    },
    {
     "name": "stderr",
     "output_type": "stream",
     "text": [
      "100%|█████████▉| 999/1000 [00:00<00:00, 7369.12it/s]\n"
     ]
    },
    {
     "name": "stdout",
     "output_type": "stream",
     "text": [
      "ending reward: 2601\n",
      "========= End of Episode 67 =========\n",
      "========= Episode 68 =========\n",
      "info: {'total_apple_consumed': 0, 'step_apple_consumed': 0, 'apple': 0, 'dirt': 78, 'picker': 0, 'cleaner': 0, 'total_reward_by_agent': {'2': 0, '8': 0, '1': 0, '7': 0, '5': 0, '4': 0, '6': 0, '3': 0, '9': 0, '0': 0}}\n"
     ]
    },
    {
     "name": "stderr",
     "output_type": "stream",
     "text": [
      "100%|█████████▉| 999/1000 [00:00<00:00, 7813.74it/s]\n"
     ]
    },
    {
     "name": "stdout",
     "output_type": "stream",
     "text": [
      "ending reward: 2570\n",
      "========= End of Episode 68 =========\n",
      "========= Episode 69 =========\n",
      "info: {'total_apple_consumed': 0, 'step_apple_consumed': 0, 'apple': 0, 'dirt': 78, 'picker': 0, 'cleaner': 0, 'total_reward_by_agent': {'2': 0, '8': 0, '1': 0, '7': 0, '5': 0, '4': 0, '6': 0, '3': 0, '9': 0, '0': 0}}\n"
     ]
    },
    {
     "name": "stderr",
     "output_type": "stream",
     "text": [
      "100%|█████████▉| 999/1000 [00:00<00:00, 6816.97it/s]\n"
     ]
    },
    {
     "name": "stdout",
     "output_type": "stream",
     "text": [
      "ending reward: 2597\n",
      "========= End of Episode 69 =========\n",
      "========= Episode 70 =========\n",
      "info: {'total_apple_consumed': 0, 'step_apple_consumed': 0, 'apple': 0, 'dirt': 78, 'picker': 0, 'cleaner': 0, 'total_reward_by_agent': {'2': 0, '8': 0, '1': 0, '7': 0, '5': 0, '4': 0, '6': 0, '3': 0, '9': 0, '0': 0}}\n"
     ]
    },
    {
     "name": "stderr",
     "output_type": "stream",
     "text": [
      "100%|█████████▉| 999/1000 [00:00<00:00, 7486.68it/s]\n"
     ]
    },
    {
     "name": "stdout",
     "output_type": "stream",
     "text": [
      "ending reward: 2576\n",
      "========= End of Episode 70 =========\n",
      "========= Episode 71 =========\n",
      "info: {'total_apple_consumed': 0, 'step_apple_consumed': 0, 'apple': 0, 'dirt': 78, 'picker': 0, 'cleaner': 0, 'total_reward_by_agent': {'2': 0, '8': 0, '1': 0, '7': 0, '5': 0, '4': 0, '6': 0, '3': 0, '9': 0, '0': 0}}\n"
     ]
    },
    {
     "name": "stderr",
     "output_type": "stream",
     "text": [
      "100%|█████████▉| 999/1000 [00:00<00:00, 6277.13it/s]\n"
     ]
    },
    {
     "name": "stdout",
     "output_type": "stream",
     "text": [
      "ending reward: 2600\n",
      "========= End of Episode 71 =========\n",
      "========= Episode 72 =========\n",
      "info: {'total_apple_consumed': 0, 'step_apple_consumed': 0, 'apple': 0, 'dirt': 78, 'picker': 0, 'cleaner': 0, 'total_reward_by_agent': {'2': 0, '8': 0, '1': 0, '7': 0, '5': 0, '4': 0, '6': 0, '3': 0, '9': 0, '0': 0}}\n"
     ]
    },
    {
     "name": "stderr",
     "output_type": "stream",
     "text": [
      "100%|█████████▉| 999/1000 [00:00<00:00, 6755.47it/s]\n"
     ]
    },
    {
     "name": "stdout",
     "output_type": "stream",
     "text": [
      "ending reward: 2613\n",
      "========= End of Episode 72 =========\n",
      "========= Episode 73 =========\n",
      "info: {'total_apple_consumed': 0, 'step_apple_consumed': 0, 'apple': 0, 'dirt': 78, 'picker': 0, 'cleaner': 0, 'total_reward_by_agent': {'2': 0, '8': 0, '1': 0, '7': 0, '5': 0, '4': 0, '6': 0, '3': 0, '9': 0, '0': 0}}\n"
     ]
    },
    {
     "name": "stderr",
     "output_type": "stream",
     "text": [
      "100%|█████████▉| 999/1000 [00:00<00:00, 7091.18it/s]\n"
     ]
    },
    {
     "name": "stdout",
     "output_type": "stream",
     "text": [
      "ending reward: 2597\n",
      "========= End of Episode 73 =========\n",
      "========= Episode 74 =========\n",
      "info: {'total_apple_consumed': 0, 'step_apple_consumed': 0, 'apple': 0, 'dirt': 78, 'picker': 0, 'cleaner': 0, 'total_reward_by_agent': {'2': 0, '8': 0, '1': 0, '7': 0, '5': 0, '4': 0, '6': 0, '3': 0, '9': 0, '0': 0}}\n"
     ]
    },
    {
     "name": "stderr",
     "output_type": "stream",
     "text": [
      "100%|█████████▉| 999/1000 [00:00<00:00, 7136.11it/s]\n"
     ]
    },
    {
     "name": "stdout",
     "output_type": "stream",
     "text": [
      "ending reward: 2679\n",
      "========= End of Episode 74 =========\n",
      "========= Episode 75 =========\n",
      "info: {'total_apple_consumed': 0, 'step_apple_consumed': 0, 'apple': 0, 'dirt': 78, 'picker': 0, 'cleaner': 0, 'total_reward_by_agent': {'2': 0, '8': 0, '1': 0, '7': 0, '5': 0, '4': 0, '6': 0, '3': 0, '9': 0, '0': 0}}\n"
     ]
    },
    {
     "name": "stderr",
     "output_type": "stream",
     "text": [
      "100%|█████████▉| 999/1000 [00:00<00:00, 7488.69it/s]\n"
     ]
    },
    {
     "name": "stdout",
     "output_type": "stream",
     "text": [
      "ending reward: 2632\n",
      "========= End of Episode 75 =========\n",
      "========= Episode 76 =========\n",
      "info: {'total_apple_consumed': 0, 'step_apple_consumed': 0, 'apple': 0, 'dirt': 78, 'picker': 0, 'cleaner': 0, 'total_reward_by_agent': {'2': 0, '8': 0, '1': 0, '7': 0, '5': 0, '4': 0, '6': 0, '3': 0, '9': 0, '0': 0}}\n"
     ]
    },
    {
     "name": "stderr",
     "output_type": "stream",
     "text": [
      "100%|█████████▉| 999/1000 [00:00<00:00, 7807.91it/s]\n"
     ]
    },
    {
     "name": "stdout",
     "output_type": "stream",
     "text": [
      "ending reward: 2560\n",
      "========= End of Episode 76 =========\n",
      "========= Episode 77 =========\n",
      "info: {'total_apple_consumed': 0, 'step_apple_consumed': 0, 'apple': 0, 'dirt': 78, 'picker': 0, 'cleaner': 0, 'total_reward_by_agent': {'2': 0, '8': 0, '1': 0, '7': 0, '5': 0, '4': 0, '6': 0, '3': 0, '9': 0, '0': 0}}\n"
     ]
    },
    {
     "name": "stderr",
     "output_type": "stream",
     "text": [
      "100%|█████████▉| 999/1000 [00:00<00:00, 6954.31it/s]\n"
     ]
    },
    {
     "name": "stdout",
     "output_type": "stream",
     "text": [
      "ending reward: 2533\n",
      "========= End of Episode 77 =========\n",
      "========= Episode 78 =========\n",
      "info: {'total_apple_consumed': 0, 'step_apple_consumed': 0, 'apple': 0, 'dirt': 78, 'picker': 0, 'cleaner': 0, 'total_reward_by_agent': {'2': 0, '8': 0, '1': 0, '7': 0, '5': 0, '4': 0, '6': 0, '3': 0, '9': 0, '0': 0}}\n"
     ]
    },
    {
     "name": "stderr",
     "output_type": "stream",
     "text": [
      "100%|█████████▉| 999/1000 [00:00<00:00, 7666.44it/s]\n"
     ]
    },
    {
     "name": "stdout",
     "output_type": "stream",
     "text": [
      "ending reward: 2554\n",
      "========= End of Episode 78 =========\n",
      "========= Episode 79 =========\n",
      "info: {'total_apple_consumed': 0, 'step_apple_consumed': 0, 'apple': 0, 'dirt': 78, 'picker': 0, 'cleaner': 0, 'total_reward_by_agent': {'2': 0, '8': 0, '1': 0, '7': 0, '5': 0, '4': 0, '6': 0, '3': 0, '9': 0, '0': 0}}\n"
     ]
    },
    {
     "name": "stderr",
     "output_type": "stream",
     "text": [
      "100%|█████████▉| 999/1000 [00:00<00:00, 7078.38it/s]\n"
     ]
    },
    {
     "name": "stdout",
     "output_type": "stream",
     "text": [
      "ending reward: 2603\n",
      "========= End of Episode 79 =========\n",
      "========= Episode 80 =========\n",
      "info: {'total_apple_consumed': 0, 'step_apple_consumed': 0, 'apple': 0, 'dirt': 78, 'picker': 0, 'cleaner': 0, 'total_reward_by_agent': {'2': 0, '8': 0, '1': 0, '7': 0, '5': 0, '4': 0, '6': 0, '3': 0, '9': 0, '0': 0}}\n"
     ]
    },
    {
     "name": "stderr",
     "output_type": "stream",
     "text": [
      "100%|█████████▉| 999/1000 [00:00<00:00, 6958.87it/s]\n"
     ]
    },
    {
     "name": "stdout",
     "output_type": "stream",
     "text": [
      "ending reward: 2553\n",
      "========= End of Episode 80 =========\n",
      "========= Episode 81 =========\n",
      "info: {'total_apple_consumed': 0, 'step_apple_consumed': 0, 'apple': 0, 'dirt': 78, 'picker': 0, 'cleaner': 0, 'total_reward_by_agent': {'2': 0, '8': 0, '1': 0, '7': 0, '5': 0, '4': 0, '6': 0, '3': 0, '9': 0, '0': 0}}\n"
     ]
    },
    {
     "name": "stderr",
     "output_type": "stream",
     "text": [
      "100%|█████████▉| 999/1000 [00:00<00:00, 7082.70it/s]\n"
     ]
    },
    {
     "name": "stdout",
     "output_type": "stream",
     "text": [
      "ending reward: 2557\n",
      "========= End of Episode 81 =========\n",
      "========= Episode 82 =========\n",
      "info: {'total_apple_consumed': 0, 'step_apple_consumed': 0, 'apple': 0, 'dirt': 78, 'picker': 0, 'cleaner': 0, 'total_reward_by_agent': {'2': 0, '8': 0, '1': 0, '7': 0, '5': 0, '4': 0, '6': 0, '3': 0, '9': 0, '0': 0}}\n"
     ]
    },
    {
     "name": "stderr",
     "output_type": "stream",
     "text": [
      "100%|█████████▉| 999/1000 [00:00<00:00, 7049.17it/s]\n"
     ]
    },
    {
     "name": "stdout",
     "output_type": "stream",
     "text": [
      "ending reward: 2540\n",
      "========= End of Episode 82 =========\n",
      "========= Episode 83 =========\n",
      "info: {'total_apple_consumed': 0, 'step_apple_consumed': 0, 'apple': 0, 'dirt': 78, 'picker': 0, 'cleaner': 0, 'total_reward_by_agent': {'2': 0, '8': 0, '1': 0, '7': 0, '5': 0, '4': 0, '6': 0, '3': 0, '9': 0, '0': 0}}\n"
     ]
    },
    {
     "name": "stderr",
     "output_type": "stream",
     "text": [
      "100%|█████████▉| 999/1000 [00:00<00:00, 7089.73it/s]\n"
     ]
    },
    {
     "name": "stdout",
     "output_type": "stream",
     "text": [
      "ending reward: 2614\n",
      "========= End of Episode 83 =========\n",
      "========= Episode 84 =========\n",
      "info: {'total_apple_consumed': 0, 'step_apple_consumed': 0, 'apple': 0, 'dirt': 78, 'picker': 0, 'cleaner': 0, 'total_reward_by_agent': {'2': 0, '8': 0, '1': 0, '7': 0, '5': 0, '4': 0, '6': 0, '3': 0, '9': 0, '0': 0}}\n"
     ]
    },
    {
     "name": "stderr",
     "output_type": "stream",
     "text": [
      "100%|█████████▉| 999/1000 [00:00<00:00, 5009.50it/s]\n"
     ]
    },
    {
     "name": "stdout",
     "output_type": "stream",
     "text": [
      "ending reward: 2611\n",
      "========= End of Episode 84 =========\n",
      "========= Episode 85 =========\n",
      "info: {'total_apple_consumed': 0, 'step_apple_consumed': 0, 'apple': 0, 'dirt': 78, 'picker': 0, 'cleaner': 0, 'total_reward_by_agent': {'2': 0, '8': 0, '1': 0, '7': 0, '5': 0, '4': 0, '6': 0, '3': 0, '9': 0, '0': 0}}\n"
     ]
    },
    {
     "name": "stderr",
     "output_type": "stream",
     "text": [
      "100%|█████████▉| 999/1000 [00:00<00:00, 5957.03it/s]\n"
     ]
    },
    {
     "name": "stdout",
     "output_type": "stream",
     "text": [
      "ending reward: 2557\n",
      "========= End of Episode 85 =========\n",
      "========= Episode 86 =========\n",
      "info: {'total_apple_consumed': 0, 'step_apple_consumed': 0, 'apple': 0, 'dirt': 78, 'picker': 0, 'cleaner': 0, 'total_reward_by_agent': {'2': 0, '8': 0, '1': 0, '7': 0, '5': 0, '4': 0, '6': 0, '3': 0, '9': 0, '0': 0}}\n"
     ]
    },
    {
     "name": "stderr",
     "output_type": "stream",
     "text": [
      "100%|█████████▉| 999/1000 [00:00<00:00, 6304.71it/s]\n"
     ]
    },
    {
     "name": "stdout",
     "output_type": "stream",
     "text": [
      "ending reward: 2568\n",
      "========= End of Episode 86 =========\n",
      "========= Episode 87 =========\n",
      "info: {'total_apple_consumed': 0, 'step_apple_consumed': 0, 'apple': 0, 'dirt': 78, 'picker': 0, 'cleaner': 0, 'total_reward_by_agent': {'2': 0, '8': 0, '1': 0, '7': 0, '5': 0, '4': 0, '6': 0, '3': 0, '9': 0, '0': 0}}\n"
     ]
    },
    {
     "name": "stderr",
     "output_type": "stream",
     "text": [
      "100%|█████████▉| 999/1000 [00:00<00:00, 6770.18it/s]\n"
     ]
    },
    {
     "name": "stdout",
     "output_type": "stream",
     "text": [
      "ending reward: 2596\n",
      "========= End of Episode 87 =========\n",
      "========= Episode 88 =========\n",
      "info: {'total_apple_consumed': 0, 'step_apple_consumed': 0, 'apple': 0, 'dirt': 78, 'picker': 0, 'cleaner': 0, 'total_reward_by_agent': {'2': 0, '8': 0, '1': 0, '7': 0, '5': 0, '4': 0, '6': 0, '3': 0, '9': 0, '0': 0}}\n"
     ]
    },
    {
     "name": "stderr",
     "output_type": "stream",
     "text": [
      "100%|█████████▉| 999/1000 [00:00<00:00, 7458.45it/s]\n"
     ]
    },
    {
     "name": "stdout",
     "output_type": "stream",
     "text": [
      "ending reward: 2598\n",
      "========= End of Episode 88 =========\n",
      "========= Episode 89 =========\n",
      "info: {'total_apple_consumed': 0, 'step_apple_consumed': 0, 'apple': 0, 'dirt': 78, 'picker': 0, 'cleaner': 0, 'total_reward_by_agent': {'2': 0, '8': 0, '1': 0, '7': 0, '5': 0, '4': 0, '6': 0, '3': 0, '9': 0, '0': 0}}\n"
     ]
    },
    {
     "name": "stderr",
     "output_type": "stream",
     "text": [
      "100%|█████████▉| 999/1000 [00:00<00:00, 7063.86it/s]\n"
     ]
    },
    {
     "name": "stdout",
     "output_type": "stream",
     "text": [
      "ending reward: 2605\n",
      "========= End of Episode 89 =========\n",
      "========= Episode 90 =========\n",
      "info: {'total_apple_consumed': 0, 'step_apple_consumed': 0, 'apple': 0, 'dirt': 78, 'picker': 0, 'cleaner': 0, 'total_reward_by_agent': {'2': 0, '8': 0, '1': 0, '7': 0, '5': 0, '4': 0, '6': 0, '3': 0, '9': 0, '0': 0}}\n"
     ]
    },
    {
     "name": "stderr",
     "output_type": "stream",
     "text": [
      "100%|█████████▉| 999/1000 [00:00<00:00, 7055.73it/s]\n"
     ]
    },
    {
     "name": "stdout",
     "output_type": "stream",
     "text": [
      "ending reward: 2559\n",
      "========= End of Episode 90 =========\n",
      "========= Episode 91 =========\n",
      "info: {'total_apple_consumed': 0, 'step_apple_consumed': 0, 'apple': 0, 'dirt': 78, 'picker': 0, 'cleaner': 0, 'total_reward_by_agent': {'2': 0, '8': 0, '1': 0, '7': 0, '5': 0, '4': 0, '6': 0, '3': 0, '9': 0, '0': 0}}\n"
     ]
    },
    {
     "name": "stderr",
     "output_type": "stream",
     "text": [
      "100%|█████████▉| 999/1000 [00:00<00:00, 7488.92it/s]\n"
     ]
    },
    {
     "name": "stdout",
     "output_type": "stream",
     "text": [
      "ending reward: 2571\n",
      "========= End of Episode 91 =========\n",
      "========= Episode 92 =========\n",
      "info: {'total_apple_consumed': 0, 'step_apple_consumed': 0, 'apple': 0, 'dirt': 78, 'picker': 0, 'cleaner': 0, 'total_reward_by_agent': {'2': 0, '8': 0, '1': 0, '7': 0, '5': 0, '4': 0, '6': 0, '3': 0, '9': 0, '0': 0}}\n"
     ]
    },
    {
     "name": "stderr",
     "output_type": "stream",
     "text": [
      "100%|█████████▉| 999/1000 [00:00<00:00, 7189.58it/s]\n"
     ]
    },
    {
     "name": "stdout",
     "output_type": "stream",
     "text": [
      "ending reward: 2600\n",
      "========= End of Episode 92 =========\n",
      "========= Episode 93 =========\n",
      "info: {'total_apple_consumed': 0, 'step_apple_consumed': 0, 'apple': 0, 'dirt': 78, 'picker': 0, 'cleaner': 0, 'total_reward_by_agent': {'2': 0, '8': 0, '1': 0, '7': 0, '5': 0, '4': 0, '6': 0, '3': 0, '9': 0, '0': 0}}\n"
     ]
    },
    {
     "name": "stderr",
     "output_type": "stream",
     "text": [
      "100%|█████████▉| 999/1000 [00:00<00:00, 7155.38it/s]\n"
     ]
    },
    {
     "name": "stdout",
     "output_type": "stream",
     "text": [
      "ending reward: 2537\n",
      "========= End of Episode 93 =========\n",
      "========= Episode 94 =========\n",
      "info: {'total_apple_consumed': 0, 'step_apple_consumed': 0, 'apple': 0, 'dirt': 78, 'picker': 0, 'cleaner': 0, 'total_reward_by_agent': {'2': 0, '8': 0, '1': 0, '7': 0, '5': 0, '4': 0, '6': 0, '3': 0, '9': 0, '0': 0}}\n"
     ]
    },
    {
     "name": "stderr",
     "output_type": "stream",
     "text": [
      "100%|█████████▉| 999/1000 [00:00<00:00, 7180.34it/s]\n"
     ]
    },
    {
     "name": "stdout",
     "output_type": "stream",
     "text": [
      "ending reward: 2595\n",
      "========= End of Episode 94 =========\n",
      "========= Episode 95 =========\n",
      "info: {'total_apple_consumed': 0, 'step_apple_consumed': 0, 'apple': 0, 'dirt': 78, 'picker': 0, 'cleaner': 0, 'total_reward_by_agent': {'2': 0, '8': 0, '1': 0, '7': 0, '5': 0, '4': 0, '6': 0, '3': 0, '9': 0, '0': 0}}\n"
     ]
    },
    {
     "name": "stderr",
     "output_type": "stream",
     "text": [
      "100%|█████████▉| 999/1000 [00:00<00:00, 7096.29it/s]\n"
     ]
    },
    {
     "name": "stdout",
     "output_type": "stream",
     "text": [
      "ending reward: 2551\n",
      "========= End of Episode 95 =========\n",
      "========= Episode 96 =========\n",
      "info: {'total_apple_consumed': 0, 'step_apple_consumed': 0, 'apple': 0, 'dirt': 78, 'picker': 0, 'cleaner': 0, 'total_reward_by_agent': {'2': 0, '8': 0, '1': 0, '7': 0, '5': 0, '4': 0, '6': 0, '3': 0, '9': 0, '0': 0}}\n"
     ]
    },
    {
     "name": "stderr",
     "output_type": "stream",
     "text": [
      "100%|█████████▉| 999/1000 [00:00<00:00, 7111.09it/s]\n"
     ]
    },
    {
     "name": "stdout",
     "output_type": "stream",
     "text": [
      "ending reward: 2608\n",
      "========= End of Episode 96 =========\n",
      "========= Episode 97 =========\n",
      "info: {'total_apple_consumed': 0, 'step_apple_consumed': 0, 'apple': 0, 'dirt': 78, 'picker': 0, 'cleaner': 0, 'total_reward_by_agent': {'2': 0, '8': 0, '1': 0, '7': 0, '5': 0, '4': 0, '6': 0, '3': 0, '9': 0, '0': 0}}\n"
     ]
    },
    {
     "name": "stderr",
     "output_type": "stream",
     "text": [
      "100%|█████████▉| 999/1000 [00:00<00:00, 7240.66it/s]\n"
     ]
    },
    {
     "name": "stdout",
     "output_type": "stream",
     "text": [
      "ending reward: 2596\n",
      "========= End of Episode 97 =========\n",
      "========= Episode 98 =========\n",
      "info: {'total_apple_consumed': 0, 'step_apple_consumed': 0, 'apple': 0, 'dirt': 78, 'picker': 0, 'cleaner': 0, 'total_reward_by_agent': {'2': 0, '8': 0, '1': 0, '7': 0, '5': 0, '4': 0, '6': 0, '3': 0, '9': 0, '0': 0}}\n"
     ]
    },
    {
     "name": "stderr",
     "output_type": "stream",
     "text": [
      "100%|█████████▉| 999/1000 [00:00<00:00, 6677.68it/s]\n"
     ]
    },
    {
     "name": "stdout",
     "output_type": "stream",
     "text": [
      "ending reward: 2535\n",
      "========= End of Episode 98 =========\n",
      "========= Episode 99 =========\n",
      "info: {'total_apple_consumed': 0, 'step_apple_consumed': 0, 'apple': 0, 'dirt': 78, 'picker': 0, 'cleaner': 0, 'total_reward_by_agent': {'2': 0, '8': 0, '1': 0, '7': 0, '5': 0, '4': 0, '6': 0, '3': 0, '9': 0, '0': 0}}\n"
     ]
    },
    {
     "name": "stderr",
     "output_type": "stream",
     "text": [
      "100%|█████████▉| 999/1000 [00:00<00:00, 7203.46it/s]"
     ]
    },
    {
     "name": "stdout",
     "output_type": "stream",
     "text": [
      "ending reward: 2626\n",
      "========= End of Episode 99 =========\n"
     ]
    },
    {
     "name": "stderr",
     "output_type": "stream",
     "text": [
      "\n"
     ]
    }
   ],
   "source": [
    "test_stats = []\n",
    "for episode in range(num_episodes):\n",
    "    test_stats.append({\n",
    "        \"num_apples\": [],\n",
    "        \"num_dirt\": [],\n",
    "        \"pickers\": [],\n",
    "        \"cleaners\": [],\n",
    "        \"total_reward\": 0,\n",
    "    })\n",
    "    \n",
    "    print(f\"========= Episode {episode} =========\")\n",
    "\n",
    "    states, info = env.reset()\n",
    "    test_stats[-1][\"num_apples\"].append(info[\"apple\"])\n",
    "    test_stats[-1][\"num_dirt\"].append(info[\"dirt\"])\n",
    "    test_stats[-1][\"pickers\"].append(info[\"picker\"])\n",
    "    test_stats[-1][\"cleaners\"].append(info[\"cleaner\"])\n",
    "\n",
    "    print(f\"info: {info}\")\n",
    "\n",
    "    for step in tqdm(range(steps_per_episode)):\n",
    "        actions = { agent_id: np.random.randint(0, action_size) for agent_id in agent_ids }\n",
    "        next_states, rewards, dones, _, info = env.step(actions)\n",
    "        test_stats[-1][\"num_apples\"].append(info[\"apple\"])\n",
    "        test_stats[-1][\"num_dirt\"].append(info[\"dirt\"])\n",
    "        test_stats[-1][\"pickers\"].append(info[\"picker\"])\n",
    "        test_stats[-1][\"cleaners\"].append(info[\"cleaner\"])\n",
    "        reward = sum(rewards.values())\n",
    "\n",
    "        if episode > verbose_episode:\n",
    "            print(f\"========= Step {step} =========\")\n",
    "            print(f\"info: {info}\")\n",
    "\n",
    "        if dones[\"__all__\"]:\n",
    "            break \n",
    "\n",
    "    ending_reward = info[\"total_apple_consumed\"]\n",
    "\n",
    "    print(f\"ending reward: {ending_reward}\")\n",
    "    #print(f\"reward graph: {reward_graph}\")\n",
    "    print(f\"========= End of Episode {episode} =========\")\n",
    "\n",
    "    test_stats[-1][\"total_reward\"] = ending_reward\n"
   ]
  },
  {
   "cell_type": "code",
   "execution_count": 6,
   "metadata": {},
   "outputs": [],
   "source": [
    "import matplotlib.pyplot as plt"
   ]
  },
  {
   "cell_type": "code",
   "execution_count": 7,
   "metadata": {},
   "outputs": [
    {
     "data": {
      "image/png": "[encoded data removed]",
      "text/plain": [
       "<Figure size 640x480 with 1 Axes>"
      ]
     },
     "metadata": {},
     "output_type": "display_data"
    }
   ],
   "source": [
    "plt.figure()\n",
    "plt.title(\"Reward by Test Episode\")\n",
    "plt.xlabel(\"Episode\")\n",
    "plt.ylabel(\"Reward\")\n",
    "plt.plot([stat['total_reward'] for stat in test_stats])\n",
    "plt.show()"
   ]
  },
  {
   "cell_type": "code",
   "execution_count": 8,
   "metadata": {},
   "outputs": [
    {
     "data": {
      "image/png": "[encoded data removed]",
      "text/plain": [
       "<Figure size 640x480 with 1 Axes>"
      ]
     },
     "metadata": {},
     "output_type": "display_data"
    }
   ],
   "source": [
    "plt.figure()\n",
    "plt.title(\"Average Number of Apples and Dirt by Test Step\")\n",
    "plt.xlabel(\"Step\")\n",
    "plt.ylabel(\"Number\")\n",
    "avg_num_apples = []\n",
    "avg_num_dirt = []\n",
    "for i in range(steps_per_episode):\n",
    "    avg_num_apples.append(np.mean([stat['num_apples'][i] for stat in test_stats]))\n",
    "    avg_num_dirt.append(np.mean([stat['num_dirt'][i] for stat in test_stats]))\n",
    "plt.plot(avg_num_apples, label=\"Apples\")\n",
    "plt.plot(avg_num_dirt, label=\"Dirt\")\n",
    "plt.legend()\n",
    "plt.show()"
   ]
  },
  {
   "cell_type": "code",
   "execution_count": 9,
   "metadata": {},
   "outputs": [
    {
     "data": {
      "image/png": "[encoded data removed]",
      "text/plain": [
       "<Figure size 640x480 with 1 Axes>"
      ]
     },
     "metadata": {},
     "output_type": "display_data"
    }
   ],
   "source": [
    "plt.figure()\n",
    "plt.title(\"Average Number of Pickers and Cleaners by Test Step\")\n",
    "plt.xlabel(\"Step\")\n",
    "plt.ylabel(\"Number\")\n",
    "avg_num_pickers = []\n",
    "avg_num_cleaners = []\n",
    "for i in range(steps_per_episode):\n",
    "    avg_num_pickers.append(np.mean([stat['pickers'][i] for stat in test_stats]))\n",
    "    avg_num_cleaners.append(np.mean([stat['cleaners'][i] for stat in test_stats]))\n",
    "plt.plot(avg_num_pickers, label=\"Pickers\")\n",
    "plt.plot(avg_num_cleaners, label=\"Cleaners\")\n",
    "plt.legend()\n",
    "plt.show()"
   ]
  },
  {
   "cell_type": "code",
   "execution_count": 10,
   "metadata": {},
   "outputs": [
    {
     "data": {
      "image/png": "[encoded data removed]",
      "text/plain": [
       "<Figure size 640x480 with 1 Axes>"
      ]
     },
     "metadata": {},
     "output_type": "display_data"
    }
   ],
   "source": [
    "plt.figure()\n",
    "plt.title(\"Average Ratios by Test Step\")\n",
    "plt.xlabel(\"Step\")\n",
    "plt.ylabel(\"Ratio\")\n",
    "avg_apple_dirt_ratios = []\n",
    "apple_dirt_steps = []\n",
    "avg_picker_cleaner_ratios = []\n",
    "picker_cleaner_steps = []\n",
    "for i in range(steps_per_episode):\n",
    "    #avg_apple_dirt_ratios.append(np.mean([stat['num_apples'][i] / (stat['num_dirt'][i] + 1e-8) for stat in test_stats]))\n",
    "    #avg_picker_cleaner_ratios.append(np.mean([stat['pickers'][i] / (stat['cleaners'][i]) for stat in test_stats if stat['cleaners'][i] > 0]))\n",
    "    apple_dirt = []\n",
    "    picker_cleaner = []\n",
    "    for stat in test_stats:\n",
    "        if stat['num_dirt'][i] > 0:\n",
    "            apple_dirt.append(stat['num_apples'][i] / stat['num_dirt'][i])\n",
    "        if stat['cleaners'][i] > 0:\n",
    "            picker_cleaner.append(stat['pickers'][i] / stat['cleaners'][i])\n",
    "    if len(apple_dirt) > 0:\n",
    "        avg_apple_dirt_ratios.append(np.mean(apple_dirt))\n",
    "        apple_dirt_steps.append(i)\n",
    "    if len(picker_cleaner) > 0:\n",
    "        avg_picker_cleaner_ratios.append(np.mean(picker_cleaner))\n",
    "        picker_cleaner_steps.append(i)\n",
    "\n",
    "plt.plot(apple_dirt_steps, avg_apple_dirt_ratios, label=\"Apples/Dirt\")\n",
    "plt.plot(picker_cleaner_steps, avg_picker_cleaner_ratios, label=\"Pickers/Cleaners\")\n",
    "plt.legend()\n",
    "plt.show()"
   ]
  }
 ],
 "metadata": {
  "kernelspec": {
   "display_name": "venv",
   "language": "python",
   "name": "python3"
  },
  "language_info": {
   "codemirror_mode": {
    "name": "ipython",
    "version": 3
   },
   "file_extension": ".py",
   "mimetype": "text/x-python",
   "name": "python",
   "nbconvert_exporter": "python",
   "pygments_lexer": "ipython3",
   "version": "3.10.7"
  }
 },
 "nbformat": 4,
 "nbformat_minor": 2
}
