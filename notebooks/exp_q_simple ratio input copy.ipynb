{
 "cells": [
  {
   "cell_type": "code",
   "execution_count": 1,
   "metadata": {},
   "outputs": [
    {
     "name": "stderr",
     "output_type": "stream",
     "text": [
      "2023-11-21 23:02:11,550\tWARNING deprecation.py:50 -- DeprecationWarning: `DirectStepOptimizer` has been deprecated. This will raise an error in the future!\n"
     ]
    }
   ],
   "source": [
    "from environments import ZeroDCleanupEnv\n",
    "from agents import QAgent\n",
    "import numpy as np\n",
    "from collections import defaultdict\n",
    "import torch\n",
    "import sys\n",
    "from tqdm import tqdm"
   ]
  },
  {
   "cell_type": "code",
   "execution_count": 2,
   "metadata": {},
   "outputs": [
    {
     "name": "stdout",
     "output_type": "stream",
     "text": [
      "cpu\n"
     ]
    }
   ],
   "source": [
    "device = torch.device(\"cuda\" if torch.cuda.is_available() else \"cpu\")\n",
    "print(device)\n",
    "np.set_printoptions(threshold=sys.maxsize)"
   ]
  },
  {
   "cell_type": "code",
   "execution_count": 3,
   "metadata": {},
   "outputs": [],
   "source": [
    "num_agents = 10\n",
    "agent_ids = [str(i) for i in range(num_agents)]\n",
    "reward_multiplier = 10"
   ]
  },
  {
   "cell_type": "code",
   "execution_count": 4,
   "metadata": {},
   "outputs": [],
   "source": [
    "pp = False\n",
    "verbose = False"
   ]
  },
  {
   "cell_type": "code",
   "execution_count": 5,
   "metadata": {},
   "outputs": [],
   "source": [
    "num_episodes = 200\n",
    "verbose_episode = num_episodes - 1\n",
    "max_steps_per_episode = 1000\n",
    "state_dim = 4\n",
    "action_dim = 2"
   ]
  },
  {
   "cell_type": "code",
   "execution_count": 6,
   "metadata": {},
   "outputs": [],
   "source": [
    "thresholdDepletion = 0.4\n",
    "thresholdRestoration = 0.0\n",
    "wasteSpawnProbability = 0.5\n",
    "appleRespawnProbability = 0.05\n",
    "dirt_multiplier = 10\n",
    "\n",
    "area = 150"
   ]
  },
  {
   "cell_type": "code",
   "execution_count": 7,
   "metadata": {},
   "outputs": [],
   "source": [
    "lr = 0.01\n",
    "gamma = 0.99\n",
    "epsilon = 0.5\n",
    "epsilon_decay = 0.9999\n",
    "epsilon_min = 0.05\n",
    "batch_size = 128"
   ]
  },
  {
   "cell_type": "code",
   "execution_count": 8,
   "metadata": {},
   "outputs": [],
   "source": [
    "env = ZeroDCleanupEnv(agent_ids, \n",
    "                      num_agents=num_agents, \n",
    "                      area=area, \n",
    "                      thresholdDepletion=thresholdDepletion,\n",
    "                      thresholdRestoration=thresholdRestoration,\n",
    "                      wasteSpawnProbability=wasteSpawnProbability,\n",
    "                      appleRespawnProbability=appleRespawnProbability,\n",
    "                      dirt_multiplier=dirt_multiplier)\n",
    "\n",
    "agentCoordinator = QAgent(device=device,\n",
    "                                     num_action_outputs=num_agents,\n",
    "                                     action_size=action_dim,\n",
    "                                     state_dim=state_dim,\n",
    "                                     lr=lr,\n",
    "                                     gamma=gamma,\n",
    "                                     epsilon=epsilon,\n",
    "                                     epsilon_decay=epsilon_decay,\n",
    "                                     epsilon_min=epsilon_min,\n",
    "                                     batch_size=batch_size,\n",
    "                                     q_layers=[\n",
    "                                         (state_dim, 64),\n",
    "                                         (64, 32),\n",
    "                                         #(64, 64),\n",
    "                                         (32, 32),\n",
    "                                         (32, action_dim * num_agents)\n",
    "                                     ],\n",
    "                                     verbose=False)"
   ]
  },
  {
   "cell_type": "code",
   "execution_count": 9,
   "metadata": {},
   "outputs": [],
   "source": [
    "ending_ep_rewards = []\n",
    "weight_graph = defaultdict(list)"
   ]
  },
  {
   "cell_type": "code",
   "execution_count": 10,
   "metadata": {},
   "outputs": [],
   "source": [
    "import uuid\n",
    "import os\n",
    "\n",
    "if not os.path.exists(\"results\"):\n",
    "    os.mkdir(\"results\")\n",
    "\n",
    "test_id = uuid.uuid4()\n",
    "os.mkdir(\"results/q_simple_\" + str(test_id))\n",
    "f = open(\"results/q_simple_\" + str(test_id) + \"/logs.txt\", \"x\")"
   ]
  },
  {
   "cell_type": "code",
   "execution_count": 11,
   "metadata": {},
   "outputs": [
    {
     "name": "stdout",
     "output_type": "stream",
     "text": [
      "========= Episode 0 =========\n",
      "info: {'total_apple_consumed': 0, 'step_apple_consumed': 0, 'apple': 0, 'dirt': 78, 'picker': 0, 'cleaner': 0, 'total_reward_by_agent': {'9': 0, '3': 0, '2': 0, '5': 0, '8': 0, '7': 0, '4': 0, '0': 0, '6': 0, '1': 0}}\n"
     ]
    },
    {
     "name": "stderr",
     "output_type": "stream",
     "text": [
      " 14%|█▍        | 145/1000 [00:00<00:00, 1442.21it/s]"
     ]
    },
    {
     "name": "stderr",
     "output_type": "stream",
     "text": [
      "100%|█████████▉| 999/1000 [00:01<00:00, 614.88it/s] \n"
     ]
    },
    {
     "name": "stdout",
     "output_type": "stream",
     "text": [
      "ending reward: 2599\n",
      "========= End of Episode 0 =========\n",
      "========= Episode 1 =========\n",
      "info: {'total_apple_consumed': 0, 'step_apple_consumed': 0, 'apple': 0, 'dirt': 78, 'picker': 0, 'cleaner': 0, 'total_reward_by_agent': {'9': 0, '3': 0, '2': 0, '5': 0, '8': 0, '7': 0, '4': 0, '0': 0, '6': 0, '1': 0}}\n"
     ]
    },
    {
     "name": "stderr",
     "output_type": "stream",
     "text": [
      "100%|█████████▉| 999/1000 [00:01<00:00, 528.50it/s]\n"
     ]
    },
    {
     "name": "stdout",
     "output_type": "stream",
     "text": [
      "ending reward: 2626\n",
      "========= End of Episode 1 =========\n",
      "========= Episode 2 =========\n",
      "info: {'total_apple_consumed': 0, 'step_apple_consumed': 0, 'apple': 0, 'dirt': 78, 'picker': 0, 'cleaner': 0, 'total_reward_by_agent': {'9': 0, '3': 0, '2': 0, '5': 0, '8': 0, '7': 0, '4': 0, '0': 0, '6': 0, '1': 0}}\n"
     ]
    },
    {
     "name": "stderr",
     "output_type": "stream",
     "text": [
      "100%|█████████▉| 999/1000 [00:01<00:00, 600.31it/s]\n"
     ]
    },
    {
     "name": "stdout",
     "output_type": "stream",
     "text": [
      "ending reward: 2692\n",
      "========= End of Episode 2 =========\n",
      "========= Episode 3 =========\n",
      "info: {'total_apple_consumed': 0, 'step_apple_consumed': 0, 'apple': 0, 'dirt': 78, 'picker': 0, 'cleaner': 0, 'total_reward_by_agent': {'9': 0, '3': 0, '2': 0, '5': 0, '8': 0, '7': 0, '4': 0, '0': 0, '6': 0, '1': 0}}\n"
     ]
    },
    {
     "name": "stderr",
     "output_type": "stream",
     "text": [
      "100%|█████████▉| 999/1000 [00:01<00:00, 600.60it/s]\n"
     ]
    },
    {
     "name": "stdout",
     "output_type": "stream",
     "text": [
      "ending reward: 2581\n",
      "========= End of Episode 3 =========\n",
      "========= Episode 4 =========\n",
      "info: {'total_apple_consumed': 0, 'step_apple_consumed': 0, 'apple': 0, 'dirt': 78, 'picker': 0, 'cleaner': 0, 'total_reward_by_agent': {'9': 0, '3': 0, '2': 0, '5': 0, '8': 0, '7': 0, '4': 0, '0': 0, '6': 0, '1': 0}}\n"
     ]
    },
    {
     "name": "stderr",
     "output_type": "stream",
     "text": [
      "100%|█████████▉| 999/1000 [00:01<00:00, 715.27it/s]\n"
     ]
    },
    {
     "name": "stdout",
     "output_type": "stream",
     "text": [
      "ending reward: 2611\n",
      "========= End of Episode 4 =========\n",
      "========= Episode 5 =========\n",
      "info: {'total_apple_consumed': 0, 'step_apple_consumed': 0, 'apple': 0, 'dirt': 78, 'picker': 0, 'cleaner': 0, 'total_reward_by_agent': {'9': 0, '3': 0, '2': 0, '5': 0, '8': 0, '7': 0, '4': 0, '0': 0, '6': 0, '1': 0}}\n"
     ]
    },
    {
     "name": "stderr",
     "output_type": "stream",
     "text": [
      "100%|█████████▉| 999/1000 [00:01<00:00, 797.11it/s]\n"
     ]
    },
    {
     "name": "stdout",
     "output_type": "stream",
     "text": [
      "ending reward: 2561\n",
      "========= End of Episode 5 =========\n",
      "========= Episode 6 =========\n",
      "info: {'total_apple_consumed': 0, 'step_apple_consumed': 0, 'apple': 0, 'dirt': 78, 'picker': 0, 'cleaner': 0, 'total_reward_by_agent': {'9': 0, '3': 0, '2': 0, '5': 0, '8': 0, '7': 0, '4': 0, '0': 0, '6': 0, '1': 0}}\n"
     ]
    },
    {
     "name": "stderr",
     "output_type": "stream",
     "text": [
      "100%|█████████▉| 999/1000 [00:01<00:00, 621.88it/s]\n"
     ]
    },
    {
     "name": "stdout",
     "output_type": "stream",
     "text": [
      "ending reward: 2649\n",
      "========= End of Episode 6 =========\n",
      "========= Episode 7 =========\n",
      "info: {'total_apple_consumed': 0, 'step_apple_consumed': 0, 'apple': 0, 'dirt': 78, 'picker': 0, 'cleaner': 0, 'total_reward_by_agent': {'9': 0, '3': 0, '2': 0, '5': 0, '8': 0, '7': 0, '4': 0, '0': 0, '6': 0, '1': 0}}\n"
     ]
    },
    {
     "name": "stderr",
     "output_type": "stream",
     "text": [
      "100%|█████████▉| 999/1000 [00:01<00:00, 640.18it/s]\n"
     ]
    },
    {
     "name": "stdout",
     "output_type": "stream",
     "text": [
      "ending reward: 2587\n",
      "========= End of Episode 7 =========\n",
      "========= Episode 8 =========\n",
      "info: {'total_apple_consumed': 0, 'step_apple_consumed': 0, 'apple': 0, 'dirt': 78, 'picker': 0, 'cleaner': 0, 'total_reward_by_agent': {'9': 0, '3': 0, '2': 0, '5': 0, '8': 0, '7': 0, '4': 0, '0': 0, '6': 0, '1': 0}}\n"
     ]
    },
    {
     "name": "stderr",
     "output_type": "stream",
     "text": [
      "100%|█████████▉| 999/1000 [00:01<00:00, 619.49it/s]\n"
     ]
    },
    {
     "name": "stdout",
     "output_type": "stream",
     "text": [
      "ending reward: 2591\n",
      "========= End of Episode 8 =========\n",
      "========= Episode 9 =========\n",
      "info: {'total_apple_consumed': 0, 'step_apple_consumed': 0, 'apple': 0, 'dirt': 78, 'picker': 0, 'cleaner': 0, 'total_reward_by_agent': {'9': 0, '3': 0, '2': 0, '5': 0, '8': 0, '7': 0, '4': 0, '0': 0, '6': 0, '1': 0}}\n"
     ]
    },
    {
     "name": "stderr",
     "output_type": "stream",
     "text": [
      "100%|█████████▉| 999/1000 [00:01<00:00, 678.34it/s]\n"
     ]
    },
    {
     "name": "stdout",
     "output_type": "stream",
     "text": [
      "ending reward: 2485\n",
      "========= End of Episode 9 =========\n",
      "========= Episode 10 =========\n",
      "info: {'total_apple_consumed': 0, 'step_apple_consumed': 0, 'apple': 0, 'dirt': 78, 'picker': 0, 'cleaner': 0, 'total_reward_by_agent': {'9': 0, '3': 0, '2': 0, '5': 0, '8': 0, '7': 0, '4': 0, '0': 0, '6': 0, '1': 0}}\n"
     ]
    },
    {
     "name": "stderr",
     "output_type": "stream",
     "text": [
      "100%|█████████▉| 999/1000 [00:01<00:00, 779.93it/s]\n"
     ]
    },
    {
     "name": "stdout",
     "output_type": "stream",
     "text": [
      "ending reward: 2572\n",
      "========= End of Episode 10 =========\n",
      "========= Episode 11 =========\n",
      "info: {'total_apple_consumed': 0, 'step_apple_consumed': 0, 'apple': 0, 'dirt': 78, 'picker': 0, 'cleaner': 0, 'total_reward_by_agent': {'9': 0, '3': 0, '2': 0, '5': 0, '8': 0, '7': 0, '4': 0, '0': 0, '6': 0, '1': 0}}\n"
     ]
    },
    {
     "name": "stderr",
     "output_type": "stream",
     "text": [
      "100%|█████████▉| 999/1000 [00:01<00:00, 778.17it/s]\n"
     ]
    },
    {
     "name": "stdout",
     "output_type": "stream",
     "text": [
      "ending reward: 2664\n",
      "========= End of Episode 11 =========\n",
      "========= Episode 12 =========\n",
      "info: {'total_apple_consumed': 0, 'step_apple_consumed': 0, 'apple': 0, 'dirt': 78, 'picker': 0, 'cleaner': 0, 'total_reward_by_agent': {'9': 0, '3': 0, '2': 0, '5': 0, '8': 0, '7': 0, '4': 0, '0': 0, '6': 0, '1': 0}}\n"
     ]
    },
    {
     "name": "stderr",
     "output_type": "stream",
     "text": [
      "100%|█████████▉| 999/1000 [00:01<00:00, 808.80it/s]\n"
     ]
    },
    {
     "name": "stdout",
     "output_type": "stream",
     "text": [
      "ending reward: 2514\n",
      "========= End of Episode 12 =========\n",
      "========= Episode 13 =========\n",
      "info: {'total_apple_consumed': 0, 'step_apple_consumed': 0, 'apple': 0, 'dirt': 78, 'picker': 0, 'cleaner': 0, 'total_reward_by_agent': {'9': 0, '3': 0, '2': 0, '5': 0, '8': 0, '7': 0, '4': 0, '0': 0, '6': 0, '1': 0}}\n"
     ]
    },
    {
     "name": "stderr",
     "output_type": "stream",
     "text": [
      "100%|█████████▉| 999/1000 [00:01<00:00, 794.35it/s]\n"
     ]
    },
    {
     "name": "stdout",
     "output_type": "stream",
     "text": [
      "ending reward: 2532\n",
      "========= End of Episode 13 =========\n",
      "========= Episode 14 =========\n",
      "info: {'total_apple_consumed': 0, 'step_apple_consumed': 0, 'apple': 0, 'dirt': 78, 'picker': 0, 'cleaner': 0, 'total_reward_by_agent': {'9': 0, '3': 0, '2': 0, '5': 0, '8': 0, '7': 0, '4': 0, '0': 0, '6': 0, '1': 0}}\n"
     ]
    },
    {
     "name": "stderr",
     "output_type": "stream",
     "text": [
      "100%|█████████▉| 999/1000 [00:01<00:00, 768.48it/s]\n"
     ]
    },
    {
     "name": "stdout",
     "output_type": "stream",
     "text": [
      "ending reward: 2480\n",
      "========= End of Episode 14 =========\n",
      "========= Episode 15 =========\n",
      "info: {'total_apple_consumed': 0, 'step_apple_consumed': 0, 'apple': 0, 'dirt': 78, 'picker': 0, 'cleaner': 0, 'total_reward_by_agent': {'9': 0, '3': 0, '2': 0, '5': 0, '8': 0, '7': 0, '4': 0, '0': 0, '6': 0, '1': 0}}\n"
     ]
    },
    {
     "name": "stderr",
     "output_type": "stream",
     "text": [
      "100%|█████████▉| 999/1000 [00:01<00:00, 769.29it/s]\n"
     ]
    },
    {
     "name": "stdout",
     "output_type": "stream",
     "text": [
      "ending reward: 2482\n",
      "========= End of Episode 15 =========\n",
      "========= Episode 16 =========\n",
      "info: {'total_apple_consumed': 0, 'step_apple_consumed': 0, 'apple': 0, 'dirt': 78, 'picker': 0, 'cleaner': 0, 'total_reward_by_agent': {'9': 0, '3': 0, '2': 0, '5': 0, '8': 0, '7': 0, '4': 0, '0': 0, '6': 0, '1': 0}}\n"
     ]
    },
    {
     "name": "stderr",
     "output_type": "stream",
     "text": [
      "100%|█████████▉| 999/1000 [00:01<00:00, 784.16it/s]\n"
     ]
    },
    {
     "name": "stdout",
     "output_type": "stream",
     "text": [
      "ending reward: 2412\n",
      "========= End of Episode 16 =========\n",
      "========= Episode 17 =========\n",
      "info: {'total_apple_consumed': 0, 'step_apple_consumed': 0, 'apple': 0, 'dirt': 78, 'picker': 0, 'cleaner': 0, 'total_reward_by_agent': {'9': 0, '3': 0, '2': 0, '5': 0, '8': 0, '7': 0, '4': 0, '0': 0, '6': 0, '1': 0}}\n"
     ]
    },
    {
     "name": "stderr",
     "output_type": "stream",
     "text": [
      "100%|█████████▉| 999/1000 [00:01<00:00, 747.99it/s]\n"
     ]
    },
    {
     "name": "stdout",
     "output_type": "stream",
     "text": [
      "ending reward: 2365\n",
      "========= End of Episode 17 =========\n",
      "========= Episode 18 =========\n",
      "info: {'total_apple_consumed': 0, 'step_apple_consumed': 0, 'apple': 0, 'dirt': 78, 'picker': 0, 'cleaner': 0, 'total_reward_by_agent': {'9': 0, '3': 0, '2': 0, '5': 0, '8': 0, '7': 0, '4': 0, '0': 0, '6': 0, '1': 0}}\n"
     ]
    },
    {
     "name": "stderr",
     "output_type": "stream",
     "text": [
      "100%|█████████▉| 999/1000 [00:01<00:00, 811.46it/s]\n"
     ]
    },
    {
     "name": "stdout",
     "output_type": "stream",
     "text": [
      "ending reward: 2316\n",
      "========= End of Episode 18 =========\n",
      "========= Episode 19 =========\n",
      "info: {'total_apple_consumed': 0, 'step_apple_consumed': 0, 'apple': 0, 'dirt': 78, 'picker': 0, 'cleaner': 0, 'total_reward_by_agent': {'9': 0, '3': 0, '2': 0, '5': 0, '8': 0, '7': 0, '4': 0, '0': 0, '6': 0, '1': 0}}\n"
     ]
    },
    {
     "name": "stderr",
     "output_type": "stream",
     "text": [
      "100%|█████████▉| 999/1000 [00:01<00:00, 829.32it/s]\n"
     ]
    },
    {
     "name": "stdout",
     "output_type": "stream",
     "text": [
      "ending reward: 2295\n",
      "========= End of Episode 19 =========\n",
      "========= Episode 20 =========\n",
      "info: {'total_apple_consumed': 0, 'step_apple_consumed': 0, 'apple': 0, 'dirt': 78, 'picker': 0, 'cleaner': 0, 'total_reward_by_agent': {'9': 0, '3': 0, '2': 0, '5': 0, '8': 0, '7': 0, '4': 0, '0': 0, '6': 0, '1': 0}}\n"
     ]
    },
    {
     "name": "stderr",
     "output_type": "stream",
     "text": [
      "100%|█████████▉| 999/1000 [00:01<00:00, 759.30it/s]\n"
     ]
    },
    {
     "name": "stdout",
     "output_type": "stream",
     "text": [
      "ending reward: 2122\n",
      "========= End of Episode 20 =========\n",
      "========= Episode 21 =========\n",
      "info: {'total_apple_consumed': 0, 'step_apple_consumed': 0, 'apple': 0, 'dirt': 78, 'picker': 0, 'cleaner': 0, 'total_reward_by_agent': {'9': 0, '3': 0, '2': 0, '5': 0, '8': 0, '7': 0, '4': 0, '0': 0, '6': 0, '1': 0}}\n"
     ]
    },
    {
     "name": "stderr",
     "output_type": "stream",
     "text": [
      "100%|█████████▉| 999/1000 [00:01<00:00, 575.97it/s]\n"
     ]
    },
    {
     "name": "stdout",
     "output_type": "stream",
     "text": [
      "ending reward: 1991\n",
      "========= End of Episode 21 =========\n",
      "========= Episode 22 =========\n",
      "info: {'total_apple_consumed': 0, 'step_apple_consumed': 0, 'apple': 0, 'dirt': 78, 'picker': 0, 'cleaner': 0, 'total_reward_by_agent': {'9': 0, '3': 0, '2': 0, '5': 0, '8': 0, '7': 0, '4': 0, '0': 0, '6': 0, '1': 0}}\n"
     ]
    },
    {
     "name": "stderr",
     "output_type": "stream",
     "text": [
      "100%|█████████▉| 999/1000 [00:01<00:00, 684.53it/s]\n"
     ]
    },
    {
     "name": "stdout",
     "output_type": "stream",
     "text": [
      "ending reward: 2118\n",
      "========= End of Episode 22 =========\n",
      "========= Episode 23 =========\n",
      "info: {'total_apple_consumed': 0, 'step_apple_consumed': 0, 'apple': 0, 'dirt': 78, 'picker': 0, 'cleaner': 0, 'total_reward_by_agent': {'9': 0, '3': 0, '2': 0, '5': 0, '8': 0, '7': 0, '4': 0, '0': 0, '6': 0, '1': 0}}\n"
     ]
    },
    {
     "name": "stderr",
     "output_type": "stream",
     "text": [
      "100%|█████████▉| 999/1000 [00:01<00:00, 592.02it/s]\n"
     ]
    },
    {
     "name": "stdout",
     "output_type": "stream",
     "text": [
      "ending reward: 1850\n",
      "========= End of Episode 23 =========\n",
      "========= Episode 24 =========\n",
      "info: {'total_apple_consumed': 0, 'step_apple_consumed': 0, 'apple': 0, 'dirt': 78, 'picker': 0, 'cleaner': 0, 'total_reward_by_agent': {'9': 0, '3': 0, '2': 0, '5': 0, '8': 0, '7': 0, '4': 0, '0': 0, '6': 0, '1': 0}}\n"
     ]
    },
    {
     "name": "stderr",
     "output_type": "stream",
     "text": [
      "100%|█████████▉| 999/1000 [00:01<00:00, 632.57it/s]\n"
     ]
    },
    {
     "name": "stdout",
     "output_type": "stream",
     "text": [
      "ending reward: 1389\n",
      "========= End of Episode 24 =========\n",
      "========= Episode 25 =========\n",
      "info: {'total_apple_consumed': 0, 'step_apple_consumed': 0, 'apple': 0, 'dirt': 78, 'picker': 0, 'cleaner': 0, 'total_reward_by_agent': {'9': 0, '3': 0, '2': 0, '5': 0, '8': 0, '7': 0, '4': 0, '0': 0, '6': 0, '1': 0}}\n"
     ]
    },
    {
     "name": "stderr",
     "output_type": "stream",
     "text": [
      "100%|█████████▉| 999/1000 [00:01<00:00, 733.94it/s]\n"
     ]
    },
    {
     "name": "stdout",
     "output_type": "stream",
     "text": [
      "ending reward: 408\n",
      "========= End of Episode 25 =========\n",
      "========= Episode 26 =========\n",
      "info: {'total_apple_consumed': 0, 'step_apple_consumed': 0, 'apple': 0, 'dirt': 78, 'picker': 0, 'cleaner': 0, 'total_reward_by_agent': {'9': 0, '3': 0, '2': 0, '5': 0, '8': 0, '7': 0, '4': 0, '0': 0, '6': 0, '1': 0}}\n"
     ]
    },
    {
     "name": "stderr",
     "output_type": "stream",
     "text": [
      "100%|█████████▉| 999/1000 [00:01<00:00, 635.64it/s]\n"
     ]
    },
    {
     "name": "stdout",
     "output_type": "stream",
     "text": [
      "ending reward: 574\n",
      "========= End of Episode 26 =========\n",
      "========= Episode 27 =========\n",
      "info: {'total_apple_consumed': 0, 'step_apple_consumed': 0, 'apple': 0, 'dirt': 78, 'picker': 0, 'cleaner': 0, 'total_reward_by_agent': {'9': 0, '3': 0, '2': 0, '5': 0, '8': 0, '7': 0, '4': 0, '0': 0, '6': 0, '1': 0}}\n"
     ]
    },
    {
     "name": "stderr",
     "output_type": "stream",
     "text": [
      "100%|█████████▉| 999/1000 [00:01<00:00, 855.94it/s]\n"
     ]
    },
    {
     "name": "stdout",
     "output_type": "stream",
     "text": [
      "ending reward: 427\n",
      "========= End of Episode 27 =========\n",
      "========= Episode 28 =========\n",
      "info: {'total_apple_consumed': 0, 'step_apple_consumed': 0, 'apple': 0, 'dirt': 78, 'picker': 0, 'cleaner': 0, 'total_reward_by_agent': {'9': 0, '3': 0, '2': 0, '5': 0, '8': 0, '7': 0, '4': 0, '0': 0, '6': 0, '1': 0}}\n"
     ]
    },
    {
     "name": "stderr",
     "output_type": "stream",
     "text": [
      "100%|█████████▉| 999/1000 [00:01<00:00, 809.37it/s]\n"
     ]
    },
    {
     "name": "stdout",
     "output_type": "stream",
     "text": [
      "ending reward: 368\n",
      "========= End of Episode 28 =========\n",
      "========= Episode 29 =========\n",
      "info: {'total_apple_consumed': 0, 'step_apple_consumed': 0, 'apple': 0, 'dirt': 78, 'picker': 0, 'cleaner': 0, 'total_reward_by_agent': {'9': 0, '3': 0, '2': 0, '5': 0, '8': 0, '7': 0, '4': 0, '0': 0, '6': 0, '1': 0}}\n"
     ]
    },
    {
     "name": "stderr",
     "output_type": "stream",
     "text": [
      "100%|█████████▉| 999/1000 [00:01<00:00, 846.24it/s]\n"
     ]
    },
    {
     "name": "stdout",
     "output_type": "stream",
     "text": [
      "ending reward: 378\n",
      "========= End of Episode 29 =========\n",
      "========= Episode 30 =========\n",
      "info: {'total_apple_consumed': 0, 'step_apple_consumed': 0, 'apple': 0, 'dirt': 78, 'picker': 0, 'cleaner': 0, 'total_reward_by_agent': {'9': 0, '3': 0, '2': 0, '5': 0, '8': 0, '7': 0, '4': 0, '0': 0, '6': 0, '1': 0}}\n"
     ]
    },
    {
     "name": "stderr",
     "output_type": "stream",
     "text": [
      "100%|█████████▉| 999/1000 [00:01<00:00, 853.36it/s]\n"
     ]
    },
    {
     "name": "stdout",
     "output_type": "stream",
     "text": [
      "ending reward: 307\n",
      "========= End of Episode 30 =========\n",
      "========= Episode 31 =========\n",
      "info: {'total_apple_consumed': 0, 'step_apple_consumed': 0, 'apple': 0, 'dirt': 78, 'picker': 0, 'cleaner': 0, 'total_reward_by_agent': {'9': 0, '3': 0, '2': 0, '5': 0, '8': 0, '7': 0, '4': 0, '0': 0, '6': 0, '1': 0}}\n"
     ]
    },
    {
     "name": "stderr",
     "output_type": "stream",
     "text": [
      "100%|█████████▉| 999/1000 [00:01<00:00, 848.52it/s]\n"
     ]
    },
    {
     "name": "stdout",
     "output_type": "stream",
     "text": [
      "ending reward: 249\n",
      "========= End of Episode 31 =========\n",
      "========= Episode 32 =========\n",
      "info: {'total_apple_consumed': 0, 'step_apple_consumed': 0, 'apple': 0, 'dirt': 78, 'picker': 0, 'cleaner': 0, 'total_reward_by_agent': {'9': 0, '3': 0, '2': 0, '5': 0, '8': 0, '7': 0, '4': 0, '0': 0, '6': 0, '1': 0}}\n"
     ]
    },
    {
     "name": "stderr",
     "output_type": "stream",
     "text": [
      "100%|█████████▉| 999/1000 [00:01<00:00, 833.73it/s]\n"
     ]
    },
    {
     "name": "stdout",
     "output_type": "stream",
     "text": [
      "ending reward: 200\n",
      "========= End of Episode 32 =========\n",
      "========= Episode 33 =========\n",
      "info: {'total_apple_consumed': 0, 'step_apple_consumed': 0, 'apple': 0, 'dirt': 78, 'picker': 0, 'cleaner': 0, 'total_reward_by_agent': {'9': 0, '3': 0, '2': 0, '5': 0, '8': 0, '7': 0, '4': 0, '0': 0, '6': 0, '1': 0}}\n"
     ]
    },
    {
     "name": "stderr",
     "output_type": "stream",
     "text": [
      "100%|█████████▉| 999/1000 [00:01<00:00, 844.23it/s]\n"
     ]
    },
    {
     "name": "stdout",
     "output_type": "stream",
     "text": [
      "ending reward: 269\n",
      "========= End of Episode 33 =========\n",
      "========= Episode 34 =========\n",
      "info: {'total_apple_consumed': 0, 'step_apple_consumed': 0, 'apple': 0, 'dirt': 78, 'picker': 0, 'cleaner': 0, 'total_reward_by_agent': {'9': 0, '3': 0, '2': 0, '5': 0, '8': 0, '7': 0, '4': 0, '0': 0, '6': 0, '1': 0}}\n"
     ]
    },
    {
     "name": "stderr",
     "output_type": "stream",
     "text": [
      "100%|█████████▉| 999/1000 [00:01<00:00, 792.27it/s]\n"
     ]
    },
    {
     "name": "stdout",
     "output_type": "stream",
     "text": [
      "ending reward: 530\n",
      "========= End of Episode 34 =========\n",
      "========= Episode 35 =========\n",
      "info: {'total_apple_consumed': 0, 'step_apple_consumed': 0, 'apple': 0, 'dirt': 78, 'picker': 0, 'cleaner': 0, 'total_reward_by_agent': {'9': 0, '3': 0, '2': 0, '5': 0, '8': 0, '7': 0, '4': 0, '0': 0, '6': 0, '1': 0}}\n"
     ]
    },
    {
     "name": "stderr",
     "output_type": "stream",
     "text": [
      "100%|█████████▉| 999/1000 [00:01<00:00, 722.15it/s]\n"
     ]
    },
    {
     "name": "stdout",
     "output_type": "stream",
     "text": [
      "ending reward: 396\n",
      "========= End of Episode 35 =========\n",
      "========= Episode 36 =========\n",
      "info: {'total_apple_consumed': 0, 'step_apple_consumed': 0, 'apple': 0, 'dirt': 78, 'picker': 0, 'cleaner': 0, 'total_reward_by_agent': {'9': 0, '3': 0, '2': 0, '5': 0, '8': 0, '7': 0, '4': 0, '0': 0, '6': 0, '1': 0}}\n"
     ]
    },
    {
     "name": "stderr",
     "output_type": "stream",
     "text": [
      "100%|█████████▉| 999/1000 [00:01<00:00, 856.51it/s]\n"
     ]
    },
    {
     "name": "stdout",
     "output_type": "stream",
     "text": [
      "ending reward: 732\n",
      "========= End of Episode 36 =========\n",
      "========= Episode 37 =========\n",
      "info: {'total_apple_consumed': 0, 'step_apple_consumed': 0, 'apple': 0, 'dirt': 78, 'picker': 0, 'cleaner': 0, 'total_reward_by_agent': {'9': 0, '3': 0, '2': 0, '5': 0, '8': 0, '7': 0, '4': 0, '0': 0, '6': 0, '1': 0}}\n"
     ]
    },
    {
     "name": "stderr",
     "output_type": "stream",
     "text": [
      "100%|█████████▉| 999/1000 [00:01<00:00, 847.93it/s]\n"
     ]
    },
    {
     "name": "stdout",
     "output_type": "stream",
     "text": [
      "ending reward: 358\n",
      "========= End of Episode 37 =========\n",
      "========= Episode 38 =========\n",
      "info: {'total_apple_consumed': 0, 'step_apple_consumed': 0, 'apple': 0, 'dirt': 78, 'picker': 0, 'cleaner': 0, 'total_reward_by_agent': {'9': 0, '3': 0, '2': 0, '5': 0, '8': 0, '7': 0, '4': 0, '0': 0, '6': 0, '1': 0}}\n"
     ]
    },
    {
     "name": "stderr",
     "output_type": "stream",
     "text": [
      "100%|█████████▉| 999/1000 [00:01<00:00, 857.61it/s]\n"
     ]
    },
    {
     "name": "stdout",
     "output_type": "stream",
     "text": [
      "ending reward: 507\n",
      "========= End of Episode 38 =========\n",
      "========= Episode 39 =========\n",
      "info: {'total_apple_consumed': 0, 'step_apple_consumed': 0, 'apple': 0, 'dirt': 78, 'picker': 0, 'cleaner': 0, 'total_reward_by_agent': {'9': 0, '3': 0, '2': 0, '5': 0, '8': 0, '7': 0, '4': 0, '0': 0, '6': 0, '1': 0}}\n"
     ]
    },
    {
     "name": "stderr",
     "output_type": "stream",
     "text": [
      "100%|█████████▉| 999/1000 [00:01<00:00, 752.88it/s]\n"
     ]
    },
    {
     "name": "stdout",
     "output_type": "stream",
     "text": [
      "ending reward: 310\n",
      "========= End of Episode 39 =========\n",
      "========= Episode 40 =========\n",
      "info: {'total_apple_consumed': 0, 'step_apple_consumed': 0, 'apple': 0, 'dirt': 78, 'picker': 0, 'cleaner': 0, 'total_reward_by_agent': {'9': 0, '3': 0, '2': 0, '5': 0, '8': 0, '7': 0, '4': 0, '0': 0, '6': 0, '1': 0}}\n"
     ]
    },
    {
     "name": "stderr",
     "output_type": "stream",
     "text": [
      "100%|█████████▉| 999/1000 [00:01<00:00, 716.69it/s]\n"
     ]
    },
    {
     "name": "stdout",
     "output_type": "stream",
     "text": [
      "ending reward: 229\n",
      "========= End of Episode 40 =========\n",
      "========= Episode 41 =========\n",
      "info: {'total_apple_consumed': 0, 'step_apple_consumed': 0, 'apple': 0, 'dirt': 78, 'picker': 0, 'cleaner': 0, 'total_reward_by_agent': {'9': 0, '3': 0, '2': 0, '5': 0, '8': 0, '7': 0, '4': 0, '0': 0, '6': 0, '1': 0}}\n"
     ]
    },
    {
     "name": "stderr",
     "output_type": "stream",
     "text": [
      "100%|█████████▉| 999/1000 [00:01<00:00, 622.91it/s]\n"
     ]
    },
    {
     "name": "stdout",
     "output_type": "stream",
     "text": [
      "ending reward: 301\n",
      "========= End of Episode 41 =========\n",
      "========= Episode 42 =========\n",
      "info: {'total_apple_consumed': 0, 'step_apple_consumed': 0, 'apple': 0, 'dirt': 78, 'picker': 0, 'cleaner': 0, 'total_reward_by_agent': {'9': 0, '3': 0, '2': 0, '5': 0, '8': 0, '7': 0, '4': 0, '0': 0, '6': 0, '1': 0}}\n"
     ]
    },
    {
     "name": "stderr",
     "output_type": "stream",
     "text": [
      "100%|█████████▉| 999/1000 [00:01<00:00, 549.38it/s]\n"
     ]
    },
    {
     "name": "stdout",
     "output_type": "stream",
     "text": [
      "ending reward: 294\n",
      "========= End of Episode 42 =========\n",
      "========= Episode 43 =========\n",
      "info: {'total_apple_consumed': 0, 'step_apple_consumed': 0, 'apple': 0, 'dirt': 78, 'picker': 0, 'cleaner': 0, 'total_reward_by_agent': {'9': 0, '3': 0, '2': 0, '5': 0, '8': 0, '7': 0, '4': 0, '0': 0, '6': 0, '1': 0}}\n"
     ]
    },
    {
     "name": "stderr",
     "output_type": "stream",
     "text": [
      "100%|█████████▉| 999/1000 [00:01<00:00, 812.15it/s]\n"
     ]
    },
    {
     "name": "stdout",
     "output_type": "stream",
     "text": [
      "ending reward: 240\n",
      "========= End of Episode 43 =========\n",
      "========= Episode 44 =========\n",
      "info: {'total_apple_consumed': 0, 'step_apple_consumed': 0, 'apple': 0, 'dirt': 78, 'picker': 0, 'cleaner': 0, 'total_reward_by_agent': {'9': 0, '3': 0, '2': 0, '5': 0, '8': 0, '7': 0, '4': 0, '0': 0, '6': 0, '1': 0}}\n"
     ]
    },
    {
     "name": "stderr",
     "output_type": "stream",
     "text": [
      "100%|█████████▉| 999/1000 [00:01<00:00, 658.53it/s]\n"
     ]
    },
    {
     "name": "stdout",
     "output_type": "stream",
     "text": [
      "ending reward: 244\n",
      "========= End of Episode 44 =========\n",
      "========= Episode 45 =========\n",
      "info: {'total_apple_consumed': 0, 'step_apple_consumed': 0, 'apple': 0, 'dirt': 78, 'picker': 0, 'cleaner': 0, 'total_reward_by_agent': {'9': 0, '3': 0, '2': 0, '5': 0, '8': 0, '7': 0, '4': 0, '0': 0, '6': 0, '1': 0}}\n"
     ]
    },
    {
     "name": "stderr",
     "output_type": "stream",
     "text": [
      "100%|█████████▉| 999/1000 [00:01<00:00, 610.09it/s]\n"
     ]
    },
    {
     "name": "stdout",
     "output_type": "stream",
     "text": [
      "ending reward: 334\n",
      "========= End of Episode 45 =========\n",
      "========= Episode 46 =========\n",
      "info: {'total_apple_consumed': 0, 'step_apple_consumed': 0, 'apple': 0, 'dirt': 78, 'picker': 0, 'cleaner': 0, 'total_reward_by_agent': {'9': 0, '3': 0, '2': 0, '5': 0, '8': 0, '7': 0, '4': 0, '0': 0, '6': 0, '1': 0}}\n"
     ]
    },
    {
     "name": "stderr",
     "output_type": "stream",
     "text": [
      "100%|█████████▉| 999/1000 [00:01<00:00, 633.39it/s]\n"
     ]
    },
    {
     "name": "stdout",
     "output_type": "stream",
     "text": [
      "ending reward: 299\n",
      "========= End of Episode 46 =========\n",
      "========= Episode 47 =========\n",
      "info: {'total_apple_consumed': 0, 'step_apple_consumed': 0, 'apple': 0, 'dirt': 78, 'picker': 0, 'cleaner': 0, 'total_reward_by_agent': {'9': 0, '3': 0, '2': 0, '5': 0, '8': 0, '7': 0, '4': 0, '0': 0, '6': 0, '1': 0}}\n"
     ]
    },
    {
     "name": "stderr",
     "output_type": "stream",
     "text": [
      "100%|█████████▉| 999/1000 [00:01<00:00, 728.71it/s]\n"
     ]
    },
    {
     "name": "stdout",
     "output_type": "stream",
     "text": [
      "ending reward: 523\n",
      "========= End of Episode 47 =========\n",
      "========= Episode 48 =========\n",
      "info: {'total_apple_consumed': 0, 'step_apple_consumed': 0, 'apple': 0, 'dirt': 78, 'picker': 0, 'cleaner': 0, 'total_reward_by_agent': {'9': 0, '3': 0, '2': 0, '5': 0, '8': 0, '7': 0, '4': 0, '0': 0, '6': 0, '1': 0}}\n"
     ]
    },
    {
     "name": "stderr",
     "output_type": "stream",
     "text": [
      "100%|█████████▉| 999/1000 [00:01<00:00, 611.59it/s]\n"
     ]
    },
    {
     "name": "stdout",
     "output_type": "stream",
     "text": [
      "ending reward: 1520\n",
      "========= End of Episode 48 =========\n",
      "========= Episode 49 =========\n",
      "info: {'total_apple_consumed': 0, 'step_apple_consumed': 0, 'apple': 0, 'dirt': 78, 'picker': 0, 'cleaner': 0, 'total_reward_by_agent': {'9': 0, '3': 0, '2': 0, '5': 0, '8': 0, '7': 0, '4': 0, '0': 0, '6': 0, '1': 0}}\n"
     ]
    },
    {
     "name": "stderr",
     "output_type": "stream",
     "text": [
      "100%|█████████▉| 999/1000 [00:01<00:00, 627.07it/s]\n"
     ]
    },
    {
     "name": "stdout",
     "output_type": "stream",
     "text": [
      "ending reward: 1486\n",
      "========= End of Episode 49 =========\n",
      "========= Episode 50 =========\n",
      "info: {'total_apple_consumed': 0, 'step_apple_consumed': 0, 'apple': 0, 'dirt': 78, 'picker': 0, 'cleaner': 0, 'total_reward_by_agent': {'9': 0, '3': 0, '2': 0, '5': 0, '8': 0, '7': 0, '4': 0, '0': 0, '6': 0, '1': 0}}\n"
     ]
    },
    {
     "name": "stderr",
     "output_type": "stream",
     "text": [
      "100%|█████████▉| 999/1000 [00:01<00:00, 621.91it/s]\n"
     ]
    },
    {
     "name": "stdout",
     "output_type": "stream",
     "text": [
      "ending reward: 856\n",
      "========= End of Episode 50 =========\n",
      "========= Episode 51 =========\n",
      "info: {'total_apple_consumed': 0, 'step_apple_consumed': 0, 'apple': 0, 'dirt': 78, 'picker': 0, 'cleaner': 0, 'total_reward_by_agent': {'9': 0, '3': 0, '2': 0, '5': 0, '8': 0, '7': 0, '4': 0, '0': 0, '6': 0, '1': 0}}\n"
     ]
    },
    {
     "name": "stderr",
     "output_type": "stream",
     "text": [
      "100%|█████████▉| 999/1000 [00:01<00:00, 626.63it/s]\n"
     ]
    },
    {
     "name": "stdout",
     "output_type": "stream",
     "text": [
      "ending reward: 893\n",
      "========= End of Episode 51 =========\n",
      "========= Episode 52 =========\n",
      "info: {'total_apple_consumed': 0, 'step_apple_consumed': 0, 'apple': 0, 'dirt': 78, 'picker': 0, 'cleaner': 0, 'total_reward_by_agent': {'9': 0, '3': 0, '2': 0, '5': 0, '8': 0, '7': 0, '4': 0, '0': 0, '6': 0, '1': 0}}\n"
     ]
    },
    {
     "name": "stderr",
     "output_type": "stream",
     "text": [
      "100%|█████████▉| 999/1000 [00:01<00:00, 755.06it/s]\n"
     ]
    },
    {
     "name": "stdout",
     "output_type": "stream",
     "text": [
      "ending reward: 692\n",
      "========= End of Episode 52 =========\n",
      "========= Episode 53 =========\n",
      "info: {'total_apple_consumed': 0, 'step_apple_consumed': 0, 'apple': 0, 'dirt': 78, 'picker': 0, 'cleaner': 0, 'total_reward_by_agent': {'9': 0, '3': 0, '2': 0, '5': 0, '8': 0, '7': 0, '4': 0, '0': 0, '6': 0, '1': 0}}\n"
     ]
    },
    {
     "name": "stderr",
     "output_type": "stream",
     "text": [
      "100%|█████████▉| 999/1000 [00:01<00:00, 674.65it/s]\n"
     ]
    },
    {
     "name": "stdout",
     "output_type": "stream",
     "text": [
      "ending reward: 468\n",
      "========= End of Episode 53 =========\n",
      "========= Episode 54 =========\n",
      "info: {'total_apple_consumed': 0, 'step_apple_consumed': 0, 'apple': 0, 'dirt': 78, 'picker': 0, 'cleaner': 0, 'total_reward_by_agent': {'9': 0, '3': 0, '2': 0, '5': 0, '8': 0, '7': 0, '4': 0, '0': 0, '6': 0, '1': 0}}\n"
     ]
    },
    {
     "name": "stderr",
     "output_type": "stream",
     "text": [
      "100%|█████████▉| 999/1000 [00:01<00:00, 578.85it/s]\n"
     ]
    },
    {
     "name": "stdout",
     "output_type": "stream",
     "text": [
      "ending reward: 617\n",
      "========= End of Episode 54 =========\n",
      "========= Episode 55 =========\n",
      "info: {'total_apple_consumed': 0, 'step_apple_consumed': 0, 'apple': 0, 'dirt': 78, 'picker': 0, 'cleaner': 0, 'total_reward_by_agent': {'9': 0, '3': 0, '2': 0, '5': 0, '8': 0, '7': 0, '4': 0, '0': 0, '6': 0, '1': 0}}\n"
     ]
    },
    {
     "name": "stderr",
     "output_type": "stream",
     "text": [
      "100%|█████████▉| 999/1000 [00:01<00:00, 630.75it/s]\n"
     ]
    },
    {
     "name": "stdout",
     "output_type": "stream",
     "text": [
      "ending reward: 443\n",
      "========= End of Episode 55 =========\n",
      "========= Episode 56 =========\n",
      "info: {'total_apple_consumed': 0, 'step_apple_consumed': 0, 'apple': 0, 'dirt': 78, 'picker': 0, 'cleaner': 0, 'total_reward_by_agent': {'9': 0, '3': 0, '2': 0, '5': 0, '8': 0, '7': 0, '4': 0, '0': 0, '6': 0, '1': 0}}\n"
     ]
    },
    {
     "name": "stderr",
     "output_type": "stream",
     "text": [
      "100%|█████████▉| 999/1000 [00:01<00:00, 787.00it/s]\n"
     ]
    },
    {
     "name": "stdout",
     "output_type": "stream",
     "text": [
      "ending reward: 319\n",
      "========= End of Episode 56 =========\n",
      "========= Episode 57 =========\n",
      "info: {'total_apple_consumed': 0, 'step_apple_consumed': 0, 'apple': 0, 'dirt': 78, 'picker': 0, 'cleaner': 0, 'total_reward_by_agent': {'9': 0, '3': 0, '2': 0, '5': 0, '8': 0, '7': 0, '4': 0, '0': 0, '6': 0, '1': 0}}\n"
     ]
    },
    {
     "name": "stderr",
     "output_type": "stream",
     "text": [
      "100%|█████████▉| 999/1000 [00:01<00:00, 833.88it/s]\n"
     ]
    },
    {
     "name": "stdout",
     "output_type": "stream",
     "text": [
      "ending reward: 979\n",
      "========= End of Episode 57 =========\n",
      "========= Episode 58 =========\n",
      "info: {'total_apple_consumed': 0, 'step_apple_consumed': 0, 'apple': 0, 'dirt': 78, 'picker': 0, 'cleaner': 0, 'total_reward_by_agent': {'9': 0, '3': 0, '2': 0, '5': 0, '8': 0, '7': 0, '4': 0, '0': 0, '6': 0, '1': 0}}\n"
     ]
    },
    {
     "name": "stderr",
     "output_type": "stream",
     "text": [
      "100%|█████████▉| 999/1000 [00:01<00:00, 727.44it/s]\n"
     ]
    },
    {
     "name": "stdout",
     "output_type": "stream",
     "text": [
      "ending reward: 933\n",
      "========= End of Episode 58 =========\n",
      "========= Episode 59 =========\n",
      "info: {'total_apple_consumed': 0, 'step_apple_consumed': 0, 'apple': 0, 'dirt': 78, 'picker': 0, 'cleaner': 0, 'total_reward_by_agent': {'9': 0, '3': 0, '2': 0, '5': 0, '8': 0, '7': 0, '4': 0, '0': 0, '6': 0, '1': 0}}\n"
     ]
    },
    {
     "name": "stderr",
     "output_type": "stream",
     "text": [
      "100%|█████████▉| 999/1000 [00:01<00:00, 606.96it/s]\n"
     ]
    },
    {
     "name": "stdout",
     "output_type": "stream",
     "text": [
      "ending reward: 700\n",
      "========= End of Episode 59 =========\n",
      "========= Episode 60 =========\n",
      "info: {'total_apple_consumed': 0, 'step_apple_consumed': 0, 'apple': 0, 'dirt': 78, 'picker': 0, 'cleaner': 0, 'total_reward_by_agent': {'9': 0, '3': 0, '2': 0, '5': 0, '8': 0, '7': 0, '4': 0, '0': 0, '6': 0, '1': 0}}\n"
     ]
    },
    {
     "name": "stderr",
     "output_type": "stream",
     "text": [
      "100%|█████████▉| 999/1000 [00:01<00:00, 654.58it/s]\n"
     ]
    },
    {
     "name": "stdout",
     "output_type": "stream",
     "text": [
      "ending reward: 912\n",
      "========= End of Episode 60 =========\n",
      "========= Episode 61 =========\n",
      "info: {'total_apple_consumed': 0, 'step_apple_consumed': 0, 'apple': 0, 'dirt': 78, 'picker': 0, 'cleaner': 0, 'total_reward_by_agent': {'9': 0, '3': 0, '2': 0, '5': 0, '8': 0, '7': 0, '4': 0, '0': 0, '6': 0, '1': 0}}\n"
     ]
    },
    {
     "name": "stderr",
     "output_type": "stream",
     "text": [
      "100%|█████████▉| 999/1000 [00:01<00:00, 618.83it/s]\n"
     ]
    },
    {
     "name": "stdout",
     "output_type": "stream",
     "text": [
      "ending reward: 1512\n",
      "========= End of Episode 61 =========\n",
      "========= Episode 62 =========\n",
      "info: {'total_apple_consumed': 0, 'step_apple_consumed': 0, 'apple': 0, 'dirt': 78, 'picker': 0, 'cleaner': 0, 'total_reward_by_agent': {'9': 0, '3': 0, '2': 0, '5': 0, '8': 0, '7': 0, '4': 0, '0': 0, '6': 0, '1': 0}}\n"
     ]
    },
    {
     "name": "stderr",
     "output_type": "stream",
     "text": [
      "100%|█████████▉| 999/1000 [00:01<00:00, 719.12it/s]\n"
     ]
    },
    {
     "name": "stdout",
     "output_type": "stream",
     "text": [
      "ending reward: 1091\n",
      "========= End of Episode 62 =========\n",
      "========= Episode 63 =========\n",
      "info: {'total_apple_consumed': 0, 'step_apple_consumed': 0, 'apple': 0, 'dirt': 78, 'picker': 0, 'cleaner': 0, 'total_reward_by_agent': {'9': 0, '3': 0, '2': 0, '5': 0, '8': 0, '7': 0, '4': 0, '0': 0, '6': 0, '1': 0}}\n"
     ]
    },
    {
     "name": "stderr",
     "output_type": "stream",
     "text": [
      "100%|█████████▉| 999/1000 [00:01<00:00, 698.25it/s]\n"
     ]
    },
    {
     "name": "stdout",
     "output_type": "stream",
     "text": [
      "ending reward: 1333\n",
      "========= End of Episode 63 =========\n",
      "========= Episode 64 =========\n",
      "info: {'total_apple_consumed': 0, 'step_apple_consumed': 0, 'apple': 0, 'dirt': 78, 'picker': 0, 'cleaner': 0, 'total_reward_by_agent': {'9': 0, '3': 0, '2': 0, '5': 0, '8': 0, '7': 0, '4': 0, '0': 0, '6': 0, '1': 0}}\n"
     ]
    },
    {
     "name": "stderr",
     "output_type": "stream",
     "text": [
      "100%|█████████▉| 999/1000 [00:01<00:00, 804.98it/s]\n"
     ]
    },
    {
     "name": "stdout",
     "output_type": "stream",
     "text": [
      "ending reward: 1063\n",
      "========= End of Episode 64 =========\n",
      "========= Episode 65 =========\n",
      "info: {'total_apple_consumed': 0, 'step_apple_consumed': 0, 'apple': 0, 'dirt': 78, 'picker': 0, 'cleaner': 0, 'total_reward_by_agent': {'9': 0, '3': 0, '2': 0, '5': 0, '8': 0, '7': 0, '4': 0, '0': 0, '6': 0, '1': 0}}\n"
     ]
    },
    {
     "name": "stderr",
     "output_type": "stream",
     "text": [
      "100%|█████████▉| 999/1000 [00:01<00:00, 802.16it/s]\n"
     ]
    },
    {
     "name": "stdout",
     "output_type": "stream",
     "text": [
      "ending reward: 1621\n",
      "========= End of Episode 65 =========\n",
      "========= Episode 66 =========\n",
      "info: {'total_apple_consumed': 0, 'step_apple_consumed': 0, 'apple': 0, 'dirt': 78, 'picker': 0, 'cleaner': 0, 'total_reward_by_agent': {'9': 0, '3': 0, '2': 0, '5': 0, '8': 0, '7': 0, '4': 0, '0': 0, '6': 0, '1': 0}}\n"
     ]
    },
    {
     "name": "stderr",
     "output_type": "stream",
     "text": [
      "100%|█████████▉| 999/1000 [00:01<00:00, 629.39it/s]\n"
     ]
    },
    {
     "name": "stdout",
     "output_type": "stream",
     "text": [
      "ending reward: 1215\n",
      "========= End of Episode 66 =========\n",
      "========= Episode 67 =========\n",
      "info: {'total_apple_consumed': 0, 'step_apple_consumed': 0, 'apple': 0, 'dirt': 78, 'picker': 0, 'cleaner': 0, 'total_reward_by_agent': {'9': 0, '3': 0, '2': 0, '5': 0, '8': 0, '7': 0, '4': 0, '0': 0, '6': 0, '1': 0}}\n"
     ]
    },
    {
     "name": "stderr",
     "output_type": "stream",
     "text": [
      "100%|█████████▉| 999/1000 [00:01<00:00, 566.58it/s]\n"
     ]
    },
    {
     "name": "stdout",
     "output_type": "stream",
     "text": [
      "ending reward: 1370\n",
      "========= End of Episode 67 =========\n",
      "========= Episode 68 =========\n",
      "info: {'total_apple_consumed': 0, 'step_apple_consumed': 0, 'apple': 0, 'dirt': 78, 'picker': 0, 'cleaner': 0, 'total_reward_by_agent': {'9': 0, '3': 0, '2': 0, '5': 0, '8': 0, '7': 0, '4': 0, '0': 0, '6': 0, '1': 0}}\n"
     ]
    },
    {
     "name": "stderr",
     "output_type": "stream",
     "text": [
      "100%|█████████▉| 999/1000 [00:01<00:00, 841.09it/s]\n"
     ]
    },
    {
     "name": "stdout",
     "output_type": "stream",
     "text": [
      "ending reward: 798\n",
      "========= End of Episode 68 =========\n",
      "========= Episode 69 =========\n",
      "info: {'total_apple_consumed': 0, 'step_apple_consumed': 0, 'apple': 0, 'dirt': 78, 'picker': 0, 'cleaner': 0, 'total_reward_by_agent': {'9': 0, '3': 0, '2': 0, '5': 0, '8': 0, '7': 0, '4': 0, '0': 0, '6': 0, '1': 0}}\n"
     ]
    },
    {
     "name": "stderr",
     "output_type": "stream",
     "text": [
      "100%|█████████▉| 999/1000 [00:01<00:00, 773.33it/s]\n"
     ]
    },
    {
     "name": "stdout",
     "output_type": "stream",
     "text": [
      "ending reward: 635\n",
      "========= End of Episode 69 =========\n",
      "========= Episode 70 =========\n",
      "info: {'total_apple_consumed': 0, 'step_apple_consumed': 0, 'apple': 0, 'dirt': 78, 'picker': 0, 'cleaner': 0, 'total_reward_by_agent': {'9': 0, '3': 0, '2': 0, '5': 0, '8': 0, '7': 0, '4': 0, '0': 0, '6': 0, '1': 0}}\n"
     ]
    },
    {
     "name": "stderr",
     "output_type": "stream",
     "text": [
      "100%|█████████▉| 999/1000 [00:01<00:00, 737.32it/s]\n"
     ]
    },
    {
     "name": "stdout",
     "output_type": "stream",
     "text": [
      "ending reward: 1005\n",
      "========= End of Episode 70 =========\n",
      "========= Episode 71 =========\n",
      "info: {'total_apple_consumed': 0, 'step_apple_consumed': 0, 'apple': 0, 'dirt': 78, 'picker': 0, 'cleaner': 0, 'total_reward_by_agent': {'9': 0, '3': 0, '2': 0, '5': 0, '8': 0, '7': 0, '4': 0, '0': 0, '6': 0, '1': 0}}\n"
     ]
    },
    {
     "name": "stderr",
     "output_type": "stream",
     "text": [
      "100%|█████████▉| 999/1000 [00:01<00:00, 653.08it/s]\n"
     ]
    },
    {
     "name": "stdout",
     "output_type": "stream",
     "text": [
      "ending reward: 1272\n",
      "========= End of Episode 71 =========\n",
      "========= Episode 72 =========\n",
      "info: {'total_apple_consumed': 0, 'step_apple_consumed': 0, 'apple': 0, 'dirt': 78, 'picker': 0, 'cleaner': 0, 'total_reward_by_agent': {'9': 0, '3': 0, '2': 0, '5': 0, '8': 0, '7': 0, '4': 0, '0': 0, '6': 0, '1': 0}}\n"
     ]
    },
    {
     "name": "stderr",
     "output_type": "stream",
     "text": [
      "100%|█████████▉| 999/1000 [00:01<00:00, 745.75it/s]\n"
     ]
    },
    {
     "name": "stdout",
     "output_type": "stream",
     "text": [
      "ending reward: 1589\n",
      "========= End of Episode 72 =========\n",
      "========= Episode 73 =========\n",
      "info: {'total_apple_consumed': 0, 'step_apple_consumed': 0, 'apple': 0, 'dirt': 78, 'picker': 0, 'cleaner': 0, 'total_reward_by_agent': {'9': 0, '3': 0, '2': 0, '5': 0, '8': 0, '7': 0, '4': 0, '0': 0, '6': 0, '1': 0}}\n"
     ]
    },
    {
     "name": "stderr",
     "output_type": "stream",
     "text": [
      "100%|█████████▉| 999/1000 [00:01<00:00, 734.68it/s]\n"
     ]
    },
    {
     "name": "stdout",
     "output_type": "stream",
     "text": [
      "ending reward: 1513\n",
      "========= End of Episode 73 =========\n",
      "========= Episode 74 =========\n",
      "info: {'total_apple_consumed': 0, 'step_apple_consumed': 0, 'apple': 0, 'dirt': 78, 'picker': 0, 'cleaner': 0, 'total_reward_by_agent': {'9': 0, '3': 0, '2': 0, '5': 0, '8': 0, '7': 0, '4': 0, '0': 0, '6': 0, '1': 0}}\n"
     ]
    },
    {
     "name": "stderr",
     "output_type": "stream",
     "text": [
      "100%|█████████▉| 999/1000 [00:01<00:00, 835.49it/s]\n"
     ]
    },
    {
     "name": "stdout",
     "output_type": "stream",
     "text": [
      "ending reward: 1079\n",
      "========= End of Episode 74 =========\n",
      "========= Episode 75 =========\n",
      "info: {'total_apple_consumed': 0, 'step_apple_consumed': 0, 'apple': 0, 'dirt': 78, 'picker': 0, 'cleaner': 0, 'total_reward_by_agent': {'9': 0, '3': 0, '2': 0, '5': 0, '8': 0, '7': 0, '4': 0, '0': 0, '6': 0, '1': 0}}\n"
     ]
    },
    {
     "name": "stderr",
     "output_type": "stream",
     "text": [
      "100%|█████████▉| 999/1000 [00:01<00:00, 845.16it/s]\n"
     ]
    },
    {
     "name": "stdout",
     "output_type": "stream",
     "text": [
      "ending reward: 2762\n",
      "========= End of Episode 75 =========\n",
      "========= Episode 76 =========\n",
      "info: {'total_apple_consumed': 0, 'step_apple_consumed': 0, 'apple': 0, 'dirt': 78, 'picker': 0, 'cleaner': 0, 'total_reward_by_agent': {'9': 0, '3': 0, '2': 0, '5': 0, '8': 0, '7': 0, '4': 0, '0': 0, '6': 0, '1': 0}}\n"
     ]
    },
    {
     "name": "stderr",
     "output_type": "stream",
     "text": [
      "100%|█████████▉| 999/1000 [00:01<00:00, 622.01it/s]\n"
     ]
    },
    {
     "name": "stdout",
     "output_type": "stream",
     "text": [
      "ending reward: 2539\n",
      "========= End of Episode 76 =========\n",
      "========= Episode 77 =========\n",
      "info: {'total_apple_consumed': 0, 'step_apple_consumed': 0, 'apple': 0, 'dirt': 78, 'picker': 0, 'cleaner': 0, 'total_reward_by_agent': {'9': 0, '3': 0, '2': 0, '5': 0, '8': 0, '7': 0, '4': 0, '0': 0, '6': 0, '1': 0}}\n"
     ]
    },
    {
     "name": "stderr",
     "output_type": "stream",
     "text": [
      "100%|█████████▉| 999/1000 [00:01<00:00, 863.60it/s]\n"
     ]
    },
    {
     "name": "stdout",
     "output_type": "stream",
     "text": [
      "ending reward: 2486\n",
      "========= End of Episode 77 =========\n",
      "========= Episode 78 =========\n",
      "info: {'total_apple_consumed': 0, 'step_apple_consumed': 0, 'apple': 0, 'dirt': 78, 'picker': 0, 'cleaner': 0, 'total_reward_by_agent': {'9': 0, '3': 0, '2': 0, '5': 0, '8': 0, '7': 0, '4': 0, '0': 0, '6': 0, '1': 0}}\n"
     ]
    },
    {
     "name": "stderr",
     "output_type": "stream",
     "text": [
      "100%|█████████▉| 999/1000 [00:01<00:00, 862.51it/s]\n"
     ]
    },
    {
     "name": "stdout",
     "output_type": "stream",
     "text": [
      "ending reward: 1641\n",
      "========= End of Episode 78 =========\n",
      "========= Episode 79 =========\n",
      "info: {'total_apple_consumed': 0, 'step_apple_consumed': 0, 'apple': 0, 'dirt': 78, 'picker': 0, 'cleaner': 0, 'total_reward_by_agent': {'9': 0, '3': 0, '2': 0, '5': 0, '8': 0, '7': 0, '4': 0, '0': 0, '6': 0, '1': 0}}\n"
     ]
    },
    {
     "name": "stderr",
     "output_type": "stream",
     "text": [
      "100%|█████████▉| 999/1000 [00:01<00:00, 638.60it/s]\n"
     ]
    },
    {
     "name": "stdout",
     "output_type": "stream",
     "text": [
      "ending reward: 2121\n",
      "========= End of Episode 79 =========\n",
      "========= Episode 80 =========\n",
      "info: {'total_apple_consumed': 0, 'step_apple_consumed': 0, 'apple': 0, 'dirt': 78, 'picker': 0, 'cleaner': 0, 'total_reward_by_agent': {'9': 0, '3': 0, '2': 0, '5': 0, '8': 0, '7': 0, '4': 0, '0': 0, '6': 0, '1': 0}}\n"
     ]
    },
    {
     "name": "stderr",
     "output_type": "stream",
     "text": [
      "100%|█████████▉| 999/1000 [00:01<00:00, 792.22it/s]\n"
     ]
    },
    {
     "name": "stdout",
     "output_type": "stream",
     "text": [
      "ending reward: 1940\n",
      "========= End of Episode 80 =========\n",
      "========= Episode 81 =========\n",
      "info: {'total_apple_consumed': 0, 'step_apple_consumed': 0, 'apple': 0, 'dirt': 78, 'picker': 0, 'cleaner': 0, 'total_reward_by_agent': {'9': 0, '3': 0, '2': 0, '5': 0, '8': 0, '7': 0, '4': 0, '0': 0, '6': 0, '1': 0}}\n"
     ]
    },
    {
     "name": "stderr",
     "output_type": "stream",
     "text": [
      "100%|█████████▉| 999/1000 [00:01<00:00, 822.58it/s]\n"
     ]
    },
    {
     "name": "stdout",
     "output_type": "stream",
     "text": [
      "ending reward: 2031\n",
      "========= End of Episode 81 =========\n",
      "========= Episode 82 =========\n",
      "info: {'total_apple_consumed': 0, 'step_apple_consumed': 0, 'apple': 0, 'dirt': 78, 'picker': 0, 'cleaner': 0, 'total_reward_by_agent': {'9': 0, '3': 0, '2': 0, '5': 0, '8': 0, '7': 0, '4': 0, '0': 0, '6': 0, '1': 0}}\n"
     ]
    },
    {
     "name": "stderr",
     "output_type": "stream",
     "text": [
      "100%|█████████▉| 999/1000 [00:01<00:00, 859.57it/s]\n"
     ]
    },
    {
     "name": "stdout",
     "output_type": "stream",
     "text": [
      "ending reward: 2180\n",
      "========= End of Episode 82 =========\n",
      "========= Episode 83 =========\n",
      "info: {'total_apple_consumed': 0, 'step_apple_consumed': 0, 'apple': 0, 'dirt': 78, 'picker': 0, 'cleaner': 0, 'total_reward_by_agent': {'9': 0, '3': 0, '2': 0, '5': 0, '8': 0, '7': 0, '4': 0, '0': 0, '6': 0, '1': 0}}\n"
     ]
    },
    {
     "name": "stderr",
     "output_type": "stream",
     "text": [
      "100%|█████████▉| 999/1000 [00:01<00:00, 640.54it/s]\n"
     ]
    },
    {
     "name": "stdout",
     "output_type": "stream",
     "text": [
      "ending reward: 2084\n",
      "========= End of Episode 83 =========\n",
      "========= Episode 84 =========\n",
      "info: {'total_apple_consumed': 0, 'step_apple_consumed': 0, 'apple': 0, 'dirt': 78, 'picker': 0, 'cleaner': 0, 'total_reward_by_agent': {'9': 0, '3': 0, '2': 0, '5': 0, '8': 0, '7': 0, '4': 0, '0': 0, '6': 0, '1': 0}}\n"
     ]
    },
    {
     "name": "stderr",
     "output_type": "stream",
     "text": [
      "100%|█████████▉| 999/1000 [00:01<00:00, 677.19it/s]\n"
     ]
    },
    {
     "name": "stdout",
     "output_type": "stream",
     "text": [
      "ending reward: 1406\n",
      "========= End of Episode 84 =========\n",
      "========= Episode 85 =========\n",
      "info: {'total_apple_consumed': 0, 'step_apple_consumed': 0, 'apple': 0, 'dirt': 78, 'picker': 0, 'cleaner': 0, 'total_reward_by_agent': {'9': 0, '3': 0, '2': 0, '5': 0, '8': 0, '7': 0, '4': 0, '0': 0, '6': 0, '1': 0}}\n"
     ]
    },
    {
     "name": "stderr",
     "output_type": "stream",
     "text": [
      "100%|█████████▉| 999/1000 [00:01<00:00, 665.48it/s]\n"
     ]
    },
    {
     "name": "stdout",
     "output_type": "stream",
     "text": [
      "ending reward: 2503\n",
      "========= End of Episode 85 =========\n",
      "========= Episode 86 =========\n",
      "info: {'total_apple_consumed': 0, 'step_apple_consumed': 0, 'apple': 0, 'dirt': 78, 'picker': 0, 'cleaner': 0, 'total_reward_by_agent': {'9': 0, '3': 0, '2': 0, '5': 0, '8': 0, '7': 0, '4': 0, '0': 0, '6': 0, '1': 0}}\n"
     ]
    },
    {
     "name": "stderr",
     "output_type": "stream",
     "text": [
      "100%|█████████▉| 999/1000 [00:01<00:00, 639.16it/s]\n"
     ]
    },
    {
     "name": "stdout",
     "output_type": "stream",
     "text": [
      "ending reward: 2602\n",
      "========= End of Episode 86 =========\n",
      "========= Episode 87 =========\n",
      "info: {'total_apple_consumed': 0, 'step_apple_consumed': 0, 'apple': 0, 'dirt': 78, 'picker': 0, 'cleaner': 0, 'total_reward_by_agent': {'9': 0, '3': 0, '2': 0, '5': 0, '8': 0, '7': 0, '4': 0, '0': 0, '6': 0, '1': 0}}\n"
     ]
    },
    {
     "name": "stderr",
     "output_type": "stream",
     "text": [
      "100%|█████████▉| 999/1000 [00:01<00:00, 757.27it/s]\n"
     ]
    },
    {
     "name": "stdout",
     "output_type": "stream",
     "text": [
      "ending reward: 1994\n",
      "========= End of Episode 87 =========\n",
      "========= Episode 88 =========\n",
      "info: {'total_apple_consumed': 0, 'step_apple_consumed': 0, 'apple': 0, 'dirt': 78, 'picker': 0, 'cleaner': 0, 'total_reward_by_agent': {'9': 0, '3': 0, '2': 0, '5': 0, '8': 0, '7': 0, '4': 0, '0': 0, '6': 0, '1': 0}}\n"
     ]
    },
    {
     "name": "stderr",
     "output_type": "stream",
     "text": [
      "100%|█████████▉| 999/1000 [00:01<00:00, 572.12it/s]\n"
     ]
    },
    {
     "name": "stdout",
     "output_type": "stream",
     "text": [
      "ending reward: 2255\n",
      "========= End of Episode 88 =========\n",
      "========= Episode 89 =========\n",
      "info: {'total_apple_consumed': 0, 'step_apple_consumed': 0, 'apple': 0, 'dirt': 78, 'picker': 0, 'cleaner': 0, 'total_reward_by_agent': {'9': 0, '3': 0, '2': 0, '5': 0, '8': 0, '7': 0, '4': 0, '0': 0, '6': 0, '1': 0}}\n"
     ]
    },
    {
     "name": "stderr",
     "output_type": "stream",
     "text": [
      "100%|█████████▉| 999/1000 [00:01<00:00, 642.50it/s]\n"
     ]
    },
    {
     "name": "stdout",
     "output_type": "stream",
     "text": [
      "ending reward: 2073\n",
      "========= End of Episode 89 =========\n",
      "========= Episode 90 =========\n",
      "info: {'total_apple_consumed': 0, 'step_apple_consumed': 0, 'apple': 0, 'dirt': 78, 'picker': 0, 'cleaner': 0, 'total_reward_by_agent': {'9': 0, '3': 0, '2': 0, '5': 0, '8': 0, '7': 0, '4': 0, '0': 0, '6': 0, '1': 0}}\n"
     ]
    },
    {
     "name": "stderr",
     "output_type": "stream",
     "text": [
      "100%|█████████▉| 999/1000 [00:01<00:00, 627.42it/s]\n"
     ]
    },
    {
     "name": "stdout",
     "output_type": "stream",
     "text": [
      "ending reward: 1882\n",
      "========= End of Episode 90 =========\n",
      "========= Episode 91 =========\n",
      "info: {'total_apple_consumed': 0, 'step_apple_consumed': 0, 'apple': 0, 'dirt': 78, 'picker': 0, 'cleaner': 0, 'total_reward_by_agent': {'9': 0, '3': 0, '2': 0, '5': 0, '8': 0, '7': 0, '4': 0, '0': 0, '6': 0, '1': 0}}\n"
     ]
    },
    {
     "name": "stderr",
     "output_type": "stream",
     "text": [
      "100%|█████████▉| 999/1000 [00:01<00:00, 663.08it/s]\n"
     ]
    },
    {
     "name": "stdout",
     "output_type": "stream",
     "text": [
      "ending reward: 1801\n",
      "========= End of Episode 91 =========\n",
      "========= Episode 92 =========\n",
      "info: {'total_apple_consumed': 0, 'step_apple_consumed': 0, 'apple': 0, 'dirt': 78, 'picker': 0, 'cleaner': 0, 'total_reward_by_agent': {'9': 0, '3': 0, '2': 0, '5': 0, '8': 0, '7': 0, '4': 0, '0': 0, '6': 0, '1': 0}}\n"
     ]
    },
    {
     "name": "stderr",
     "output_type": "stream",
     "text": [
      "100%|█████████▉| 999/1000 [00:01<00:00, 531.09it/s]\n"
     ]
    },
    {
     "name": "stdout",
     "output_type": "stream",
     "text": [
      "ending reward: 2711\n",
      "========= End of Episode 92 =========\n",
      "========= Episode 93 =========\n",
      "info: {'total_apple_consumed': 0, 'step_apple_consumed': 0, 'apple': 0, 'dirt': 78, 'picker': 0, 'cleaner': 0, 'total_reward_by_agent': {'9': 0, '3': 0, '2': 0, '5': 0, '8': 0, '7': 0, '4': 0, '0': 0, '6': 0, '1': 0}}\n"
     ]
    },
    {
     "name": "stderr",
     "output_type": "stream",
     "text": [
      "100%|█████████▉| 999/1000 [00:01<00:00, 754.25it/s]\n"
     ]
    },
    {
     "name": "stdout",
     "output_type": "stream",
     "text": [
      "ending reward: 2202\n",
      "========= End of Episode 93 =========\n",
      "========= Episode 94 =========\n",
      "info: {'total_apple_consumed': 0, 'step_apple_consumed': 0, 'apple': 0, 'dirt': 78, 'picker': 0, 'cleaner': 0, 'total_reward_by_agent': {'9': 0, '3': 0, '2': 0, '5': 0, '8': 0, '7': 0, '4': 0, '0': 0, '6': 0, '1': 0}}\n"
     ]
    },
    {
     "name": "stderr",
     "output_type": "stream",
     "text": [
      "100%|█████████▉| 999/1000 [00:01<00:00, 650.56it/s]\n"
     ]
    },
    {
     "name": "stdout",
     "output_type": "stream",
     "text": [
      "ending reward: 1967\n",
      "========= End of Episode 94 =========\n",
      "========= Episode 95 =========\n",
      "info: {'total_apple_consumed': 0, 'step_apple_consumed': 0, 'apple': 0, 'dirt': 78, 'picker': 0, 'cleaner': 0, 'total_reward_by_agent': {'9': 0, '3': 0, '2': 0, '5': 0, '8': 0, '7': 0, '4': 0, '0': 0, '6': 0, '1': 0}}\n"
     ]
    },
    {
     "name": "stderr",
     "output_type": "stream",
     "text": [
      "100%|█████████▉| 999/1000 [00:01<00:00, 603.63it/s]\n"
     ]
    },
    {
     "name": "stdout",
     "output_type": "stream",
     "text": [
      "ending reward: 2549\n",
      "========= End of Episode 95 =========\n",
      "========= Episode 96 =========\n",
      "info: {'total_apple_consumed': 0, 'step_apple_consumed': 0, 'apple': 0, 'dirt': 78, 'picker': 0, 'cleaner': 0, 'total_reward_by_agent': {'9': 0, '3': 0, '2': 0, '5': 0, '8': 0, '7': 0, '4': 0, '0': 0, '6': 0, '1': 0}}\n"
     ]
    },
    {
     "name": "stderr",
     "output_type": "stream",
     "text": [
      "100%|█████████▉| 999/1000 [00:01<00:00, 554.85it/s]\n"
     ]
    },
    {
     "name": "stdout",
     "output_type": "stream",
     "text": [
      "ending reward: 1798\n",
      "========= End of Episode 96 =========\n",
      "========= Episode 97 =========\n",
      "info: {'total_apple_consumed': 0, 'step_apple_consumed': 0, 'apple': 0, 'dirt': 78, 'picker': 0, 'cleaner': 0, 'total_reward_by_agent': {'9': 0, '3': 0, '2': 0, '5': 0, '8': 0, '7': 0, '4': 0, '0': 0, '6': 0, '1': 0}}\n"
     ]
    },
    {
     "name": "stderr",
     "output_type": "stream",
     "text": [
      "100%|█████████▉| 999/1000 [00:01<00:00, 617.41it/s]\n"
     ]
    },
    {
     "name": "stdout",
     "output_type": "stream",
     "text": [
      "ending reward: 2246\n",
      "========= End of Episode 97 =========\n",
      "========= Episode 98 =========\n",
      "info: {'total_apple_consumed': 0, 'step_apple_consumed': 0, 'apple': 0, 'dirt': 78, 'picker': 0, 'cleaner': 0, 'total_reward_by_agent': {'9': 0, '3': 0, '2': 0, '5': 0, '8': 0, '7': 0, '4': 0, '0': 0, '6': 0, '1': 0}}\n"
     ]
    },
    {
     "name": "stderr",
     "output_type": "stream",
     "text": [
      "100%|█████████▉| 999/1000 [00:01<00:00, 631.19it/s]\n"
     ]
    },
    {
     "name": "stdout",
     "output_type": "stream",
     "text": [
      "ending reward: 2603\n",
      "========= End of Episode 98 =========\n",
      "========= Episode 99 =========\n",
      "info: {'total_apple_consumed': 0, 'step_apple_consumed': 0, 'apple': 0, 'dirt': 78, 'picker': 0, 'cleaner': 0, 'total_reward_by_agent': {'9': 0, '3': 0, '2': 0, '5': 0, '8': 0, '7': 0, '4': 0, '0': 0, '6': 0, '1': 0}}\n"
     ]
    },
    {
     "name": "stderr",
     "output_type": "stream",
     "text": [
      "100%|█████████▉| 999/1000 [00:01<00:00, 574.69it/s]\n"
     ]
    },
    {
     "name": "stdout",
     "output_type": "stream",
     "text": [
      "ending reward: 979\n",
      "========= End of Episode 99 =========\n",
      "========= Episode 100 =========\n",
      "info: {'total_apple_consumed': 0, 'step_apple_consumed': 0, 'apple': 0, 'dirt': 78, 'picker': 0, 'cleaner': 0, 'total_reward_by_agent': {'9': 0, '3': 0, '2': 0, '5': 0, '8': 0, '7': 0, '4': 0, '0': 0, '6': 0, '1': 0}}\n"
     ]
    },
    {
     "name": "stderr",
     "output_type": "stream",
     "text": [
      "100%|█████████▉| 999/1000 [00:01<00:00, 551.50it/s]\n"
     ]
    },
    {
     "name": "stdout",
     "output_type": "stream",
     "text": [
      "ending reward: 2058\n",
      "========= End of Episode 100 =========\n",
      "========= Episode 101 =========\n",
      "info: {'total_apple_consumed': 0, 'step_apple_consumed': 0, 'apple': 0, 'dirt': 78, 'picker': 0, 'cleaner': 0, 'total_reward_by_agent': {'9': 0, '3': 0, '2': 0, '5': 0, '8': 0, '7': 0, '4': 0, '0': 0, '6': 0, '1': 0}}\n"
     ]
    },
    {
     "name": "stderr",
     "output_type": "stream",
     "text": [
      "100%|█████████▉| 999/1000 [00:01<00:00, 588.71it/s]\n"
     ]
    },
    {
     "name": "stdout",
     "output_type": "stream",
     "text": [
      "ending reward: 2663\n",
      "========= End of Episode 101 =========\n",
      "========= Episode 102 =========\n",
      "info: {'total_apple_consumed': 0, 'step_apple_consumed': 0, 'apple': 0, 'dirt': 78, 'picker': 0, 'cleaner': 0, 'total_reward_by_agent': {'9': 0, '3': 0, '2': 0, '5': 0, '8': 0, '7': 0, '4': 0, '0': 0, '6': 0, '1': 0}}\n"
     ]
    },
    {
     "name": "stderr",
     "output_type": "stream",
     "text": [
      "100%|█████████▉| 999/1000 [00:01<00:00, 583.38it/s]\n"
     ]
    },
    {
     "name": "stdout",
     "output_type": "stream",
     "text": [
      "ending reward: 2367\n",
      "========= End of Episode 102 =========\n",
      "========= Episode 103 =========\n",
      "info: {'total_apple_consumed': 0, 'step_apple_consumed': 0, 'apple': 0, 'dirt': 78, 'picker': 0, 'cleaner': 0, 'total_reward_by_agent': {'9': 0, '3': 0, '2': 0, '5': 0, '8': 0, '7': 0, '4': 0, '0': 0, '6': 0, '1': 0}}\n"
     ]
    },
    {
     "name": "stderr",
     "output_type": "stream",
     "text": [
      "100%|█████████▉| 999/1000 [00:01<00:00, 596.99it/s]\n"
     ]
    },
    {
     "name": "stdout",
     "output_type": "stream",
     "text": [
      "ending reward: 1676\n",
      "========= End of Episode 103 =========\n",
      "========= Episode 104 =========\n",
      "info: {'total_apple_consumed': 0, 'step_apple_consumed': 0, 'apple': 0, 'dirt': 78, 'picker': 0, 'cleaner': 0, 'total_reward_by_agent': {'9': 0, '3': 0, '2': 0, '5': 0, '8': 0, '7': 0, '4': 0, '0': 0, '6': 0, '1': 0}}\n"
     ]
    },
    {
     "name": "stderr",
     "output_type": "stream",
     "text": [
      "100%|█████████▉| 999/1000 [00:01<00:00, 599.14it/s]\n"
     ]
    },
    {
     "name": "stdout",
     "output_type": "stream",
     "text": [
      "ending reward: 1804\n",
      "========= End of Episode 104 =========\n",
      "========= Episode 105 =========\n",
      "info: {'total_apple_consumed': 0, 'step_apple_consumed': 0, 'apple': 0, 'dirt': 78, 'picker': 0, 'cleaner': 0, 'total_reward_by_agent': {'9': 0, '3': 0, '2': 0, '5': 0, '8': 0, '7': 0, '4': 0, '0': 0, '6': 0, '1': 0}}\n"
     ]
    },
    {
     "name": "stderr",
     "output_type": "stream",
     "text": [
      "100%|█████████▉| 999/1000 [00:01<00:00, 590.60it/s]\n"
     ]
    },
    {
     "name": "stdout",
     "output_type": "stream",
     "text": [
      "ending reward: 2520\n",
      "========= End of Episode 105 =========\n",
      "========= Episode 106 =========\n",
      "info: {'total_apple_consumed': 0, 'step_apple_consumed': 0, 'apple': 0, 'dirt': 78, 'picker': 0, 'cleaner': 0, 'total_reward_by_agent': {'9': 0, '3': 0, '2': 0, '5': 0, '8': 0, '7': 0, '4': 0, '0': 0, '6': 0, '1': 0}}\n"
     ]
    },
    {
     "name": "stderr",
     "output_type": "stream",
     "text": [
      "100%|█████████▉| 999/1000 [00:01<00:00, 603.46it/s]\n"
     ]
    },
    {
     "name": "stdout",
     "output_type": "stream",
     "text": [
      "ending reward: 2081\n",
      "========= End of Episode 106 =========\n",
      "========= Episode 107 =========\n",
      "info: {'total_apple_consumed': 0, 'step_apple_consumed': 0, 'apple': 0, 'dirt': 78, 'picker': 0, 'cleaner': 0, 'total_reward_by_agent': {'9': 0, '3': 0, '2': 0, '5': 0, '8': 0, '7': 0, '4': 0, '0': 0, '6': 0, '1': 0}}\n"
     ]
    },
    {
     "name": "stderr",
     "output_type": "stream",
     "text": [
      "100%|█████████▉| 999/1000 [00:01<00:00, 537.30it/s]\n"
     ]
    },
    {
     "name": "stdout",
     "output_type": "stream",
     "text": [
      "ending reward: 2330\n",
      "========= End of Episode 107 =========\n",
      "========= Episode 108 =========\n",
      "info: {'total_apple_consumed': 0, 'step_apple_consumed': 0, 'apple': 0, 'dirt': 78, 'picker': 0, 'cleaner': 0, 'total_reward_by_agent': {'9': 0, '3': 0, '2': 0, '5': 0, '8': 0, '7': 0, '4': 0, '0': 0, '6': 0, '1': 0}}\n"
     ]
    },
    {
     "name": "stderr",
     "output_type": "stream",
     "text": [
      "100%|█████████▉| 999/1000 [00:01<00:00, 646.06it/s]\n"
     ]
    },
    {
     "name": "stdout",
     "output_type": "stream",
     "text": [
      "ending reward: 2465\n",
      "========= End of Episode 108 =========\n",
      "========= Episode 109 =========\n",
      "info: {'total_apple_consumed': 0, 'step_apple_consumed': 0, 'apple': 0, 'dirt': 78, 'picker': 0, 'cleaner': 0, 'total_reward_by_agent': {'9': 0, '3': 0, '2': 0, '5': 0, '8': 0, '7': 0, '4': 0, '0': 0, '6': 0, '1': 0}}\n"
     ]
    },
    {
     "name": "stderr",
     "output_type": "stream",
     "text": [
      "100%|█████████▉| 999/1000 [00:01<00:00, 567.12it/s]\n"
     ]
    },
    {
     "name": "stdout",
     "output_type": "stream",
     "text": [
      "ending reward: 1505\n",
      "========= End of Episode 109 =========\n",
      "========= Episode 110 =========\n",
      "info: {'total_apple_consumed': 0, 'step_apple_consumed': 0, 'apple': 0, 'dirt': 78, 'picker': 0, 'cleaner': 0, 'total_reward_by_agent': {'9': 0, '3': 0, '2': 0, '5': 0, '8': 0, '7': 0, '4': 0, '0': 0, '6': 0, '1': 0}}\n"
     ]
    },
    {
     "name": "stderr",
     "output_type": "stream",
     "text": [
      "100%|█████████▉| 999/1000 [00:01<00:00, 629.95it/s]\n"
     ]
    },
    {
     "name": "stdout",
     "output_type": "stream",
     "text": [
      "ending reward: 2232\n",
      "========= End of Episode 110 =========\n",
      "========= Episode 111 =========\n",
      "info: {'total_apple_consumed': 0, 'step_apple_consumed': 0, 'apple': 0, 'dirt': 78, 'picker': 0, 'cleaner': 0, 'total_reward_by_agent': {'9': 0, '3': 0, '2': 0, '5': 0, '8': 0, '7': 0, '4': 0, '0': 0, '6': 0, '1': 0}}\n"
     ]
    },
    {
     "name": "stderr",
     "output_type": "stream",
     "text": [
      "100%|█████████▉| 999/1000 [00:01<00:00, 629.59it/s]\n"
     ]
    },
    {
     "name": "stdout",
     "output_type": "stream",
     "text": [
      "ending reward: 2642\n",
      "========= End of Episode 111 =========\n",
      "========= Episode 112 =========\n",
      "info: {'total_apple_consumed': 0, 'step_apple_consumed': 0, 'apple': 0, 'dirt': 78, 'picker': 0, 'cleaner': 0, 'total_reward_by_agent': {'9': 0, '3': 0, '2': 0, '5': 0, '8': 0, '7': 0, '4': 0, '0': 0, '6': 0, '1': 0}}\n"
     ]
    },
    {
     "name": "stderr",
     "output_type": "stream",
     "text": [
      "100%|█████████▉| 999/1000 [00:01<00:00, 598.30it/s]\n"
     ]
    },
    {
     "name": "stdout",
     "output_type": "stream",
     "text": [
      "ending reward: 2209\n",
      "========= End of Episode 112 =========\n",
      "========= Episode 113 =========\n",
      "info: {'total_apple_consumed': 0, 'step_apple_consumed': 0, 'apple': 0, 'dirt': 78, 'picker': 0, 'cleaner': 0, 'total_reward_by_agent': {'9': 0, '3': 0, '2': 0, '5': 0, '8': 0, '7': 0, '4': 0, '0': 0, '6': 0, '1': 0}}\n"
     ]
    },
    {
     "name": "stderr",
     "output_type": "stream",
     "text": [
      "100%|█████████▉| 999/1000 [00:01<00:00, 791.83it/s]\n"
     ]
    },
    {
     "name": "stdout",
     "output_type": "stream",
     "text": [
      "ending reward: 747\n",
      "========= End of Episode 113 =========\n",
      "========= Episode 114 =========\n",
      "info: {'total_apple_consumed': 0, 'step_apple_consumed': 0, 'apple': 0, 'dirt': 78, 'picker': 0, 'cleaner': 0, 'total_reward_by_agent': {'9': 0, '3': 0, '2': 0, '5': 0, '8': 0, '7': 0, '4': 0, '0': 0, '6': 0, '1': 0}}\n"
     ]
    },
    {
     "name": "stderr",
     "output_type": "stream",
     "text": [
      "100%|█████████▉| 999/1000 [00:01<00:00, 638.95it/s]\n"
     ]
    },
    {
     "name": "stdout",
     "output_type": "stream",
     "text": [
      "ending reward: 441\n",
      "========= End of Episode 114 =========\n",
      "========= Episode 115 =========\n",
      "info: {'total_apple_consumed': 0, 'step_apple_consumed': 0, 'apple': 0, 'dirt': 78, 'picker': 0, 'cleaner': 0, 'total_reward_by_agent': {'9': 0, '3': 0, '2': 0, '5': 0, '8': 0, '7': 0, '4': 0, '0': 0, '6': 0, '1': 0}}\n"
     ]
    },
    {
     "name": "stderr",
     "output_type": "stream",
     "text": [
      "100%|█████████▉| 999/1000 [00:01<00:00, 749.83it/s]\n"
     ]
    },
    {
     "name": "stdout",
     "output_type": "stream",
     "text": [
      "ending reward: 428\n",
      "========= End of Episode 115 =========\n",
      "========= Episode 116 =========\n",
      "info: {'total_apple_consumed': 0, 'step_apple_consumed': 0, 'apple': 0, 'dirt': 78, 'picker': 0, 'cleaner': 0, 'total_reward_by_agent': {'9': 0, '3': 0, '2': 0, '5': 0, '8': 0, '7': 0, '4': 0, '0': 0, '6': 0, '1': 0}}\n"
     ]
    },
    {
     "name": "stderr",
     "output_type": "stream",
     "text": [
      "100%|█████████▉| 999/1000 [00:01<00:00, 686.04it/s]\n"
     ]
    },
    {
     "name": "stdout",
     "output_type": "stream",
     "text": [
      "ending reward: 899\n",
      "========= End of Episode 116 =========\n",
      "========= Episode 117 =========\n",
      "info: {'total_apple_consumed': 0, 'step_apple_consumed': 0, 'apple': 0, 'dirt': 78, 'picker': 0, 'cleaner': 0, 'total_reward_by_agent': {'9': 0, '3': 0, '2': 0, '5': 0, '8': 0, '7': 0, '4': 0, '0': 0, '6': 0, '1': 0}}\n"
     ]
    },
    {
     "name": "stderr",
     "output_type": "stream",
     "text": [
      "100%|█████████▉| 999/1000 [00:01<00:00, 638.84it/s]\n"
     ]
    },
    {
     "name": "stdout",
     "output_type": "stream",
     "text": [
      "ending reward: 2718\n",
      "========= End of Episode 117 =========\n",
      "========= Episode 118 =========\n",
      "info: {'total_apple_consumed': 0, 'step_apple_consumed': 0, 'apple': 0, 'dirt': 78, 'picker': 0, 'cleaner': 0, 'total_reward_by_agent': {'9': 0, '3': 0, '2': 0, '5': 0, '8': 0, '7': 0, '4': 0, '0': 0, '6': 0, '1': 0}}\n"
     ]
    },
    {
     "name": "stderr",
     "output_type": "stream",
     "text": [
      "100%|█████████▉| 999/1000 [00:01<00:00, 703.39it/s]\n"
     ]
    },
    {
     "name": "stdout",
     "output_type": "stream",
     "text": [
      "ending reward: 2546\n",
      "========= End of Episode 118 =========\n",
      "========= Episode 119 =========\n",
      "info: {'total_apple_consumed': 0, 'step_apple_consumed': 0, 'apple': 0, 'dirt': 78, 'picker': 0, 'cleaner': 0, 'total_reward_by_agent': {'9': 0, '3': 0, '2': 0, '5': 0, '8': 0, '7': 0, '4': 0, '0': 0, '6': 0, '1': 0}}\n"
     ]
    },
    {
     "name": "stderr",
     "output_type": "stream",
     "text": [
      "100%|█████████▉| 999/1000 [00:01<00:00, 770.94it/s]\n"
     ]
    },
    {
     "name": "stdout",
     "output_type": "stream",
     "text": [
      "ending reward: 2339\n",
      "========= End of Episode 119 =========\n",
      "========= Episode 120 =========\n",
      "info: {'total_apple_consumed': 0, 'step_apple_consumed': 0, 'apple': 0, 'dirt': 78, 'picker': 0, 'cleaner': 0, 'total_reward_by_agent': {'9': 0, '3': 0, '2': 0, '5': 0, '8': 0, '7': 0, '4': 0, '0': 0, '6': 0, '1': 0}}\n"
     ]
    },
    {
     "name": "stderr",
     "output_type": "stream",
     "text": [
      "100%|█████████▉| 999/1000 [00:01<00:00, 703.13it/s]\n"
     ]
    },
    {
     "name": "stdout",
     "output_type": "stream",
     "text": [
      "ending reward: 1942\n",
      "========= End of Episode 120 =========\n",
      "========= Episode 121 =========\n",
      "info: {'total_apple_consumed': 0, 'step_apple_consumed': 0, 'apple': 0, 'dirt': 78, 'picker': 0, 'cleaner': 0, 'total_reward_by_agent': {'9': 0, '3': 0, '2': 0, '5': 0, '8': 0, '7': 0, '4': 0, '0': 0, '6': 0, '1': 0}}\n"
     ]
    },
    {
     "name": "stderr",
     "output_type": "stream",
     "text": [
      "100%|█████████▉| 999/1000 [00:01<00:00, 769.75it/s]\n"
     ]
    },
    {
     "name": "stdout",
     "output_type": "stream",
     "text": [
      "ending reward: 858\n",
      "========= End of Episode 121 =========\n",
      "========= Episode 122 =========\n",
      "info: {'total_apple_consumed': 0, 'step_apple_consumed': 0, 'apple': 0, 'dirt': 78, 'picker': 0, 'cleaner': 0, 'total_reward_by_agent': {'9': 0, '3': 0, '2': 0, '5': 0, '8': 0, '7': 0, '4': 0, '0': 0, '6': 0, '1': 0}}\n"
     ]
    },
    {
     "name": "stderr",
     "output_type": "stream",
     "text": [
      "100%|█████████▉| 999/1000 [00:01<00:00, 777.59it/s]\n"
     ]
    },
    {
     "name": "stdout",
     "output_type": "stream",
     "text": [
      "ending reward: 2582\n",
      "========= End of Episode 122 =========\n",
      "========= Episode 123 =========\n",
      "info: {'total_apple_consumed': 0, 'step_apple_consumed': 0, 'apple': 0, 'dirt': 78, 'picker': 0, 'cleaner': 0, 'total_reward_by_agent': {'9': 0, '3': 0, '2': 0, '5': 0, '8': 0, '7': 0, '4': 0, '0': 0, '6': 0, '1': 0}}\n"
     ]
    },
    {
     "name": "stderr",
     "output_type": "stream",
     "text": [
      "100%|█████████▉| 999/1000 [00:01<00:00, 816.34it/s]\n"
     ]
    },
    {
     "name": "stdout",
     "output_type": "stream",
     "text": [
      "ending reward: 2688\n",
      "========= End of Episode 123 =========\n",
      "========= Episode 124 =========\n",
      "info: {'total_apple_consumed': 0, 'step_apple_consumed': 0, 'apple': 0, 'dirt': 78, 'picker': 0, 'cleaner': 0, 'total_reward_by_agent': {'9': 0, '3': 0, '2': 0, '5': 0, '8': 0, '7': 0, '4': 0, '0': 0, '6': 0, '1': 0}}\n"
     ]
    },
    {
     "name": "stderr",
     "output_type": "stream",
     "text": [
      "100%|█████████▉| 999/1000 [00:01<00:00, 639.78it/s]\n"
     ]
    },
    {
     "name": "stdout",
     "output_type": "stream",
     "text": [
      "ending reward: 2651\n",
      "========= End of Episode 124 =========\n",
      "========= Episode 125 =========\n",
      "info: {'total_apple_consumed': 0, 'step_apple_consumed': 0, 'apple': 0, 'dirt': 78, 'picker': 0, 'cleaner': 0, 'total_reward_by_agent': {'9': 0, '3': 0, '2': 0, '5': 0, '8': 0, '7': 0, '4': 0, '0': 0, '6': 0, '1': 0}}\n"
     ]
    },
    {
     "name": "stderr",
     "output_type": "stream",
     "text": [
      "100%|█████████▉| 999/1000 [00:01<00:00, 604.55it/s]\n"
     ]
    },
    {
     "name": "stdout",
     "output_type": "stream",
     "text": [
      "ending reward: 2477\n",
      "========= End of Episode 125 =========\n",
      "========= Episode 126 =========\n",
      "info: {'total_apple_consumed': 0, 'step_apple_consumed': 0, 'apple': 0, 'dirt': 78, 'picker': 0, 'cleaner': 0, 'total_reward_by_agent': {'9': 0, '3': 0, '2': 0, '5': 0, '8': 0, '7': 0, '4': 0, '0': 0, '6': 0, '1': 0}}\n"
     ]
    },
    {
     "name": "stderr",
     "output_type": "stream",
     "text": [
      "100%|█████████▉| 999/1000 [00:01<00:00, 776.71it/s]\n"
     ]
    },
    {
     "name": "stdout",
     "output_type": "stream",
     "text": [
      "ending reward: 1383\n",
      "========= End of Episode 126 =========\n",
      "========= Episode 127 =========\n",
      "info: {'total_apple_consumed': 0, 'step_apple_consumed': 0, 'apple': 0, 'dirt': 78, 'picker': 0, 'cleaner': 0, 'total_reward_by_agent': {'9': 0, '3': 0, '2': 0, '5': 0, '8': 0, '7': 0, '4': 0, '0': 0, '6': 0, '1': 0}}\n"
     ]
    },
    {
     "name": "stderr",
     "output_type": "stream",
     "text": [
      "100%|█████████▉| 999/1000 [00:01<00:00, 640.28it/s]\n"
     ]
    },
    {
     "name": "stdout",
     "output_type": "stream",
     "text": [
      "ending reward: 2137\n",
      "========= End of Episode 127 =========\n",
      "========= Episode 128 =========\n",
      "info: {'total_apple_consumed': 0, 'step_apple_consumed': 0, 'apple': 0, 'dirt': 78, 'picker': 0, 'cleaner': 0, 'total_reward_by_agent': {'9': 0, '3': 0, '2': 0, '5': 0, '8': 0, '7': 0, '4': 0, '0': 0, '6': 0, '1': 0}}\n"
     ]
    },
    {
     "name": "stderr",
     "output_type": "stream",
     "text": [
      "100%|█████████▉| 999/1000 [00:01<00:00, 624.83it/s]\n"
     ]
    },
    {
     "name": "stdout",
     "output_type": "stream",
     "text": [
      "ending reward: 2769\n",
      "========= End of Episode 128 =========\n",
      "========= Episode 129 =========\n",
      "info: {'total_apple_consumed': 0, 'step_apple_consumed': 0, 'apple': 0, 'dirt': 78, 'picker': 0, 'cleaner': 0, 'total_reward_by_agent': {'9': 0, '3': 0, '2': 0, '5': 0, '8': 0, '7': 0, '4': 0, '0': 0, '6': 0, '1': 0}}\n"
     ]
    },
    {
     "name": "stderr",
     "output_type": "stream",
     "text": [
      "100%|█████████▉| 999/1000 [00:01<00:00, 734.15it/s]\n"
     ]
    },
    {
     "name": "stdout",
     "output_type": "stream",
     "text": [
      "ending reward: 2397\n",
      "========= End of Episode 129 =========\n",
      "========= Episode 130 =========\n",
      "info: {'total_apple_consumed': 0, 'step_apple_consumed': 0, 'apple': 0, 'dirt': 78, 'picker': 0, 'cleaner': 0, 'total_reward_by_agent': {'9': 0, '3': 0, '2': 0, '5': 0, '8': 0, '7': 0, '4': 0, '0': 0, '6': 0, '1': 0}}\n"
     ]
    },
    {
     "name": "stderr",
     "output_type": "stream",
     "text": [
      "100%|█████████▉| 999/1000 [00:01<00:00, 761.91it/s]\n"
     ]
    },
    {
     "name": "stdout",
     "output_type": "stream",
     "text": [
      "ending reward: 840\n",
      "========= End of Episode 130 =========\n",
      "========= Episode 131 =========\n",
      "info: {'total_apple_consumed': 0, 'step_apple_consumed': 0, 'apple': 0, 'dirt': 78, 'picker': 0, 'cleaner': 0, 'total_reward_by_agent': {'9': 0, '3': 0, '2': 0, '5': 0, '8': 0, '7': 0, '4': 0, '0': 0, '6': 0, '1': 0}}\n"
     ]
    },
    {
     "name": "stderr",
     "output_type": "stream",
     "text": [
      "100%|█████████▉| 999/1000 [00:01<00:00, 797.82it/s]\n"
     ]
    },
    {
     "name": "stdout",
     "output_type": "stream",
     "text": [
      "ending reward: 316\n",
      "========= End of Episode 131 =========\n",
      "========= Episode 132 =========\n",
      "info: {'total_apple_consumed': 0, 'step_apple_consumed': 0, 'apple': 0, 'dirt': 78, 'picker': 0, 'cleaner': 0, 'total_reward_by_agent': {'9': 0, '3': 0, '2': 0, '5': 0, '8': 0, '7': 0, '4': 0, '0': 0, '6': 0, '1': 0}}\n"
     ]
    },
    {
     "name": "stderr",
     "output_type": "stream",
     "text": [
      "100%|█████████▉| 999/1000 [00:01<00:00, 831.27it/s]\n"
     ]
    },
    {
     "name": "stdout",
     "output_type": "stream",
     "text": [
      "ending reward: 1146\n",
      "========= End of Episode 132 =========\n",
      "========= Episode 133 =========\n",
      "info: {'total_apple_consumed': 0, 'step_apple_consumed': 0, 'apple': 0, 'dirt': 78, 'picker': 0, 'cleaner': 0, 'total_reward_by_agent': {'9': 0, '3': 0, '2': 0, '5': 0, '8': 0, '7': 0, '4': 0, '0': 0, '6': 0, '1': 0}}\n"
     ]
    },
    {
     "name": "stderr",
     "output_type": "stream",
     "text": [
      "100%|█████████▉| 999/1000 [00:01<00:00, 774.33it/s]\n"
     ]
    },
    {
     "name": "stdout",
     "output_type": "stream",
     "text": [
      "ending reward: 2471\n",
      "========= End of Episode 133 =========\n",
      "========= Episode 134 =========\n",
      "info: {'total_apple_consumed': 0, 'step_apple_consumed': 0, 'apple': 0, 'dirt': 78, 'picker': 0, 'cleaner': 0, 'total_reward_by_agent': {'9': 0, '3': 0, '2': 0, '5': 0, '8': 0, '7': 0, '4': 0, '0': 0, '6': 0, '1': 0}}\n"
     ]
    },
    {
     "name": "stderr",
     "output_type": "stream",
     "text": [
      "100%|█████████▉| 999/1000 [00:01<00:00, 769.37it/s]\n"
     ]
    },
    {
     "name": "stdout",
     "output_type": "stream",
     "text": [
      "ending reward: 2672\n",
      "========= End of Episode 134 =========\n",
      "========= Episode 135 =========\n",
      "info: {'total_apple_consumed': 0, 'step_apple_consumed': 0, 'apple': 0, 'dirt': 78, 'picker': 0, 'cleaner': 0, 'total_reward_by_agent': {'9': 0, '3': 0, '2': 0, '5': 0, '8': 0, '7': 0, '4': 0, '0': 0, '6': 0, '1': 0}}\n"
     ]
    },
    {
     "name": "stderr",
     "output_type": "stream",
     "text": [
      "100%|█████████▉| 999/1000 [00:01<00:00, 669.44it/s]\n"
     ]
    },
    {
     "name": "stdout",
     "output_type": "stream",
     "text": [
      "ending reward: 2444\n",
      "========= End of Episode 135 =========\n",
      "========= Episode 136 =========\n",
      "info: {'total_apple_consumed': 0, 'step_apple_consumed': 0, 'apple': 0, 'dirt': 78, 'picker': 0, 'cleaner': 0, 'total_reward_by_agent': {'9': 0, '3': 0, '2': 0, '5': 0, '8': 0, '7': 0, '4': 0, '0': 0, '6': 0, '1': 0}}\n"
     ]
    },
    {
     "name": "stderr",
     "output_type": "stream",
     "text": [
      "100%|█████████▉| 999/1000 [00:01<00:00, 537.15it/s]\n"
     ]
    },
    {
     "name": "stdout",
     "output_type": "stream",
     "text": [
      "ending reward: 1906\n",
      "========= End of Episode 136 =========\n",
      "========= Episode 137 =========\n",
      "info: {'total_apple_consumed': 0, 'step_apple_consumed': 0, 'apple': 0, 'dirt': 78, 'picker': 0, 'cleaner': 0, 'total_reward_by_agent': {'9': 0, '3': 0, '2': 0, '5': 0, '8': 0, '7': 0, '4': 0, '0': 0, '6': 0, '1': 0}}\n"
     ]
    },
    {
     "name": "stderr",
     "output_type": "stream",
     "text": [
      "100%|█████████▉| 999/1000 [00:02<00:00, 471.79it/s]\n"
     ]
    },
    {
     "name": "stdout",
     "output_type": "stream",
     "text": [
      "ending reward: 577\n",
      "========= End of Episode 137 =========\n",
      "========= Episode 138 =========\n",
      "info: {'total_apple_consumed': 0, 'step_apple_consumed': 0, 'apple': 0, 'dirt': 78, 'picker': 0, 'cleaner': 0, 'total_reward_by_agent': {'9': 0, '3': 0, '2': 0, '5': 0, '8': 0, '7': 0, '4': 0, '0': 0, '6': 0, '1': 0}}\n"
     ]
    },
    {
     "name": "stderr",
     "output_type": "stream",
     "text": [
      "100%|█████████▉| 999/1000 [00:02<00:00, 449.18it/s]\n"
     ]
    },
    {
     "name": "stdout",
     "output_type": "stream",
     "text": [
      "ending reward: 57\n",
      "========= End of Episode 138 =========\n",
      "========= Episode 139 =========\n",
      "info: {'total_apple_consumed': 0, 'step_apple_consumed': 0, 'apple': 0, 'dirt': 78, 'picker': 0, 'cleaner': 0, 'total_reward_by_agent': {'9': 0, '3': 0, '2': 0, '5': 0, '8': 0, '7': 0, '4': 0, '0': 0, '6': 0, '1': 0}}\n"
     ]
    },
    {
     "name": "stderr",
     "output_type": "stream",
     "text": [
      "100%|█████████▉| 999/1000 [00:01<00:00, 518.73it/s]\n"
     ]
    },
    {
     "name": "stdout",
     "output_type": "stream",
     "text": [
      "ending reward: 43\n",
      "========= End of Episode 139 =========\n",
      "========= Episode 140 =========\n",
      "info: {'total_apple_consumed': 0, 'step_apple_consumed': 0, 'apple': 0, 'dirt': 78, 'picker': 0, 'cleaner': 0, 'total_reward_by_agent': {'9': 0, '3': 0, '2': 0, '5': 0, '8': 0, '7': 0, '4': 0, '0': 0, '6': 0, '1': 0}}\n"
     ]
    },
    {
     "name": "stderr",
     "output_type": "stream",
     "text": [
      "100%|█████████▉| 999/1000 [00:02<00:00, 451.00it/s]\n"
     ]
    },
    {
     "name": "stdout",
     "output_type": "stream",
     "text": [
      "ending reward: 43\n",
      "========= End of Episode 140 =========\n",
      "========= Episode 141 =========\n",
      "info: {'total_apple_consumed': 0, 'step_apple_consumed': 0, 'apple': 0, 'dirt': 78, 'picker': 0, 'cleaner': 0, 'total_reward_by_agent': {'9': 0, '3': 0, '2': 0, '5': 0, '8': 0, '7': 0, '4': 0, '0': 0, '6': 0, '1': 0}}\n"
     ]
    },
    {
     "name": "stderr",
     "output_type": "stream",
     "text": [
      "100%|█████████▉| 999/1000 [00:01<00:00, 657.95it/s]\n"
     ]
    },
    {
     "name": "stdout",
     "output_type": "stream",
     "text": [
      "ending reward: 47\n",
      "========= End of Episode 141 =========\n",
      "========= Episode 142 =========\n",
      "info: {'total_apple_consumed': 0, 'step_apple_consumed': 0, 'apple': 0, 'dirt': 78, 'picker': 0, 'cleaner': 0, 'total_reward_by_agent': {'9': 0, '3': 0, '2': 0, '5': 0, '8': 0, '7': 0, '4': 0, '0': 0, '6': 0, '1': 0}}\n"
     ]
    },
    {
     "name": "stderr",
     "output_type": "stream",
     "text": [
      "100%|█████████▉| 999/1000 [00:01<00:00, 734.92it/s]\n"
     ]
    },
    {
     "name": "stdout",
     "output_type": "stream",
     "text": [
      "ending reward: 111\n",
      "========= End of Episode 142 =========\n",
      "========= Episode 143 =========\n",
      "info: {'total_apple_consumed': 0, 'step_apple_consumed': 0, 'apple': 0, 'dirt': 78, 'picker': 0, 'cleaner': 0, 'total_reward_by_agent': {'9': 0, '3': 0, '2': 0, '5': 0, '8': 0, '7': 0, '4': 0, '0': 0, '6': 0, '1': 0}}\n"
     ]
    },
    {
     "name": "stderr",
     "output_type": "stream",
     "text": [
      "100%|█████████▉| 999/1000 [00:01<00:00, 738.85it/s]\n"
     ]
    },
    {
     "name": "stdout",
     "output_type": "stream",
     "text": [
      "ending reward: 1945\n",
      "========= End of Episode 143 =========\n",
      "========= Episode 144 =========\n",
      "info: {'total_apple_consumed': 0, 'step_apple_consumed': 0, 'apple': 0, 'dirt': 78, 'picker': 0, 'cleaner': 0, 'total_reward_by_agent': {'9': 0, '3': 0, '2': 0, '5': 0, '8': 0, '7': 0, '4': 0, '0': 0, '6': 0, '1': 0}}\n"
     ]
    },
    {
     "name": "stderr",
     "output_type": "stream",
     "text": [
      "100%|█████████▉| 999/1000 [00:01<00:00, 609.06it/s]\n"
     ]
    },
    {
     "name": "stdout",
     "output_type": "stream",
     "text": [
      "ending reward: 2061\n",
      "========= End of Episode 144 =========\n",
      "========= Episode 145 =========\n",
      "info: {'total_apple_consumed': 0, 'step_apple_consumed': 0, 'apple': 0, 'dirt': 78, 'picker': 0, 'cleaner': 0, 'total_reward_by_agent': {'9': 0, '3': 0, '2': 0, '5': 0, '8': 0, '7': 0, '4': 0, '0': 0, '6': 0, '1': 0}}\n"
     ]
    },
    {
     "name": "stderr",
     "output_type": "stream",
     "text": [
      "100%|█████████▉| 999/1000 [00:01<00:00, 518.09it/s]\n"
     ]
    },
    {
     "name": "stdout",
     "output_type": "stream",
     "text": [
      "ending reward: 2143\n",
      "========= End of Episode 145 =========\n",
      "========= Episode 146 =========\n",
      "info: {'total_apple_consumed': 0, 'step_apple_consumed': 0, 'apple': 0, 'dirt': 78, 'picker': 0, 'cleaner': 0, 'total_reward_by_agent': {'9': 0, '3': 0, '2': 0, '5': 0, '8': 0, '7': 0, '4': 0, '0': 0, '6': 0, '1': 0}}\n"
     ]
    },
    {
     "name": "stderr",
     "output_type": "stream",
     "text": [
      "100%|█████████▉| 999/1000 [00:01<00:00, 553.17it/s]\n"
     ]
    },
    {
     "name": "stdout",
     "output_type": "stream",
     "text": [
      "ending reward: 1437\n",
      "========= End of Episode 146 =========\n",
      "========= Episode 147 =========\n",
      "info: {'total_apple_consumed': 0, 'step_apple_consumed': 0, 'apple': 0, 'dirt': 78, 'picker': 0, 'cleaner': 0, 'total_reward_by_agent': {'9': 0, '3': 0, '2': 0, '5': 0, '8': 0, '7': 0, '4': 0, '0': 0, '6': 0, '1': 0}}\n"
     ]
    },
    {
     "name": "stderr",
     "output_type": "stream",
     "text": [
      "100%|█████████▉| 999/1000 [00:01<00:00, 619.20it/s]\n"
     ]
    },
    {
     "name": "stdout",
     "output_type": "stream",
     "text": [
      "ending reward: 1014\n",
      "========= End of Episode 147 =========\n",
      "========= Episode 148 =========\n",
      "info: {'total_apple_consumed': 0, 'step_apple_consumed': 0, 'apple': 0, 'dirt': 78, 'picker': 0, 'cleaner': 0, 'total_reward_by_agent': {'9': 0, '3': 0, '2': 0, '5': 0, '8': 0, '7': 0, '4': 0, '0': 0, '6': 0, '1': 0}}\n"
     ]
    },
    {
     "name": "stderr",
     "output_type": "stream",
     "text": [
      "100%|█████████▉| 999/1000 [00:01<00:00, 560.37it/s]\n"
     ]
    },
    {
     "name": "stdout",
     "output_type": "stream",
     "text": [
      "ending reward: 713\n",
      "========= End of Episode 148 =========\n",
      "========= Episode 149 =========\n",
      "info: {'total_apple_consumed': 0, 'step_apple_consumed': 0, 'apple': 0, 'dirt': 78, 'picker': 0, 'cleaner': 0, 'total_reward_by_agent': {'9': 0, '3': 0, '2': 0, '5': 0, '8': 0, '7': 0, '4': 0, '0': 0, '6': 0, '1': 0}}\n"
     ]
    },
    {
     "name": "stderr",
     "output_type": "stream",
     "text": [
      "100%|█████████▉| 999/1000 [00:02<00:00, 476.04it/s]\n"
     ]
    },
    {
     "name": "stdout",
     "output_type": "stream",
     "text": [
      "ending reward: 2302\n",
      "========= End of Episode 149 =========\n",
      "========= Episode 150 =========\n",
      "info: {'total_apple_consumed': 0, 'step_apple_consumed': 0, 'apple': 0, 'dirt': 78, 'picker': 0, 'cleaner': 0, 'total_reward_by_agent': {'9': 0, '3': 0, '2': 0, '5': 0, '8': 0, '7': 0, '4': 0, '0': 0, '6': 0, '1': 0}}\n"
     ]
    },
    {
     "name": "stderr",
     "output_type": "stream",
     "text": [
      "100%|█████████▉| 999/1000 [00:01<00:00, 582.24it/s]\n"
     ]
    },
    {
     "name": "stdout",
     "output_type": "stream",
     "text": [
      "ending reward: 2244\n",
      "========= End of Episode 150 =========\n",
      "========= Episode 151 =========\n",
      "info: {'total_apple_consumed': 0, 'step_apple_consumed': 0, 'apple': 0, 'dirt': 78, 'picker': 0, 'cleaner': 0, 'total_reward_by_agent': {'9': 0, '3': 0, '2': 0, '5': 0, '8': 0, '7': 0, '4': 0, '0': 0, '6': 0, '1': 0}}\n"
     ]
    },
    {
     "name": "stderr",
     "output_type": "stream",
     "text": [
      "100%|█████████▉| 999/1000 [00:01<00:00, 571.42it/s]\n"
     ]
    },
    {
     "name": "stdout",
     "output_type": "stream",
     "text": [
      "ending reward: 2180\n",
      "========= End of Episode 151 =========\n",
      "========= Episode 152 =========\n",
      "info: {'total_apple_consumed': 0, 'step_apple_consumed': 0, 'apple': 0, 'dirt': 78, 'picker': 0, 'cleaner': 0, 'total_reward_by_agent': {'9': 0, '3': 0, '2': 0, '5': 0, '8': 0, '7': 0, '4': 0, '0': 0, '6': 0, '1': 0}}\n"
     ]
    },
    {
     "name": "stderr",
     "output_type": "stream",
     "text": [
      "100%|█████████▉| 999/1000 [00:01<00:00, 558.56it/s]\n"
     ]
    },
    {
     "name": "stdout",
     "output_type": "stream",
     "text": [
      "ending reward: 1598\n",
      "========= End of Episode 152 =========\n",
      "========= Episode 153 =========\n",
      "info: {'total_apple_consumed': 0, 'step_apple_consumed': 0, 'apple': 0, 'dirt': 78, 'picker': 0, 'cleaner': 0, 'total_reward_by_agent': {'9': 0, '3': 0, '2': 0, '5': 0, '8': 0, '7': 0, '4': 0, '0': 0, '6': 0, '1': 0}}\n"
     ]
    },
    {
     "name": "stderr",
     "output_type": "stream",
     "text": [
      "100%|█████████▉| 999/1000 [00:01<00:00, 692.01it/s]\n"
     ]
    },
    {
     "name": "stdout",
     "output_type": "stream",
     "text": [
      "ending reward: 1833\n",
      "========= End of Episode 153 =========\n",
      "========= Episode 154 =========\n",
      "info: {'total_apple_consumed': 0, 'step_apple_consumed': 0, 'apple': 0, 'dirt': 78, 'picker': 0, 'cleaner': 0, 'total_reward_by_agent': {'9': 0, '3': 0, '2': 0, '5': 0, '8': 0, '7': 0, '4': 0, '0': 0, '6': 0, '1': 0}}\n"
     ]
    },
    {
     "name": "stderr",
     "output_type": "stream",
     "text": [
      "100%|█████████▉| 999/1000 [00:01<00:00, 865.71it/s]\n"
     ]
    },
    {
     "name": "stdout",
     "output_type": "stream",
     "text": [
      "ending reward: 2612\n",
      "========= End of Episode 154 =========\n",
      "========= Episode 155 =========\n",
      "info: {'total_apple_consumed': 0, 'step_apple_consumed': 0, 'apple': 0, 'dirt': 78, 'picker': 0, 'cleaner': 0, 'total_reward_by_agent': {'9': 0, '3': 0, '2': 0, '5': 0, '8': 0, '7': 0, '4': 0, '0': 0, '6': 0, '1': 0}}\n"
     ]
    },
    {
     "name": "stderr",
     "output_type": "stream",
     "text": [
      "100%|█████████▉| 999/1000 [00:01<00:00, 814.87it/s]\n"
     ]
    },
    {
     "name": "stdout",
     "output_type": "stream",
     "text": [
      "ending reward: 2431\n",
      "========= End of Episode 155 =========\n",
      "========= Episode 156 =========\n",
      "info: {'total_apple_consumed': 0, 'step_apple_consumed': 0, 'apple': 0, 'dirt': 78, 'picker': 0, 'cleaner': 0, 'total_reward_by_agent': {'9': 0, '3': 0, '2': 0, '5': 0, '8': 0, '7': 0, '4': 0, '0': 0, '6': 0, '1': 0}}\n"
     ]
    },
    {
     "name": "stderr",
     "output_type": "stream",
     "text": [
      "100%|█████████▉| 999/1000 [00:01<00:00, 746.22it/s]\n"
     ]
    },
    {
     "name": "stdout",
     "output_type": "stream",
     "text": [
      "ending reward: 1374\n",
      "========= End of Episode 156 =========\n",
      "========= Episode 157 =========\n",
      "info: {'total_apple_consumed': 0, 'step_apple_consumed': 0, 'apple': 0, 'dirt': 78, 'picker': 0, 'cleaner': 0, 'total_reward_by_agent': {'9': 0, '3': 0, '2': 0, '5': 0, '8': 0, '7': 0, '4': 0, '0': 0, '6': 0, '1': 0}}\n"
     ]
    },
    {
     "name": "stderr",
     "output_type": "stream",
     "text": [
      "100%|█████████▉| 999/1000 [00:01<00:00, 857.70it/s]\n"
     ]
    },
    {
     "name": "stdout",
     "output_type": "stream",
     "text": [
      "ending reward: 1467\n",
      "========= End of Episode 157 =========\n",
      "========= Episode 158 =========\n",
      "info: {'total_apple_consumed': 0, 'step_apple_consumed': 0, 'apple': 0, 'dirt': 78, 'picker': 0, 'cleaner': 0, 'total_reward_by_agent': {'9': 0, '3': 0, '2': 0, '5': 0, '8': 0, '7': 0, '4': 0, '0': 0, '6': 0, '1': 0}}\n"
     ]
    },
    {
     "name": "stderr",
     "output_type": "stream",
     "text": [
      "100%|█████████▉| 999/1000 [00:01<00:00, 819.81it/s]\n"
     ]
    },
    {
     "name": "stdout",
     "output_type": "stream",
     "text": [
      "ending reward: 2323\n",
      "========= End of Episode 158 =========\n",
      "========= Episode 159 =========\n",
      "info: {'total_apple_consumed': 0, 'step_apple_consumed': 0, 'apple': 0, 'dirt': 78, 'picker': 0, 'cleaner': 0, 'total_reward_by_agent': {'9': 0, '3': 0, '2': 0, '5': 0, '8': 0, '7': 0, '4': 0, '0': 0, '6': 0, '1': 0}}\n"
     ]
    },
    {
     "name": "stderr",
     "output_type": "stream",
     "text": [
      "100%|█████████▉| 999/1000 [00:01<00:00, 692.69it/s]\n"
     ]
    },
    {
     "name": "stdout",
     "output_type": "stream",
     "text": [
      "ending reward: 1796\n",
      "========= End of Episode 159 =========\n",
      "========= Episode 160 =========\n",
      "info: {'total_apple_consumed': 0, 'step_apple_consumed': 0, 'apple': 0, 'dirt': 78, 'picker': 0, 'cleaner': 0, 'total_reward_by_agent': {'9': 0, '3': 0, '2': 0, '5': 0, '8': 0, '7': 0, '4': 0, '0': 0, '6': 0, '1': 0}}\n"
     ]
    },
    {
     "name": "stderr",
     "output_type": "stream",
     "text": [
      "100%|█████████▉| 999/1000 [00:01<00:00, 819.46it/s]\n"
     ]
    },
    {
     "name": "stdout",
     "output_type": "stream",
     "text": [
      "ending reward: 1811\n",
      "========= End of Episode 160 =========\n",
      "========= Episode 161 =========\n",
      "info: {'total_apple_consumed': 0, 'step_apple_consumed': 0, 'apple': 0, 'dirt': 78, 'picker': 0, 'cleaner': 0, 'total_reward_by_agent': {'9': 0, '3': 0, '2': 0, '5': 0, '8': 0, '7': 0, '4': 0, '0': 0, '6': 0, '1': 0}}\n"
     ]
    },
    {
     "name": "stderr",
     "output_type": "stream",
     "text": [
      "100%|█████████▉| 999/1000 [00:01<00:00, 625.40it/s]\n"
     ]
    },
    {
     "name": "stdout",
     "output_type": "stream",
     "text": [
      "ending reward: 2135\n",
      "========= End of Episode 161 =========\n",
      "========= Episode 162 =========\n",
      "info: {'total_apple_consumed': 0, 'step_apple_consumed': 0, 'apple': 0, 'dirt': 78, 'picker': 0, 'cleaner': 0, 'total_reward_by_agent': {'9': 0, '3': 0, '2': 0, '5': 0, '8': 0, '7': 0, '4': 0, '0': 0, '6': 0, '1': 0}}\n"
     ]
    },
    {
     "name": "stderr",
     "output_type": "stream",
     "text": [
      "100%|█████████▉| 999/1000 [00:01<00:00, 747.87it/s]\n"
     ]
    },
    {
     "name": "stdout",
     "output_type": "stream",
     "text": [
      "ending reward: 2008\n",
      "========= End of Episode 162 =========\n",
      "========= Episode 163 =========\n",
      "info: {'total_apple_consumed': 0, 'step_apple_consumed': 0, 'apple': 0, 'dirt': 78, 'picker': 0, 'cleaner': 0, 'total_reward_by_agent': {'9': 0, '3': 0, '2': 0, '5': 0, '8': 0, '7': 0, '4': 0, '0': 0, '6': 0, '1': 0}}\n"
     ]
    },
    {
     "name": "stderr",
     "output_type": "stream",
     "text": [
      "100%|█████████▉| 999/1000 [00:01<00:00, 867.45it/s]\n"
     ]
    },
    {
     "name": "stdout",
     "output_type": "stream",
     "text": [
      "ending reward: 1476\n",
      "========= End of Episode 163 =========\n",
      "========= Episode 164 =========\n",
      "info: {'total_apple_consumed': 0, 'step_apple_consumed': 0, 'apple': 0, 'dirt': 78, 'picker': 0, 'cleaner': 0, 'total_reward_by_agent': {'9': 0, '3': 0, '2': 0, '5': 0, '8': 0, '7': 0, '4': 0, '0': 0, '6': 0, '1': 0}}\n"
     ]
    },
    {
     "name": "stderr",
     "output_type": "stream",
     "text": [
      "100%|█████████▉| 999/1000 [00:01<00:00, 645.74it/s]\n"
     ]
    },
    {
     "name": "stdout",
     "output_type": "stream",
     "text": [
      "ending reward: 82\n",
      "========= End of Episode 164 =========\n",
      "========= Episode 165 =========\n",
      "info: {'total_apple_consumed': 0, 'step_apple_consumed': 0, 'apple': 0, 'dirt': 78, 'picker': 0, 'cleaner': 0, 'total_reward_by_agent': {'9': 0, '3': 0, '2': 0, '5': 0, '8': 0, '7': 0, '4': 0, '0': 0, '6': 0, '1': 0}}\n"
     ]
    },
    {
     "name": "stderr",
     "output_type": "stream",
     "text": [
      "100%|█████████▉| 999/1000 [00:01<00:00, 683.70it/s]\n"
     ]
    },
    {
     "name": "stdout",
     "output_type": "stream",
     "text": [
      "ending reward: 39\n",
      "========= End of Episode 165 =========\n",
      "========= Episode 166 =========\n",
      "info: {'total_apple_consumed': 0, 'step_apple_consumed': 0, 'apple': 0, 'dirt': 78, 'picker': 0, 'cleaner': 0, 'total_reward_by_agent': {'9': 0, '3': 0, '2': 0, '5': 0, '8': 0, '7': 0, '4': 0, '0': 0, '6': 0, '1': 0}}\n"
     ]
    },
    {
     "name": "stderr",
     "output_type": "stream",
     "text": [
      "100%|█████████▉| 999/1000 [00:01<00:00, 688.29it/s]\n"
     ]
    },
    {
     "name": "stdout",
     "output_type": "stream",
     "text": [
      "ending reward: 298\n",
      "========= End of Episode 166 =========\n",
      "========= Episode 167 =========\n",
      "info: {'total_apple_consumed': 0, 'step_apple_consumed': 0, 'apple': 0, 'dirt': 78, 'picker': 0, 'cleaner': 0, 'total_reward_by_agent': {'9': 0, '3': 0, '2': 0, '5': 0, '8': 0, '7': 0, '4': 0, '0': 0, '6': 0, '1': 0}}\n"
     ]
    },
    {
     "name": "stderr",
     "output_type": "stream",
     "text": [
      "100%|█████████▉| 999/1000 [00:01<00:00, 635.97it/s]\n"
     ]
    },
    {
     "name": "stdout",
     "output_type": "stream",
     "text": [
      "ending reward: 1843\n",
      "========= End of Episode 167 =========\n",
      "========= Episode 168 =========\n",
      "info: {'total_apple_consumed': 0, 'step_apple_consumed': 0, 'apple': 0, 'dirt': 78, 'picker': 0, 'cleaner': 0, 'total_reward_by_agent': {'9': 0, '3': 0, '2': 0, '5': 0, '8': 0, '7': 0, '4': 0, '0': 0, '6': 0, '1': 0}}\n"
     ]
    },
    {
     "name": "stderr",
     "output_type": "stream",
     "text": [
      "100%|█████████▉| 999/1000 [00:01<00:00, 657.16it/s]\n"
     ]
    },
    {
     "name": "stdout",
     "output_type": "stream",
     "text": [
      "ending reward: 1862\n",
      "========= End of Episode 168 =========\n",
      "========= Episode 169 =========\n",
      "info: {'total_apple_consumed': 0, 'step_apple_consumed': 0, 'apple': 0, 'dirt': 78, 'picker': 0, 'cleaner': 0, 'total_reward_by_agent': {'9': 0, '3': 0, '2': 0, '5': 0, '8': 0, '7': 0, '4': 0, '0': 0, '6': 0, '1': 0}}\n"
     ]
    },
    {
     "name": "stderr",
     "output_type": "stream",
     "text": [
      "100%|█████████▉| 999/1000 [00:01<00:00, 626.72it/s]\n"
     ]
    },
    {
     "name": "stdout",
     "output_type": "stream",
     "text": [
      "ending reward: 1746\n",
      "========= End of Episode 169 =========\n",
      "========= Episode 170 =========\n",
      "info: {'total_apple_consumed': 0, 'step_apple_consumed': 0, 'apple': 0, 'dirt': 78, 'picker': 0, 'cleaner': 0, 'total_reward_by_agent': {'9': 0, '3': 0, '2': 0, '5': 0, '8': 0, '7': 0, '4': 0, '0': 0, '6': 0, '1': 0}}\n"
     ]
    },
    {
     "name": "stderr",
     "output_type": "stream",
     "text": [
      "100%|█████████▉| 999/1000 [00:01<00:00, 634.83it/s]\n"
     ]
    },
    {
     "name": "stdout",
     "output_type": "stream",
     "text": [
      "ending reward: 1633\n",
      "========= End of Episode 170 =========\n",
      "========= Episode 171 =========\n",
      "info: {'total_apple_consumed': 0, 'step_apple_consumed': 0, 'apple': 0, 'dirt': 78, 'picker': 0, 'cleaner': 0, 'total_reward_by_agent': {'9': 0, '3': 0, '2': 0, '5': 0, '8': 0, '7': 0, '4': 0, '0': 0, '6': 0, '1': 0}}\n"
     ]
    },
    {
     "name": "stderr",
     "output_type": "stream",
     "text": [
      "100%|█████████▉| 999/1000 [00:01<00:00, 675.73it/s]\n"
     ]
    },
    {
     "name": "stdout",
     "output_type": "stream",
     "text": [
      "ending reward: 910\n",
      "========= End of Episode 171 =========\n",
      "========= Episode 172 =========\n",
      "info: {'total_apple_consumed': 0, 'step_apple_consumed': 0, 'apple': 0, 'dirt': 78, 'picker': 0, 'cleaner': 0, 'total_reward_by_agent': {'9': 0, '3': 0, '2': 0, '5': 0, '8': 0, '7': 0, '4': 0, '0': 0, '6': 0, '1': 0}}\n"
     ]
    },
    {
     "name": "stderr",
     "output_type": "stream",
     "text": [
      "100%|█████████▉| 999/1000 [00:02<00:00, 392.47it/s]\n"
     ]
    },
    {
     "name": "stdout",
     "output_type": "stream",
     "text": [
      "ending reward: 1724\n",
      "========= End of Episode 172 =========\n",
      "========= Episode 173 =========\n",
      "info: {'total_apple_consumed': 0, 'step_apple_consumed': 0, 'apple': 0, 'dirt': 78, 'picker': 0, 'cleaner': 0, 'total_reward_by_agent': {'9': 0, '3': 0, '2': 0, '5': 0, '8': 0, '7': 0, '4': 0, '0': 0, '6': 0, '1': 0}}\n"
     ]
    },
    {
     "name": "stderr",
     "output_type": "stream",
     "text": [
      "100%|█████████▉| 999/1000 [00:01<00:00, 694.09it/s]\n"
     ]
    },
    {
     "name": "stdout",
     "output_type": "stream",
     "text": [
      "ending reward: 2320\n",
      "========= End of Episode 173 =========\n",
      "========= Episode 174 =========\n",
      "info: {'total_apple_consumed': 0, 'step_apple_consumed': 0, 'apple': 0, 'dirt': 78, 'picker': 0, 'cleaner': 0, 'total_reward_by_agent': {'9': 0, '3': 0, '2': 0, '5': 0, '8': 0, '7': 0, '4': 0, '0': 0, '6': 0, '1': 0}}\n"
     ]
    },
    {
     "name": "stderr",
     "output_type": "stream",
     "text": [
      "100%|█████████▉| 999/1000 [00:01<00:00, 554.20it/s]\n"
     ]
    },
    {
     "name": "stdout",
     "output_type": "stream",
     "text": [
      "ending reward: 2284\n",
      "========= End of Episode 174 =========\n",
      "========= Episode 175 =========\n",
      "info: {'total_apple_consumed': 0, 'step_apple_consumed': 0, 'apple': 0, 'dirt': 78, 'picker': 0, 'cleaner': 0, 'total_reward_by_agent': {'9': 0, '3': 0, '2': 0, '5': 0, '8': 0, '7': 0, '4': 0, '0': 0, '6': 0, '1': 0}}\n"
     ]
    },
    {
     "name": "stderr",
     "output_type": "stream",
     "text": [
      "100%|█████████▉| 999/1000 [00:02<00:00, 492.05it/s]\n"
     ]
    },
    {
     "name": "stdout",
     "output_type": "stream",
     "text": [
      "ending reward: 1190\n",
      "========= End of Episode 175 =========\n",
      "========= Episode 176 =========\n",
      "info: {'total_apple_consumed': 0, 'step_apple_consumed': 0, 'apple': 0, 'dirt': 78, 'picker': 0, 'cleaner': 0, 'total_reward_by_agent': {'9': 0, '3': 0, '2': 0, '5': 0, '8': 0, '7': 0, '4': 0, '0': 0, '6': 0, '1': 0}}\n"
     ]
    },
    {
     "name": "stderr",
     "output_type": "stream",
     "text": [
      "100%|█████████▉| 999/1000 [00:02<00:00, 486.41it/s]\n"
     ]
    },
    {
     "name": "stdout",
     "output_type": "stream",
     "text": [
      "ending reward: 2017\n",
      "========= End of Episode 176 =========\n",
      "========= Episode 177 =========\n",
      "info: {'total_apple_consumed': 0, 'step_apple_consumed': 0, 'apple': 0, 'dirt': 78, 'picker': 0, 'cleaner': 0, 'total_reward_by_agent': {'9': 0, '3': 0, '2': 0, '5': 0, '8': 0, '7': 0, '4': 0, '0': 0, '6': 0, '1': 0}}\n"
     ]
    },
    {
     "name": "stderr",
     "output_type": "stream",
     "text": [
      "100%|█████████▉| 999/1000 [00:01<00:00, 540.74it/s]\n"
     ]
    },
    {
     "name": "stdout",
     "output_type": "stream",
     "text": [
      "ending reward: 2407\n",
      "========= End of Episode 177 =========\n",
      "========= Episode 178 =========\n",
      "info: {'total_apple_consumed': 0, 'step_apple_consumed': 0, 'apple': 0, 'dirt': 78, 'picker': 0, 'cleaner': 0, 'total_reward_by_agent': {'9': 0, '3': 0, '2': 0, '5': 0, '8': 0, '7': 0, '4': 0, '0': 0, '6': 0, '1': 0}}\n"
     ]
    },
    {
     "name": "stderr",
     "output_type": "stream",
     "text": [
      "100%|█████████▉| 999/1000 [00:01<00:00, 548.02it/s]\n"
     ]
    },
    {
     "name": "stdout",
     "output_type": "stream",
     "text": [
      "ending reward: 1157\n",
      "========= End of Episode 178 =========\n",
      "========= Episode 179 =========\n",
      "info: {'total_apple_consumed': 0, 'step_apple_consumed': 0, 'apple': 0, 'dirt': 78, 'picker': 0, 'cleaner': 0, 'total_reward_by_agent': {'9': 0, '3': 0, '2': 0, '5': 0, '8': 0, '7': 0, '4': 0, '0': 0, '6': 0, '1': 0}}\n"
     ]
    },
    {
     "name": "stderr",
     "output_type": "stream",
     "text": [
      "100%|█████████▉| 999/1000 [00:01<00:00, 685.83it/s]\n"
     ]
    },
    {
     "name": "stdout",
     "output_type": "stream",
     "text": [
      "ending reward: 2468\n",
      "========= End of Episode 179 =========\n",
      "========= Episode 180 =========\n",
      "info: {'total_apple_consumed': 0, 'step_apple_consumed': 0, 'apple': 0, 'dirt': 78, 'picker': 0, 'cleaner': 0, 'total_reward_by_agent': {'9': 0, '3': 0, '2': 0, '5': 0, '8': 0, '7': 0, '4': 0, '0': 0, '6': 0, '1': 0}}\n"
     ]
    },
    {
     "name": "stderr",
     "output_type": "stream",
     "text": [
      "100%|█████████▉| 999/1000 [00:01<00:00, 725.97it/s]\n"
     ]
    },
    {
     "name": "stdout",
     "output_type": "stream",
     "text": [
      "ending reward: 2543\n",
      "========= End of Episode 180 =========\n",
      "========= Episode 181 =========\n",
      "info: {'total_apple_consumed': 0, 'step_apple_consumed': 0, 'apple': 0, 'dirt': 78, 'picker': 0, 'cleaner': 0, 'total_reward_by_agent': {'9': 0, '3': 0, '2': 0, '5': 0, '8': 0, '7': 0, '4': 0, '0': 0, '6': 0, '1': 0}}\n"
     ]
    },
    {
     "name": "stderr",
     "output_type": "stream",
     "text": [
      "100%|█████████▉| 999/1000 [00:01<00:00, 684.66it/s]\n"
     ]
    },
    {
     "name": "stdout",
     "output_type": "stream",
     "text": [
      "ending reward: 2055\n",
      "========= End of Episode 181 =========\n",
      "========= Episode 182 =========\n",
      "info: {'total_apple_consumed': 0, 'step_apple_consumed': 0, 'apple': 0, 'dirt': 78, 'picker': 0, 'cleaner': 0, 'total_reward_by_agent': {'9': 0, '3': 0, '2': 0, '5': 0, '8': 0, '7': 0, '4': 0, '0': 0, '6': 0, '1': 0}}\n"
     ]
    },
    {
     "name": "stderr",
     "output_type": "stream",
     "text": [
      "100%|█████████▉| 999/1000 [00:01<00:00, 657.43it/s]\n"
     ]
    },
    {
     "name": "stdout",
     "output_type": "stream",
     "text": [
      "ending reward: 2092\n",
      "========= End of Episode 182 =========\n",
      "========= Episode 183 =========\n",
      "info: {'total_apple_consumed': 0, 'step_apple_consumed': 0, 'apple': 0, 'dirt': 78, 'picker': 0, 'cleaner': 0, 'total_reward_by_agent': {'9': 0, '3': 0, '2': 0, '5': 0, '8': 0, '7': 0, '4': 0, '0': 0, '6': 0, '1': 0}}\n"
     ]
    },
    {
     "name": "stderr",
     "output_type": "stream",
     "text": [
      "100%|█████████▉| 999/1000 [00:01<00:00, 662.34it/s]\n"
     ]
    },
    {
     "name": "stdout",
     "output_type": "stream",
     "text": [
      "ending reward: 2088\n",
      "========= End of Episode 183 =========\n",
      "========= Episode 184 =========\n",
      "info: {'total_apple_consumed': 0, 'step_apple_consumed': 0, 'apple': 0, 'dirt': 78, 'picker': 0, 'cleaner': 0, 'total_reward_by_agent': {'9': 0, '3': 0, '2': 0, '5': 0, '8': 0, '7': 0, '4': 0, '0': 0, '6': 0, '1': 0}}\n"
     ]
    },
    {
     "name": "stderr",
     "output_type": "stream",
     "text": [
      "100%|█████████▉| 999/1000 [00:01<00:00, 594.81it/s]\n"
     ]
    },
    {
     "name": "stdout",
     "output_type": "stream",
     "text": [
      "ending reward: 1794\n",
      "========= End of Episode 184 =========\n",
      "========= Episode 185 =========\n",
      "info: {'total_apple_consumed': 0, 'step_apple_consumed': 0, 'apple': 0, 'dirt': 78, 'picker': 0, 'cleaner': 0, 'total_reward_by_agent': {'9': 0, '3': 0, '2': 0, '5': 0, '8': 0, '7': 0, '4': 0, '0': 0, '6': 0, '1': 0}}\n"
     ]
    },
    {
     "name": "stderr",
     "output_type": "stream",
     "text": [
      "100%|█████████▉| 999/1000 [00:01<00:00, 817.57it/s]\n"
     ]
    },
    {
     "name": "stdout",
     "output_type": "stream",
     "text": [
      "ending reward: 2594\n",
      "========= End of Episode 185 =========\n",
      "========= Episode 186 =========\n",
      "info: {'total_apple_consumed': 0, 'step_apple_consumed': 0, 'apple': 0, 'dirt': 78, 'picker': 0, 'cleaner': 0, 'total_reward_by_agent': {'9': 0, '3': 0, '2': 0, '5': 0, '8': 0, '7': 0, '4': 0, '0': 0, '6': 0, '1': 0}}\n"
     ]
    },
    {
     "name": "stderr",
     "output_type": "stream",
     "text": [
      "100%|█████████▉| 999/1000 [00:01<00:00, 719.61it/s]\n"
     ]
    },
    {
     "name": "stdout",
     "output_type": "stream",
     "text": [
      "ending reward: 2245\n",
      "========= End of Episode 186 =========\n",
      "========= Episode 187 =========\n",
      "info: {'total_apple_consumed': 0, 'step_apple_consumed': 0, 'apple': 0, 'dirt': 78, 'picker': 0, 'cleaner': 0, 'total_reward_by_agent': {'9': 0, '3': 0, '2': 0, '5': 0, '8': 0, '7': 0, '4': 0, '0': 0, '6': 0, '1': 0}}\n"
     ]
    },
    {
     "name": "stderr",
     "output_type": "stream",
     "text": [
      "100%|█████████▉| 999/1000 [00:01<00:00, 755.90it/s]\n"
     ]
    },
    {
     "name": "stdout",
     "output_type": "stream",
     "text": [
      "ending reward: 1393\n",
      "========= End of Episode 187 =========\n",
      "========= Episode 188 =========\n",
      "info: {'total_apple_consumed': 0, 'step_apple_consumed': 0, 'apple': 0, 'dirt': 78, 'picker': 0, 'cleaner': 0, 'total_reward_by_agent': {'9': 0, '3': 0, '2': 0, '5': 0, '8': 0, '7': 0, '4': 0, '0': 0, '6': 0, '1': 0}}\n"
     ]
    },
    {
     "name": "stderr",
     "output_type": "stream",
     "text": [
      "100%|█████████▉| 999/1000 [00:01<00:00, 684.15it/s]\n"
     ]
    },
    {
     "name": "stdout",
     "output_type": "stream",
     "text": [
      "ending reward: 2620\n",
      "========= End of Episode 188 =========\n",
      "========= Episode 189 =========\n",
      "info: {'total_apple_consumed': 0, 'step_apple_consumed': 0, 'apple': 0, 'dirt': 78, 'picker': 0, 'cleaner': 0, 'total_reward_by_agent': {'9': 0, '3': 0, '2': 0, '5': 0, '8': 0, '7': 0, '4': 0, '0': 0, '6': 0, '1': 0}}\n"
     ]
    },
    {
     "name": "stderr",
     "output_type": "stream",
     "text": [
      "100%|█████████▉| 999/1000 [00:01<00:00, 699.45it/s]\n"
     ]
    },
    {
     "name": "stdout",
     "output_type": "stream",
     "text": [
      "ending reward: 2669\n",
      "========= End of Episode 189 =========\n",
      "========= Episode 190 =========\n",
      "info: {'total_apple_consumed': 0, 'step_apple_consumed': 0, 'apple': 0, 'dirt': 78, 'picker': 0, 'cleaner': 0, 'total_reward_by_agent': {'9': 0, '3': 0, '2': 0, '5': 0, '8': 0, '7': 0, '4': 0, '0': 0, '6': 0, '1': 0}}\n"
     ]
    },
    {
     "name": "stderr",
     "output_type": "stream",
     "text": [
      "100%|█████████▉| 999/1000 [00:01<00:00, 655.39it/s]\n"
     ]
    },
    {
     "name": "stdout",
     "output_type": "stream",
     "text": [
      "ending reward: 1845\n",
      "========= End of Episode 190 =========\n",
      "========= Episode 191 =========\n",
      "info: {'total_apple_consumed': 0, 'step_apple_consumed': 0, 'apple': 0, 'dirt': 78, 'picker': 0, 'cleaner': 0, 'total_reward_by_agent': {'9': 0, '3': 0, '2': 0, '5': 0, '8': 0, '7': 0, '4': 0, '0': 0, '6': 0, '1': 0}}\n"
     ]
    },
    {
     "name": "stderr",
     "output_type": "stream",
     "text": [
      "100%|█████████▉| 999/1000 [00:01<00:00, 607.23it/s]\n"
     ]
    },
    {
     "name": "stdout",
     "output_type": "stream",
     "text": [
      "ending reward: 2490\n",
      "========= End of Episode 191 =========\n",
      "========= Episode 192 =========\n",
      "info: {'total_apple_consumed': 0, 'step_apple_consumed': 0, 'apple': 0, 'dirt': 78, 'picker': 0, 'cleaner': 0, 'total_reward_by_agent': {'9': 0, '3': 0, '2': 0, '5': 0, '8': 0, '7': 0, '4': 0, '0': 0, '6': 0, '1': 0}}\n"
     ]
    },
    {
     "name": "stderr",
     "output_type": "stream",
     "text": [
      "100%|█████████▉| 999/1000 [00:01<00:00, 696.88it/s]\n"
     ]
    },
    {
     "name": "stdout",
     "output_type": "stream",
     "text": [
      "ending reward: 2725\n",
      "========= End of Episode 192 =========\n",
      "========= Episode 193 =========\n",
      "info: {'total_apple_consumed': 0, 'step_apple_consumed': 0, 'apple': 0, 'dirt': 78, 'picker': 0, 'cleaner': 0, 'total_reward_by_agent': {'9': 0, '3': 0, '2': 0, '5': 0, '8': 0, '7': 0, '4': 0, '0': 0, '6': 0, '1': 0}}\n"
     ]
    },
    {
     "name": "stderr",
     "output_type": "stream",
     "text": [
      "100%|█████████▉| 999/1000 [00:02<00:00, 462.27it/s]\n"
     ]
    },
    {
     "name": "stdout",
     "output_type": "stream",
     "text": [
      "ending reward: 1750\n",
      "========= End of Episode 193 =========\n",
      "========= Episode 194 =========\n",
      "info: {'total_apple_consumed': 0, 'step_apple_consumed': 0, 'apple': 0, 'dirt': 78, 'picker': 0, 'cleaner': 0, 'total_reward_by_agent': {'9': 0, '3': 0, '2': 0, '5': 0, '8': 0, '7': 0, '4': 0, '0': 0, '6': 0, '1': 0}}\n"
     ]
    },
    {
     "name": "stderr",
     "output_type": "stream",
     "text": [
      "100%|█████████▉| 999/1000 [00:01<00:00, 564.36it/s]\n"
     ]
    },
    {
     "name": "stdout",
     "output_type": "stream",
     "text": [
      "ending reward: 1963\n",
      "========= End of Episode 194 =========\n",
      "========= Episode 195 =========\n",
      "info: {'total_apple_consumed': 0, 'step_apple_consumed': 0, 'apple': 0, 'dirt': 78, 'picker': 0, 'cleaner': 0, 'total_reward_by_agent': {'9': 0, '3': 0, '2': 0, '5': 0, '8': 0, '7': 0, '4': 0, '0': 0, '6': 0, '1': 0}}\n"
     ]
    },
    {
     "name": "stderr",
     "output_type": "stream",
     "text": [
      "100%|█████████▉| 999/1000 [00:01<00:00, 581.53it/s]\n"
     ]
    },
    {
     "name": "stdout",
     "output_type": "stream",
     "text": [
      "ending reward: 2432\n",
      "========= End of Episode 195 =========\n",
      "========= Episode 196 =========\n",
      "info: {'total_apple_consumed': 0, 'step_apple_consumed': 0, 'apple': 0, 'dirt': 78, 'picker': 0, 'cleaner': 0, 'total_reward_by_agent': {'9': 0, '3': 0, '2': 0, '5': 0, '8': 0, '7': 0, '4': 0, '0': 0, '6': 0, '1': 0}}\n"
     ]
    },
    {
     "name": "stderr",
     "output_type": "stream",
     "text": [
      "100%|█████████▉| 999/1000 [00:01<00:00, 688.95it/s]\n"
     ]
    },
    {
     "name": "stdout",
     "output_type": "stream",
     "text": [
      "ending reward: 2125\n",
      "========= End of Episode 196 =========\n",
      "========= Episode 197 =========\n",
      "info: {'total_apple_consumed': 0, 'step_apple_consumed': 0, 'apple': 0, 'dirt': 78, 'picker': 0, 'cleaner': 0, 'total_reward_by_agent': {'9': 0, '3': 0, '2': 0, '5': 0, '8': 0, '7': 0, '4': 0, '0': 0, '6': 0, '1': 0}}\n"
     ]
    },
    {
     "name": "stderr",
     "output_type": "stream",
     "text": [
      "100%|█████████▉| 999/1000 [00:02<00:00, 450.79it/s]\n"
     ]
    },
    {
     "name": "stdout",
     "output_type": "stream",
     "text": [
      "ending reward: 1633\n",
      "========= End of Episode 197 =========\n",
      "========= Episode 198 =========\n",
      "info: {'total_apple_consumed': 0, 'step_apple_consumed': 0, 'apple': 0, 'dirt': 78, 'picker': 0, 'cleaner': 0, 'total_reward_by_agent': {'9': 0, '3': 0, '2': 0, '5': 0, '8': 0, '7': 0, '4': 0, '0': 0, '6': 0, '1': 0}}\n"
     ]
    },
    {
     "name": "stderr",
     "output_type": "stream",
     "text": [
      "100%|█████████▉| 999/1000 [00:01<00:00, 526.96it/s]\n"
     ]
    },
    {
     "name": "stdout",
     "output_type": "stream",
     "text": [
      "ending reward: 989\n",
      "========= End of Episode 198 =========\n",
      "========= Episode 199 =========\n",
      "info: {'total_apple_consumed': 0, 'step_apple_consumed': 0, 'apple': 0, 'dirt': 78, 'picker': 0, 'cleaner': 0, 'total_reward_by_agent': {'9': 0, '3': 0, '2': 0, '5': 0, '8': 0, '7': 0, '4': 0, '0': 0, '6': 0, '1': 0}}\n"
     ]
    },
    {
     "name": "stderr",
     "output_type": "stream",
     "text": [
      "100%|█████████▉| 999/1000 [00:01<00:00, 568.09it/s]"
     ]
    },
    {
     "name": "stdout",
     "output_type": "stream",
     "text": [
      "ending reward: 1923\n",
      "========= End of Episode 199 =========\n"
     ]
    },
    {
     "name": "stderr",
     "output_type": "stream",
     "text": [
      "\n"
     ]
    }
   ],
   "source": [
    "for episode in range(num_episodes):\n",
    "    print(f\"========= Episode {episode} =========\")\n",
    "    f.write(f\"========= Episode {episode} =========\\n\")\n",
    "\n",
    "    states, info = env.reset()\n",
    "    #states = np.concatenate(list(states.values()), axis=0)\n",
    "    state = states[agent_ids[0]]\n",
    "    num_apples, num_dirt, num_picker, num_cleaner = state\n",
    "    #state = np.array([num_apples / num_dirt, num_picker, num_cleaner])\n",
    "    state = np.array([num_apples / (num_picker + 1e-7), num_dirt / (num_cleaner + 1e-7), num_apples, num_dirt])\n",
    "\n",
    "    print(f\"info: {info}\")\n",
    "    f.write(f\"info: {info}\\n\")\n",
    "\n",
    "    for step in tqdm(range(max_steps_per_episode)):\n",
    "        actions_list = agentCoordinator.act(state)[0]\n",
    "        actions = {agent_id: actions_list[i] for i, agent_id in enumerate(agent_ids)}\n",
    "        next_states, rewards, dones, _, info = env.step(actions)\n",
    "        #next_states = np.concatenate(list(next_states.values()), axis=0)\n",
    "        next_state = next_states[agent_ids[0]]\n",
    "        num_apples, num_dirt, num_picker, num_cleaner = next_state\n",
    "        #next_state = np.array([num_apples / num_dirt, num_picker, num_cleaner])\n",
    "        next_state = np.array([num_apples / (num_picker + 1e-7), num_dirt / (num_cleaner + 1e-7), num_apples, num_dirt])\n",
    "        reward = sum(rewards.values())\n",
    "        #reward_graph.append(reward)\n",
    "        agentCoordinator.step(state, actions_list, reward, next_state)\n",
    "\n",
    "        if episode > verbose_episode:\n",
    "            print(f\"========= Step {step} =========\")\n",
    "            print(f\"info: {info}\")\n",
    "            f.write(f\"========= Step {step} =========\\n\")\n",
    "            f.write(f\"info: {info}\\n\")\n",
    "\n",
    "        state = next_state\n",
    "\n",
    "        if dones[\"__all__\"]:\n",
    "            break \n",
    "\n",
    "    ending_reward = info[\"total_apple_consumed\"]\n",
    "\n",
    "    print(f\"ending reward: {ending_reward}\")\n",
    "    #print(f\"reward graph: {reward_graph}\")\n",
    "    print(f\"========= End of Episode {episode} =========\")\n",
    "    \n",
    "    f.write(f\"ending reward: {ending_reward}\\n\")\n",
    "    #f.write(f\"reward graph: {reward_graph}\\n\")\n",
    "    f.write(f\"========= End of Episode {episode} =========\\n\")\n",
    "\n",
    "    ending_ep_rewards.append(ending_reward)\n",
    "\n",
    "    if ending_reward > 5000 and ending_ep_rewards[-2] > 5000 and agentCoordinator.epsilon < 0.1:\n",
    "        break\n",
    "\n",
    "    \n",
    "\n",
    "torch.save(agentCoordinator.q_network.state_dict(), \"results/q_simple_\" + str(test_id) + \"/q_network.pt\")\n",
    "\n",
    "        "
   ]
  },
  {
   "cell_type": "code",
   "execution_count": 21,
   "metadata": {},
   "outputs": [
    {
     "name": "stdout",
     "output_type": "stream",
     "text": [
      "========= Testing =========\n",
      "info: {'total_apple_consumed': 0, 'step_apple_consumed': 0, 'apple': 0, 'dirt': 78, 'picker': 0, 'cleaner': 0, 'total_reward_by_agent': {'9': 0, '3': 0, '2': 0, '5': 0, '8': 0, '7': 0, '4': 0, '0': 0, '6': 0, '1': 0}}\n"
     ]
    },
    {
     "name": "stderr",
     "output_type": "stream",
     "text": [
      "100%|█████████▉| 999/1000 [00:00<00:00, 5096.29it/s]\n"
     ]
    },
    {
     "name": "stdout",
     "output_type": "stream",
     "text": [
      "ending info: {'total_apple_consumed': 2675, 'step_apple_consumed': 2, 'apple': 75, 'dirt': 18, 'picker': 6, 'cleaner': 4, 'total_reward_by_agent': {'9': 13, '3': 93, '2': 274, '5': 8, '8': 10, '7': 12, '4': 18, '0': 545, '6': 785, '1': 917}}\n",
      "========= End of Test =========\n",
      "2675\n",
      "info: {'total_apple_consumed': 0, 'step_apple_consumed': 0, 'apple': 0, 'dirt': 78, 'picker': 0, 'cleaner': 0, 'total_reward_by_agent': {'9': 0, '3': 0, '2': 0, '5': 0, '8': 0, '7': 0, '4': 0, '0': 0, '6': 0, '1': 0}}\n"
     ]
    },
    {
     "name": "stderr",
     "output_type": "stream",
     "text": [
      "100%|█████████▉| 999/1000 [00:00<00:00, 4159.28it/s]\n"
     ]
    },
    {
     "name": "stdout",
     "output_type": "stream",
     "text": [
      "ending info: {'total_apple_consumed': 2702, 'step_apple_consumed': 2, 'apple': 83, 'dirt': 19, 'picker': 6, 'cleaner': 4, 'total_reward_by_agent': {'9': 12, '3': 87, '2': 275, '5': 7, '8': 11, '7': 9, '4': 15, '0': 574, '6': 802, '1': 910}}\n",
      "========= End of Test =========\n",
      "2702\n",
      "info: {'total_apple_consumed': 0, 'step_apple_consumed': 0, 'apple': 0, 'dirt': 78, 'picker': 0, 'cleaner': 0, 'total_reward_by_agent': {'9': 0, '3': 0, '2': 0, '5': 0, '8': 0, '7': 0, '4': 0, '0': 0, '6': 0, '1': 0}}\n"
     ]
    },
    {
     "name": "stderr",
     "output_type": "stream",
     "text": [
      "100%|█████████▉| 999/1000 [00:00<00:00, 3896.99it/s]\n"
     ]
    },
    {
     "name": "stdout",
     "output_type": "stream",
     "text": [
      "ending info: {'total_apple_consumed': 2726, 'step_apple_consumed': 4, 'apple': 74, 'dirt': 13, 'picker': 6, 'cleaner': 4, 'total_reward_by_agent': {'9': 10, '3': 76, '2': 273, '5': 7, '8': 8, '7': 16, '4': 15, '0': 582, '6': 816, '1': 923}}\n",
      "========= End of Test =========\n",
      "2726\n",
      "info: {'total_apple_consumed': 0, 'step_apple_consumed': 0, 'apple': 0, 'dirt': 78, 'picker': 0, 'cleaner': 0, 'total_reward_by_agent': {'9': 0, '3': 0, '2': 0, '5': 0, '8': 0, '7': 0, '4': 0, '0': 0, '6': 0, '1': 0}}\n"
     ]
    },
    {
     "name": "stderr",
     "output_type": "stream",
     "text": [
      "100%|█████████▉| 999/1000 [00:00<00:00, 3953.18it/s]\n"
     ]
    },
    {
     "name": "stdout",
     "output_type": "stream",
     "text": [
      "ending info: {'total_apple_consumed': 2713, 'step_apple_consumed': 0, 'apple': 66, 'dirt': 18, 'picker': 6, 'cleaner': 4, 'total_reward_by_agent': {'9': 9, '3': 76, '2': 281, '5': 13, '8': 12, '7': 15, '4': 19, '0': 574, '6': 801, '1': 913}}\n",
      "========= End of Test =========\n",
      "2713\n",
      "info: {'total_apple_consumed': 0, 'step_apple_consumed': 0, 'apple': 0, 'dirt': 78, 'picker': 0, 'cleaner': 0, 'total_reward_by_agent': {'9': 0, '3': 0, '2': 0, '5': 0, '8': 0, '7': 0, '4': 0, '0': 0, '6': 0, '1': 0}}\n"
     ]
    },
    {
     "name": "stderr",
     "output_type": "stream",
     "text": [
      "100%|█████████▉| 999/1000 [00:00<00:00, 5339.22it/s]\n"
     ]
    },
    {
     "name": "stdout",
     "output_type": "stream",
     "text": [
      "ending info: {'total_apple_consumed': 2690, 'step_apple_consumed': 2, 'apple': 63, 'dirt': 19, 'picker': 6, 'cleaner': 4, 'total_reward_by_agent': {'9': 8, '3': 88, '2': 281, '5': 6, '8': 15, '7': 15, '4': 13, '0': 561, '6': 788, '1': 915}}\n",
      "========= End of Test =========\n",
      "2690\n",
      "info: {'total_apple_consumed': 0, 'step_apple_consumed': 0, 'apple': 0, 'dirt': 78, 'picker': 0, 'cleaner': 0, 'total_reward_by_agent': {'9': 0, '3': 0, '2': 0, '5': 0, '8': 0, '7': 0, '4': 0, '0': 0, '6': 0, '1': 0}}\n"
     ]
    },
    {
     "name": "stderr",
     "output_type": "stream",
     "text": [
      "100%|█████████▉| 999/1000 [00:00<00:00, 5026.56it/s]\n"
     ]
    },
    {
     "name": "stdout",
     "output_type": "stream",
     "text": [
      "ending info: {'total_apple_consumed': 2654, 'step_apple_consumed': 3, 'apple': 80, 'dirt': 16, 'picker': 6, 'cleaner': 4, 'total_reward_by_agent': {'9': 10, '3': 66, '2': 265, '5': 4, '8': 9, '7': 8, '4': 14, '0': 546, '6': 806, '1': 926}}\n",
      "========= End of Test =========\n",
      "2654\n",
      "info: {'total_apple_consumed': 0, 'step_apple_consumed': 0, 'apple': 0, 'dirt': 78, 'picker': 0, 'cleaner': 0, 'total_reward_by_agent': {'9': 0, '3': 0, '2': 0, '5': 0, '8': 0, '7': 0, '4': 0, '0': 0, '6': 0, '1': 0}}\n"
     ]
    },
    {
     "name": "stderr",
     "output_type": "stream",
     "text": [
      "100%|█████████▉| 999/1000 [00:00<00:00, 5076.71it/s]\n"
     ]
    },
    {
     "name": "stdout",
     "output_type": "stream",
     "text": [
      "ending info: {'total_apple_consumed': 2756, 'step_apple_consumed': 3, 'apple': 75, 'dirt': 15, 'picker': 6, 'cleaner': 4, 'total_reward_by_agent': {'9': 12, '3': 85, '2': 282, '5': 4, '8': 10, '7': 11, '4': 10, '0': 580, '6': 829, '1': 933}}\n",
      "========= End of Test =========\n",
      "2756\n",
      "info: {'total_apple_consumed': 0, 'step_apple_consumed': 0, 'apple': 0, 'dirt': 78, 'picker': 0, 'cleaner': 0, 'total_reward_by_agent': {'9': 0, '3': 0, '2': 0, '5': 0, '8': 0, '7': 0, '4': 0, '0': 0, '6': 0, '1': 0}}\n"
     ]
    },
    {
     "name": "stderr",
     "output_type": "stream",
     "text": [
      "100%|█████████▉| 999/1000 [00:00<00:00, 5815.88it/s]\n"
     ]
    },
    {
     "name": "stdout",
     "output_type": "stream",
     "text": [
      "ending info: {'total_apple_consumed': 2730, 'step_apple_consumed': 5, 'apple': 87, 'dirt': 13, 'picker': 7, 'cleaner': 3, 'total_reward_by_agent': {'9': 13, '3': 85, '2': 273, '5': 6, '8': 8, '7': 19, '4': 21, '0': 561, '6': 809, '1': 935}}\n",
      "========= End of Test =========\n",
      "2730\n",
      "info: {'total_apple_consumed': 0, 'step_apple_consumed': 0, 'apple': 0, 'dirt': 78, 'picker': 0, 'cleaner': 0, 'total_reward_by_agent': {'9': 0, '3': 0, '2': 0, '5': 0, '8': 0, '7': 0, '4': 0, '0': 0, '6': 0, '1': 0}}\n"
     ]
    },
    {
     "name": "stderr",
     "output_type": "stream",
     "text": [
      "100%|█████████▉| 999/1000 [00:00<00:00, 5868.36it/s]\n"
     ]
    },
    {
     "name": "stdout",
     "output_type": "stream",
     "text": [
      "ending info: {'total_apple_consumed': 2699, 'step_apple_consumed': 4, 'apple': 79, 'dirt': 20, 'picker': 6, 'cleaner': 4, 'total_reward_by_agent': {'9': 11, '3': 90, '2': 283, '5': 5, '8': 7, '7': 11, '4': 14, '0': 562, '6': 798, '1': 918}}\n",
      "========= End of Test =========\n",
      "2699\n",
      "info: {'total_apple_consumed': 0, 'step_apple_consumed': 0, 'apple': 0, 'dirt': 78, 'picker': 0, 'cleaner': 0, 'total_reward_by_agent': {'9': 0, '3': 0, '2': 0, '5': 0, '8': 0, '7': 0, '4': 0, '0': 0, '6': 0, '1': 0}}\n"
     ]
    },
    {
     "name": "stderr",
     "output_type": "stream",
     "text": [
      "100%|█████████▉| 999/1000 [00:00<00:00, 5925.12it/s]\n"
     ]
    },
    {
     "name": "stdout",
     "output_type": "stream",
     "text": [
      "ending info: {'total_apple_consumed': 2736, 'step_apple_consumed': 3, 'apple': 79, 'dirt': 13, 'picker': 6, 'cleaner': 4, 'total_reward_by_agent': {'9': 8, '3': 95, '2': 285, '5': 7, '8': 5, '7': 6, '4': 14, '0': 581, '6': 809, '1': 926}}\n",
      "========= End of Test =========\n",
      "2736\n",
      "info: {'total_apple_consumed': 0, 'step_apple_consumed': 0, 'apple': 0, 'dirt': 78, 'picker': 0, 'cleaner': 0, 'total_reward_by_agent': {'9': 0, '3': 0, '2': 0, '5': 0, '8': 0, '7': 0, '4': 0, '0': 0, '6': 0, '1': 0}}\n"
     ]
    },
    {
     "name": "stderr",
     "output_type": "stream",
     "text": [
      "100%|█████████▉| 999/1000 [00:00<00:00, 5939.50it/s]\n"
     ]
    },
    {
     "name": "stdout",
     "output_type": "stream",
     "text": [
      "ending info: {'total_apple_consumed': 2719, 'step_apple_consumed': 4, 'apple': 68, 'dirt': 20, 'picker': 6, 'cleaner': 4, 'total_reward_by_agent': {'9': 14, '3': 81, '2': 269, '5': 4, '8': 7, '7': 7, '4': 17, '0': 573, '6': 823, '1': 924}}\n",
      "========= End of Test =========\n",
      "2719\n",
      "info: {'total_apple_consumed': 0, 'step_apple_consumed': 0, 'apple': 0, 'dirt': 78, 'picker': 0, 'cleaner': 0, 'total_reward_by_agent': {'9': 0, '3': 0, '2': 0, '5': 0, '8': 0, '7': 0, '4': 0, '0': 0, '6': 0, '1': 0}}\n"
     ]
    },
    {
     "name": "stderr",
     "output_type": "stream",
     "text": [
      "100%|█████████▉| 999/1000 [00:00<00:00, 5432.51it/s]\n"
     ]
    },
    {
     "name": "stdout",
     "output_type": "stream",
     "text": [
      "ending info: {'total_apple_consumed': 2658, 'step_apple_consumed': 1, 'apple': 77, 'dirt': 17, 'picker': 6, 'cleaner': 4, 'total_reward_by_agent': {'9': 12, '3': 74, '2': 268, '5': 8, '8': 6, '7': 11, '4': 12, '0': 558, '6': 781, '1': 928}}\n",
      "========= End of Test =========\n",
      "2658\n",
      "info: {'total_apple_consumed': 0, 'step_apple_consumed': 0, 'apple': 0, 'dirt': 78, 'picker': 0, 'cleaner': 0, 'total_reward_by_agent': {'9': 0, '3': 0, '2': 0, '5': 0, '8': 0, '7': 0, '4': 0, '0': 0, '6': 0, '1': 0}}\n"
     ]
    },
    {
     "name": "stderr",
     "output_type": "stream",
     "text": [
      "100%|█████████▉| 999/1000 [00:00<00:00, 4106.67it/s]\n"
     ]
    },
    {
     "name": "stdout",
     "output_type": "stream",
     "text": [
      "ending info: {'total_apple_consumed': 2735, 'step_apple_consumed': 2, 'apple': 66, 'dirt': 24, 'picker': 6, 'cleaner': 4, 'total_reward_by_agent': {'9': 14, '3': 81, '2': 283, '5': 2, '8': 7, '7': 15, '4': 14, '0': 576, '6': 817, '1': 926}}\n",
      "========= End of Test =========\n",
      "2735\n",
      "info: {'total_apple_consumed': 0, 'step_apple_consumed': 0, 'apple': 0, 'dirt': 78, 'picker': 0, 'cleaner': 0, 'total_reward_by_agent': {'9': 0, '3': 0, '2': 0, '5': 0, '8': 0, '7': 0, '4': 0, '0': 0, '6': 0, '1': 0}}\n"
     ]
    },
    {
     "name": "stderr",
     "output_type": "stream",
     "text": [
      "100%|█████████▉| 999/1000 [00:00<00:00, 5501.43it/s]\n"
     ]
    },
    {
     "name": "stdout",
     "output_type": "stream",
     "text": [
      "ending info: {'total_apple_consumed': 2587, 'step_apple_consumed': 1, 'apple': 65, 'dirt': 27, 'picker': 6, 'cleaner': 4, 'total_reward_by_agent': {'9': 6, '3': 58, '2': 245, '5': 8, '8': 11, '7': 15, '4': 18, '0': 525, '6': 785, '1': 916}}\n",
      "========= End of Test =========\n",
      "2587\n",
      "info: {'total_apple_consumed': 0, 'step_apple_consumed': 0, 'apple': 0, 'dirt': 78, 'picker': 0, 'cleaner': 0, 'total_reward_by_agent': {'9': 0, '3': 0, '2': 0, '5': 0, '8': 0, '7': 0, '4': 0, '0': 0, '6': 0, '1': 0}}\n"
     ]
    },
    {
     "name": "stderr",
     "output_type": "stream",
     "text": [
      "100%|█████████▉| 999/1000 [00:00<00:00, 5395.77it/s]"
     ]
    },
    {
     "name": "stdout",
     "output_type": "stream",
     "text": [
      "ending info: {'total_apple_consumed': 2683, 'step_apple_consumed': 5, 'apple': 72, 'dirt': 16, 'picker': 6, 'cleaner': 4, 'total_reward_by_agent': {'9': 12, '3': 79, '2': 259, '5': 9, '8': 11, '7': 13, '4': 19, '0': 563, '6': 804, '1': 914}}\n",
      "========= End of Test =========\n",
      "2683\n"
     ]
    },
    {
     "name": "stderr",
     "output_type": "stream",
     "text": [
      "\n"
     ]
    }
   ],
   "source": [
    "test_stats = []\n",
    "num_test_episodes = 15\n",
    "print(\"========= Testing =========\")\n",
    "f.write(\"========= Testing =========\\n\")\n",
    "\n",
    "for episode in range(num_test_episodes):\n",
    "    test_stats.append({\n",
    "        \"num_apples\": [],\n",
    "        \"num_dirt\": [],\n",
    "        \"pickers\": [],\n",
    "        \"cleaners\": [],\n",
    "        \"total_reward\": 0,\n",
    "    })\n",
    "\n",
    "    states, info = env.reset()\n",
    "    test_stats[-1][\"num_apples\"].append(info[\"apple\"])\n",
    "    test_stats[-1][\"num_dirt\"].append(info[\"dirt\"])\n",
    "    test_stats[-1][\"pickers\"].append(info[\"picker\"])\n",
    "    test_stats[-1][\"cleaners\"].append(info[\"cleaner\"])\n",
    "\n",
    "    #states = np.concatenate(list(states.values()), axis=0)\n",
    "    state = states[agent_ids[0]]\n",
    "    num_apples, num_dirt, num_picker, num_cleaner = state\n",
    "    #state = np.array([num_apples / num_dirt, num_picker, num_cleaner])\n",
    "    state = np.array([num_apples / (num_picker + 1e-7), num_dirt / (num_cleaner + 1e-7), num_apples, num_dirt])\n",
    "\n",
    "    print(f\"info: {info}\")\n",
    "    f.write(f\"info: {info}\\n\")\n",
    "\n",
    "    for step in tqdm(range(max_steps_per_episode)):\n",
    "        actions_list = agentCoordinator.act(state)[0]\n",
    "        actions = {agent_id: actions_list[i] for i, agent_id in enumerate(agent_ids)}\n",
    "        next_states, rewards, dones, _, info = env.step(actions)\n",
    "        test_stats[-1][\"num_apples\"].append(info[\"apple\"])\n",
    "        test_stats[-1][\"num_dirt\"].append(info[\"dirt\"])\n",
    "        test_stats[-1][\"pickers\"].append(info[\"picker\"])\n",
    "        test_stats[-1][\"cleaners\"].append(info[\"cleaner\"])\n",
    "        #next_states = np.concatenate(list(next_states.values()), axis=0)\n",
    "        next_state = next_states[agent_ids[0]]\n",
    "        num_apples, num_dirt, num_picker, num_cleaner = next_state\n",
    "        #next_state = np.array([num_apples / num_dirt, num_picker, num_cleaner])\n",
    "        next_state = np.array([num_apples / (num_picker + 1e-7), num_dirt / (num_cleaner + 1e-7), num_apples, num_dirt])\n",
    "        reward = sum(rewards.values())\n",
    "        #reward_graph.append(reward)\n",
    "\n",
    "        if episode > verbose_episode:\n",
    "            print(f\"========= Step {step} =========\")\n",
    "            print(f\"info: {info}\")\n",
    "            f.write(f\"========= Step {step} =========\\n\")\n",
    "            f.write(f\"info: {info}\\n\")\n",
    "\n",
    "        state = next_state\n",
    "\n",
    "        if dones[\"__all__\"]:\n",
    "            break \n",
    "\n",
    "    print(f\"ending info: {info}\")\n",
    "    #print(f\"reward graph: {reward_graph}\")\n",
    "    print(f\"========= End of Test =========\")\n",
    "\n",
    "    f.write(f\"ending info: {info}\\n\")\n",
    "    #f.write(f\"reward graph: {reward_graph}\\n\")\n",
    "    f.write(f\"========= End of Test =========\\n\")\n",
    "\n",
    "    test_reward = info[\"total_apple_consumed\"]\n",
    "\n",
    "    test_stats[-1][\"total_reward\"] = test_reward\n",
    "\n",
    "    print(test_reward)"
   ]
  },
  {
   "cell_type": "code",
   "execution_count": 13,
   "metadata": {},
   "outputs": [],
   "source": [
    "import matplotlib.pyplot as plt"
   ]
  },
  {
   "cell_type": "code",
   "execution_count": 22,
   "metadata": {},
   "outputs": [
    {
     "data": {
      "image/png": "[encoded data removed]",
      "text/plain": [
       "<Figure size 640x480 with 1 Axes>"
      ]
     },
     "metadata": {},
     "output_type": "display_data"
    }
   ],
   "source": [
    "plt.title(\"Reward by Training Episode\")\n",
    "plt.xlabel(\"Episode\")\n",
    "plt.ylabel(\"Reward\")\n",
    "plt.plot(ending_ep_rewards)\n",
    "plt.axhline(y=2695.57, color='r', linestyle='-')\n",
    "plt.show()"
   ]
  },
  {
   "cell_type": "code",
   "execution_count": 23,
   "metadata": {},
   "outputs": [
    {
     "data": {
      "image/png": "[encoded data removed]",
      "text/plain": [
       "<Figure size 640x480 with 1 Axes>"
      ]
     },
     "metadata": {},
     "output_type": "display_data"
    }
   ],
   "source": [
    "plt.figure()\n",
    "plt.title(\"Reward by Test Episode\")\n",
    "plt.xlabel(\"Episode\")\n",
    "plt.ylabel(\"Reward\")\n",
    "plt.plot([stat['total_reward'] for stat in test_stats])\n",
    "plt.axhline(y=2695.57, color='r', linestyle='-')\n",
    "plt.show()"
   ]
  },
  {
   "cell_type": "code",
   "execution_count": 16,
   "metadata": {},
   "outputs": [
    {
     "data": {
      "image/png": "[encoded data removed]",
      "text/plain": [
       "<Figure size 640x480 with 1 Axes>"
      ]
     },
     "metadata": {},
     "output_type": "display_data"
    }
   ],
   "source": [
    "plt.figure()\n",
    "plt.title(\"Average Number of Apples and Dirt by Test Step\")\n",
    "plt.xlabel(\"Step\")\n",
    "plt.ylabel(\"Number\")\n",
    "avg_num_apples = []\n",
    "avg_num_dirt = []\n",
    "for i in range(max_steps_per_episode):\n",
    "    avg_num_apples.append(np.mean([stat['num_apples'][i] for stat in test_stats]))\n",
    "    avg_num_dirt.append(np.mean([stat['num_dirt'][i] for stat in test_stats]))\n",
    "plt.plot(avg_num_apples, label=\"Apples\")\n",
    "plt.plot(avg_num_dirt, label=\"Dirt\")\n",
    "plt.legend()\n",
    "plt.show()"
   ]
  },
  {
   "cell_type": "code",
   "execution_count": 17,
   "metadata": {},
   "outputs": [
    {
     "data": {
      "image/png": "[encoded data removed]",
      "text/plain": [
       "<Figure size 640x480 with 1 Axes>"
      ]
     },
     "metadata": {},
     "output_type": "display_data"
    }
   ],
   "source": [
    "plt.figure()\n",
    "plt.title(\"Average Number of Pickers and Cleaners by Test Step\")\n",
    "plt.xlabel(\"Step\")\n",
    "plt.ylabel(\"Number\")\n",
    "avg_num_pickers = []\n",
    "avg_num_cleaners = []\n",
    "for i in range(max_steps_per_episode):\n",
    "    avg_num_pickers.append(np.mean([stat['pickers'][i] for stat in test_stats]))\n",
    "    avg_num_cleaners.append(np.mean([stat['cleaners'][i] for stat in test_stats]))\n",
    "plt.plot(avg_num_pickers, label=\"Pickers\")\n",
    "plt.plot(avg_num_cleaners, label=\"Cleaners\")\n",
    "plt.legend()\n",
    "plt.show()"
   ]
  },
  {
   "cell_type": "code",
   "execution_count": 18,
   "metadata": {},
   "outputs": [
    {
     "data": {
      "image/png": "[encoded data removed]",
      "text/plain": [
       "<Figure size 640x480 with 1 Axes>"
      ]
     },
     "metadata": {},
     "output_type": "display_data"
    }
   ],
   "source": [
    "plt.figure()\n",
    "plt.title(\"Average Ratios by Test Step\")\n",
    "plt.xlabel(\"Step\")\n",
    "plt.ylabel(\"Ratio\")\n",
    "avg_apple_dirt_ratios = []\n",
    "apple_dirt_steps = []\n",
    "avg_picker_cleaner_ratios = []\n",
    "picker_cleaner_steps = []\n",
    "for i in range(max_steps_per_episode):\n",
    "    #avg_apple_dirt_ratios.append(np.mean([stat['num_apples'][i] / (stat['num_dirt'][i] + 1e-8) for stat in test_stats]))\n",
    "    #avg_picker_cleaner_ratios.append(np.mean([stat['pickers'][i] / (stat['cleaners'][i]) for stat in test_stats if stat['cleaners'][i] > 0]))\n",
    "    apple_dirt = []\n",
    "    picker_cleaner = []\n",
    "    for stat in test_stats:\n",
    "        if stat['num_dirt'][i] > 0:\n",
    "            apple_dirt.append(stat['num_apples'][i] / stat['num_dirt'][i])\n",
    "        if stat['cleaners'][i] > 0:\n",
    "            picker_cleaner.append(stat['pickers'][i] / stat['cleaners'][i])\n",
    "    if len(apple_dirt) > 0:\n",
    "        avg_apple_dirt_ratios.append(np.mean(apple_dirt))\n",
    "        apple_dirt_steps.append(i)\n",
    "    if len(picker_cleaner) > 0:\n",
    "        avg_picker_cleaner_ratios.append(np.mean(picker_cleaner))\n",
    "        picker_cleaner_steps.append(i)\n",
    "\n",
    "plt.plot(apple_dirt_steps, avg_apple_dirt_ratios, label=\"Apples/Dirt\")\n",
    "plt.plot(picker_cleaner_steps, avg_picker_cleaner_ratios, label=\"Pickers/Cleaners\")\n",
    "plt.legend()\n",
    "plt.show()"
   ]
  }
 ],
 "metadata": {
  "kernelspec": {
   "display_name": "venv",
   "language": "python",
   "name": "python3"
  },
  "language_info": {
   "codemirror_mode": {
    "name": "ipython",
    "version": 3
   },
   "file_extension": ".py",
   "mimetype": "text/x-python",
   "name": "python",
   "nbconvert_exporter": "python",
   "pygments_lexer": "ipython3",
   "version": "3.10.7"
  }
 },
 "nbformat": 4,
 "nbformat_minor": 2
}
