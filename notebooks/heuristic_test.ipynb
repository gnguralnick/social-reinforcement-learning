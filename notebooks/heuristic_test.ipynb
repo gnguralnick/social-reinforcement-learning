{
 "cells": [
  {
   "cell_type": "code",
   "execution_count": 1,
   "id": "initial_id",
   "metadata": {
    "collapsed": true,
    "ExecuteTime": {
     "end_time": "2023-09-26T03:35:50.187547Z",
     "start_time": "2023-09-26T03:35:45.379388Z"
    }
   },
   "outputs": [
    {
     "name": "stderr",
     "output_type": "stream",
     "text": [
      "2023-09-25 22:35:50,126\tWARNING deprecation.py:50 -- DeprecationWarning: `DirectStepOptimizer` has been deprecated. This will raise an error in the future!\n"
     ]
    }
   ],
   "source": [
    "from environments.cleanup_env import CleanupEnv\n",
    "from models.heuristic import CleanupHeuristicModel\n",
    "from test import test_centralized"
   ]
  },
  {
   "cell_type": "code",
   "execution_count": 2,
   "outputs": [],
   "source": [
    "num_agents = 10\n",
    "env = CleanupEnv(num_agents=num_agents, greedy=True)"
   ],
   "metadata": {
    "collapsed": false,
    "ExecuteTime": {
     "end_time": "2023-09-26T03:35:51.072313Z",
     "start_time": "2023-09-26T03:35:51.063523Z"
    }
   },
   "id": "6389591f698f1833"
  },
  {
   "cell_type": "code",
   "execution_count": 3,
   "outputs": [],
   "source": [
    "model = CleanupHeuristicModel(env, num_agents, None, 'heuristic')"
   ],
   "metadata": {
    "collapsed": false,
    "ExecuteTime": {
     "end_time": "2023-09-26T03:35:51.675018Z",
     "start_time": "2023-09-26T03:35:51.664051Z"
    }
   },
   "id": "eb6d123c18c06812"
  },
  {
   "cell_type": "code",
   "execution_count": 5,
   "outputs": [
    {
     "name": "stdout",
     "output_type": "stream",
     "text": [
      "Episode:1 Score:defaultdict(<class 'int'>, {'0': 248, '1': 485, '2': 522, '3': 211, '4': 376, '5': 342, '6': 434, '7': 498, '8': 257, '9': 398})\n",
      "Average Agent Reward: 377.1\n",
      "Episode:2 Score:defaultdict(<class 'int'>, {'0': 461, '1': 417, '2': 515, '3': 273, '4': 357, '5': 341, '6': 393, '7': 317, '8': 423, '9': 94})\n",
      "Average Agent Reward: 359.1\n",
      "Episode:3 Score:defaultdict(<class 'int'>, {'0': 303, '1': 308, '2': 361, '3': 497, '4': 394, '5': 274, '6': 429, '7': 289, '8': 425, '9': 493})\n",
      "Average Agent Reward: 377.3\n",
      "Episode:4 Score:defaultdict(<class 'int'>, {'0': 372, '1': 489, '2': 312, '3': 533, '4': 352, '5': 421, '6': 393, '7': 374, '8': 119, '9': 371})\n",
      "Average Agent Reward: 373.6\n",
      "Episode:5 Score:defaultdict(<class 'int'>, {'0': 511, '1': 345, '2': 232, '3': 455, '4': 247, '5': 491, '6': 364, '7': 435, '8': 498, '9': 362})\n",
      "Average Agent Reward: 394.0\n",
      "Episode:6 Score:defaultdict(<class 'int'>, {'0': 476, '1': 449, '2': 476, '3': 366, '4': 404, '5': 132, '6': 343, '7': 451, '8': 314, '9': 402})\n",
      "Average Agent Reward: 381.3\n",
      "Episode:7 Score:defaultdict(<class 'int'>, {'0': 313, '1': 206, '2': 431, '3': 236, '4': 452, '5': 498, '6': 298, '7': 491, '8': 570, '9': 418})\n",
      "Average Agent Reward: 391.3\n",
      "Episode:8 Score:defaultdict(<class 'int'>, {'0': 486, '1': 410, '2': 414, '3': 413, '4': 508, '5': 454, '6': 439, '7': 315, '8': 118, '9': 270})\n",
      "Average Agent Reward: 382.7\n",
      "Episode:9 Score:defaultdict(<class 'int'>, {'0': 669, '1': 287, '2': 406, '3': 307, '4': 141, '5': 281, '6': 422, '7': 419, '8': 389, '9': 317})\n",
      "Average Agent Reward: 363.8\n",
      "Episode:10 Score:defaultdict(<class 'int'>, {'0': 585, '1': 438, '2': 300, '3': 360, '4': 388, '5': 464, '6': 418, '7': 339, '8': 474, '9': 290})\n",
      "Average Agent Reward: 405.6\n",
      "Episode:11 Score:defaultdict(<class 'int'>, {'0': 487, '1': 433, '2': 269, '3': 367, '4': 197, '5': 524, '6': 260, '7': 514, '8': 426, '9': 333})\n",
      "Average Agent Reward: 381.0\n",
      "Episode:12 Score:defaultdict(<class 'int'>, {'0': 305, '1': 376, '2': 218, '3': 430, '4': 417, '5': 526, '6': 413, '7': 316, '8': 433, '9': 479})\n",
      "Average Agent Reward: 391.3\n",
      "Episode:13 Score:defaultdict(<class 'int'>, {'0': 512, '1': 281, '2': 422, '3': 507, '4': 302, '5': 447, '6': 311, '7': 363, '8': 428, '9': 250})\n",
      "Average Agent Reward: 382.3\n",
      "Episode:14 Score:defaultdict(<class 'int'>, {'0': 485, '1': 538, '2': 317, '3': 354, '4': 450, '5': 298, '6': 352, '7': 357, '8': 199, '9': 462})\n",
      "Average Agent Reward: 381.2\n",
      "Episode:15 Score:defaultdict(<class 'int'>, {'0': 460, '1': 419, '2': 301, '3': 315, '4': 505, '5': 230, '6': 425, '7': 256, '8': 548, '9': 386})\n",
      "Average Agent Reward: 384.5\n",
      "Episode:16 Score:defaultdict(<class 'int'>, {'0': 368, '1': 400, '2': 391, '3': 493, '4': 408, '5': 73, '6': 348, '7': 549, '8': 292, '9': 424})\n",
      "Average Agent Reward: 374.6\n",
      "Episode:17 Score:defaultdict(<class 'int'>, {'0': 255, '1': 427, '2': 455, '3': 332, '4': 473, '5': 439, '6': 337, '7': 414, '8': 246, '9': 320})\n",
      "Average Agent Reward: 369.8\n",
      "Episode:18 Score:defaultdict(<class 'int'>, {'0': 352, '1': 392, '2': 449, '3': 286, '4': 418, '5': 477, '6': 456, '7': 148, '8': 463, '9': 301})\n",
      "Average Agent Reward: 374.2\n",
      "Episode:19 Score:defaultdict(<class 'int'>, {'0': 230, '1': 308, '2': 134, '3': 530, '4': 602, '5': 479, '6': 346, '7': 314, '8': 478, '9': 373})\n",
      "Average Agent Reward: 379.4\n",
      "Episode:20 Score:defaultdict(<class 'int'>, {'0': 311, '1': 540, '2': 294, '3': 287, '4': 344, '5': 451, '6': 441, '7': 276, '8': 441, '9': 404})\n",
      "Average Agent Reward: 378.9\n",
      "Episode:21 Score:defaultdict(<class 'int'>, {'0': 425, '1': 443, '2': 425, '3': 290, '4': 334, '5': 73, '6': 458, '7': 422, '8': 400, '9': 401})\n",
      "Average Agent Reward: 367.1\n",
      "Episode:22 Score:defaultdict(<class 'int'>, {'0': 457, '1': 240, '2': 251, '3': 274, '4': 478, '5': 455, '6': 435, '7': 370, '8': 421, '9': 321})\n",
      "Average Agent Reward: 370.2\n",
      "Episode:23 Score:defaultdict(<class 'int'>, {'0': 489, '1': 351, '2': 322, '3': 405, '4': 325, '5': 351, '6': 326, '7': 300, '8': 323, '9': 365})\n",
      "Average Agent Reward: 355.7\n",
      "Episode:24 Score:defaultdict(<class 'int'>, {'0': 532, '1': 474, '2': 384, '3': 395, '4': 417, '5': 454, '6': 144, '7': 178, '8': 411, '9': 375})\n",
      "Average Agent Reward: 376.4\n",
      "Episode:25 Score:defaultdict(<class 'int'>, {'0': 232, '1': 582, '2': 429, '3': 463, '4': 416, '5': 206, '6': 227, '7': 462, '8': 400, '9': 491})\n",
      "Average Agent Reward: 390.8\n",
      "Episode:26 Score:defaultdict(<class 'int'>, {'0': 306, '1': 495, '2': 385, '3': 302, '4': 423, '5': 265, '6': 239, '7': 526, '8': 355, '9': 475})\n",
      "Average Agent Reward: 377.1\n",
      "Episode:27 Score:defaultdict(<class 'int'>, {'0': 490, '1': 477, '2': 515, '3': 414, '4': 381, '5': 368, '6': 380, '7': 165, '8': 4, '9': 352})\n",
      "Average Agent Reward: 354.6\n",
      "Episode:28 Score:defaultdict(<class 'int'>, {'0': 500, '1': 412, '2': 289, '3': 135, '4': 425, '5': 461, '6': 465, '7': 369, '8': 428, '9': 255})\n",
      "Average Agent Reward: 373.9\n",
      "Episode:29 Score:defaultdict(<class 'int'>, {'0': 490, '1': 348, '2': 504, '3': 491, '4': 333, '5': 418, '6': 474, '7': 365, '8': 256, '9': 262})\n",
      "Average Agent Reward: 394.1\n",
      "Episode:30 Score:defaultdict(<class 'int'>, {'0': 382, '1': 539, '2': 82, '3': 387, '4': 586, '5': 417, '6': 205, '7': 520, '8': 431, '9': 355})\n",
      "Average Agent Reward: 390.4\n",
      "Episode:31 Score:defaultdict(<class 'int'>, {'0': 409, '1': 278, '2': 367, '3': 189, '4': 145, '5': 472, '6': 477, '7': 507, '8': 444, '9': 385})\n",
      "Average Agent Reward: 367.3\n",
      "Episode:32 Score:defaultdict(<class 'int'>, {'0': 480, '1': 394, '2': 429, '3': 483, '4': 296, '5': 335, '6': 424, '7': 329, '8': 239, '9': 301})\n",
      "Average Agent Reward: 371.0\n",
      "Episode:33 Score:defaultdict(<class 'int'>, {'0': 483, '1': 293, '2': 308, '3': 497, '4': 233, '5': 296, '6': 440, '7': 504, '8': 320, '9': 396})\n",
      "Average Agent Reward: 377.0\n",
      "Episode:34 Score:defaultdict(<class 'int'>, {'0': 406, '1': 484, '2': 292, '3': 339, '4': 368, '5': 592, '6': 410, '7': 238, '8': 296, '9': 322})\n",
      "Average Agent Reward: 374.7\n",
      "Episode:35 Score:defaultdict(<class 'int'>, {'0': 235, '1': 585, '2': 352, '3': 501, '4': 433, '5': 455, '6': 290, '7': 160, '8': 429, '9': 214})\n",
      "Average Agent Reward: 365.4\n",
      "Episode:36 Score:defaultdict(<class 'int'>, {'0': 461, '1': 345, '2': 466, '3': 405, '4': 226, '5': 428, '6': 266, '7': 468, '8': 426, '9': 356})\n",
      "Average Agent Reward: 384.7\n",
      "Episode:37 Score:defaultdict(<class 'int'>, {'0': 352, '1': 371, '2': 433, '3': 400, '4': 177, '5': 463, '6': 399, '7': 249, '8': 415, '9': 354})\n",
      "Average Agent Reward: 361.3\n",
      "Episode:38 Score:defaultdict(<class 'int'>, {'0': 505, '1': 279, '2': 439, '3': 102, '4': 403, '5': 480, '6': 457, '7': 388, '8': 356, '9': 350})\n",
      "Average Agent Reward: 375.9\n",
      "Episode:39 Score:defaultdict(<class 'int'>, {'0': 205, '1': 438, '2': 445, '3': 482, '4': 436, '5': 486, '6': 454, '7': 381, '8': 296, '9': 205})\n",
      "Average Agent Reward: 382.8\n",
      "Episode:40 Score:defaultdict(<class 'int'>, {'0': 274, '1': 334, '2': 412, '3': 432, '4': 487, '5': 310, '6': 405, '7': 247, '8': 467, '9': 405})\n",
      "Average Agent Reward: 377.3\n",
      "Episode:41 Score:defaultdict(<class 'int'>, {'0': 472, '1': 445, '2': 545, '3': 475, '4': 405, '5': 292, '6': 176, '7': 98, '8': 488, '9': 440})\n",
      "Average Agent Reward: 383.6\n",
      "Episode:42 Score:defaultdict(<class 'int'>, {'0': 433, '1': 356, '2': 462, '3': 211, '4': 320, '5': 402, '6': 451, '7': 511, '8': 344, '9': 375})\n",
      "Average Agent Reward: 386.5\n",
      "Episode:43 Score:defaultdict(<class 'int'>, {'0': 547, '1': 434, '2': 380, '3': 395, '4': 201, '5': 396, '6': 218, '7': 383, '8': 450, '9': 339})\n",
      "Average Agent Reward: 374.3\n",
      "Episode:44 Score:defaultdict(<class 'int'>, {'0': 302, '1': 422, '2': 570, '3': 456, '4': 297, '5': 362, '6': 158, '7': 472, '8': 388, '9': 358})\n",
      "Average Agent Reward: 378.5\n",
      "Episode:45 Score:defaultdict(<class 'int'>, {'0': 429, '1': 119, '2': 573, '3': 384, '4': 402, '5': 514, '6': 361, '7': 265, '8': 500, '9': 353})\n",
      "Average Agent Reward: 390.0\n",
      "Episode:46 Score:defaultdict(<class 'int'>, {'0': 312, '1': 581, '2': 497, '3': 408, '4': 301, '5': 363, '6': 347, '7': 308, '8': 457, '9': 122})\n",
      "Average Agent Reward: 369.6\n",
      "Episode:47 Score:defaultdict(<class 'int'>, {'0': 397, '1': 319, '2': 385, '3': 307, '4': 397, '5': 306, '6': 494, '7': 468, '8': 383, '9': 240})\n",
      "Average Agent Reward: 369.6\n",
      "Episode:48 Score:defaultdict(<class 'int'>, {'0': 369, '1': 341, '2': 494, '3': 475, '4': 536, '5': 431, '6': 413, '7': 335, '8': 104, '9': 307})\n",
      "Average Agent Reward: 380.5\n",
      "Episode:49 Score:defaultdict(<class 'int'>, {'0': 481, '1': 453, '2': 437, '3': 384, '4': 397, '5': 304, '6': 311, '7': 190, '8': 426, '9': 265})\n",
      "Average Agent Reward: 364.8\n",
      "Episode:50 Score:defaultdict(<class 'int'>, {'0': 456, '1': 471, '2': 400, '3': 464, '4': 360, '5': 354, '6': 421, '7': 251, '8': 412, '9': 262})\n",
      "Average Agent Reward: 385.1\n",
      "Episode:51 Score:defaultdict(<class 'int'>, {'0': 331, '1': 421, '2': 247, '3': 401, '4': 317, '5': 398, '6': 429, '7': 324, '8': 496, '9': 309})\n",
      "Average Agent Reward: 367.3\n",
      "Episode:52 Score:defaultdict(<class 'int'>, {'0': 345, '1': 274, '2': 547, '3': 487, '4': 78, '5': 307, '6': 422, '7': 478, '8': 469, '9': 430})\n",
      "Average Agent Reward: 383.7\n",
      "Episode:53 Score:defaultdict(<class 'int'>, {'0': 458, '1': 249, '2': 302, '3': 275, '4': 436, '5': 359, '6': 381, '7': 477, '8': 497, '9': 493})\n",
      "Average Agent Reward: 392.7\n",
      "Episode:54 Score:defaultdict(<class 'int'>, {'0': 325, '1': 367, '2': 408, '3': 264, '4': 265, '5': 378, '6': 331, '7': 482, '8': 336, '9': 439})\n",
      "Average Agent Reward: 359.5\n",
      "Episode:55 Score:defaultdict(<class 'int'>, {'0': 605, '1': 511, '2': 320, '3': 353, '4': 496, '5': 203, '6': 441, '7': 291, '8': 382, '9': 325})\n",
      "Average Agent Reward: 392.7\n",
      "Episode:56 Score:defaultdict(<class 'int'>, {'0': 384, '1': 372, '2': 532, '3': 398, '4': 79, '5': 396, '6': 387, '7': 223, '8': 277, '9': 539})\n",
      "Average Agent Reward: 358.7\n",
      "Episode:57 Score:defaultdict(<class 'int'>, {'0': 458, '1': 482, '2': 231, '3': 494, '4': 307, '5': 426, '6': 418, '7': 296, '8': 338, '9': 411})\n",
      "Average Agent Reward: 386.1\n",
      "Episode:58 Score:defaultdict(<class 'int'>, {'0': 424, '1': 426, '2': 509, '3': 476, '4': 341, '5': 383, '6': 442, '7': 482, '8': 191, '9': 278})\n",
      "Average Agent Reward: 395.2\n",
      "Episode:59 Score:defaultdict(<class 'int'>, {'0': 370, '1': 533, '2': 292, '3': 369, '4': 77, '5': 532, '6': 419, '7': 402, '8': 459, '9': 422})\n",
      "Average Agent Reward: 387.5\n",
      "Episode:60 Score:defaultdict(<class 'int'>, {'0': 425, '1': 560, '2': 353, '3': 412, '4': 497, '5': 369, '6': 228, '7': 418, '8': 454, '9': 80})\n",
      "Average Agent Reward: 379.6\n",
      "Episode:61 Score:defaultdict(<class 'int'>, {'0': 343, '1': 248, '2': 396, '3': 271, '4': 546, '5': 330, '6': 375, '7': 292, '8': 274, '9': 458})\n",
      "Average Agent Reward: 353.3\n",
      "Episode:62 Score:defaultdict(<class 'int'>, {'0': 461, '1': 446, '2': 506, '3': 443, '4': 492, '5': 438, '6': 256, '7': 291, '8': 283, '9': 190})\n",
      "Average Agent Reward: 380.6\n",
      "Episode:63 Score:defaultdict(<class 'int'>, {'0': 214, '1': 234, '2': 464, '3': 457, '4': 441, '5': 418, '6': 496, '7': 425, '8': 296, '9': 393})\n",
      "Average Agent Reward: 383.8\n",
      "Episode:64 Score:defaultdict(<class 'int'>, {'0': 332, '1': 378, '2': 582, '3': 116, '4': 405, '5': 529, '6': 398, '7': 290, '8': 427, '9': 332})\n",
      "Average Agent Reward: 378.9\n",
      "Episode:65 Score:defaultdict(<class 'int'>, {'0': 434, '1': 511, '2': 454, '3': 447, '4': 225, '5': 344, '6': 506, '7': 379, '8': 171, '9': 365})\n",
      "Average Agent Reward: 383.6\n",
      "Episode:66 Score:defaultdict(<class 'int'>, {'0': 418, '1': 404, '2': 482, '3': 26, '4': 168, '5': 421, '6': 473, '7': 513, '8': 359, '9': 459})\n",
      "Average Agent Reward: 372.3\n",
      "Episode:67 Score:defaultdict(<class 'int'>, {'0': 504, '1': 500, '2': 215, '3': 347, '4': 429, '5': 295, '6': 533, '7': 465, '8': 344, '9': 171})\n",
      "Average Agent Reward: 380.3\n",
      "Episode:68 Score:defaultdict(<class 'int'>, {'0': 426, '1': 476, '2': 247, '3': 472, '4': 399, '5': 530, '6': 324, '7': 361, '8': 425, '9': 311})\n",
      "Average Agent Reward: 397.1\n",
      "Episode:69 Score:defaultdict(<class 'int'>, {'0': 479, '1': 521, '2': 275, '3': 122, '4': 317, '5': 386, '6': 543, '7': 487, '8': 207, '9': 359})\n",
      "Average Agent Reward: 369.6\n",
      "Episode:70 Score:defaultdict(<class 'int'>, {'0': 321, '1': 292, '2': 299, '3': 489, '4': 368, '5': 350, '6': 451, '7': 346, '8': 486, '9': 362})\n",
      "Average Agent Reward: 376.4\n",
      "Episode:71 Score:defaultdict(<class 'int'>, {'0': 236, '1': 567, '2': 561, '3': 422, '4': 304, '5': 285, '6': 212, '7': 376, '8': 378, '9': 347})\n",
      "Average Agent Reward: 368.8\n",
      "Episode:72 Score:defaultdict(<class 'int'>, {'0': 446, '1': 498, '2': 450, '3': 323, '4': 472, '5': 307, '6': 308, '7': 421, '8': 429, '9': 329})\n",
      "Average Agent Reward: 398.3\n",
      "Episode:73 Score:defaultdict(<class 'int'>, {'0': 520, '1': 145, '2': 469, '3': 351, '4': 287, '5': 493, '6': 456, '7': 498, '8': 470, '9': 208})\n",
      "Average Agent Reward: 389.7\n",
      "Episode:74 Score:defaultdict(<class 'int'>, {'0': 490, '1': 240, '2': 413, '3': 458, '4': 464, '5': 200, '6': 221, '7': 386, '8': 422, '9': 436})\n",
      "Average Agent Reward: 373.0\n",
      "Episode:75 Score:defaultdict(<class 'int'>, {'0': 273, '1': 440, '2': 429, '3': 358, '4': 229, '5': 466, '6': 367, '7': 428, '8': 363, '9': 331})\n",
      "Average Agent Reward: 368.4\n",
      "Episode:76 Score:defaultdict(<class 'int'>, {'0': 561, '1': 116, '2': 412, '3': 290, '4': 428, '5': 425, '6': 306, '7': 415, '8': 494, '9': 396})\n",
      "Average Agent Reward: 384.3\n",
      "Episode:77 Score:defaultdict(<class 'int'>, {'0': 445, '1': 336, '2': 544, '3': 441, '4': 312, '5': 400, '6': 268, '7': 477, '8': 200, '9': 303})\n",
      "Average Agent Reward: 372.6\n",
      "Episode:78 Score:defaultdict(<class 'int'>, {'0': 382, '1': 520, '2': 399, '3': 263, '4': 200, '5': 476, '6': 384, '7': 413, '8': 361, '9': 334})\n",
      "Average Agent Reward: 373.2\n",
      "Episode:79 Score:defaultdict(<class 'int'>, {'0': 488, '1': 381, '2': 444, '3': 354, '4': 459, '5': 466, '6': 372, '7': 250, '8': 388, '9': 284})\n",
      "Average Agent Reward: 388.6\n",
      "Episode:80 Score:defaultdict(<class 'int'>, {'0': 388, '1': 377, '2': 406, '3': 451, '4': 0, '5': 474, '6': 432, '7': 338, '8': 388, '9': 437})\n",
      "Average Agent Reward: 369.1\n",
      "Episode:81 Score:defaultdict(<class 'int'>, {'0': 409, '1': 123, '2': 440, '3': 358, '4': 175, '5': 417, '6': 466, '7': 452, '8': 536, '9': 366})\n",
      "Average Agent Reward: 374.2\n",
      "Episode:82 Score:defaultdict(<class 'int'>, {'0': 473, '1': 331, '2': 447, '3': 486, '4': 445, '5': 480, '6': 188, '7': 333, '8': 382, '9': 385})\n",
      "Average Agent Reward: 395.0\n",
      "Episode:83 Score:defaultdict(<class 'int'>, {'0': 347, '1': 498, '2': 338, '3': 402, '4': 517, '5': 395, '6': 426, '7': 368, '8': 35, '9': 232})\n",
      "Average Agent Reward: 355.8\n",
      "Episode:84 Score:defaultdict(<class 'int'>, {'0': 506, '1': 440, '2': 420, '3': 222, '4': 275, '5': 242, '6': 354, '7': 359, '8': 433, '9': 384})\n",
      "Average Agent Reward: 363.5\n",
      "Episode:85 Score:defaultdict(<class 'int'>, {'0': 474, '1': 199, '2': 422, '3': 399, '4': 453, '5': 423, '6': 403, '7': 282, '8': 439, '9': 276})\n",
      "Average Agent Reward: 377.0\n",
      "Episode:86 Score:defaultdict(<class 'int'>, {'0': 439, '1': 500, '2': 305, '3': 519, '4': 431, '5': 335, '6': 275, '7': 385, '8': 284, '9': 357})\n",
      "Average Agent Reward: 383.0\n",
      "Episode:87 Score:defaultdict(<class 'int'>, {'0': 369, '1': 444, '2': 332, '3': 340, '4': 438, '5': 493, '6': 465, '7': 266, '8': 389, '9': 173})\n",
      "Average Agent Reward: 370.9\n",
      "Episode:88 Score:defaultdict(<class 'int'>, {'0': 158, '1': 414, '2': 408, '3': 444, '4': 467, '5': 485, '6': 431, '7': 401, '8': 225, '9': 424})\n",
      "Average Agent Reward: 385.7\n",
      "Episode:89 Score:defaultdict(<class 'int'>, {'0': 433, '1': 288, '2': 359, '3': 392, '4': 150, '5': 480, '6': 418, '7': 508, '8': 425, '9': 286})\n",
      "Average Agent Reward: 373.9\n",
      "Episode:90 Score:defaultdict(<class 'int'>, {'0': 284, '1': 305, '2': 400, '3': 444, '4': 353, '5': 404, '6': 297, '7': 460, '8': 386, '9': 461})\n",
      "Average Agent Reward: 379.4\n",
      "Episode:91 Score:defaultdict(<class 'int'>, {'0': 250, '1': 447, '2': 193, '3': 289, '4': 520, '5': 465, '6': 441, '7': 393, '8': 395, '9': 399})\n",
      "Average Agent Reward: 379.2\n",
      "Episode:92 Score:defaultdict(<class 'int'>, {'0': 287, '1': 188, '2': 524, '3': 255, '4': 475, '5': 437, '6': 431, '7': 408, '8': 451, '9': 368})\n",
      "Average Agent Reward: 382.4\n",
      "Episode:93 Score:defaultdict(<class 'int'>, {'0': 193, '1': 176, '2': 436, '3': 482, '4': 481, '5': 359, '6': 296, '7': 354, '8': 381, '9': 391})\n",
      "Average Agent Reward: 354.9\n",
      "Episode:94 Score:defaultdict(<class 'int'>, {'0': 427, '1': 221, '2': 550, '3': 476, '4': 475, '5': 320, '6': 448, '7': 428, '8': 247, '9': 394})\n",
      "Average Agent Reward: 398.6\n",
      "Episode:95 Score:defaultdict(<class 'int'>, {'0': 219, '1': 521, '2': 225, '3': 462, '4': 426, '5': 469, '6': 228, '7': 525, '8': 375, '9': 404})\n",
      "Average Agent Reward: 385.4\n",
      "Episode:96 Score:defaultdict(<class 'int'>, {'0': 314, '1': 435, '2': 401, '3': 387, '4': 313, '5': 372, '6': 280, '7': 359, '8': 369, '9': 261})\n",
      "Average Agent Reward: 349.1\n",
      "Episode:97 Score:defaultdict(<class 'int'>, {'0': 304, '1': 293, '2': 498, '3': 488, '4': 529, '5': 309, '6': 410, '7': 338, '8': 452, '9': 292})\n",
      "Average Agent Reward: 391.3\n",
      "Episode:98 Score:defaultdict(<class 'int'>, {'0': 353, '1': 420, '2': 351, '3': 519, '4': 304, '5': 481, '6': 300, '7': 388, '8': 285, '9': 436})\n",
      "Average Agent Reward: 383.7\n",
      "Episode:99 Score:defaultdict(<class 'int'>, {'0': 175, '1': 500, '2': 510, '3': 473, '4': 443, '5': 259, '6': 421, '7': 410, '8': 372, '9': 316})\n",
      "Average Agent Reward: 387.9\n",
      "Episode:100 Score:defaultdict(<class 'int'>, {'0': 595, '1': 388, '2': 438, '3': 294, '4': 332, '5': 142, '6': 411, '7': 422, '8': 461, '9': 321})\n",
      "Average Agent Reward: 380.4\n",
      "Total avg: 3778.9399999999987\n"
     ]
    },
    {
     "data": {
      "text/plain": "37789.39999999999"
     },
     "execution_count": 5,
     "metadata": {},
     "output_type": "execute_result"
    }
   ],
   "source": [
    "test_centralized(model, env, 100, num_agents, 0, 1)"
   ],
   "metadata": {
    "collapsed": false,
    "ExecuteTime": {
     "end_time": "2023-09-26T03:39:33.771878Z",
     "start_time": "2023-09-26T03:38:05.368019Z"
    }
   },
   "id": "97651a6a5b97b717"
  },
  {
   "cell_type": "code",
   "execution_count": null,
   "outputs": [],
   "source": [],
   "metadata": {
    "collapsed": false
   },
   "id": "b3067524f99257d"
  }
 ],
 "metadata": {
  "kernelspec": {
   "display_name": "Python 3",
   "language": "python",
   "name": "python3"
  },
  "language_info": {
   "codemirror_mode": {
    "name": "ipython",
    "version": 2
   },
   "file_extension": ".py",
   "mimetype": "text/x-python",
   "name": "python",
   "nbconvert_exporter": "python",
   "pygments_lexer": "ipython2",
   "version": "2.7.6"
  }
 },
 "nbformat": 4,
 "nbformat_minor": 5
}
