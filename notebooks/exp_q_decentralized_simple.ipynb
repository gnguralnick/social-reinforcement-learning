{
 "cells": [
  {
   "cell_type": "code",
   "execution_count": 1,
   "metadata": {},
   "outputs": [
    {
     "name": "stderr",
     "output_type": "stream",
     "text": [
      "2023-11-22 00:19:52,115\tWARNING deprecation.py:50 -- DeprecationWarning: `DirectStepOptimizer` has been deprecated. This will raise an error in the future!\n"
     ]
    }
   ],
   "source": [
    "from environments import ZeroDCleanupEnv\n",
    "from agents import QAgent\n",
    "import numpy as np\n",
    "from collections import defaultdict\n",
    "import torch\n",
    "import sys\n",
    "from tqdm import tqdm"
   ]
  },
  {
   "cell_type": "code",
   "execution_count": 2,
   "metadata": {},
   "outputs": [
    {
     "name": "stdout",
     "output_type": "stream",
     "text": [
      "cpu\n"
     ]
    }
   ],
   "source": [
    "device = torch.device(\"cuda\" if torch.cuda.is_available() else \"cpu\")\n",
    "print(device)\n",
    "np.set_printoptions(threshold=sys.maxsize)"
   ]
  },
  {
   "cell_type": "code",
   "execution_count": 3,
   "metadata": {},
   "outputs": [],
   "source": [
    "num_agents = 10\n",
    "agent_ids = [str(i) for i in range(num_agents)]\n",
    "reward_multiplier = 10"
   ]
  },
  {
   "cell_type": "code",
   "execution_count": 4,
   "metadata": {},
   "outputs": [],
   "source": [
    "pp = False\n",
    "verbose = False"
   ]
  },
  {
   "cell_type": "code",
   "execution_count": 5,
   "metadata": {},
   "outputs": [],
   "source": [
    "num_episodes = 200\n",
    "verbose_episode = num_episodes - 1\n",
    "max_steps_per_episode = 1000\n",
    "state_dim = 4\n",
    "action_dim = 2"
   ]
  },
  {
   "cell_type": "code",
   "execution_count": 6,
   "metadata": {},
   "outputs": [],
   "source": [
    "thresholdDepletion = 0.4\n",
    "thresholdRestoration = 0.0\n",
    "wasteSpawnProbability = 0.5\n",
    "appleRespawnProbability = 0.05\n",
    "dirt_multiplier = 10\n",
    "\n",
    "area = 150"
   ]
  },
  {
   "cell_type": "code",
   "execution_count": 7,
   "metadata": {},
   "outputs": [],
   "source": [
    "lr = 0.01\n",
    "gamma = 0.99\n",
    "epsilon = 0.5\n",
    "epsilon_decay = 0.9999\n",
    "epsilon_min = 0.05\n",
    "batch_size = 128"
   ]
  },
  {
   "cell_type": "code",
   "execution_count": 8,
   "metadata": {},
   "outputs": [],
   "source": [
    "env = ZeroDCleanupEnv(agent_ids, \n",
    "                      num_agents=num_agents, \n",
    "                      area=area, \n",
    "                      thresholdDepletion=thresholdDepletion,\n",
    "                      thresholdRestoration=thresholdRestoration,\n",
    "                      wasteSpawnProbability=wasteSpawnProbability,\n",
    "                      appleRespawnProbability=appleRespawnProbability,\n",
    "                      dirt_multiplier=dirt_multiplier)\n",
    "\n",
    "agents = {\n",
    "    agent_id: QAgent(device=device,\n",
    "                    num_action_outputs=1,\n",
    "                    action_size=action_dim,\n",
    "                    state_dim=state_dim,\n",
    "                    lr=lr,\n",
    "                    gamma=gamma,\n",
    "                    epsilon=epsilon,\n",
    "                    epsilon_decay=epsilon_decay,\n",
    "                    epsilon_min=epsilon_min,\n",
    "                    batch_size=batch_size,\n",
    "                    q_layers=[\n",
    "                        (state_dim, 16),\n",
    "                        (16, 8),\n",
    "                        #(64, 64),\n",
    "                        #(16, 16),\n",
    "                        (8, action_dim)\n",
    "                    ],\n",
    "                    verbose=False)\n",
    "    for agent_id in agent_ids\n",
    "}"
   ]
  },
  {
   "cell_type": "code",
   "execution_count": 9,
   "metadata": {},
   "outputs": [],
   "source": [
    "ending_ep_rewards = []\n",
    "avg_agent_rewards = []\n",
    "agent_reward_variances = []\n",
    "weight_graph = defaultdict(list)"
   ]
  },
  {
   "cell_type": "code",
   "execution_count": 10,
   "metadata": {},
   "outputs": [],
   "source": [
    "import uuid\n",
    "import os\n",
    "\n",
    "if not os.path.exists(\"results\"):\n",
    "    os.mkdir(\"results\")\n",
    "\n",
    "test_id = uuid.uuid4()\n",
    "os.mkdir(\"results/q_simple_\" + str(test_id))\n",
    "f = open(\"results/q_simple_\" + str(test_id) + \"/logs.txt\", \"x\")"
   ]
  },
  {
   "cell_type": "code",
   "execution_count": 11,
   "metadata": {},
   "outputs": [
    {
     "name": "stdout",
     "output_type": "stream",
     "text": [
      "========= Episode 0 =========\n",
      "info: {'total_apple_consumed': 0, 'step_apple_consumed': 0, 'apple': 0, 'dirt': 78, 'picker': 0, 'cleaner': 0, 'total_reward_by_agent': {'7': 0, '1': 0, '8': 0, '6': 0, '5': 0, '0': 0, '4': 0, '2': 0, '3': 0, '9': 0}}\n"
     ]
    },
    {
     "name": "stderr",
     "output_type": "stream",
     "text": [
      " 13%|█▎        | 129/1000 [00:00<00:00, 939.51it/s]"
     ]
    },
    {
     "name": "stderr",
     "output_type": "stream",
     "text": [
      "100%|█████████▉| 999/1000 [00:08<00:00, 112.88it/s]\n"
     ]
    },
    {
     "name": "stdout",
     "output_type": "stream",
     "text": [
      "ending reward: 2614\n",
      "========= End of Episode 0 =========\n",
      "========= Episode 1 =========\n",
      "info: {'total_apple_consumed': 0, 'step_apple_consumed': 0, 'apple': 0, 'dirt': 78, 'picker': 0, 'cleaner': 0, 'total_reward_by_agent': {'7': 0, '1': 0, '8': 0, '6': 0, '5': 0, '0': 0, '4': 0, '2': 0, '3': 0, '9': 0}}\n"
     ]
    },
    {
     "name": "stderr",
     "output_type": "stream",
     "text": [
      "100%|█████████▉| 999/1000 [00:09<00:00, 101.49it/s]\n"
     ]
    },
    {
     "name": "stdout",
     "output_type": "stream",
     "text": [
      "ending reward: 2508\n",
      "========= End of Episode 1 =========\n",
      "========= Episode 2 =========\n",
      "info: {'total_apple_consumed': 0, 'step_apple_consumed': 0, 'apple': 0, 'dirt': 78, 'picker': 0, 'cleaner': 0, 'total_reward_by_agent': {'7': 0, '1': 0, '8': 0, '6': 0, '5': 0, '0': 0, '4': 0, '2': 0, '3': 0, '9': 0}}\n"
     ]
    },
    {
     "name": "stderr",
     "output_type": "stream",
     "text": [
      "100%|█████████▉| 999/1000 [00:10<00:00, 99.07it/s] \n"
     ]
    },
    {
     "name": "stdout",
     "output_type": "stream",
     "text": [
      "ending reward: 2426\n",
      "========= End of Episode 2 =========\n",
      "========= Episode 3 =========\n",
      "info: {'total_apple_consumed': 0, 'step_apple_consumed': 0, 'apple': 0, 'dirt': 78, 'picker': 0, 'cleaner': 0, 'total_reward_by_agent': {'7': 0, '1': 0, '8': 0, '6': 0, '5': 0, '0': 0, '4': 0, '2': 0, '3': 0, '9': 0}}\n"
     ]
    },
    {
     "name": "stderr",
     "output_type": "stream",
     "text": [
      "100%|█████████▉| 999/1000 [00:09<00:00, 102.87it/s]\n"
     ]
    },
    {
     "name": "stdout",
     "output_type": "stream",
     "text": [
      "ending reward: 2069\n",
      "========= End of Episode 3 =========\n",
      "========= Episode 4 =========\n",
      "info: {'total_apple_consumed': 0, 'step_apple_consumed': 0, 'apple': 0, 'dirt': 78, 'picker': 0, 'cleaner': 0, 'total_reward_by_agent': {'7': 0, '1': 0, '8': 0, '6': 0, '5': 0, '0': 0, '4': 0, '2': 0, '3': 0, '9': 0}}\n"
     ]
    },
    {
     "name": "stderr",
     "output_type": "stream",
     "text": [
      "100%|█████████▉| 999/1000 [00:10<00:00, 97.31it/s] \n"
     ]
    },
    {
     "name": "stdout",
     "output_type": "stream",
     "text": [
      "ending reward: 1896\n",
      "========= End of Episode 4 =========\n",
      "========= Episode 5 =========\n",
      "info: {'total_apple_consumed': 0, 'step_apple_consumed': 0, 'apple': 0, 'dirt': 78, 'picker': 0, 'cleaner': 0, 'total_reward_by_agent': {'7': 0, '1': 0, '8': 0, '6': 0, '5': 0, '0': 0, '4': 0, '2': 0, '3': 0, '9': 0}}\n"
     ]
    },
    {
     "name": "stderr",
     "output_type": "stream",
     "text": [
      "100%|█████████▉| 999/1000 [00:09<00:00, 104.09it/s]\n"
     ]
    },
    {
     "name": "stdout",
     "output_type": "stream",
     "text": [
      "ending reward: 1513\n",
      "========= End of Episode 5 =========\n",
      "========= Episode 6 =========\n",
      "info: {'total_apple_consumed': 0, 'step_apple_consumed': 0, 'apple': 0, 'dirt': 78, 'picker': 0, 'cleaner': 0, 'total_reward_by_agent': {'7': 0, '1': 0, '8': 0, '6': 0, '5': 0, '0': 0, '4': 0, '2': 0, '3': 0, '9': 0}}\n"
     ]
    },
    {
     "name": "stderr",
     "output_type": "stream",
     "text": [
      "100%|█████████▉| 999/1000 [00:10<00:00, 99.09it/s] \n"
     ]
    },
    {
     "name": "stdout",
     "output_type": "stream",
     "text": [
      "ending reward: 1463\n",
      "========= End of Episode 6 =========\n",
      "========= Episode 7 =========\n",
      "info: {'total_apple_consumed': 0, 'step_apple_consumed': 0, 'apple': 0, 'dirt': 78, 'picker': 0, 'cleaner': 0, 'total_reward_by_agent': {'7': 0, '1': 0, '8': 0, '6': 0, '5': 0, '0': 0, '4': 0, '2': 0, '3': 0, '9': 0}}\n"
     ]
    },
    {
     "name": "stderr",
     "output_type": "stream",
     "text": [
      "100%|█████████▉| 999/1000 [00:09<00:00, 103.25it/s]\n"
     ]
    },
    {
     "name": "stdout",
     "output_type": "stream",
     "text": [
      "ending reward: 1109\n",
      "========= End of Episode 7 =========\n",
      "========= Episode 8 =========\n",
      "info: {'total_apple_consumed': 0, 'step_apple_consumed': 0, 'apple': 0, 'dirt': 78, 'picker': 0, 'cleaner': 0, 'total_reward_by_agent': {'7': 0, '1': 0, '8': 0, '6': 0, '5': 0, '0': 0, '4': 0, '2': 0, '3': 0, '9': 0}}\n"
     ]
    },
    {
     "name": "stderr",
     "output_type": "stream",
     "text": [
      "100%|█████████▉| 999/1000 [00:09<00:00, 103.96it/s]\n"
     ]
    },
    {
     "name": "stdout",
     "output_type": "stream",
     "text": [
      "ending reward: 901\n",
      "========= End of Episode 8 =========\n",
      "========= Episode 9 =========\n",
      "info: {'total_apple_consumed': 0, 'step_apple_consumed': 0, 'apple': 0, 'dirt': 78, 'picker': 0, 'cleaner': 0, 'total_reward_by_agent': {'7': 0, '1': 0, '8': 0, '6': 0, '5': 0, '0': 0, '4': 0, '2': 0, '3': 0, '9': 0}}\n"
     ]
    },
    {
     "name": "stderr",
     "output_type": "stream",
     "text": [
      "100%|█████████▉| 999/1000 [00:09<00:00, 101.98it/s]\n"
     ]
    },
    {
     "name": "stdout",
     "output_type": "stream",
     "text": [
      "ending reward: 684\n",
      "========= End of Episode 9 =========\n",
      "========= Episode 10 =========\n",
      "info: {'total_apple_consumed': 0, 'step_apple_consumed': 0, 'apple': 0, 'dirt': 78, 'picker': 0, 'cleaner': 0, 'total_reward_by_agent': {'7': 0, '1': 0, '8': 0, '6': 0, '5': 0, '0': 0, '4': 0, '2': 0, '3': 0, '9': 0}}\n"
     ]
    },
    {
     "name": "stderr",
     "output_type": "stream",
     "text": [
      "100%|█████████▉| 999/1000 [00:09<00:00, 104.43it/s]\n"
     ]
    },
    {
     "name": "stdout",
     "output_type": "stream",
     "text": [
      "ending reward: 515\n",
      "========= End of Episode 10 =========\n",
      "========= Episode 11 =========\n",
      "info: {'total_apple_consumed': 0, 'step_apple_consumed': 0, 'apple': 0, 'dirt': 78, 'picker': 0, 'cleaner': 0, 'total_reward_by_agent': {'7': 0, '1': 0, '8': 0, '6': 0, '5': 0, '0': 0, '4': 0, '2': 0, '3': 0, '9': 0}}\n"
     ]
    },
    {
     "name": "stderr",
     "output_type": "stream",
     "text": [
      "100%|█████████▉| 999/1000 [00:09<00:00, 107.00it/s]\n"
     ]
    },
    {
     "name": "stdout",
     "output_type": "stream",
     "text": [
      "ending reward: 597\n",
      "========= End of Episode 11 =========\n",
      "========= Episode 12 =========\n",
      "info: {'total_apple_consumed': 0, 'step_apple_consumed': 0, 'apple': 0, 'dirt': 78, 'picker': 0, 'cleaner': 0, 'total_reward_by_agent': {'7': 0, '1': 0, '8': 0, '6': 0, '5': 0, '0': 0, '4': 0, '2': 0, '3': 0, '9': 0}}\n"
     ]
    },
    {
     "name": "stderr",
     "output_type": "stream",
     "text": [
      "100%|█████████▉| 999/1000 [00:09<00:00, 102.52it/s]\n"
     ]
    },
    {
     "name": "stdout",
     "output_type": "stream",
     "text": [
      "ending reward: 398\n",
      "========= End of Episode 12 =========\n",
      "========= Episode 13 =========\n",
      "info: {'total_apple_consumed': 0, 'step_apple_consumed': 0, 'apple': 0, 'dirt': 78, 'picker': 0, 'cleaner': 0, 'total_reward_by_agent': {'7': 0, '1': 0, '8': 0, '6': 0, '5': 0, '0': 0, '4': 0, '2': 0, '3': 0, '9': 0}}\n"
     ]
    },
    {
     "name": "stderr",
     "output_type": "stream",
     "text": [
      "100%|█████████▉| 999/1000 [00:11<00:00, 84.26it/s] \n"
     ]
    },
    {
     "name": "stdout",
     "output_type": "stream",
     "text": [
      "ending reward: 520\n",
      "========= End of Episode 13 =========\n",
      "========= Episode 14 =========\n",
      "info: {'total_apple_consumed': 0, 'step_apple_consumed': 0, 'apple': 0, 'dirt': 78, 'picker': 0, 'cleaner': 0, 'total_reward_by_agent': {'7': 0, '1': 0, '8': 0, '6': 0, '5': 0, '0': 0, '4': 0, '2': 0, '3': 0, '9': 0}}\n"
     ]
    },
    {
     "name": "stderr",
     "output_type": "stream",
     "text": [
      "100%|█████████▉| 999/1000 [00:12<00:00, 81.04it/s] \n"
     ]
    },
    {
     "name": "stdout",
     "output_type": "stream",
     "text": [
      "ending reward: 259\n",
      "========= End of Episode 14 =========\n",
      "========= Episode 15 =========\n",
      "info: {'total_apple_consumed': 0, 'step_apple_consumed': 0, 'apple': 0, 'dirt': 78, 'picker': 0, 'cleaner': 0, 'total_reward_by_agent': {'7': 0, '1': 0, '8': 0, '6': 0, '5': 0, '0': 0, '4': 0, '2': 0, '3': 0, '9': 0}}\n"
     ]
    },
    {
     "name": "stderr",
     "output_type": "stream",
     "text": [
      "100%|█████████▉| 999/1000 [00:11<00:00, 85.67it/s] \n"
     ]
    },
    {
     "name": "stdout",
     "output_type": "stream",
     "text": [
      "ending reward: 203\n",
      "========= End of Episode 15 =========\n",
      "========= Episode 16 =========\n",
      "info: {'total_apple_consumed': 0, 'step_apple_consumed': 0, 'apple': 0, 'dirt': 78, 'picker': 0, 'cleaner': 0, 'total_reward_by_agent': {'7': 0, '1': 0, '8': 0, '6': 0, '5': 0, '0': 0, '4': 0, '2': 0, '3': 0, '9': 0}}\n"
     ]
    },
    {
     "name": "stderr",
     "output_type": "stream",
     "text": [
      "100%|█████████▉| 999/1000 [00:11<00:00, 85.70it/s] \n"
     ]
    },
    {
     "name": "stdout",
     "output_type": "stream",
     "text": [
      "ending reward: 243\n",
      "========= End of Episode 16 =========\n",
      "========= Episode 17 =========\n",
      "info: {'total_apple_consumed': 0, 'step_apple_consumed': 0, 'apple': 0, 'dirt': 78, 'picker': 0, 'cleaner': 0, 'total_reward_by_agent': {'7': 0, '1': 0, '8': 0, '6': 0, '5': 0, '0': 0, '4': 0, '2': 0, '3': 0, '9': 0}}\n"
     ]
    },
    {
     "name": "stderr",
     "output_type": "stream",
     "text": [
      "100%|█████████▉| 999/1000 [00:11<00:00, 83.61it/s] \n"
     ]
    },
    {
     "name": "stdout",
     "output_type": "stream",
     "text": [
      "ending reward: 134\n",
      "========= End of Episode 17 =========\n",
      "========= Episode 18 =========\n",
      "info: {'total_apple_consumed': 0, 'step_apple_consumed': 0, 'apple': 0, 'dirt': 78, 'picker': 0, 'cleaner': 0, 'total_reward_by_agent': {'7': 0, '1': 0, '8': 0, '6': 0, '5': 0, '0': 0, '4': 0, '2': 0, '3': 0, '9': 0}}\n"
     ]
    },
    {
     "name": "stderr",
     "output_type": "stream",
     "text": [
      "100%|█████████▉| 999/1000 [00:09<00:00, 107.14it/s]\n"
     ]
    },
    {
     "name": "stdout",
     "output_type": "stream",
     "text": [
      "ending reward: 131\n",
      "========= End of Episode 18 =========\n",
      "========= Episode 19 =========\n",
      "info: {'total_apple_consumed': 0, 'step_apple_consumed': 0, 'apple': 0, 'dirt': 78, 'picker': 0, 'cleaner': 0, 'total_reward_by_agent': {'7': 0, '1': 0, '8': 0, '6': 0, '5': 0, '0': 0, '4': 0, '2': 0, '3': 0, '9': 0}}\n"
     ]
    },
    {
     "name": "stderr",
     "output_type": "stream",
     "text": [
      "100%|█████████▉| 999/1000 [00:12<00:00, 80.11it/s] \n"
     ]
    },
    {
     "name": "stdout",
     "output_type": "stream",
     "text": [
      "ending reward: 90\n",
      "========= End of Episode 19 =========\n",
      "========= Episode 20 =========\n",
      "info: {'total_apple_consumed': 0, 'step_apple_consumed': 0, 'apple': 0, 'dirt': 78, 'picker': 0, 'cleaner': 0, 'total_reward_by_agent': {'7': 0, '1': 0, '8': 0, '6': 0, '5': 0, '0': 0, '4': 0, '2': 0, '3': 0, '9': 0}}\n"
     ]
    },
    {
     "name": "stderr",
     "output_type": "stream",
     "text": [
      "100%|█████████▉| 999/1000 [00:11<00:00, 86.18it/s] \n"
     ]
    },
    {
     "name": "stdout",
     "output_type": "stream",
     "text": [
      "ending reward: 60\n",
      "========= End of Episode 20 =========\n",
      "========= Episode 21 =========\n",
      "info: {'total_apple_consumed': 0, 'step_apple_consumed': 0, 'apple': 0, 'dirt': 78, 'picker': 0, 'cleaner': 0, 'total_reward_by_agent': {'7': 0, '1': 0, '8': 0, '6': 0, '5': 0, '0': 0, '4': 0, '2': 0, '3': 0, '9': 0}}\n"
     ]
    },
    {
     "name": "stderr",
     "output_type": "stream",
     "text": [
      "100%|█████████▉| 999/1000 [00:09<00:00, 104.27it/s]\n"
     ]
    },
    {
     "name": "stdout",
     "output_type": "stream",
     "text": [
      "ending reward: 44\n",
      "========= End of Episode 21 =========\n",
      "========= Episode 22 =========\n",
      "info: {'total_apple_consumed': 0, 'step_apple_consumed': 0, 'apple': 0, 'dirt': 78, 'picker': 0, 'cleaner': 0, 'total_reward_by_agent': {'7': 0, '1': 0, '8': 0, '6': 0, '5': 0, '0': 0, '4': 0, '2': 0, '3': 0, '9': 0}}\n"
     ]
    },
    {
     "name": "stderr",
     "output_type": "stream",
     "text": [
      "100%|█████████▉| 999/1000 [00:09<00:00, 103.05it/s]\n"
     ]
    },
    {
     "name": "stdout",
     "output_type": "stream",
     "text": [
      "ending reward: 18\n",
      "========= End of Episode 22 =========\n",
      "========= Episode 23 =========\n",
      "info: {'total_apple_consumed': 0, 'step_apple_consumed': 0, 'apple': 0, 'dirt': 78, 'picker': 0, 'cleaner': 0, 'total_reward_by_agent': {'7': 0, '1': 0, '8': 0, '6': 0, '5': 0, '0': 0, '4': 0, '2': 0, '3': 0, '9': 0}}\n"
     ]
    },
    {
     "name": "stderr",
     "output_type": "stream",
     "text": [
      "100%|█████████▉| 999/1000 [00:10<00:00, 99.57it/s] \n"
     ]
    },
    {
     "name": "stdout",
     "output_type": "stream",
     "text": [
      "ending reward: 27\n",
      "========= End of Episode 23 =========\n",
      "========= Episode 24 =========\n",
      "info: {'total_apple_consumed': 0, 'step_apple_consumed': 0, 'apple': 0, 'dirt': 78, 'picker': 0, 'cleaner': 0, 'total_reward_by_agent': {'7': 0, '1': 0, '8': 0, '6': 0, '5': 0, '0': 0, '4': 0, '2': 0, '3': 0, '9': 0}}\n"
     ]
    },
    {
     "name": "stderr",
     "output_type": "stream",
     "text": [
      "100%|█████████▉| 999/1000 [00:09<00:00, 100.76it/s]\n"
     ]
    },
    {
     "name": "stdout",
     "output_type": "stream",
     "text": [
      "ending reward: 63\n",
      "========= End of Episode 24 =========\n",
      "========= Episode 25 =========\n",
      "info: {'total_apple_consumed': 0, 'step_apple_consumed': 0, 'apple': 0, 'dirt': 78, 'picker': 0, 'cleaner': 0, 'total_reward_by_agent': {'7': 0, '1': 0, '8': 0, '6': 0, '5': 0, '0': 0, '4': 0, '2': 0, '3': 0, '9': 0}}\n"
     ]
    },
    {
     "name": "stderr",
     "output_type": "stream",
     "text": [
      "100%|█████████▉| 999/1000 [00:09<00:00, 103.39it/s]\n"
     ]
    },
    {
     "name": "stdout",
     "output_type": "stream",
     "text": [
      "ending reward: 28\n",
      "========= End of Episode 25 =========\n",
      "========= Episode 26 =========\n",
      "info: {'total_apple_consumed': 0, 'step_apple_consumed': 0, 'apple': 0, 'dirt': 78, 'picker': 0, 'cleaner': 0, 'total_reward_by_agent': {'7': 0, '1': 0, '8': 0, '6': 0, '5': 0, '0': 0, '4': 0, '2': 0, '3': 0, '9': 0}}\n"
     ]
    },
    {
     "name": "stderr",
     "output_type": "stream",
     "text": [
      "100%|█████████▉| 999/1000 [00:09<00:00, 103.36it/s]\n"
     ]
    },
    {
     "name": "stdout",
     "output_type": "stream",
     "text": [
      "ending reward: 56\n",
      "========= End of Episode 26 =========\n",
      "========= Episode 27 =========\n",
      "info: {'total_apple_consumed': 0, 'step_apple_consumed': 0, 'apple': 0, 'dirt': 78, 'picker': 0, 'cleaner': 0, 'total_reward_by_agent': {'7': 0, '1': 0, '8': 0, '6': 0, '5': 0, '0': 0, '4': 0, '2': 0, '3': 0, '9': 0}}\n"
     ]
    },
    {
     "name": "stderr",
     "output_type": "stream",
     "text": [
      "100%|█████████▉| 999/1000 [00:10<00:00, 97.46it/s] \n"
     ]
    },
    {
     "name": "stdout",
     "output_type": "stream",
     "text": [
      "ending reward: 33\n",
      "========= End of Episode 27 =========\n",
      "========= Episode 28 =========\n",
      "info: {'total_apple_consumed': 0, 'step_apple_consumed': 0, 'apple': 0, 'dirt': 78, 'picker': 0, 'cleaner': 0, 'total_reward_by_agent': {'7': 0, '1': 0, '8': 0, '6': 0, '5': 0, '0': 0, '4': 0, '2': 0, '3': 0, '9': 0}}\n"
     ]
    },
    {
     "name": "stderr",
     "output_type": "stream",
     "text": [
      "100%|█████████▉| 999/1000 [00:10<00:00, 96.59it/s] \n"
     ]
    },
    {
     "name": "stdout",
     "output_type": "stream",
     "text": [
      "ending reward: 41\n",
      "========= End of Episode 28 =========\n",
      "========= Episode 29 =========\n",
      "info: {'total_apple_consumed': 0, 'step_apple_consumed': 0, 'apple': 0, 'dirt': 78, 'picker': 0, 'cleaner': 0, 'total_reward_by_agent': {'7': 0, '1': 0, '8': 0, '6': 0, '5': 0, '0': 0, '4': 0, '2': 0, '3': 0, '9': 0}}\n"
     ]
    },
    {
     "name": "stderr",
     "output_type": "stream",
     "text": [
      "100%|█████████▉| 999/1000 [00:09<00:00, 108.10it/s]\n"
     ]
    },
    {
     "name": "stdout",
     "output_type": "stream",
     "text": [
      "ending reward: 85\n",
      "========= End of Episode 29 =========\n",
      "========= Episode 30 =========\n",
      "info: {'total_apple_consumed': 0, 'step_apple_consumed': 0, 'apple': 0, 'dirt': 78, 'picker': 0, 'cleaner': 0, 'total_reward_by_agent': {'7': 0, '1': 0, '8': 0, '6': 0, '5': 0, '0': 0, '4': 0, '2': 0, '3': 0, '9': 0}}\n"
     ]
    },
    {
     "name": "stderr",
     "output_type": "stream",
     "text": [
      "100%|█████████▉| 999/1000 [00:12<00:00, 79.92it/s] \n"
     ]
    },
    {
     "name": "stdout",
     "output_type": "stream",
     "text": [
      "ending reward: 27\n",
      "========= End of Episode 30 =========\n",
      "========= Episode 31 =========\n",
      "info: {'total_apple_consumed': 0, 'step_apple_consumed': 0, 'apple': 0, 'dirt': 78, 'picker': 0, 'cleaner': 0, 'total_reward_by_agent': {'7': 0, '1': 0, '8': 0, '6': 0, '5': 0, '0': 0, '4': 0, '2': 0, '3': 0, '9': 0}}\n"
     ]
    },
    {
     "name": "stderr",
     "output_type": "stream",
     "text": [
      "100%|█████████▉| 999/1000 [00:11<00:00, 86.67it/s] \n"
     ]
    },
    {
     "name": "stdout",
     "output_type": "stream",
     "text": [
      "ending reward: 244\n",
      "========= End of Episode 31 =========\n",
      "========= Episode 32 =========\n",
      "info: {'total_apple_consumed': 0, 'step_apple_consumed': 0, 'apple': 0, 'dirt': 78, 'picker': 0, 'cleaner': 0, 'total_reward_by_agent': {'7': 0, '1': 0, '8': 0, '6': 0, '5': 0, '0': 0, '4': 0, '2': 0, '3': 0, '9': 0}}\n"
     ]
    },
    {
     "name": "stderr",
     "output_type": "stream",
     "text": [
      "100%|█████████▉| 999/1000 [00:10<00:00, 92.15it/s] \n"
     ]
    },
    {
     "name": "stdout",
     "output_type": "stream",
     "text": [
      "ending reward: 45\n",
      "========= End of Episode 32 =========\n",
      "========= Episode 33 =========\n",
      "info: {'total_apple_consumed': 0, 'step_apple_consumed': 0, 'apple': 0, 'dirt': 78, 'picker': 0, 'cleaner': 0, 'total_reward_by_agent': {'7': 0, '1': 0, '8': 0, '6': 0, '5': 0, '0': 0, '4': 0, '2': 0, '3': 0, '9': 0}}\n"
     ]
    },
    {
     "name": "stderr",
     "output_type": "stream",
     "text": [
      "100%|█████████▉| 999/1000 [00:12<00:00, 78.00it/s]\n"
     ]
    },
    {
     "name": "stdout",
     "output_type": "stream",
     "text": [
      "ending reward: 31\n",
      "========= End of Episode 33 =========\n",
      "========= Episode 34 =========\n",
      "info: {'total_apple_consumed': 0, 'step_apple_consumed': 0, 'apple': 0, 'dirt': 78, 'picker': 0, 'cleaner': 0, 'total_reward_by_agent': {'7': 0, '1': 0, '8': 0, '6': 0, '5': 0, '0': 0, '4': 0, '2': 0, '3': 0, '9': 0}}\n"
     ]
    },
    {
     "name": "stderr",
     "output_type": "stream",
     "text": [
      "100%|█████████▉| 999/1000 [00:11<00:00, 88.33it/s] \n"
     ]
    },
    {
     "name": "stdout",
     "output_type": "stream",
     "text": [
      "ending reward: 35\n",
      "========= End of Episode 34 =========\n",
      "========= Episode 35 =========\n",
      "info: {'total_apple_consumed': 0, 'step_apple_consumed': 0, 'apple': 0, 'dirt': 78, 'picker': 0, 'cleaner': 0, 'total_reward_by_agent': {'7': 0, '1': 0, '8': 0, '6': 0, '5': 0, '0': 0, '4': 0, '2': 0, '3': 0, '9': 0}}\n"
     ]
    },
    {
     "name": "stderr",
     "output_type": "stream",
     "text": [
      "100%|█████████▉| 999/1000 [00:12<00:00, 81.25it/s] \n"
     ]
    },
    {
     "name": "stdout",
     "output_type": "stream",
     "text": [
      "ending reward: 63\n",
      "========= End of Episode 35 =========\n",
      "========= Episode 36 =========\n",
      "info: {'total_apple_consumed': 0, 'step_apple_consumed': 0, 'apple': 0, 'dirt': 78, 'picker': 0, 'cleaner': 0, 'total_reward_by_agent': {'7': 0, '1': 0, '8': 0, '6': 0, '5': 0, '0': 0, '4': 0, '2': 0, '3': 0, '9': 0}}\n"
     ]
    },
    {
     "name": "stderr",
     "output_type": "stream",
     "text": [
      "100%|█████████▉| 999/1000 [00:12<00:00, 82.94it/s] \n"
     ]
    },
    {
     "name": "stdout",
     "output_type": "stream",
     "text": [
      "ending reward: 32\n",
      "========= End of Episode 36 =========\n",
      "========= Episode 37 =========\n",
      "info: {'total_apple_consumed': 0, 'step_apple_consumed': 0, 'apple': 0, 'dirt': 78, 'picker': 0, 'cleaner': 0, 'total_reward_by_agent': {'7': 0, '1': 0, '8': 0, '6': 0, '5': 0, '0': 0, '4': 0, '2': 0, '3': 0, '9': 0}}\n"
     ]
    },
    {
     "name": "stderr",
     "output_type": "stream",
     "text": [
      "100%|█████████▉| 999/1000 [00:10<00:00, 99.74it/s] \n"
     ]
    },
    {
     "name": "stdout",
     "output_type": "stream",
     "text": [
      "ending reward: 69\n",
      "========= End of Episode 37 =========\n",
      "========= Episode 38 =========\n",
      "info: {'total_apple_consumed': 0, 'step_apple_consumed': 0, 'apple': 0, 'dirt': 78, 'picker': 0, 'cleaner': 0, 'total_reward_by_agent': {'7': 0, '1': 0, '8': 0, '6': 0, '5': 0, '0': 0, '4': 0, '2': 0, '3': 0, '9': 0}}\n"
     ]
    },
    {
     "name": "stderr",
     "output_type": "stream",
     "text": [
      "100%|█████████▉| 999/1000 [00:10<00:00, 98.05it/s] \n"
     ]
    },
    {
     "name": "stdout",
     "output_type": "stream",
     "text": [
      "ending reward: 29\n",
      "========= End of Episode 38 =========\n",
      "========= Episode 39 =========\n",
      "info: {'total_apple_consumed': 0, 'step_apple_consumed': 0, 'apple': 0, 'dirt': 78, 'picker': 0, 'cleaner': 0, 'total_reward_by_agent': {'7': 0, '1': 0, '8': 0, '6': 0, '5': 0, '0': 0, '4': 0, '2': 0, '3': 0, '9': 0}}\n"
     ]
    },
    {
     "name": "stderr",
     "output_type": "stream",
     "text": [
      "100%|█████████▉| 999/1000 [00:09<00:00, 102.37it/s]\n"
     ]
    },
    {
     "name": "stdout",
     "output_type": "stream",
     "text": [
      "ending reward: 54\n",
      "========= End of Episode 39 =========\n",
      "========= Episode 40 =========\n",
      "info: {'total_apple_consumed': 0, 'step_apple_consumed': 0, 'apple': 0, 'dirt': 78, 'picker': 0, 'cleaner': 0, 'total_reward_by_agent': {'7': 0, '1': 0, '8': 0, '6': 0, '5': 0, '0': 0, '4': 0, '2': 0, '3': 0, '9': 0}}\n"
     ]
    },
    {
     "name": "stderr",
     "output_type": "stream",
     "text": [
      "100%|█████████▉| 999/1000 [00:10<00:00, 97.65it/s] \n"
     ]
    },
    {
     "name": "stdout",
     "output_type": "stream",
     "text": [
      "ending reward: 37\n",
      "========= End of Episode 40 =========\n",
      "========= Episode 41 =========\n",
      "info: {'total_apple_consumed': 0, 'step_apple_consumed': 0, 'apple': 0, 'dirt': 78, 'picker': 0, 'cleaner': 0, 'total_reward_by_agent': {'7': 0, '1': 0, '8': 0, '6': 0, '5': 0, '0': 0, '4': 0, '2': 0, '3': 0, '9': 0}}\n"
     ]
    },
    {
     "name": "stderr",
     "output_type": "stream",
     "text": [
      "100%|█████████▉| 999/1000 [00:10<00:00, 93.75it/s] \n"
     ]
    },
    {
     "name": "stdout",
     "output_type": "stream",
     "text": [
      "ending reward: 48\n",
      "========= End of Episode 41 =========\n",
      "========= Episode 42 =========\n",
      "info: {'total_apple_consumed': 0, 'step_apple_consumed': 0, 'apple': 0, 'dirt': 78, 'picker': 0, 'cleaner': 0, 'total_reward_by_agent': {'7': 0, '1': 0, '8': 0, '6': 0, '5': 0, '0': 0, '4': 0, '2': 0, '3': 0, '9': 0}}\n"
     ]
    },
    {
     "name": "stderr",
     "output_type": "stream",
     "text": [
      "100%|█████████▉| 999/1000 [00:10<00:00, 93.15it/s] \n"
     ]
    },
    {
     "name": "stdout",
     "output_type": "stream",
     "text": [
      "ending reward: 59\n",
      "========= End of Episode 42 =========\n",
      "========= Episode 43 =========\n",
      "info: {'total_apple_consumed': 0, 'step_apple_consumed': 0, 'apple': 0, 'dirt': 78, 'picker': 0, 'cleaner': 0, 'total_reward_by_agent': {'7': 0, '1': 0, '8': 0, '6': 0, '5': 0, '0': 0, '4': 0, '2': 0, '3': 0, '9': 0}}\n"
     ]
    },
    {
     "name": "stderr",
     "output_type": "stream",
     "text": [
      "100%|█████████▉| 999/1000 [00:10<00:00, 98.15it/s] \n"
     ]
    },
    {
     "name": "stdout",
     "output_type": "stream",
     "text": [
      "ending reward: 396\n",
      "========= End of Episode 43 =========\n",
      "========= Episode 44 =========\n",
      "info: {'total_apple_consumed': 0, 'step_apple_consumed': 0, 'apple': 0, 'dirt': 78, 'picker': 0, 'cleaner': 0, 'total_reward_by_agent': {'7': 0, '1': 0, '8': 0, '6': 0, '5': 0, '0': 0, '4': 0, '2': 0, '3': 0, '9': 0}}\n"
     ]
    },
    {
     "name": "stderr",
     "output_type": "stream",
     "text": [
      "100%|█████████▉| 999/1000 [00:10<00:00, 98.19it/s] \n"
     ]
    },
    {
     "name": "stdout",
     "output_type": "stream",
     "text": [
      "ending reward: 32\n",
      "========= End of Episode 44 =========\n",
      "========= Episode 45 =========\n",
      "info: {'total_apple_consumed': 0, 'step_apple_consumed': 0, 'apple': 0, 'dirt': 78, 'picker': 0, 'cleaner': 0, 'total_reward_by_agent': {'7': 0, '1': 0, '8': 0, '6': 0, '5': 0, '0': 0, '4': 0, '2': 0, '3': 0, '9': 0}}\n"
     ]
    },
    {
     "name": "stderr",
     "output_type": "stream",
     "text": [
      "100%|█████████▉| 999/1000 [00:10<00:00, 96.29it/s] \n"
     ]
    },
    {
     "name": "stdout",
     "output_type": "stream",
     "text": [
      "ending reward: 22\n",
      "========= End of Episode 45 =========\n",
      "========= Episode 46 =========\n",
      "info: {'total_apple_consumed': 0, 'step_apple_consumed': 0, 'apple': 0, 'dirt': 78, 'picker': 0, 'cleaner': 0, 'total_reward_by_agent': {'7': 0, '1': 0, '8': 0, '6': 0, '5': 0, '0': 0, '4': 0, '2': 0, '3': 0, '9': 0}}\n"
     ]
    },
    {
     "name": "stderr",
     "output_type": "stream",
     "text": [
      "100%|█████████▉| 999/1000 [00:09<00:00, 102.84it/s]\n"
     ]
    },
    {
     "name": "stdout",
     "output_type": "stream",
     "text": [
      "ending reward: 97\n",
      "========= End of Episode 46 =========\n",
      "========= Episode 47 =========\n",
      "info: {'total_apple_consumed': 0, 'step_apple_consumed': 0, 'apple': 0, 'dirt': 78, 'picker': 0, 'cleaner': 0, 'total_reward_by_agent': {'7': 0, '1': 0, '8': 0, '6': 0, '5': 0, '0': 0, '4': 0, '2': 0, '3': 0, '9': 0}}\n"
     ]
    },
    {
     "name": "stderr",
     "output_type": "stream",
     "text": [
      "100%|█████████▉| 999/1000 [00:10<00:00, 97.82it/s] \n"
     ]
    },
    {
     "name": "stdout",
     "output_type": "stream",
     "text": [
      "ending reward: 42\n",
      "========= End of Episode 47 =========\n",
      "========= Episode 48 =========\n",
      "info: {'total_apple_consumed': 0, 'step_apple_consumed': 0, 'apple': 0, 'dirt': 78, 'picker': 0, 'cleaner': 0, 'total_reward_by_agent': {'7': 0, '1': 0, '8': 0, '6': 0, '5': 0, '0': 0, '4': 0, '2': 0, '3': 0, '9': 0}}\n"
     ]
    },
    {
     "name": "stderr",
     "output_type": "stream",
     "text": [
      "100%|█████████▉| 999/1000 [00:10<00:00, 99.28it/s] \n"
     ]
    },
    {
     "name": "stdout",
     "output_type": "stream",
     "text": [
      "ending reward: 32\n",
      "========= End of Episode 48 =========\n",
      "========= Episode 49 =========\n",
      "info: {'total_apple_consumed': 0, 'step_apple_consumed': 0, 'apple': 0, 'dirt': 78, 'picker': 0, 'cleaner': 0, 'total_reward_by_agent': {'7': 0, '1': 0, '8': 0, '6': 0, '5': 0, '0': 0, '4': 0, '2': 0, '3': 0, '9': 0}}\n"
     ]
    },
    {
     "name": "stderr",
     "output_type": "stream",
     "text": [
      "100%|█████████▉| 999/1000 [00:10<00:00, 96.90it/s] \n"
     ]
    },
    {
     "name": "stdout",
     "output_type": "stream",
     "text": [
      "ending reward: 77\n",
      "========= End of Episode 49 =========\n",
      "========= Episode 50 =========\n",
      "info: {'total_apple_consumed': 0, 'step_apple_consumed': 0, 'apple': 0, 'dirt': 78, 'picker': 0, 'cleaner': 0, 'total_reward_by_agent': {'7': 0, '1': 0, '8': 0, '6': 0, '5': 0, '0': 0, '4': 0, '2': 0, '3': 0, '9': 0}}\n"
     ]
    },
    {
     "name": "stderr",
     "output_type": "stream",
     "text": [
      "100%|█████████▉| 999/1000 [00:10<00:00, 94.12it/s] \n"
     ]
    },
    {
     "name": "stdout",
     "output_type": "stream",
     "text": [
      "ending reward: 15\n",
      "========= End of Episode 50 =========\n",
      "========= Episode 51 =========\n",
      "info: {'total_apple_consumed': 0, 'step_apple_consumed': 0, 'apple': 0, 'dirt': 78, 'picker': 0, 'cleaner': 0, 'total_reward_by_agent': {'7': 0, '1': 0, '8': 0, '6': 0, '5': 0, '0': 0, '4': 0, '2': 0, '3': 0, '9': 0}}\n"
     ]
    },
    {
     "name": "stderr",
     "output_type": "stream",
     "text": [
      "100%|█████████▉| 999/1000 [00:09<00:00, 105.37it/s]\n"
     ]
    },
    {
     "name": "stdout",
     "output_type": "stream",
     "text": [
      "ending reward: 69\n",
      "========= End of Episode 51 =========\n",
      "========= Episode 52 =========\n",
      "info: {'total_apple_consumed': 0, 'step_apple_consumed': 0, 'apple': 0, 'dirt': 78, 'picker': 0, 'cleaner': 0, 'total_reward_by_agent': {'7': 0, '1': 0, '8': 0, '6': 0, '5': 0, '0': 0, '4': 0, '2': 0, '3': 0, '9': 0}}\n"
     ]
    },
    {
     "name": "stderr",
     "output_type": "stream",
     "text": [
      "100%|█████████▉| 999/1000 [00:09<00:00, 101.57it/s]\n"
     ]
    },
    {
     "name": "stdout",
     "output_type": "stream",
     "text": [
      "ending reward: 42\n",
      "========= End of Episode 52 =========\n",
      "========= Episode 53 =========\n",
      "info: {'total_apple_consumed': 0, 'step_apple_consumed': 0, 'apple': 0, 'dirt': 78, 'picker': 0, 'cleaner': 0, 'total_reward_by_agent': {'7': 0, '1': 0, '8': 0, '6': 0, '5': 0, '0': 0, '4': 0, '2': 0, '3': 0, '9': 0}}\n"
     ]
    },
    {
     "name": "stderr",
     "output_type": "stream",
     "text": [
      "100%|█████████▉| 999/1000 [00:10<00:00, 98.82it/s] \n"
     ]
    },
    {
     "name": "stdout",
     "output_type": "stream",
     "text": [
      "ending reward: 40\n",
      "========= End of Episode 53 =========\n",
      "========= Episode 54 =========\n",
      "info: {'total_apple_consumed': 0, 'step_apple_consumed': 0, 'apple': 0, 'dirt': 78, 'picker': 0, 'cleaner': 0, 'total_reward_by_agent': {'7': 0, '1': 0, '8': 0, '6': 0, '5': 0, '0': 0, '4': 0, '2': 0, '3': 0, '9': 0}}\n"
     ]
    },
    {
     "name": "stderr",
     "output_type": "stream",
     "text": [
      "100%|█████████▉| 999/1000 [00:09<00:00, 106.17it/s]\n"
     ]
    },
    {
     "name": "stdout",
     "output_type": "stream",
     "text": [
      "ending reward: 62\n",
      "========= End of Episode 54 =========\n",
      "========= Episode 55 =========\n",
      "info: {'total_apple_consumed': 0, 'step_apple_consumed': 0, 'apple': 0, 'dirt': 78, 'picker': 0, 'cleaner': 0, 'total_reward_by_agent': {'7': 0, '1': 0, '8': 0, '6': 0, '5': 0, '0': 0, '4': 0, '2': 0, '3': 0, '9': 0}}\n"
     ]
    },
    {
     "name": "stderr",
     "output_type": "stream",
     "text": [
      "100%|█████████▉| 999/1000 [00:09<00:00, 102.66it/s]\n"
     ]
    },
    {
     "name": "stdout",
     "output_type": "stream",
     "text": [
      "ending reward: 38\n",
      "========= End of Episode 55 =========\n",
      "========= Episode 56 =========\n",
      "info: {'total_apple_consumed': 0, 'step_apple_consumed': 0, 'apple': 0, 'dirt': 78, 'picker': 0, 'cleaner': 0, 'total_reward_by_agent': {'7': 0, '1': 0, '8': 0, '6': 0, '5': 0, '0': 0, '4': 0, '2': 0, '3': 0, '9': 0}}\n"
     ]
    },
    {
     "name": "stderr",
     "output_type": "stream",
     "text": [
      "100%|█████████▉| 999/1000 [00:09<00:00, 101.41it/s]\n"
     ]
    },
    {
     "name": "stdout",
     "output_type": "stream",
     "text": [
      "ending reward: 26\n",
      "========= End of Episode 56 =========\n",
      "========= Episode 57 =========\n",
      "info: {'total_apple_consumed': 0, 'step_apple_consumed': 0, 'apple': 0, 'dirt': 78, 'picker': 0, 'cleaner': 0, 'total_reward_by_agent': {'7': 0, '1': 0, '8': 0, '6': 0, '5': 0, '0': 0, '4': 0, '2': 0, '3': 0, '9': 0}}\n"
     ]
    },
    {
     "name": "stderr",
     "output_type": "stream",
     "text": [
      "100%|█████████▉| 999/1000 [00:10<00:00, 97.88it/s] \n"
     ]
    },
    {
     "name": "stdout",
     "output_type": "stream",
     "text": [
      "ending reward: 38\n",
      "========= End of Episode 57 =========\n",
      "========= Episode 58 =========\n",
      "info: {'total_apple_consumed': 0, 'step_apple_consumed': 0, 'apple': 0, 'dirt': 78, 'picker': 0, 'cleaner': 0, 'total_reward_by_agent': {'7': 0, '1': 0, '8': 0, '6': 0, '5': 0, '0': 0, '4': 0, '2': 0, '3': 0, '9': 0}}\n"
     ]
    },
    {
     "name": "stderr",
     "output_type": "stream",
     "text": [
      "100%|█████████▉| 999/1000 [00:09<00:00, 104.97it/s]\n"
     ]
    },
    {
     "name": "stdout",
     "output_type": "stream",
     "text": [
      "ending reward: 38\n",
      "========= End of Episode 58 =========\n",
      "========= Episode 59 =========\n",
      "info: {'total_apple_consumed': 0, 'step_apple_consumed': 0, 'apple': 0, 'dirt': 78, 'picker': 0, 'cleaner': 0, 'total_reward_by_agent': {'7': 0, '1': 0, '8': 0, '6': 0, '5': 0, '0': 0, '4': 0, '2': 0, '3': 0, '9': 0}}\n"
     ]
    },
    {
     "name": "stderr",
     "output_type": "stream",
     "text": [
      "100%|█████████▉| 999/1000 [00:08<00:00, 112.29it/s]\n"
     ]
    },
    {
     "name": "stdout",
     "output_type": "stream",
     "text": [
      "ending reward: 35\n",
      "========= End of Episode 59 =========\n",
      "========= Episode 60 =========\n",
      "info: {'total_apple_consumed': 0, 'step_apple_consumed': 0, 'apple': 0, 'dirt': 78, 'picker': 0, 'cleaner': 0, 'total_reward_by_agent': {'7': 0, '1': 0, '8': 0, '6': 0, '5': 0, '0': 0, '4': 0, '2': 0, '3': 0, '9': 0}}\n"
     ]
    },
    {
     "name": "stderr",
     "output_type": "stream",
     "text": [
      "100%|█████████▉| 999/1000 [00:09<00:00, 105.66it/s]\n"
     ]
    },
    {
     "name": "stdout",
     "output_type": "stream",
     "text": [
      "ending reward: 42\n",
      "========= End of Episode 60 =========\n",
      "========= Episode 61 =========\n",
      "info: {'total_apple_consumed': 0, 'step_apple_consumed': 0, 'apple': 0, 'dirt': 78, 'picker': 0, 'cleaner': 0, 'total_reward_by_agent': {'7': 0, '1': 0, '8': 0, '6': 0, '5': 0, '0': 0, '4': 0, '2': 0, '3': 0, '9': 0}}\n"
     ]
    },
    {
     "name": "stderr",
     "output_type": "stream",
     "text": [
      "100%|█████████▉| 999/1000 [00:09<00:00, 102.29it/s]\n"
     ]
    },
    {
     "name": "stdout",
     "output_type": "stream",
     "text": [
      "ending reward: 30\n",
      "========= End of Episode 61 =========\n",
      "========= Episode 62 =========\n",
      "info: {'total_apple_consumed': 0, 'step_apple_consumed': 0, 'apple': 0, 'dirt': 78, 'picker': 0, 'cleaner': 0, 'total_reward_by_agent': {'7': 0, '1': 0, '8': 0, '6': 0, '5': 0, '0': 0, '4': 0, '2': 0, '3': 0, '9': 0}}\n"
     ]
    },
    {
     "name": "stderr",
     "output_type": "stream",
     "text": [
      "100%|█████████▉| 999/1000 [00:12<00:00, 80.48it/s] \n"
     ]
    },
    {
     "name": "stdout",
     "output_type": "stream",
     "text": [
      "ending reward: 18\n",
      "========= End of Episode 62 =========\n",
      "========= Episode 63 =========\n",
      "info: {'total_apple_consumed': 0, 'step_apple_consumed': 0, 'apple': 0, 'dirt': 78, 'picker': 0, 'cleaner': 0, 'total_reward_by_agent': {'7': 0, '1': 0, '8': 0, '6': 0, '5': 0, '0': 0, '4': 0, '2': 0, '3': 0, '9': 0}}\n"
     ]
    },
    {
     "name": "stderr",
     "output_type": "stream",
     "text": [
      "100%|█████████▉| 999/1000 [00:12<00:00, 80.28it/s] \n"
     ]
    },
    {
     "name": "stdout",
     "output_type": "stream",
     "text": [
      "ending reward: 57\n",
      "========= End of Episode 63 =========\n",
      "========= Episode 64 =========\n",
      "info: {'total_apple_consumed': 0, 'step_apple_consumed': 0, 'apple': 0, 'dirt': 78, 'picker': 0, 'cleaner': 0, 'total_reward_by_agent': {'7': 0, '1': 0, '8': 0, '6': 0, '5': 0, '0': 0, '4': 0, '2': 0, '3': 0, '9': 0}}\n"
     ]
    },
    {
     "name": "stderr",
     "output_type": "stream",
     "text": [
      "100%|█████████▉| 999/1000 [00:11<00:00, 84.93it/s] \n"
     ]
    },
    {
     "name": "stdout",
     "output_type": "stream",
     "text": [
      "ending reward: 49\n",
      "========= End of Episode 64 =========\n",
      "========= Episode 65 =========\n",
      "info: {'total_apple_consumed': 0, 'step_apple_consumed': 0, 'apple': 0, 'dirt': 78, 'picker': 0, 'cleaner': 0, 'total_reward_by_agent': {'7': 0, '1': 0, '8': 0, '6': 0, '5': 0, '0': 0, '4': 0, '2': 0, '3': 0, '9': 0}}\n"
     ]
    },
    {
     "name": "stderr",
     "output_type": "stream",
     "text": [
      "100%|█████████▉| 999/1000 [00:11<00:00, 87.66it/s] \n"
     ]
    },
    {
     "name": "stdout",
     "output_type": "stream",
     "text": [
      "ending reward: 50\n",
      "========= End of Episode 65 =========\n",
      "========= Episode 66 =========\n",
      "info: {'total_apple_consumed': 0, 'step_apple_consumed': 0, 'apple': 0, 'dirt': 78, 'picker': 0, 'cleaner': 0, 'total_reward_by_agent': {'7': 0, '1': 0, '8': 0, '6': 0, '5': 0, '0': 0, '4': 0, '2': 0, '3': 0, '9': 0}}\n"
     ]
    },
    {
     "name": "stderr",
     "output_type": "stream",
     "text": [
      "100%|█████████▉| 999/1000 [00:10<00:00, 90.89it/s] \n"
     ]
    },
    {
     "name": "stdout",
     "output_type": "stream",
     "text": [
      "ending reward: 32\n",
      "========= End of Episode 66 =========\n",
      "========= Episode 67 =========\n",
      "info: {'total_apple_consumed': 0, 'step_apple_consumed': 0, 'apple': 0, 'dirt': 78, 'picker': 0, 'cleaner': 0, 'total_reward_by_agent': {'7': 0, '1': 0, '8': 0, '6': 0, '5': 0, '0': 0, '4': 0, '2': 0, '3': 0, '9': 0}}\n"
     ]
    },
    {
     "name": "stderr",
     "output_type": "stream",
     "text": [
      "100%|█████████▉| 999/1000 [00:09<00:00, 105.54it/s]\n"
     ]
    },
    {
     "name": "stdout",
     "output_type": "stream",
     "text": [
      "ending reward: 32\n",
      "========= End of Episode 67 =========\n",
      "========= Episode 68 =========\n",
      "info: {'total_apple_consumed': 0, 'step_apple_consumed': 0, 'apple': 0, 'dirt': 78, 'picker': 0, 'cleaner': 0, 'total_reward_by_agent': {'7': 0, '1': 0, '8': 0, '6': 0, '5': 0, '0': 0, '4': 0, '2': 0, '3': 0, '9': 0}}\n"
     ]
    },
    {
     "name": "stderr",
     "output_type": "stream",
     "text": [
      "100%|█████████▉| 999/1000 [00:09<00:00, 103.10it/s]\n"
     ]
    },
    {
     "name": "stdout",
     "output_type": "stream",
     "text": [
      "ending reward: 37\n",
      "========= End of Episode 68 =========\n",
      "========= Episode 69 =========\n",
      "info: {'total_apple_consumed': 0, 'step_apple_consumed': 0, 'apple': 0, 'dirt': 78, 'picker': 0, 'cleaner': 0, 'total_reward_by_agent': {'7': 0, '1': 0, '8': 0, '6': 0, '5': 0, '0': 0, '4': 0, '2': 0, '3': 0, '9': 0}}\n"
     ]
    },
    {
     "name": "stderr",
     "output_type": "stream",
     "text": [
      "100%|█████████▉| 999/1000 [00:09<00:00, 100.42it/s]\n"
     ]
    },
    {
     "name": "stdout",
     "output_type": "stream",
     "text": [
      "ending reward: 64\n",
      "========= End of Episode 69 =========\n",
      "========= Episode 70 =========\n",
      "info: {'total_apple_consumed': 0, 'step_apple_consumed': 0, 'apple': 0, 'dirt': 78, 'picker': 0, 'cleaner': 0, 'total_reward_by_agent': {'7': 0, '1': 0, '8': 0, '6': 0, '5': 0, '0': 0, '4': 0, '2': 0, '3': 0, '9': 0}}\n"
     ]
    },
    {
     "name": "stderr",
     "output_type": "stream",
     "text": [
      "100%|█████████▉| 999/1000 [00:09<00:00, 100.24it/s]\n"
     ]
    },
    {
     "name": "stdout",
     "output_type": "stream",
     "text": [
      "ending reward: 56\n",
      "========= End of Episode 70 =========\n",
      "========= Episode 71 =========\n",
      "info: {'total_apple_consumed': 0, 'step_apple_consumed': 0, 'apple': 0, 'dirt': 78, 'picker': 0, 'cleaner': 0, 'total_reward_by_agent': {'7': 0, '1': 0, '8': 0, '6': 0, '5': 0, '0': 0, '4': 0, '2': 0, '3': 0, '9': 0}}\n"
     ]
    },
    {
     "name": "stderr",
     "output_type": "stream",
     "text": [
      "100%|█████████▉| 999/1000 [00:10<00:00, 99.59it/s] \n"
     ]
    },
    {
     "name": "stdout",
     "output_type": "stream",
     "text": [
      "ending reward: 49\n",
      "========= End of Episode 71 =========\n",
      "========= Episode 72 =========\n",
      "info: {'total_apple_consumed': 0, 'step_apple_consumed': 0, 'apple': 0, 'dirt': 78, 'picker': 0, 'cleaner': 0, 'total_reward_by_agent': {'7': 0, '1': 0, '8': 0, '6': 0, '5': 0, '0': 0, '4': 0, '2': 0, '3': 0, '9': 0}}\n"
     ]
    },
    {
     "name": "stderr",
     "output_type": "stream",
     "text": [
      "100%|█████████▉| 999/1000 [00:11<00:00, 89.02it/s] \n"
     ]
    },
    {
     "name": "stdout",
     "output_type": "stream",
     "text": [
      "ending reward: 32\n",
      "========= End of Episode 72 =========\n",
      "========= Episode 73 =========\n",
      "info: {'total_apple_consumed': 0, 'step_apple_consumed': 0, 'apple': 0, 'dirt': 78, 'picker': 0, 'cleaner': 0, 'total_reward_by_agent': {'7': 0, '1': 0, '8': 0, '6': 0, '5': 0, '0': 0, '4': 0, '2': 0, '3': 0, '9': 0}}\n"
     ]
    },
    {
     "name": "stderr",
     "output_type": "stream",
     "text": [
      "100%|█████████▉| 999/1000 [00:11<00:00, 88.47it/s] \n"
     ]
    },
    {
     "name": "stdout",
     "output_type": "stream",
     "text": [
      "ending reward: 39\n",
      "========= End of Episode 73 =========\n",
      "========= Episode 74 =========\n",
      "info: {'total_apple_consumed': 0, 'step_apple_consumed': 0, 'apple': 0, 'dirt': 78, 'picker': 0, 'cleaner': 0, 'total_reward_by_agent': {'7': 0, '1': 0, '8': 0, '6': 0, '5': 0, '0': 0, '4': 0, '2': 0, '3': 0, '9': 0}}\n"
     ]
    },
    {
     "name": "stderr",
     "output_type": "stream",
     "text": [
      "100%|█████████▉| 999/1000 [00:11<00:00, 83.68it/s] \n"
     ]
    },
    {
     "name": "stdout",
     "output_type": "stream",
     "text": [
      "ending reward: 54\n",
      "========= End of Episode 74 =========\n",
      "========= Episode 75 =========\n",
      "info: {'total_apple_consumed': 0, 'step_apple_consumed': 0, 'apple': 0, 'dirt': 78, 'picker': 0, 'cleaner': 0, 'total_reward_by_agent': {'7': 0, '1': 0, '8': 0, '6': 0, '5': 0, '0': 0, '4': 0, '2': 0, '3': 0, '9': 0}}\n"
     ]
    },
    {
     "name": "stderr",
     "output_type": "stream",
     "text": [
      "100%|█████████▉| 999/1000 [00:09<00:00, 103.84it/s]\n"
     ]
    },
    {
     "name": "stdout",
     "output_type": "stream",
     "text": [
      "ending reward: 32\n",
      "========= End of Episode 75 =========\n",
      "========= Episode 76 =========\n",
      "info: {'total_apple_consumed': 0, 'step_apple_consumed': 0, 'apple': 0, 'dirt': 78, 'picker': 0, 'cleaner': 0, 'total_reward_by_agent': {'7': 0, '1': 0, '8': 0, '6': 0, '5': 0, '0': 0, '4': 0, '2': 0, '3': 0, '9': 0}}\n"
     ]
    },
    {
     "name": "stderr",
     "output_type": "stream",
     "text": [
      "100%|█████████▉| 999/1000 [00:11<00:00, 86.72it/s] \n"
     ]
    },
    {
     "name": "stdout",
     "output_type": "stream",
     "text": [
      "ending reward: 24\n",
      "========= End of Episode 76 =========\n",
      "========= Episode 77 =========\n",
      "info: {'total_apple_consumed': 0, 'step_apple_consumed': 0, 'apple': 0, 'dirt': 78, 'picker': 0, 'cleaner': 0, 'total_reward_by_agent': {'7': 0, '1': 0, '8': 0, '6': 0, '5': 0, '0': 0, '4': 0, '2': 0, '3': 0, '9': 0}}\n"
     ]
    },
    {
     "name": "stderr",
     "output_type": "stream",
     "text": [
      "100%|█████████▉| 999/1000 [00:12<00:00, 83.12it/s] \n"
     ]
    },
    {
     "name": "stdout",
     "output_type": "stream",
     "text": [
      "ending reward: 33\n",
      "========= End of Episode 77 =========\n",
      "========= Episode 78 =========\n",
      "info: {'total_apple_consumed': 0, 'step_apple_consumed': 0, 'apple': 0, 'dirt': 78, 'picker': 0, 'cleaner': 0, 'total_reward_by_agent': {'7': 0, '1': 0, '8': 0, '6': 0, '5': 0, '0': 0, '4': 0, '2': 0, '3': 0, '9': 0}}\n"
     ]
    },
    {
     "name": "stderr",
     "output_type": "stream",
     "text": [
      "100%|█████████▉| 999/1000 [00:13<00:00, 75.89it/s]\n"
     ]
    },
    {
     "name": "stdout",
     "output_type": "stream",
     "text": [
      "ending reward: 48\n",
      "========= End of Episode 78 =========\n",
      "========= Episode 79 =========\n",
      "info: {'total_apple_consumed': 0, 'step_apple_consumed': 0, 'apple': 0, 'dirt': 78, 'picker': 0, 'cleaner': 0, 'total_reward_by_agent': {'7': 0, '1': 0, '8': 0, '6': 0, '5': 0, '0': 0, '4': 0, '2': 0, '3': 0, '9': 0}}\n"
     ]
    },
    {
     "name": "stderr",
     "output_type": "stream",
     "text": [
      "100%|█████████▉| 999/1000 [00:13<00:00, 74.41it/s] \n"
     ]
    },
    {
     "name": "stdout",
     "output_type": "stream",
     "text": [
      "ending reward: 71\n",
      "========= End of Episode 79 =========\n",
      "========= Episode 80 =========\n",
      "info: {'total_apple_consumed': 0, 'step_apple_consumed': 0, 'apple': 0, 'dirt': 78, 'picker': 0, 'cleaner': 0, 'total_reward_by_agent': {'7': 0, '1': 0, '8': 0, '6': 0, '5': 0, '0': 0, '4': 0, '2': 0, '3': 0, '9': 0}}\n"
     ]
    },
    {
     "name": "stderr",
     "output_type": "stream",
     "text": [
      "100%|█████████▉| 999/1000 [00:13<00:00, 74.69it/s]\n"
     ]
    },
    {
     "name": "stdout",
     "output_type": "stream",
     "text": [
      "ending reward: 53\n",
      "========= End of Episode 80 =========\n",
      "========= Episode 81 =========\n",
      "info: {'total_apple_consumed': 0, 'step_apple_consumed': 0, 'apple': 0, 'dirt': 78, 'picker': 0, 'cleaner': 0, 'total_reward_by_agent': {'7': 0, '1': 0, '8': 0, '6': 0, '5': 0, '0': 0, '4': 0, '2': 0, '3': 0, '9': 0}}\n"
     ]
    },
    {
     "name": "stderr",
     "output_type": "stream",
     "text": [
      "100%|█████████▉| 999/1000 [00:11<00:00, 88.15it/s]\n"
     ]
    },
    {
     "name": "stdout",
     "output_type": "stream",
     "text": [
      "ending reward: 22\n",
      "========= End of Episode 81 =========\n",
      "========= Episode 82 =========\n",
      "info: {'total_apple_consumed': 0, 'step_apple_consumed': 0, 'apple': 0, 'dirt': 78, 'picker': 0, 'cleaner': 0, 'total_reward_by_agent': {'7': 0, '1': 0, '8': 0, '6': 0, '5': 0, '0': 0, '4': 0, '2': 0, '3': 0, '9': 0}}\n"
     ]
    },
    {
     "name": "stderr",
     "output_type": "stream",
     "text": [
      "100%|█████████▉| 999/1000 [00:14<00:00, 69.99it/s]\n"
     ]
    },
    {
     "name": "stdout",
     "output_type": "stream",
     "text": [
      "ending reward: 59\n",
      "========= End of Episode 82 =========\n",
      "========= Episode 83 =========\n",
      "info: {'total_apple_consumed': 0, 'step_apple_consumed': 0, 'apple': 0, 'dirt': 78, 'picker': 0, 'cleaner': 0, 'total_reward_by_agent': {'7': 0, '1': 0, '8': 0, '6': 0, '5': 0, '0': 0, '4': 0, '2': 0, '3': 0, '9': 0}}\n"
     ]
    },
    {
     "name": "stderr",
     "output_type": "stream",
     "text": [
      "100%|█████████▉| 999/1000 [00:14<00:00, 70.08it/s]\n"
     ]
    },
    {
     "name": "stdout",
     "output_type": "stream",
     "text": [
      "ending reward: 34\n",
      "========= End of Episode 83 =========\n",
      "========= Episode 84 =========\n",
      "info: {'total_apple_consumed': 0, 'step_apple_consumed': 0, 'apple': 0, 'dirt': 78, 'picker': 0, 'cleaner': 0, 'total_reward_by_agent': {'7': 0, '1': 0, '8': 0, '6': 0, '5': 0, '0': 0, '4': 0, '2': 0, '3': 0, '9': 0}}\n"
     ]
    },
    {
     "name": "stderr",
     "output_type": "stream",
     "text": [
      "100%|█████████▉| 999/1000 [00:13<00:00, 74.64it/s] \n"
     ]
    },
    {
     "name": "stdout",
     "output_type": "stream",
     "text": [
      "ending reward: 42\n",
      "========= End of Episode 84 =========\n",
      "========= Episode 85 =========\n",
      "info: {'total_apple_consumed': 0, 'step_apple_consumed': 0, 'apple': 0, 'dirt': 78, 'picker': 0, 'cleaner': 0, 'total_reward_by_agent': {'7': 0, '1': 0, '8': 0, '6': 0, '5': 0, '0': 0, '4': 0, '2': 0, '3': 0, '9': 0}}\n"
     ]
    },
    {
     "name": "stderr",
     "output_type": "stream",
     "text": [
      "100%|█████████▉| 999/1000 [00:15<00:00, 64.61it/s]\n"
     ]
    },
    {
     "name": "stdout",
     "output_type": "stream",
     "text": [
      "ending reward: 49\n",
      "========= End of Episode 85 =========\n",
      "========= Episode 86 =========\n",
      "info: {'total_apple_consumed': 0, 'step_apple_consumed': 0, 'apple': 0, 'dirt': 78, 'picker': 0, 'cleaner': 0, 'total_reward_by_agent': {'7': 0, '1': 0, '8': 0, '6': 0, '5': 0, '0': 0, '4': 0, '2': 0, '3': 0, '9': 0}}\n"
     ]
    },
    {
     "name": "stderr",
     "output_type": "stream",
     "text": [
      "100%|█████████▉| 999/1000 [00:16<00:00, 59.14it/s]\n"
     ]
    },
    {
     "name": "stdout",
     "output_type": "stream",
     "text": [
      "ending reward: 28\n",
      "========= End of Episode 86 =========\n",
      "========= Episode 87 =========\n",
      "info: {'total_apple_consumed': 0, 'step_apple_consumed': 0, 'apple': 0, 'dirt': 78, 'picker': 0, 'cleaner': 0, 'total_reward_by_agent': {'7': 0, '1': 0, '8': 0, '6': 0, '5': 0, '0': 0, '4': 0, '2': 0, '3': 0, '9': 0}}\n"
     ]
    },
    {
     "name": "stderr",
     "output_type": "stream",
     "text": [
      "100%|█████████▉| 999/1000 [00:17<00:00, 58.20it/s]\n"
     ]
    },
    {
     "name": "stdout",
     "output_type": "stream",
     "text": [
      "ending reward: 55\n",
      "========= End of Episode 87 =========\n",
      "========= Episode 88 =========\n",
      "info: {'total_apple_consumed': 0, 'step_apple_consumed': 0, 'apple': 0, 'dirt': 78, 'picker': 0, 'cleaner': 0, 'total_reward_by_agent': {'7': 0, '1': 0, '8': 0, '6': 0, '5': 0, '0': 0, '4': 0, '2': 0, '3': 0, '9': 0}}\n"
     ]
    },
    {
     "name": "stderr",
     "output_type": "stream",
     "text": [
      "100%|█████████▉| 999/1000 [00:14<00:00, 67.66it/s]\n"
     ]
    },
    {
     "name": "stdout",
     "output_type": "stream",
     "text": [
      "ending reward: 55\n",
      "========= End of Episode 88 =========\n",
      "========= Episode 89 =========\n",
      "info: {'total_apple_consumed': 0, 'step_apple_consumed': 0, 'apple': 0, 'dirt': 78, 'picker': 0, 'cleaner': 0, 'total_reward_by_agent': {'7': 0, '1': 0, '8': 0, '6': 0, '5': 0, '0': 0, '4': 0, '2': 0, '3': 0, '9': 0}}\n"
     ]
    },
    {
     "name": "stderr",
     "output_type": "stream",
     "text": [
      "100%|█████████▉| 999/1000 [00:14<00:00, 67.81it/s]\n"
     ]
    },
    {
     "name": "stdout",
     "output_type": "stream",
     "text": [
      "ending reward: 38\n",
      "========= End of Episode 89 =========\n",
      "========= Episode 90 =========\n",
      "info: {'total_apple_consumed': 0, 'step_apple_consumed': 0, 'apple': 0, 'dirt': 78, 'picker': 0, 'cleaner': 0, 'total_reward_by_agent': {'7': 0, '1': 0, '8': 0, '6': 0, '5': 0, '0': 0, '4': 0, '2': 0, '3': 0, '9': 0}}\n"
     ]
    },
    {
     "name": "stderr",
     "output_type": "stream",
     "text": [
      "100%|█████████▉| 999/1000 [00:15<00:00, 65.19it/s]\n"
     ]
    },
    {
     "name": "stdout",
     "output_type": "stream",
     "text": [
      "ending reward: 41\n",
      "========= End of Episode 90 =========\n",
      "========= Episode 91 =========\n",
      "info: {'total_apple_consumed': 0, 'step_apple_consumed': 0, 'apple': 0, 'dirt': 78, 'picker': 0, 'cleaner': 0, 'total_reward_by_agent': {'7': 0, '1': 0, '8': 0, '6': 0, '5': 0, '0': 0, '4': 0, '2': 0, '3': 0, '9': 0}}\n"
     ]
    },
    {
     "name": "stderr",
     "output_type": "stream",
     "text": [
      "100%|█████████▉| 999/1000 [00:17<00:00, 56.18it/s]\n"
     ]
    },
    {
     "name": "stdout",
     "output_type": "stream",
     "text": [
      "ending reward: 27\n",
      "========= End of Episode 91 =========\n",
      "========= Episode 92 =========\n",
      "info: {'total_apple_consumed': 0, 'step_apple_consumed': 0, 'apple': 0, 'dirt': 78, 'picker': 0, 'cleaner': 0, 'total_reward_by_agent': {'7': 0, '1': 0, '8': 0, '6': 0, '5': 0, '0': 0, '4': 0, '2': 0, '3': 0, '9': 0}}\n"
     ]
    },
    {
     "name": "stderr",
     "output_type": "stream",
     "text": [
      "100%|█████████▉| 999/1000 [00:17<00:00, 58.08it/s]\n"
     ]
    },
    {
     "name": "stdout",
     "output_type": "stream",
     "text": [
      "ending reward: 72\n",
      "========= End of Episode 92 =========\n",
      "========= Episode 93 =========\n",
      "info: {'total_apple_consumed': 0, 'step_apple_consumed': 0, 'apple': 0, 'dirt': 78, 'picker': 0, 'cleaner': 0, 'total_reward_by_agent': {'7': 0, '1': 0, '8': 0, '6': 0, '5': 0, '0': 0, '4': 0, '2': 0, '3': 0, '9': 0}}\n"
     ]
    },
    {
     "name": "stderr",
     "output_type": "stream",
     "text": [
      "100%|█████████▉| 999/1000 [00:15<00:00, 65.22it/s]\n"
     ]
    },
    {
     "name": "stdout",
     "output_type": "stream",
     "text": [
      "ending reward: 23\n",
      "========= End of Episode 93 =========\n",
      "========= Episode 94 =========\n",
      "info: {'total_apple_consumed': 0, 'step_apple_consumed': 0, 'apple': 0, 'dirt': 78, 'picker': 0, 'cleaner': 0, 'total_reward_by_agent': {'7': 0, '1': 0, '8': 0, '6': 0, '5': 0, '0': 0, '4': 0, '2': 0, '3': 0, '9': 0}}\n"
     ]
    },
    {
     "name": "stderr",
     "output_type": "stream",
     "text": [
      "100%|█████████▉| 999/1000 [00:16<00:00, 60.83it/s]\n"
     ]
    },
    {
     "name": "stdout",
     "output_type": "stream",
     "text": [
      "ending reward: 37\n",
      "========= End of Episode 94 =========\n",
      "========= Episode 95 =========\n",
      "info: {'total_apple_consumed': 0, 'step_apple_consumed': 0, 'apple': 0, 'dirt': 78, 'picker': 0, 'cleaner': 0, 'total_reward_by_agent': {'7': 0, '1': 0, '8': 0, '6': 0, '5': 0, '0': 0, '4': 0, '2': 0, '3': 0, '9': 0}}\n"
     ]
    },
    {
     "name": "stderr",
     "output_type": "stream",
     "text": [
      "100%|█████████▉| 999/1000 [00:17<00:00, 57.34it/s]\n"
     ]
    },
    {
     "name": "stdout",
     "output_type": "stream",
     "text": [
      "ending reward: 72\n",
      "========= End of Episode 95 =========\n",
      "========= Episode 96 =========\n",
      "info: {'total_apple_consumed': 0, 'step_apple_consumed': 0, 'apple': 0, 'dirt': 78, 'picker': 0, 'cleaner': 0, 'total_reward_by_agent': {'7': 0, '1': 0, '8': 0, '6': 0, '5': 0, '0': 0, '4': 0, '2': 0, '3': 0, '9': 0}}\n"
     ]
    },
    {
     "name": "stderr",
     "output_type": "stream",
     "text": [
      "100%|█████████▉| 999/1000 [00:14<00:00, 69.33it/s]\n"
     ]
    },
    {
     "name": "stdout",
     "output_type": "stream",
     "text": [
      "ending reward: 17\n",
      "========= End of Episode 96 =========\n",
      "========= Episode 97 =========\n",
      "info: {'total_apple_consumed': 0, 'step_apple_consumed': 0, 'apple': 0, 'dirt': 78, 'picker': 0, 'cleaner': 0, 'total_reward_by_agent': {'7': 0, '1': 0, '8': 0, '6': 0, '5': 0, '0': 0, '4': 0, '2': 0, '3': 0, '9': 0}}\n"
     ]
    },
    {
     "name": "stderr",
     "output_type": "stream",
     "text": [
      "100%|█████████▉| 999/1000 [00:15<00:00, 64.09it/s]\n"
     ]
    },
    {
     "name": "stdout",
     "output_type": "stream",
     "text": [
      "ending reward: 31\n",
      "========= End of Episode 97 =========\n",
      "========= Episode 98 =========\n",
      "info: {'total_apple_consumed': 0, 'step_apple_consumed': 0, 'apple': 0, 'dirt': 78, 'picker': 0, 'cleaner': 0, 'total_reward_by_agent': {'7': 0, '1': 0, '8': 0, '6': 0, '5': 0, '0': 0, '4': 0, '2': 0, '3': 0, '9': 0}}\n"
     ]
    },
    {
     "name": "stderr",
     "output_type": "stream",
     "text": [
      "100%|█████████▉| 999/1000 [00:15<00:00, 65.32it/s]\n"
     ]
    },
    {
     "name": "stdout",
     "output_type": "stream",
     "text": [
      "ending reward: 65\n",
      "========= End of Episode 98 =========\n",
      "========= Episode 99 =========\n",
      "info: {'total_apple_consumed': 0, 'step_apple_consumed': 0, 'apple': 0, 'dirt': 78, 'picker': 0, 'cleaner': 0, 'total_reward_by_agent': {'7': 0, '1': 0, '8': 0, '6': 0, '5': 0, '0': 0, '4': 0, '2': 0, '3': 0, '9': 0}}\n"
     ]
    },
    {
     "name": "stderr",
     "output_type": "stream",
     "text": [
      "100%|█████████▉| 999/1000 [00:14<00:00, 71.30it/s]\n"
     ]
    },
    {
     "name": "stdout",
     "output_type": "stream",
     "text": [
      "ending reward: 49\n",
      "========= End of Episode 99 =========\n",
      "========= Episode 100 =========\n",
      "info: {'total_apple_consumed': 0, 'step_apple_consumed': 0, 'apple': 0, 'dirt': 78, 'picker': 0, 'cleaner': 0, 'total_reward_by_agent': {'7': 0, '1': 0, '8': 0, '6': 0, '5': 0, '0': 0, '4': 0, '2': 0, '3': 0, '9': 0}}\n"
     ]
    },
    {
     "name": "stderr",
     "output_type": "stream",
     "text": [
      "100%|█████████▉| 999/1000 [00:13<00:00, 72.59it/s]\n"
     ]
    },
    {
     "name": "stdout",
     "output_type": "stream",
     "text": [
      "ending reward: 30\n",
      "========= End of Episode 100 =========\n",
      "========= Episode 101 =========\n",
      "info: {'total_apple_consumed': 0, 'step_apple_consumed': 0, 'apple': 0, 'dirt': 78, 'picker': 0, 'cleaner': 0, 'total_reward_by_agent': {'7': 0, '1': 0, '8': 0, '6': 0, '5': 0, '0': 0, '4': 0, '2': 0, '3': 0, '9': 0}}\n"
     ]
    },
    {
     "name": "stderr",
     "output_type": "stream",
     "text": [
      "100%|█████████▉| 999/1000 [00:15<00:00, 64.90it/s]\n"
     ]
    },
    {
     "name": "stdout",
     "output_type": "stream",
     "text": [
      "ending reward: 82\n",
      "========= End of Episode 101 =========\n",
      "========= Episode 102 =========\n",
      "info: {'total_apple_consumed': 0, 'step_apple_consumed': 0, 'apple': 0, 'dirt': 78, 'picker': 0, 'cleaner': 0, 'total_reward_by_agent': {'7': 0, '1': 0, '8': 0, '6': 0, '5': 0, '0': 0, '4': 0, '2': 0, '3': 0, '9': 0}}\n"
     ]
    },
    {
     "name": "stderr",
     "output_type": "stream",
     "text": [
      "100%|█████████▉| 999/1000 [00:15<00:00, 62.47it/s]\n"
     ]
    },
    {
     "name": "stdout",
     "output_type": "stream",
     "text": [
      "ending reward: 67\n",
      "========= End of Episode 102 =========\n",
      "========= Episode 103 =========\n",
      "info: {'total_apple_consumed': 0, 'step_apple_consumed': 0, 'apple': 0, 'dirt': 78, 'picker': 0, 'cleaner': 0, 'total_reward_by_agent': {'7': 0, '1': 0, '8': 0, '6': 0, '5': 0, '0': 0, '4': 0, '2': 0, '3': 0, '9': 0}}\n"
     ]
    },
    {
     "name": "stderr",
     "output_type": "stream",
     "text": [
      "100%|█████████▉| 999/1000 [00:14<00:00, 70.40it/s]\n"
     ]
    },
    {
     "name": "stdout",
     "output_type": "stream",
     "text": [
      "ending reward: 94\n",
      "========= End of Episode 103 =========\n",
      "========= Episode 104 =========\n",
      "info: {'total_apple_consumed': 0, 'step_apple_consumed': 0, 'apple': 0, 'dirt': 78, 'picker': 0, 'cleaner': 0, 'total_reward_by_agent': {'7': 0, '1': 0, '8': 0, '6': 0, '5': 0, '0': 0, '4': 0, '2': 0, '3': 0, '9': 0}}\n"
     ]
    },
    {
     "name": "stderr",
     "output_type": "stream",
     "text": [
      "100%|█████████▉| 999/1000 [00:13<00:00, 72.29it/s]\n"
     ]
    },
    {
     "name": "stdout",
     "output_type": "stream",
     "text": [
      "ending reward: 176\n",
      "========= End of Episode 104 =========\n",
      "========= Episode 105 =========\n",
      "info: {'total_apple_consumed': 0, 'step_apple_consumed': 0, 'apple': 0, 'dirt': 78, 'picker': 0, 'cleaner': 0, 'total_reward_by_agent': {'7': 0, '1': 0, '8': 0, '6': 0, '5': 0, '0': 0, '4': 0, '2': 0, '3': 0, '9': 0}}\n"
     ]
    },
    {
     "name": "stderr",
     "output_type": "stream",
     "text": [
      "100%|█████████▉| 999/1000 [00:16<00:00, 61.69it/s]\n"
     ]
    },
    {
     "name": "stdout",
     "output_type": "stream",
     "text": [
      "ending reward: 25\n",
      "========= End of Episode 105 =========\n",
      "========= Episode 106 =========\n",
      "info: {'total_apple_consumed': 0, 'step_apple_consumed': 0, 'apple': 0, 'dirt': 78, 'picker': 0, 'cleaner': 0, 'total_reward_by_agent': {'7': 0, '1': 0, '8': 0, '6': 0, '5': 0, '0': 0, '4': 0, '2': 0, '3': 0, '9': 0}}\n"
     ]
    },
    {
     "name": "stderr",
     "output_type": "stream",
     "text": [
      "100%|█████████▉| 999/1000 [00:14<00:00, 68.80it/s]\n"
     ]
    },
    {
     "name": "stdout",
     "output_type": "stream",
     "text": [
      "ending reward: 71\n",
      "========= End of Episode 106 =========\n",
      "========= Episode 107 =========\n",
      "info: {'total_apple_consumed': 0, 'step_apple_consumed': 0, 'apple': 0, 'dirt': 78, 'picker': 0, 'cleaner': 0, 'total_reward_by_agent': {'7': 0, '1': 0, '8': 0, '6': 0, '5': 0, '0': 0, '4': 0, '2': 0, '3': 0, '9': 0}}\n"
     ]
    },
    {
     "name": "stderr",
     "output_type": "stream",
     "text": [
      "100%|█████████▉| 999/1000 [00:12<00:00, 82.09it/s]\n"
     ]
    },
    {
     "name": "stdout",
     "output_type": "stream",
     "text": [
      "ending reward: 40\n",
      "========= End of Episode 107 =========\n",
      "========= Episode 108 =========\n",
      "info: {'total_apple_consumed': 0, 'step_apple_consumed': 0, 'apple': 0, 'dirt': 78, 'picker': 0, 'cleaner': 0, 'total_reward_by_agent': {'7': 0, '1': 0, '8': 0, '6': 0, '5': 0, '0': 0, '4': 0, '2': 0, '3': 0, '9': 0}}\n"
     ]
    },
    {
     "name": "stderr",
     "output_type": "stream",
     "text": [
      "100%|█████████▉| 999/1000 [00:14<00:00, 68.44it/s]\n"
     ]
    },
    {
     "name": "stdout",
     "output_type": "stream",
     "text": [
      "ending reward: 54\n",
      "========= End of Episode 108 =========\n",
      "========= Episode 109 =========\n",
      "info: {'total_apple_consumed': 0, 'step_apple_consumed': 0, 'apple': 0, 'dirt': 78, 'picker': 0, 'cleaner': 0, 'total_reward_by_agent': {'7': 0, '1': 0, '8': 0, '6': 0, '5': 0, '0': 0, '4': 0, '2': 0, '3': 0, '9': 0}}\n"
     ]
    },
    {
     "name": "stderr",
     "output_type": "stream",
     "text": [
      "100%|█████████▉| 999/1000 [00:13<00:00, 73.21it/s]\n"
     ]
    },
    {
     "name": "stdout",
     "output_type": "stream",
     "text": [
      "ending reward: 34\n",
      "========= End of Episode 109 =========\n",
      "========= Episode 110 =========\n",
      "info: {'total_apple_consumed': 0, 'step_apple_consumed': 0, 'apple': 0, 'dirt': 78, 'picker': 0, 'cleaner': 0, 'total_reward_by_agent': {'7': 0, '1': 0, '8': 0, '6': 0, '5': 0, '0': 0, '4': 0, '2': 0, '3': 0, '9': 0}}\n"
     ]
    },
    {
     "name": "stderr",
     "output_type": "stream",
     "text": [
      "100%|█████████▉| 999/1000 [00:12<00:00, 78.98it/s]\n"
     ]
    },
    {
     "name": "stdout",
     "output_type": "stream",
     "text": [
      "ending reward: 29\n",
      "========= End of Episode 110 =========\n",
      "========= Episode 111 =========\n",
      "info: {'total_apple_consumed': 0, 'step_apple_consumed': 0, 'apple': 0, 'dirt': 78, 'picker': 0, 'cleaner': 0, 'total_reward_by_agent': {'7': 0, '1': 0, '8': 0, '6': 0, '5': 0, '0': 0, '4': 0, '2': 0, '3': 0, '9': 0}}\n"
     ]
    },
    {
     "name": "stderr",
     "output_type": "stream",
     "text": [
      "100%|█████████▉| 999/1000 [00:12<00:00, 78.97it/s]\n"
     ]
    },
    {
     "name": "stdout",
     "output_type": "stream",
     "text": [
      "ending reward: 81\n",
      "========= End of Episode 111 =========\n",
      "========= Episode 112 =========\n",
      "info: {'total_apple_consumed': 0, 'step_apple_consumed': 0, 'apple': 0, 'dirt': 78, 'picker': 0, 'cleaner': 0, 'total_reward_by_agent': {'7': 0, '1': 0, '8': 0, '6': 0, '5': 0, '0': 0, '4': 0, '2': 0, '3': 0, '9': 0}}\n"
     ]
    },
    {
     "name": "stderr",
     "output_type": "stream",
     "text": [
      "100%|█████████▉| 999/1000 [00:13<00:00, 75.84it/s]\n"
     ]
    },
    {
     "name": "stdout",
     "output_type": "stream",
     "text": [
      "ending reward: 61\n",
      "========= End of Episode 112 =========\n",
      "========= Episode 113 =========\n",
      "info: {'total_apple_consumed': 0, 'step_apple_consumed': 0, 'apple': 0, 'dirt': 78, 'picker': 0, 'cleaner': 0, 'total_reward_by_agent': {'7': 0, '1': 0, '8': 0, '6': 0, '5': 0, '0': 0, '4': 0, '2': 0, '3': 0, '9': 0}}\n"
     ]
    },
    {
     "name": "stderr",
     "output_type": "stream",
     "text": [
      "100%|█████████▉| 999/1000 [00:13<00:00, 76.41it/s] \n"
     ]
    },
    {
     "name": "stdout",
     "output_type": "stream",
     "text": [
      "ending reward: 14\n",
      "========= End of Episode 113 =========\n",
      "========= Episode 114 =========\n",
      "info: {'total_apple_consumed': 0, 'step_apple_consumed': 0, 'apple': 0, 'dirt': 78, 'picker': 0, 'cleaner': 0, 'total_reward_by_agent': {'7': 0, '1': 0, '8': 0, '6': 0, '5': 0, '0': 0, '4': 0, '2': 0, '3': 0, '9': 0}}\n"
     ]
    },
    {
     "name": "stderr",
     "output_type": "stream",
     "text": [
      "100%|█████████▉| 999/1000 [00:09<00:00, 106.51it/s]\n"
     ]
    },
    {
     "name": "stdout",
     "output_type": "stream",
     "text": [
      "ending reward: 82\n",
      "========= End of Episode 114 =========\n",
      "========= Episode 115 =========\n",
      "info: {'total_apple_consumed': 0, 'step_apple_consumed': 0, 'apple': 0, 'dirt': 78, 'picker': 0, 'cleaner': 0, 'total_reward_by_agent': {'7': 0, '1': 0, '8': 0, '6': 0, '5': 0, '0': 0, '4': 0, '2': 0, '3': 0, '9': 0}}\n"
     ]
    },
    {
     "name": "stderr",
     "output_type": "stream",
     "text": [
      "100%|█████████▉| 999/1000 [00:10<00:00, 97.22it/s] \n"
     ]
    },
    {
     "name": "stdout",
     "output_type": "stream",
     "text": [
      "ending reward: 34\n",
      "========= End of Episode 115 =========\n",
      "========= Episode 116 =========\n",
      "info: {'total_apple_consumed': 0, 'step_apple_consumed': 0, 'apple': 0, 'dirt': 78, 'picker': 0, 'cleaner': 0, 'total_reward_by_agent': {'7': 0, '1': 0, '8': 0, '6': 0, '5': 0, '0': 0, '4': 0, '2': 0, '3': 0, '9': 0}}\n"
     ]
    },
    {
     "name": "stderr",
     "output_type": "stream",
     "text": [
      "100%|█████████▉| 999/1000 [00:09<00:00, 104.05it/s]\n"
     ]
    },
    {
     "name": "stdout",
     "output_type": "stream",
     "text": [
      "ending reward: 54\n",
      "========= End of Episode 116 =========\n",
      "========= Episode 117 =========\n",
      "info: {'total_apple_consumed': 0, 'step_apple_consumed': 0, 'apple': 0, 'dirt': 78, 'picker': 0, 'cleaner': 0, 'total_reward_by_agent': {'7': 0, '1': 0, '8': 0, '6': 0, '5': 0, '0': 0, '4': 0, '2': 0, '3': 0, '9': 0}}\n"
     ]
    },
    {
     "name": "stderr",
     "output_type": "stream",
     "text": [
      "100%|█████████▉| 999/1000 [00:09<00:00, 105.29it/s]\n"
     ]
    },
    {
     "name": "stdout",
     "output_type": "stream",
     "text": [
      "ending reward: 63\n",
      "========= End of Episode 117 =========\n",
      "========= Episode 118 =========\n",
      "info: {'total_apple_consumed': 0, 'step_apple_consumed': 0, 'apple': 0, 'dirt': 78, 'picker': 0, 'cleaner': 0, 'total_reward_by_agent': {'7': 0, '1': 0, '8': 0, '6': 0, '5': 0, '0': 0, '4': 0, '2': 0, '3': 0, '9': 0}}\n"
     ]
    },
    {
     "name": "stderr",
     "output_type": "stream",
     "text": [
      "100%|█████████▉| 999/1000 [00:10<00:00, 92.66it/s] \n"
     ]
    },
    {
     "name": "stdout",
     "output_type": "stream",
     "text": [
      "ending reward: 54\n",
      "========= End of Episode 118 =========\n",
      "========= Episode 119 =========\n",
      "info: {'total_apple_consumed': 0, 'step_apple_consumed': 0, 'apple': 0, 'dirt': 78, 'picker': 0, 'cleaner': 0, 'total_reward_by_agent': {'7': 0, '1': 0, '8': 0, '6': 0, '5': 0, '0': 0, '4': 0, '2': 0, '3': 0, '9': 0}}\n"
     ]
    },
    {
     "name": "stderr",
     "output_type": "stream",
     "text": [
      "100%|█████████▉| 999/1000 [00:10<00:00, 95.42it/s] \n"
     ]
    },
    {
     "name": "stdout",
     "output_type": "stream",
     "text": [
      "ending reward: 42\n",
      "========= End of Episode 119 =========\n",
      "========= Episode 120 =========\n",
      "info: {'total_apple_consumed': 0, 'step_apple_consumed': 0, 'apple': 0, 'dirt': 78, 'picker': 0, 'cleaner': 0, 'total_reward_by_agent': {'7': 0, '1': 0, '8': 0, '6': 0, '5': 0, '0': 0, '4': 0, '2': 0, '3': 0, '9': 0}}\n"
     ]
    },
    {
     "name": "stderr",
     "output_type": "stream",
     "text": [
      "100%|█████████▉| 999/1000 [00:09<00:00, 102.02it/s]\n"
     ]
    },
    {
     "name": "stdout",
     "output_type": "stream",
     "text": [
      "ending reward: 49\n",
      "========= End of Episode 120 =========\n",
      "========= Episode 121 =========\n",
      "info: {'total_apple_consumed': 0, 'step_apple_consumed': 0, 'apple': 0, 'dirt': 78, 'picker': 0, 'cleaner': 0, 'total_reward_by_agent': {'7': 0, '1': 0, '8': 0, '6': 0, '5': 0, '0': 0, '4': 0, '2': 0, '3': 0, '9': 0}}\n"
     ]
    },
    {
     "name": "stderr",
     "output_type": "stream",
     "text": [
      "100%|█████████▉| 999/1000 [00:09<00:00, 101.83it/s]\n"
     ]
    },
    {
     "name": "stdout",
     "output_type": "stream",
     "text": [
      "ending reward: 31\n",
      "========= End of Episode 121 =========\n",
      "========= Episode 122 =========\n",
      "info: {'total_apple_consumed': 0, 'step_apple_consumed': 0, 'apple': 0, 'dirt': 78, 'picker': 0, 'cleaner': 0, 'total_reward_by_agent': {'7': 0, '1': 0, '8': 0, '6': 0, '5': 0, '0': 0, '4': 0, '2': 0, '3': 0, '9': 0}}\n"
     ]
    },
    {
     "name": "stderr",
     "output_type": "stream",
     "text": [
      "100%|█████████▉| 999/1000 [00:09<00:00, 102.09it/s]\n"
     ]
    },
    {
     "name": "stdout",
     "output_type": "stream",
     "text": [
      "ending reward: 43\n",
      "========= End of Episode 122 =========\n",
      "========= Episode 123 =========\n",
      "info: {'total_apple_consumed': 0, 'step_apple_consumed': 0, 'apple': 0, 'dirt': 78, 'picker': 0, 'cleaner': 0, 'total_reward_by_agent': {'7': 0, '1': 0, '8': 0, '6': 0, '5': 0, '0': 0, '4': 0, '2': 0, '3': 0, '9': 0}}\n"
     ]
    },
    {
     "name": "stderr",
     "output_type": "stream",
     "text": [
      "100%|█████████▉| 999/1000 [00:09<00:00, 107.48it/s]\n"
     ]
    },
    {
     "name": "stdout",
     "output_type": "stream",
     "text": [
      "ending reward: 28\n",
      "========= End of Episode 123 =========\n",
      "========= Episode 124 =========\n",
      "info: {'total_apple_consumed': 0, 'step_apple_consumed': 0, 'apple': 0, 'dirt': 78, 'picker': 0, 'cleaner': 0, 'total_reward_by_agent': {'7': 0, '1': 0, '8': 0, '6': 0, '5': 0, '0': 0, '4': 0, '2': 0, '3': 0, '9': 0}}\n"
     ]
    },
    {
     "name": "stderr",
     "output_type": "stream",
     "text": [
      "100%|█████████▉| 999/1000 [00:09<00:00, 100.02it/s]\n"
     ]
    },
    {
     "name": "stdout",
     "output_type": "stream",
     "text": [
      "ending reward: 46\n",
      "========= End of Episode 124 =========\n",
      "========= Episode 125 =========\n",
      "info: {'total_apple_consumed': 0, 'step_apple_consumed': 0, 'apple': 0, 'dirt': 78, 'picker': 0, 'cleaner': 0, 'total_reward_by_agent': {'7': 0, '1': 0, '8': 0, '6': 0, '5': 0, '0': 0, '4': 0, '2': 0, '3': 0, '9': 0}}\n"
     ]
    },
    {
     "name": "stderr",
     "output_type": "stream",
     "text": [
      "100%|█████████▉| 999/1000 [00:12<00:00, 81.31it/s] \n"
     ]
    },
    {
     "name": "stdout",
     "output_type": "stream",
     "text": [
      "ending reward: 41\n",
      "========= End of Episode 125 =========\n",
      "========= Episode 126 =========\n",
      "info: {'total_apple_consumed': 0, 'step_apple_consumed': 0, 'apple': 0, 'dirt': 78, 'picker': 0, 'cleaner': 0, 'total_reward_by_agent': {'7': 0, '1': 0, '8': 0, '6': 0, '5': 0, '0': 0, '4': 0, '2': 0, '3': 0, '9': 0}}\n"
     ]
    },
    {
     "name": "stderr",
     "output_type": "stream",
     "text": [
      "100%|█████████▉| 999/1000 [00:11<00:00, 88.05it/s] \n"
     ]
    },
    {
     "name": "stdout",
     "output_type": "stream",
     "text": [
      "ending reward: 38\n",
      "========= End of Episode 126 =========\n",
      "========= Episode 127 =========\n",
      "info: {'total_apple_consumed': 0, 'step_apple_consumed': 0, 'apple': 0, 'dirt': 78, 'picker': 0, 'cleaner': 0, 'total_reward_by_agent': {'7': 0, '1': 0, '8': 0, '6': 0, '5': 0, '0': 0, '4': 0, '2': 0, '3': 0, '9': 0}}\n"
     ]
    },
    {
     "name": "stderr",
     "output_type": "stream",
     "text": [
      "100%|█████████▉| 999/1000 [00:09<00:00, 107.87it/s]\n"
     ]
    },
    {
     "name": "stdout",
     "output_type": "stream",
     "text": [
      "ending reward: 39\n",
      "========= End of Episode 127 =========\n",
      "========= Episode 128 =========\n",
      "info: {'total_apple_consumed': 0, 'step_apple_consumed': 0, 'apple': 0, 'dirt': 78, 'picker': 0, 'cleaner': 0, 'total_reward_by_agent': {'7': 0, '1': 0, '8': 0, '6': 0, '5': 0, '0': 0, '4': 0, '2': 0, '3': 0, '9': 0}}\n"
     ]
    },
    {
     "name": "stderr",
     "output_type": "stream",
     "text": [
      "100%|█████████▉| 999/1000 [00:09<00:00, 104.22it/s]\n"
     ]
    },
    {
     "name": "stdout",
     "output_type": "stream",
     "text": [
      "ending reward: 22\n",
      "========= End of Episode 128 =========\n",
      "========= Episode 129 =========\n",
      "info: {'total_apple_consumed': 0, 'step_apple_consumed': 0, 'apple': 0, 'dirt': 78, 'picker': 0, 'cleaner': 0, 'total_reward_by_agent': {'7': 0, '1': 0, '8': 0, '6': 0, '5': 0, '0': 0, '4': 0, '2': 0, '3': 0, '9': 0}}\n"
     ]
    },
    {
     "name": "stderr",
     "output_type": "stream",
     "text": [
      "100%|█████████▉| 999/1000 [00:09<00:00, 104.50it/s]\n"
     ]
    },
    {
     "name": "stdout",
     "output_type": "stream",
     "text": [
      "ending reward: 49\n",
      "========= End of Episode 129 =========\n",
      "========= Episode 130 =========\n",
      "info: {'total_apple_consumed': 0, 'step_apple_consumed': 0, 'apple': 0, 'dirt': 78, 'picker': 0, 'cleaner': 0, 'total_reward_by_agent': {'7': 0, '1': 0, '8': 0, '6': 0, '5': 0, '0': 0, '4': 0, '2': 0, '3': 0, '9': 0}}\n"
     ]
    },
    {
     "name": "stderr",
     "output_type": "stream",
     "text": [
      "100%|█████████▉| 999/1000 [00:09<00:00, 106.97it/s]\n"
     ]
    },
    {
     "name": "stdout",
     "output_type": "stream",
     "text": [
      "ending reward: 52\n",
      "========= End of Episode 130 =========\n",
      "========= Episode 131 =========\n",
      "info: {'total_apple_consumed': 0, 'step_apple_consumed': 0, 'apple': 0, 'dirt': 78, 'picker': 0, 'cleaner': 0, 'total_reward_by_agent': {'7': 0, '1': 0, '8': 0, '6': 0, '5': 0, '0': 0, '4': 0, '2': 0, '3': 0, '9': 0}}\n"
     ]
    },
    {
     "name": "stderr",
     "output_type": "stream",
     "text": [
      "100%|█████████▉| 999/1000 [00:09<00:00, 101.48it/s]\n"
     ]
    },
    {
     "name": "stdout",
     "output_type": "stream",
     "text": [
      "ending reward: 48\n",
      "========= End of Episode 131 =========\n",
      "========= Episode 132 =========\n",
      "info: {'total_apple_consumed': 0, 'step_apple_consumed': 0, 'apple': 0, 'dirt': 78, 'picker': 0, 'cleaner': 0, 'total_reward_by_agent': {'7': 0, '1': 0, '8': 0, '6': 0, '5': 0, '0': 0, '4': 0, '2': 0, '3': 0, '9': 0}}\n"
     ]
    },
    {
     "name": "stderr",
     "output_type": "stream",
     "text": [
      "100%|█████████▉| 999/1000 [00:09<00:00, 103.70it/s]\n"
     ]
    },
    {
     "name": "stdout",
     "output_type": "stream",
     "text": [
      "ending reward: 33\n",
      "========= End of Episode 132 =========\n",
      "========= Episode 133 =========\n",
      "info: {'total_apple_consumed': 0, 'step_apple_consumed': 0, 'apple': 0, 'dirt': 78, 'picker': 0, 'cleaner': 0, 'total_reward_by_agent': {'7': 0, '1': 0, '8': 0, '6': 0, '5': 0, '0': 0, '4': 0, '2': 0, '3': 0, '9': 0}}\n"
     ]
    },
    {
     "name": "stderr",
     "output_type": "stream",
     "text": [
      "100%|█████████▉| 999/1000 [00:09<00:00, 105.58it/s]\n"
     ]
    },
    {
     "name": "stdout",
     "output_type": "stream",
     "text": [
      "ending reward: 50\n",
      "========= End of Episode 133 =========\n",
      "========= Episode 134 =========\n",
      "info: {'total_apple_consumed': 0, 'step_apple_consumed': 0, 'apple': 0, 'dirt': 78, 'picker': 0, 'cleaner': 0, 'total_reward_by_agent': {'7': 0, '1': 0, '8': 0, '6': 0, '5': 0, '0': 0, '4': 0, '2': 0, '3': 0, '9': 0}}\n"
     ]
    },
    {
     "name": "stderr",
     "output_type": "stream",
     "text": [
      "100%|█████████▉| 999/1000 [00:09<00:00, 104.43it/s]\n"
     ]
    },
    {
     "name": "stdout",
     "output_type": "stream",
     "text": [
      "ending reward: 22\n",
      "========= End of Episode 134 =========\n",
      "========= Episode 135 =========\n",
      "info: {'total_apple_consumed': 0, 'step_apple_consumed': 0, 'apple': 0, 'dirt': 78, 'picker': 0, 'cleaner': 0, 'total_reward_by_agent': {'7': 0, '1': 0, '8': 0, '6': 0, '5': 0, '0': 0, '4': 0, '2': 0, '3': 0, '9': 0}}\n"
     ]
    },
    {
     "name": "stderr",
     "output_type": "stream",
     "text": [
      "100%|█████████▉| 999/1000 [00:11<00:00, 89.47it/s] \n"
     ]
    },
    {
     "name": "stdout",
     "output_type": "stream",
     "text": [
      "ending reward: 72\n",
      "========= End of Episode 135 =========\n",
      "========= Episode 136 =========\n",
      "info: {'total_apple_consumed': 0, 'step_apple_consumed': 0, 'apple': 0, 'dirt': 78, 'picker': 0, 'cleaner': 0, 'total_reward_by_agent': {'7': 0, '1': 0, '8': 0, '6': 0, '5': 0, '0': 0, '4': 0, '2': 0, '3': 0, '9': 0}}\n"
     ]
    },
    {
     "name": "stderr",
     "output_type": "stream",
     "text": [
      "100%|█████████▉| 999/1000 [00:09<00:00, 100.54it/s]\n"
     ]
    },
    {
     "name": "stdout",
     "output_type": "stream",
     "text": [
      "ending reward: 22\n",
      "========= End of Episode 136 =========\n",
      "========= Episode 137 =========\n",
      "info: {'total_apple_consumed': 0, 'step_apple_consumed': 0, 'apple': 0, 'dirt': 78, 'picker': 0, 'cleaner': 0, 'total_reward_by_agent': {'7': 0, '1': 0, '8': 0, '6': 0, '5': 0, '0': 0, '4': 0, '2': 0, '3': 0, '9': 0}}\n"
     ]
    },
    {
     "name": "stderr",
     "output_type": "stream",
     "text": [
      "100%|█████████▉| 999/1000 [00:09<00:00, 101.28it/s]\n"
     ]
    },
    {
     "name": "stdout",
     "output_type": "stream",
     "text": [
      "ending reward: 65\n",
      "========= End of Episode 137 =========\n",
      "========= Episode 138 =========\n",
      "info: {'total_apple_consumed': 0, 'step_apple_consumed': 0, 'apple': 0, 'dirt': 78, 'picker': 0, 'cleaner': 0, 'total_reward_by_agent': {'7': 0, '1': 0, '8': 0, '6': 0, '5': 0, '0': 0, '4': 0, '2': 0, '3': 0, '9': 0}}\n"
     ]
    },
    {
     "name": "stderr",
     "output_type": "stream",
     "text": [
      "100%|█████████▉| 999/1000 [00:09<00:00, 102.33it/s]\n"
     ]
    },
    {
     "name": "stdout",
     "output_type": "stream",
     "text": [
      "ending reward: 31\n",
      "========= End of Episode 138 =========\n",
      "========= Episode 139 =========\n",
      "info: {'total_apple_consumed': 0, 'step_apple_consumed': 0, 'apple': 0, 'dirt': 78, 'picker': 0, 'cleaner': 0, 'total_reward_by_agent': {'7': 0, '1': 0, '8': 0, '6': 0, '5': 0, '0': 0, '4': 0, '2': 0, '3': 0, '9': 0}}\n"
     ]
    },
    {
     "name": "stderr",
     "output_type": "stream",
     "text": [
      "100%|█████████▉| 999/1000 [00:10<00:00, 96.48it/s] \n"
     ]
    },
    {
     "name": "stdout",
     "output_type": "stream",
     "text": [
      "ending reward: 39\n",
      "========= End of Episode 139 =========\n",
      "========= Episode 140 =========\n",
      "info: {'total_apple_consumed': 0, 'step_apple_consumed': 0, 'apple': 0, 'dirt': 78, 'picker': 0, 'cleaner': 0, 'total_reward_by_agent': {'7': 0, '1': 0, '8': 0, '6': 0, '5': 0, '0': 0, '4': 0, '2': 0, '3': 0, '9': 0}}\n"
     ]
    },
    {
     "name": "stderr",
     "output_type": "stream",
     "text": [
      "100%|█████████▉| 999/1000 [00:10<00:00, 94.46it/s] \n"
     ]
    },
    {
     "name": "stdout",
     "output_type": "stream",
     "text": [
      "ending reward: 59\n",
      "========= End of Episode 140 =========\n",
      "========= Episode 141 =========\n",
      "info: {'total_apple_consumed': 0, 'step_apple_consumed': 0, 'apple': 0, 'dirt': 78, 'picker': 0, 'cleaner': 0, 'total_reward_by_agent': {'7': 0, '1': 0, '8': 0, '6': 0, '5': 0, '0': 0, '4': 0, '2': 0, '3': 0, '9': 0}}\n"
     ]
    },
    {
     "name": "stderr",
     "output_type": "stream",
     "text": [
      "100%|█████████▉| 999/1000 [00:10<00:00, 93.72it/s] \n"
     ]
    },
    {
     "name": "stdout",
     "output_type": "stream",
     "text": [
      "ending reward: 35\n",
      "========= End of Episode 141 =========\n",
      "========= Episode 142 =========\n",
      "info: {'total_apple_consumed': 0, 'step_apple_consumed': 0, 'apple': 0, 'dirt': 78, 'picker': 0, 'cleaner': 0, 'total_reward_by_agent': {'7': 0, '1': 0, '8': 0, '6': 0, '5': 0, '0': 0, '4': 0, '2': 0, '3': 0, '9': 0}}\n"
     ]
    },
    {
     "name": "stderr",
     "output_type": "stream",
     "text": [
      "100%|█████████▉| 999/1000 [00:09<00:00, 103.60it/s]\n"
     ]
    },
    {
     "name": "stdout",
     "output_type": "stream",
     "text": [
      "ending reward: 48\n",
      "========= End of Episode 142 =========\n",
      "========= Episode 143 =========\n",
      "info: {'total_apple_consumed': 0, 'step_apple_consumed': 0, 'apple': 0, 'dirt': 78, 'picker': 0, 'cleaner': 0, 'total_reward_by_agent': {'7': 0, '1': 0, '8': 0, '6': 0, '5': 0, '0': 0, '4': 0, '2': 0, '3': 0, '9': 0}}\n"
     ]
    },
    {
     "name": "stderr",
     "output_type": "stream",
     "text": [
      "100%|█████████▉| 999/1000 [00:10<00:00, 98.58it/s] \n"
     ]
    },
    {
     "name": "stdout",
     "output_type": "stream",
     "text": [
      "ending reward: 36\n",
      "========= End of Episode 143 =========\n",
      "========= Episode 144 =========\n",
      "info: {'total_apple_consumed': 0, 'step_apple_consumed': 0, 'apple': 0, 'dirt': 78, 'picker': 0, 'cleaner': 0, 'total_reward_by_agent': {'7': 0, '1': 0, '8': 0, '6': 0, '5': 0, '0': 0, '4': 0, '2': 0, '3': 0, '9': 0}}\n"
     ]
    },
    {
     "name": "stderr",
     "output_type": "stream",
     "text": [
      "100%|█████████▉| 999/1000 [00:12<00:00, 82.84it/s] \n"
     ]
    },
    {
     "name": "stdout",
     "output_type": "stream",
     "text": [
      "ending reward: 31\n",
      "========= End of Episode 144 =========\n",
      "========= Episode 145 =========\n",
      "info: {'total_apple_consumed': 0, 'step_apple_consumed': 0, 'apple': 0, 'dirt': 78, 'picker': 0, 'cleaner': 0, 'total_reward_by_agent': {'7': 0, '1': 0, '8': 0, '6': 0, '5': 0, '0': 0, '4': 0, '2': 0, '3': 0, '9': 0}}\n"
     ]
    },
    {
     "name": "stderr",
     "output_type": "stream",
     "text": [
      "100%|█████████▉| 999/1000 [00:09<00:00, 105.14it/s]\n"
     ]
    },
    {
     "name": "stdout",
     "output_type": "stream",
     "text": [
      "ending reward: 76\n",
      "========= End of Episode 145 =========\n",
      "========= Episode 146 =========\n",
      "info: {'total_apple_consumed': 0, 'step_apple_consumed': 0, 'apple': 0, 'dirt': 78, 'picker': 0, 'cleaner': 0, 'total_reward_by_agent': {'7': 0, '1': 0, '8': 0, '6': 0, '5': 0, '0': 0, '4': 0, '2': 0, '3': 0, '9': 0}}\n"
     ]
    },
    {
     "name": "stderr",
     "output_type": "stream",
     "text": [
      "100%|█████████▉| 999/1000 [00:09<00:00, 103.65it/s]\n"
     ]
    },
    {
     "name": "stdout",
     "output_type": "stream",
     "text": [
      "ending reward: 70\n",
      "========= End of Episode 146 =========\n",
      "========= Episode 147 =========\n",
      "info: {'total_apple_consumed': 0, 'step_apple_consumed': 0, 'apple': 0, 'dirt': 78, 'picker': 0, 'cleaner': 0, 'total_reward_by_agent': {'7': 0, '1': 0, '8': 0, '6': 0, '5': 0, '0': 0, '4': 0, '2': 0, '3': 0, '9': 0}}\n"
     ]
    },
    {
     "name": "stderr",
     "output_type": "stream",
     "text": [
      "100%|█████████▉| 999/1000 [00:08<00:00, 112.30it/s]\n"
     ]
    },
    {
     "name": "stdout",
     "output_type": "stream",
     "text": [
      "ending reward: 32\n",
      "========= End of Episode 147 =========\n",
      "========= Episode 148 =========\n",
      "info: {'total_apple_consumed': 0, 'step_apple_consumed': 0, 'apple': 0, 'dirt': 78, 'picker': 0, 'cleaner': 0, 'total_reward_by_agent': {'7': 0, '1': 0, '8': 0, '6': 0, '5': 0, '0': 0, '4': 0, '2': 0, '3': 0, '9': 0}}\n"
     ]
    },
    {
     "name": "stderr",
     "output_type": "stream",
     "text": [
      "100%|█████████▉| 999/1000 [00:09<00:00, 104.05it/s]\n"
     ]
    },
    {
     "name": "stdout",
     "output_type": "stream",
     "text": [
      "ending reward: 37\n",
      "========= End of Episode 148 =========\n",
      "========= Episode 149 =========\n",
      "info: {'total_apple_consumed': 0, 'step_apple_consumed': 0, 'apple': 0, 'dirt': 78, 'picker': 0, 'cleaner': 0, 'total_reward_by_agent': {'7': 0, '1': 0, '8': 0, '6': 0, '5': 0, '0': 0, '4': 0, '2': 0, '3': 0, '9': 0}}\n"
     ]
    },
    {
     "name": "stderr",
     "output_type": "stream",
     "text": [
      "100%|█████████▉| 999/1000 [00:08<00:00, 117.96it/s]\n"
     ]
    },
    {
     "name": "stdout",
     "output_type": "stream",
     "text": [
      "ending reward: 38\n",
      "========= End of Episode 149 =========\n",
      "========= Episode 150 =========\n",
      "info: {'total_apple_consumed': 0, 'step_apple_consumed': 0, 'apple': 0, 'dirt': 78, 'picker': 0, 'cleaner': 0, 'total_reward_by_agent': {'7': 0, '1': 0, '8': 0, '6': 0, '5': 0, '0': 0, '4': 0, '2': 0, '3': 0, '9': 0}}\n"
     ]
    },
    {
     "name": "stderr",
     "output_type": "stream",
     "text": [
      "100%|█████████▉| 999/1000 [00:09<00:00, 104.00it/s]\n"
     ]
    },
    {
     "name": "stdout",
     "output_type": "stream",
     "text": [
      "ending reward: 34\n",
      "========= End of Episode 150 =========\n",
      "========= Episode 151 =========\n",
      "info: {'total_apple_consumed': 0, 'step_apple_consumed': 0, 'apple': 0, 'dirt': 78, 'picker': 0, 'cleaner': 0, 'total_reward_by_agent': {'7': 0, '1': 0, '8': 0, '6': 0, '5': 0, '0': 0, '4': 0, '2': 0, '3': 0, '9': 0}}\n"
     ]
    },
    {
     "name": "stderr",
     "output_type": "stream",
     "text": [
      "100%|█████████▉| 999/1000 [00:10<00:00, 93.58it/s] \n"
     ]
    },
    {
     "name": "stdout",
     "output_type": "stream",
     "text": [
      "ending reward: 34\n",
      "========= End of Episode 151 =========\n",
      "========= Episode 152 =========\n",
      "info: {'total_apple_consumed': 0, 'step_apple_consumed': 0, 'apple': 0, 'dirt': 78, 'picker': 0, 'cleaner': 0, 'total_reward_by_agent': {'7': 0, '1': 0, '8': 0, '6': 0, '5': 0, '0': 0, '4': 0, '2': 0, '3': 0, '9': 0}}\n"
     ]
    },
    {
     "name": "stderr",
     "output_type": "stream",
     "text": [
      "100%|█████████▉| 999/1000 [00:11<00:00, 90.54it/s] \n"
     ]
    },
    {
     "name": "stdout",
     "output_type": "stream",
     "text": [
      "ending reward: 36\n",
      "========= End of Episode 152 =========\n",
      "========= Episode 153 =========\n",
      "info: {'total_apple_consumed': 0, 'step_apple_consumed': 0, 'apple': 0, 'dirt': 78, 'picker': 0, 'cleaner': 0, 'total_reward_by_agent': {'7': 0, '1': 0, '8': 0, '6': 0, '5': 0, '0': 0, '4': 0, '2': 0, '3': 0, '9': 0}}\n"
     ]
    },
    {
     "name": "stderr",
     "output_type": "stream",
     "text": [
      "100%|█████████▉| 999/1000 [00:09<00:00, 105.90it/s]\n"
     ]
    },
    {
     "name": "stdout",
     "output_type": "stream",
     "text": [
      "ending reward: 47\n",
      "========= End of Episode 153 =========\n",
      "========= Episode 154 =========\n",
      "info: {'total_apple_consumed': 0, 'step_apple_consumed': 0, 'apple': 0, 'dirt': 78, 'picker': 0, 'cleaner': 0, 'total_reward_by_agent': {'7': 0, '1': 0, '8': 0, '6': 0, '5': 0, '0': 0, '4': 0, '2': 0, '3': 0, '9': 0}}\n"
     ]
    },
    {
     "name": "stderr",
     "output_type": "stream",
     "text": [
      "100%|█████████▉| 999/1000 [00:09<00:00, 107.49it/s]\n"
     ]
    },
    {
     "name": "stdout",
     "output_type": "stream",
     "text": [
      "ending reward: 63\n",
      "========= End of Episode 154 =========\n",
      "========= Episode 155 =========\n",
      "info: {'total_apple_consumed': 0, 'step_apple_consumed': 0, 'apple': 0, 'dirt': 78, 'picker': 0, 'cleaner': 0, 'total_reward_by_agent': {'7': 0, '1': 0, '8': 0, '6': 0, '5': 0, '0': 0, '4': 0, '2': 0, '3': 0, '9': 0}}\n"
     ]
    },
    {
     "name": "stderr",
     "output_type": "stream",
     "text": [
      "100%|█████████▉| 999/1000 [00:09<00:00, 102.95it/s]\n"
     ]
    },
    {
     "name": "stdout",
     "output_type": "stream",
     "text": [
      "ending reward: 30\n",
      "========= End of Episode 155 =========\n",
      "========= Episode 156 =========\n",
      "info: {'total_apple_consumed': 0, 'step_apple_consumed': 0, 'apple': 0, 'dirt': 78, 'picker': 0, 'cleaner': 0, 'total_reward_by_agent': {'7': 0, '1': 0, '8': 0, '6': 0, '5': 0, '0': 0, '4': 0, '2': 0, '3': 0, '9': 0}}\n"
     ]
    },
    {
     "name": "stderr",
     "output_type": "stream",
     "text": [
      "100%|█████████▉| 999/1000 [00:09<00:00, 104.53it/s]\n"
     ]
    },
    {
     "name": "stdout",
     "output_type": "stream",
     "text": [
      "ending reward: 63\n",
      "========= End of Episode 156 =========\n",
      "========= Episode 157 =========\n",
      "info: {'total_apple_consumed': 0, 'step_apple_consumed': 0, 'apple': 0, 'dirt': 78, 'picker': 0, 'cleaner': 0, 'total_reward_by_agent': {'7': 0, '1': 0, '8': 0, '6': 0, '5': 0, '0': 0, '4': 0, '2': 0, '3': 0, '9': 0}}\n"
     ]
    },
    {
     "name": "stderr",
     "output_type": "stream",
     "text": [
      "100%|█████████▉| 999/1000 [00:09<00:00, 103.32it/s]\n"
     ]
    },
    {
     "name": "stdout",
     "output_type": "stream",
     "text": [
      "ending reward: 47\n",
      "========= End of Episode 157 =========\n",
      "========= Episode 158 =========\n",
      "info: {'total_apple_consumed': 0, 'step_apple_consumed': 0, 'apple': 0, 'dirt': 78, 'picker': 0, 'cleaner': 0, 'total_reward_by_agent': {'7': 0, '1': 0, '8': 0, '6': 0, '5': 0, '0': 0, '4': 0, '2': 0, '3': 0, '9': 0}}\n"
     ]
    },
    {
     "name": "stderr",
     "output_type": "stream",
     "text": [
      "100%|█████████▉| 999/1000 [00:09<00:00, 101.55it/s]\n"
     ]
    },
    {
     "name": "stdout",
     "output_type": "stream",
     "text": [
      "ending reward: 41\n",
      "========= End of Episode 158 =========\n",
      "========= Episode 159 =========\n",
      "info: {'total_apple_consumed': 0, 'step_apple_consumed': 0, 'apple': 0, 'dirt': 78, 'picker': 0, 'cleaner': 0, 'total_reward_by_agent': {'7': 0, '1': 0, '8': 0, '6': 0, '5': 0, '0': 0, '4': 0, '2': 0, '3': 0, '9': 0}}\n"
     ]
    },
    {
     "name": "stderr",
     "output_type": "stream",
     "text": [
      "100%|█████████▉| 999/1000 [00:09<00:00, 106.13it/s]\n"
     ]
    },
    {
     "name": "stdout",
     "output_type": "stream",
     "text": [
      "ending reward: 38\n",
      "========= End of Episode 159 =========\n",
      "========= Episode 160 =========\n",
      "info: {'total_apple_consumed': 0, 'step_apple_consumed': 0, 'apple': 0, 'dirt': 78, 'picker': 0, 'cleaner': 0, 'total_reward_by_agent': {'7': 0, '1': 0, '8': 0, '6': 0, '5': 0, '0': 0, '4': 0, '2': 0, '3': 0, '9': 0}}\n"
     ]
    },
    {
     "name": "stderr",
     "output_type": "stream",
     "text": [
      "100%|█████████▉| 999/1000 [00:11<00:00, 90.57it/s] \n"
     ]
    },
    {
     "name": "stdout",
     "output_type": "stream",
     "text": [
      "ending reward: 40\n",
      "========= End of Episode 160 =========\n",
      "========= Episode 161 =========\n",
      "info: {'total_apple_consumed': 0, 'step_apple_consumed': 0, 'apple': 0, 'dirt': 78, 'picker': 0, 'cleaner': 0, 'total_reward_by_agent': {'7': 0, '1': 0, '8': 0, '6': 0, '5': 0, '0': 0, '4': 0, '2': 0, '3': 0, '9': 0}}\n"
     ]
    },
    {
     "name": "stderr",
     "output_type": "stream",
     "text": [
      "100%|█████████▉| 999/1000 [00:09<00:00, 106.62it/s]\n"
     ]
    },
    {
     "name": "stdout",
     "output_type": "stream",
     "text": [
      "ending reward: 60\n",
      "========= End of Episode 161 =========\n",
      "========= Episode 162 =========\n",
      "info: {'total_apple_consumed': 0, 'step_apple_consumed': 0, 'apple': 0, 'dirt': 78, 'picker': 0, 'cleaner': 0, 'total_reward_by_agent': {'7': 0, '1': 0, '8': 0, '6': 0, '5': 0, '0': 0, '4': 0, '2': 0, '3': 0, '9': 0}}\n"
     ]
    },
    {
     "name": "stderr",
     "output_type": "stream",
     "text": [
      "100%|█████████▉| 999/1000 [00:10<00:00, 93.86it/s] \n"
     ]
    },
    {
     "name": "stdout",
     "output_type": "stream",
     "text": [
      "ending reward: 57\n",
      "========= End of Episode 162 =========\n",
      "========= Episode 163 =========\n",
      "info: {'total_apple_consumed': 0, 'step_apple_consumed': 0, 'apple': 0, 'dirt': 78, 'picker': 0, 'cleaner': 0, 'total_reward_by_agent': {'7': 0, '1': 0, '8': 0, '6': 0, '5': 0, '0': 0, '4': 0, '2': 0, '3': 0, '9': 0}}\n"
     ]
    },
    {
     "name": "stderr",
     "output_type": "stream",
     "text": [
      "100%|█████████▉| 999/1000 [00:10<00:00, 99.00it/s] \n"
     ]
    },
    {
     "name": "stdout",
     "output_type": "stream",
     "text": [
      "ending reward: 49\n",
      "========= End of Episode 163 =========\n",
      "========= Episode 164 =========\n",
      "info: {'total_apple_consumed': 0, 'step_apple_consumed': 0, 'apple': 0, 'dirt': 78, 'picker': 0, 'cleaner': 0, 'total_reward_by_agent': {'7': 0, '1': 0, '8': 0, '6': 0, '5': 0, '0': 0, '4': 0, '2': 0, '3': 0, '9': 0}}\n"
     ]
    },
    {
     "name": "stderr",
     "output_type": "stream",
     "text": [
      "100%|█████████▉| 999/1000 [00:09<00:00, 101.76it/s]\n"
     ]
    },
    {
     "name": "stdout",
     "output_type": "stream",
     "text": [
      "ending reward: 23\n",
      "========= End of Episode 164 =========\n",
      "========= Episode 165 =========\n",
      "info: {'total_apple_consumed': 0, 'step_apple_consumed': 0, 'apple': 0, 'dirt': 78, 'picker': 0, 'cleaner': 0, 'total_reward_by_agent': {'7': 0, '1': 0, '8': 0, '6': 0, '5': 0, '0': 0, '4': 0, '2': 0, '3': 0, '9': 0}}\n"
     ]
    },
    {
     "name": "stderr",
     "output_type": "stream",
     "text": [
      "100%|█████████▉| 999/1000 [00:09<00:00, 103.89it/s]\n"
     ]
    },
    {
     "name": "stdout",
     "output_type": "stream",
     "text": [
      "ending reward: 43\n",
      "========= End of Episode 165 =========\n",
      "========= Episode 166 =========\n",
      "info: {'total_apple_consumed': 0, 'step_apple_consumed': 0, 'apple': 0, 'dirt': 78, 'picker': 0, 'cleaner': 0, 'total_reward_by_agent': {'7': 0, '1': 0, '8': 0, '6': 0, '5': 0, '0': 0, '4': 0, '2': 0, '3': 0, '9': 0}}\n"
     ]
    },
    {
     "name": "stderr",
     "output_type": "stream",
     "text": [
      "100%|█████████▉| 999/1000 [00:08<00:00, 116.25it/s]\n"
     ]
    },
    {
     "name": "stdout",
     "output_type": "stream",
     "text": [
      "ending reward: 63\n",
      "========= End of Episode 166 =========\n",
      "========= Episode 167 =========\n",
      "info: {'total_apple_consumed': 0, 'step_apple_consumed': 0, 'apple': 0, 'dirt': 78, 'picker': 0, 'cleaner': 0, 'total_reward_by_agent': {'7': 0, '1': 0, '8': 0, '6': 0, '5': 0, '0': 0, '4': 0, '2': 0, '3': 0, '9': 0}}\n"
     ]
    },
    {
     "name": "stderr",
     "output_type": "stream",
     "text": [
      "100%|█████████▉| 999/1000 [00:09<00:00, 109.18it/s]\n"
     ]
    },
    {
     "name": "stdout",
     "output_type": "stream",
     "text": [
      "ending reward: 59\n",
      "========= End of Episode 167 =========\n",
      "========= Episode 168 =========\n",
      "info: {'total_apple_consumed': 0, 'step_apple_consumed': 0, 'apple': 0, 'dirt': 78, 'picker': 0, 'cleaner': 0, 'total_reward_by_agent': {'7': 0, '1': 0, '8': 0, '6': 0, '5': 0, '0': 0, '4': 0, '2': 0, '3': 0, '9': 0}}\n"
     ]
    },
    {
     "name": "stderr",
     "output_type": "stream",
     "text": [
      "100%|█████████▉| 999/1000 [00:08<00:00, 111.21it/s]\n"
     ]
    },
    {
     "name": "stdout",
     "output_type": "stream",
     "text": [
      "ending reward: 34\n",
      "========= End of Episode 168 =========\n",
      "========= Episode 169 =========\n",
      "info: {'total_apple_consumed': 0, 'step_apple_consumed': 0, 'apple': 0, 'dirt': 78, 'picker': 0, 'cleaner': 0, 'total_reward_by_agent': {'7': 0, '1': 0, '8': 0, '6': 0, '5': 0, '0': 0, '4': 0, '2': 0, '3': 0, '9': 0}}\n"
     ]
    },
    {
     "name": "stderr",
     "output_type": "stream",
     "text": [
      "100%|█████████▉| 999/1000 [00:08<00:00, 119.17it/s]\n"
     ]
    },
    {
     "name": "stdout",
     "output_type": "stream",
     "text": [
      "ending reward: 140\n",
      "========= End of Episode 169 =========\n",
      "========= Episode 170 =========\n",
      "info: {'total_apple_consumed': 0, 'step_apple_consumed': 0, 'apple': 0, 'dirt': 78, 'picker': 0, 'cleaner': 0, 'total_reward_by_agent': {'7': 0, '1': 0, '8': 0, '6': 0, '5': 0, '0': 0, '4': 0, '2': 0, '3': 0, '9': 0}}\n"
     ]
    },
    {
     "name": "stderr",
     "output_type": "stream",
     "text": [
      "100%|█████████▉| 999/1000 [00:08<00:00, 114.52it/s]\n"
     ]
    },
    {
     "name": "stdout",
     "output_type": "stream",
     "text": [
      "ending reward: 38\n",
      "========= End of Episode 170 =========\n",
      "========= Episode 171 =========\n",
      "info: {'total_apple_consumed': 0, 'step_apple_consumed': 0, 'apple': 0, 'dirt': 78, 'picker': 0, 'cleaner': 0, 'total_reward_by_agent': {'7': 0, '1': 0, '8': 0, '6': 0, '5': 0, '0': 0, '4': 0, '2': 0, '3': 0, '9': 0}}\n"
     ]
    },
    {
     "name": "stderr",
     "output_type": "stream",
     "text": [
      "100%|█████████▉| 999/1000 [00:09<00:00, 101.47it/s]\n"
     ]
    },
    {
     "name": "stdout",
     "output_type": "stream",
     "text": [
      "ending reward: 37\n",
      "========= End of Episode 171 =========\n",
      "========= Episode 172 =========\n",
      "info: {'total_apple_consumed': 0, 'step_apple_consumed': 0, 'apple': 0, 'dirt': 78, 'picker': 0, 'cleaner': 0, 'total_reward_by_agent': {'7': 0, '1': 0, '8': 0, '6': 0, '5': 0, '0': 0, '4': 0, '2': 0, '3': 0, '9': 0}}\n"
     ]
    },
    {
     "name": "stderr",
     "output_type": "stream",
     "text": [
      "100%|█████████▉| 999/1000 [00:09<00:00, 107.44it/s]\n"
     ]
    },
    {
     "name": "stdout",
     "output_type": "stream",
     "text": [
      "ending reward: 44\n",
      "========= End of Episode 172 =========\n",
      "========= Episode 173 =========\n",
      "info: {'total_apple_consumed': 0, 'step_apple_consumed': 0, 'apple': 0, 'dirt': 78, 'picker': 0, 'cleaner': 0, 'total_reward_by_agent': {'7': 0, '1': 0, '8': 0, '6': 0, '5': 0, '0': 0, '4': 0, '2': 0, '3': 0, '9': 0}}\n"
     ]
    },
    {
     "name": "stderr",
     "output_type": "stream",
     "text": [
      "100%|█████████▉| 999/1000 [00:09<00:00, 103.40it/s]\n"
     ]
    },
    {
     "name": "stdout",
     "output_type": "stream",
     "text": [
      "ending reward: 39\n",
      "========= End of Episode 173 =========\n",
      "========= Episode 174 =========\n",
      "info: {'total_apple_consumed': 0, 'step_apple_consumed': 0, 'apple': 0, 'dirt': 78, 'picker': 0, 'cleaner': 0, 'total_reward_by_agent': {'7': 0, '1': 0, '8': 0, '6': 0, '5': 0, '0': 0, '4': 0, '2': 0, '3': 0, '9': 0}}\n"
     ]
    },
    {
     "name": "stderr",
     "output_type": "stream",
     "text": [
      "100%|█████████▉| 999/1000 [00:09<00:00, 107.71it/s]\n"
     ]
    },
    {
     "name": "stdout",
     "output_type": "stream",
     "text": [
      "ending reward: 29\n",
      "========= End of Episode 174 =========\n",
      "========= Episode 175 =========\n",
      "info: {'total_apple_consumed': 0, 'step_apple_consumed': 0, 'apple': 0, 'dirt': 78, 'picker': 0, 'cleaner': 0, 'total_reward_by_agent': {'7': 0, '1': 0, '8': 0, '6': 0, '5': 0, '0': 0, '4': 0, '2': 0, '3': 0, '9': 0}}\n"
     ]
    },
    {
     "name": "stderr",
     "output_type": "stream",
     "text": [
      "100%|█████████▉| 999/1000 [00:09<00:00, 106.87it/s]\n"
     ]
    },
    {
     "name": "stdout",
     "output_type": "stream",
     "text": [
      "ending reward: 38\n",
      "========= End of Episode 175 =========\n",
      "========= Episode 176 =========\n",
      "info: {'total_apple_consumed': 0, 'step_apple_consumed': 0, 'apple': 0, 'dirt': 78, 'picker': 0, 'cleaner': 0, 'total_reward_by_agent': {'7': 0, '1': 0, '8': 0, '6': 0, '5': 0, '0': 0, '4': 0, '2': 0, '3': 0, '9': 0}}\n"
     ]
    },
    {
     "name": "stderr",
     "output_type": "stream",
     "text": [
      "100%|█████████▉| 999/1000 [00:09<00:00, 104.68it/s]\n"
     ]
    },
    {
     "name": "stdout",
     "output_type": "stream",
     "text": [
      "ending reward: 74\n",
      "========= End of Episode 176 =========\n",
      "========= Episode 177 =========\n",
      "info: {'total_apple_consumed': 0, 'step_apple_consumed': 0, 'apple': 0, 'dirt': 78, 'picker': 0, 'cleaner': 0, 'total_reward_by_agent': {'7': 0, '1': 0, '8': 0, '6': 0, '5': 0, '0': 0, '4': 0, '2': 0, '3': 0, '9': 0}}\n"
     ]
    },
    {
     "name": "stderr",
     "output_type": "stream",
     "text": [
      "100%|█████████▉| 999/1000 [00:09<00:00, 107.10it/s]\n"
     ]
    },
    {
     "name": "stdout",
     "output_type": "stream",
     "text": [
      "ending reward: 36\n",
      "========= End of Episode 177 =========\n",
      "========= Episode 178 =========\n",
      "info: {'total_apple_consumed': 0, 'step_apple_consumed': 0, 'apple': 0, 'dirt': 78, 'picker': 0, 'cleaner': 0, 'total_reward_by_agent': {'7': 0, '1': 0, '8': 0, '6': 0, '5': 0, '0': 0, '4': 0, '2': 0, '3': 0, '9': 0}}\n"
     ]
    },
    {
     "name": "stderr",
     "output_type": "stream",
     "text": [
      " 89%|████████▊ | 886/1000 [00:08<00:00, 115.98it/s]"
     ]
    }
   ],
   "source": [
    "for episode in range(num_episodes):\n",
    "    print(f\"========= Episode {episode} =========\")\n",
    "    f.write(f\"========= Episode {episode} =========\\n\")\n",
    "\n",
    "    states, info = env.reset()\n",
    "\n",
    "    print(f\"info: {info}\")\n",
    "    f.write(f\"info: {info}\\n\")\n",
    "\n",
    "    for step in tqdm(range(max_steps_per_episode)):\n",
    "        actions = {agent_id: agents[agent_id].act(states[agent_id]) for agent_id in agent_ids}\n",
    "        next_states, rewards, dones, _, info = env.step(actions)\n",
    "        \n",
    "        for agent_id in agent_ids:\n",
    "            agents[agent_id].step(states[agent_id], actions[agent_id], rewards[agent_id], next_states[agent_id])\n",
    "\n",
    "        if episode > verbose_episode:\n",
    "            print(f\"========= Step {step} =========\")\n",
    "            print(f\"info: {info}\")\n",
    "            f.write(f\"========= Step {step} =========\\n\")\n",
    "            f.write(f\"info: {info}\\n\")\n",
    "\n",
    "        states = next_states\n",
    "\n",
    "        if dones[\"__all__\"]:\n",
    "            break \n",
    "\n",
    "    ending_reward = info[\"total_apple_consumed\"]\n",
    "    total_reward_by_agent = info[\"total_reward_by_agent\"]\n",
    "\n",
    "    print(f\"ending reward: {ending_reward}\")\n",
    "    #print(f\"reward graph: {reward_graph}\")\n",
    "    print(f\"========= End of Episode {episode} =========\")\n",
    "    \n",
    "    f.write(f\"ending reward: {ending_reward}\\n\")\n",
    "    #f.write(f\"reward graph: {reward_graph}\\n\")\n",
    "    f.write(f\"========= End of Episode {episode} =========\\n\")\n",
    "\n",
    "    ending_ep_rewards.append(ending_reward)\n",
    "    avg_agent_rewards.append(ending_reward / num_agents)\n",
    "    agent_reward_variances.append(np.var(list(total_reward_by_agent.values())))\n",
    "        "
   ]
  },
  {
   "cell_type": "code",
   "execution_count": null,
   "metadata": {},
   "outputs": [],
   "source": [
    "test_stats = []\n",
    "num_test_episodes = 15\n",
    "print(\"========= Testing =========\")\n",
    "f.write(\"========= Testing =========\\n\")\n",
    "\n",
    "for episode in range(num_test_episodes):\n",
    "    test_stats.append({\n",
    "        \"num_apples\": [],\n",
    "        \"num_dirt\": [],\n",
    "        \"pickers\": [],\n",
    "        \"cleaners\": [],\n",
    "        \"total_reward\": 0,\n",
    "        \"avg_agent_rewards\": 0,\n",
    "        \"agent_reward_variances\": 0,\n",
    "        \"total_reward_by_agent\": [],\n",
    "    })\n",
    "\n",
    "    states, info = env.reset()\n",
    "    test_stats[-1][\"num_apples\"].append(info[\"apple\"])\n",
    "    test_stats[-1][\"num_dirt\"].append(info[\"dirt\"])\n",
    "    test_stats[-1][\"pickers\"].append(info[\"picker\"])\n",
    "    test_stats[-1][\"cleaners\"].append(info[\"cleaner\"])\n",
    "\n",
    "    print(f\"info: {info}\")\n",
    "    f.write(f\"info: {info}\\n\")\n",
    "\n",
    "    for step in tqdm(range(max_steps_per_episode)):\n",
    "        actions = {agent_id: agents[agent_id].act(states[agent_id]) for agent_id in agent_ids}\n",
    "        next_states, rewards, dones, _, info = env.step(actions)\n",
    "        test_stats[-1][\"num_apples\"].append(info[\"apple\"])\n",
    "        test_stats[-1][\"num_dirt\"].append(info[\"dirt\"])\n",
    "        test_stats[-1][\"pickers\"].append(info[\"picker\"])\n",
    "        test_stats[-1][\"cleaners\"].append(info[\"cleaner\"])\n",
    "\n",
    "        if episode > verbose_episode:\n",
    "            print(f\"========= Step {step} =========\")\n",
    "            print(f\"info: {info}\")\n",
    "            f.write(f\"========= Step {step} =========\\n\")\n",
    "            f.write(f\"info: {info}\\n\")\n",
    "\n",
    "        states = next_states\n",
    "\n",
    "        if dones[\"__all__\"]:\n",
    "            break \n",
    "\n",
    "    print(f\"ending info: {info}\")\n",
    "\n",
    "    test_reward = info[\"total_apple_consumed\"]\n",
    "\n",
    "    test_stats[-1][\"total_reward\"] = test_reward\n",
    "    test_stats[-1][\"avg_agent_rewards\"] = test_reward / num_agents\n",
    "    test_stats[-1][\"agent_reward_variances\"] = np.var(list(info[\"total_reward_by_agent\"].values()))\n",
    "    test_stats[-1][\"total_reward_by_agent\"] = list(info[\"total_reward_by_agent\"].values())\n",
    "\n",
    "    print('total reward:', test_reward)\n",
    "    print('avg agent reward:', test_reward / num_agents)\n",
    "    print('reward by agent:', info[\"total_reward_by_agent\"])\n",
    "    print('agent reward variances:', np.var(list(info[\"total_reward_by_agent\"].values())))\n",
    "    #print(f\"reward graph: {reward_graph}\")\n",
    "    print(f\"========= End of Test =========\")\n",
    "\n",
    "    f.write(f\"ending info: {info}\\n\")\n",
    "    #f.write(f\"reward graph: {reward_graph}\\n\")\n",
    "    f.write(f\"========= End of Test =========\\n\")\n",
    "\n"
   ]
  },
  {
   "cell_type": "code",
   "execution_count": null,
   "metadata": {},
   "outputs": [],
   "source": [
    "import matplotlib.pyplot as plt"
   ]
  },
  {
   "cell_type": "code",
   "execution_count": null,
   "metadata": {},
   "outputs": [],
   "source": [
    "plt.title(\"Reward by Training Episode\")\n",
    "plt.xlabel(\"Episode\")\n",
    "plt.ylabel(\"Reward\")\n",
    "plt.plot(ending_ep_rewards)\n",
    "plt.show()"
   ]
  },
  {
   "cell_type": "code",
   "execution_count": null,
   "metadata": {},
   "outputs": [],
   "source": [
    "plt.figure()\n",
    "plt.title(\"Reward by Test Episode\")\n",
    "plt.xlabel(\"Episode\")\n",
    "plt.ylabel(\"Reward\")\n",
    "plt.plot([stat['total_reward'] for stat in test_stats])\n",
    "plt.show()"
   ]
  },
  {
   "cell_type": "code",
   "execution_count": null,
   "metadata": {},
   "outputs": [],
   "source": [
    "plt.figure()\n",
    "plt.title(\"Average Number of Apples and Dirt by Test Step\")\n",
    "plt.xlabel(\"Step\")\n",
    "plt.ylabel(\"Number\")\n",
    "avg_num_apples = []\n",
    "avg_num_dirt = []\n",
    "for i in range(max_steps_per_episode):\n",
    "    avg_num_apples.append(np.mean([stat['num_apples'][i] for stat in test_stats]))\n",
    "    avg_num_dirt.append(np.mean([stat['num_dirt'][i] for stat in test_stats]))\n",
    "plt.plot(avg_num_apples, label=\"Apples\")\n",
    "plt.plot(avg_num_dirt, label=\"Dirt\")\n",
    "plt.legend()\n",
    "plt.show()"
   ]
  },
  {
   "cell_type": "code",
   "execution_count": null,
   "metadata": {},
   "outputs": [],
   "source": [
    "plt.figure()\n",
    "plt.title(\"Average Number of Pickers and Cleaners by Test Step\")\n",
    "plt.xlabel(\"Step\")\n",
    "plt.ylabel(\"Number\")\n",
    "avg_num_pickers = []\n",
    "avg_num_cleaners = []\n",
    "for i in range(max_steps_per_episode):\n",
    "    avg_num_pickers.append(np.mean([stat['pickers'][i] for stat in test_stats]))\n",
    "    avg_num_cleaners.append(np.mean([stat['cleaners'][i] for stat in test_stats]))\n",
    "plt.plot(avg_num_pickers, label=\"Pickers\")\n",
    "plt.plot(avg_num_cleaners, label=\"Cleaners\")\n",
    "plt.legend()\n",
    "plt.show()"
   ]
  },
  {
   "cell_type": "code",
   "execution_count": null,
   "metadata": {},
   "outputs": [],
   "source": [
    "plt.figure()\n",
    "plt.title(\"Average Ratios by Test Step\")\n",
    "plt.xlabel(\"Step\")\n",
    "plt.ylabel(\"Ratio\")\n",
    "avg_apple_dirt_ratios = []\n",
    "apple_dirt_steps = []\n",
    "avg_picker_cleaner_ratios = []\n",
    "picker_cleaner_steps = []\n",
    "for i in range(max_steps_per_episode):\n",
    "    #avg_apple_dirt_ratios.append(np.mean([stat['num_apples'][i] / (stat['num_dirt'][i] + 1e-8) for stat in test_stats]))\n",
    "    #avg_picker_cleaner_ratios.append(np.mean([stat['pickers'][i] / (stat['cleaners'][i]) for stat in test_stats if stat['cleaners'][i] > 0]))\n",
    "    apple_dirt = []\n",
    "    picker_cleaner = []\n",
    "    for stat in test_stats:\n",
    "        if stat['num_dirt'][i] > 0:\n",
    "            apple_dirt.append(stat['num_apples'][i] / stat['num_dirt'][i])\n",
    "        if stat['cleaners'][i] > 0:\n",
    "            picker_cleaner.append(stat['pickers'][i] / stat['cleaners'][i])\n",
    "    if len(apple_dirt) > 0:\n",
    "        avg_apple_dirt_ratios.append(np.mean(apple_dirt))\n",
    "        apple_dirt_steps.append(i)\n",
    "    if len(picker_cleaner) > 0:\n",
    "        avg_picker_cleaner_ratios.append(np.mean(picker_cleaner))\n",
    "        picker_cleaner_steps.append(i)\n",
    "\n",
    "plt.plot(apple_dirt_steps, avg_apple_dirt_ratios, label=\"Apples/Dirt\")\n",
    "plt.plot(picker_cleaner_steps, avg_picker_cleaner_ratios, label=\"Pickers/Cleaners\")\n",
    "plt.legend()\n",
    "plt.show()"
   ]
  },
  {
   "cell_type": "code",
   "execution_count": null,
   "metadata": {},
   "outputs": [],
   "source": [
    "plt.figure()\n",
    "plt.title(\"Reward Variance by Training Episode\")\n",
    "plt.xlabel(\"Episode\")\n",
    "plt.ylabel(\"Variance\")\n",
    "plt.plot(agent_reward_variances)\n",
    "plt.show()"
   ]
  },
  {
   "cell_type": "code",
   "execution_count": null,
   "metadata": {},
   "outputs": [],
   "source": [
    "plt.figure()\n",
    "plt.title(\"Reward Standard Deviation by Test Episode\")\n",
    "plt.xlabel(\"Episode\")\n",
    "plt.ylabel(\"Variance\")\n",
    "plt.plot([np.sqrt(stat['agent_reward_variances']) for stat in test_stats])\n",
    "plt.show()"
   ]
  },
  {
   "cell_type": "code",
   "execution_count": null,
   "metadata": {},
   "outputs": [],
   "source": [
    "plt.figure()\n",
    "plt.title(\"Average Reward Curve\")\n",
    "plt.xlabel(\"Reward\")\n",
    "plt.ylabel(\"Frequency\")\n",
    "reward_curve = [0.] * num_agents\n",
    "for stat in test_stats:\n",
    "    reward_by_agent = sorted(stat['total_reward_by_agent'])\n",
    "    for i in range(num_agents):\n",
    "        reward_curve[i] += reward_by_agent[i]\n",
    "for i in range(num_agents):\n",
    "    reward_curve[i] /= num_test_episodes\n",
    "\n",
    "plt.hist(reward_curve, bins=num_agents)\n",
    "plt.show()"
   ]
  }
 ],
 "metadata": {
  "kernelspec": {
   "display_name": "venv",
   "language": "python",
   "name": "python3"
  },
  "language_info": {
   "codemirror_mode": {
    "name": "ipython",
    "version": 3
   },
   "file_extension": ".py",
   "mimetype": "text/x-python",
   "name": "python",
   "nbconvert_exporter": "python",
   "pygments_lexer": "ipython3",
   "version": "3.10.7"
  }
 },
 "nbformat": 4,
 "nbformat_minor": 2
}
