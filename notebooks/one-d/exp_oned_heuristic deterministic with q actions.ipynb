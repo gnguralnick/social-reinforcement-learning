{
 "cells": [
  {
   "cell_type": "code",
   "execution_count": 1,
   "metadata": {},
   "outputs": [
    {
     "name": "stderr",
     "output_type": "stream",
     "text": [
      "2023-12-05 15:01:58,279\tWARNING deprecation.py:50 -- DeprecationWarning: `DirectStepOptimizer` has been deprecated. This will raise an error in the future!\n"
     ]
    }
   ],
   "source": [
    "from environments import OneDCleanupEnv, CleanupRegion\n",
    "import numpy as np\n",
    "from tqdm import tqdm\n",
    "import matplotlib.pyplot as plt\n",
    "from agents import QAgent\n",
    "import torch"
   ]
  },
  {
   "cell_type": "code",
   "execution_count": 2,
   "metadata": {},
   "outputs": [
    {
     "name": "stdout",
     "output_type": "stream",
     "text": [
      "cuda available: False\n"
     ]
    }
   ],
   "source": [
    "device = torch.device(\"cuda\" if torch.cuda.is_available() else \"cpu\")\n",
    "print(f\"cuda available: {torch.cuda.is_available()}\")\n",
    "np.set_printoptions(threshold=np.inf)"
   ]
  },
  {
   "cell_type": "code",
   "execution_count": 3,
   "metadata": {},
   "outputs": [],
   "source": [
    "\n",
    "steps_per_episode = 1000\n",
    "num_agents = 10\n",
    "agent_ids = [str(i + 1) for i in range(num_agents)]"
   ]
  },
  {
   "cell_type": "code",
   "execution_count": 4,
   "metadata": {},
   "outputs": [],
   "source": [
    "thresholdDepletion = 0.4\n",
    "thresholdRestoration = 0.0\n",
    "wasteSpawnProbability = 0.5\n",
    "appleRespawnProbability = 0.05\n",
    "dirt_multiplier = 10\n",
    "\n",
    "area = 150"
   ]
  },
  {
   "cell_type": "code",
   "execution_count": 5,
   "metadata": {},
   "outputs": [],
   "source": [
    "gamma = 0.999\n",
    "epsilon = 1.0\n",
    "epsilon_decay = 0.99995\n",
    "epsilon_min = 0.1\n",
    "lr = 0.0001\n",
    "batch_size = 32"
   ]
  },
  {
   "cell_type": "code",
   "execution_count": 6,
   "metadata": {},
   "outputs": [],
   "source": [
    "state_dim = 4\n",
    "num_action_outputs = 1\n",
    "action_size = 3"
   ]
  },
  {
   "cell_type": "code",
   "execution_count": 7,
   "metadata": {},
   "outputs": [],
   "source": [
    "env = OneDCleanupEnv(agent_ids=agent_ids,\n",
    "                     num_agents=num_agents,\n",
    "                     area=area,\n",
    "                     thresholdDepletion=thresholdDepletion,\n",
    "                     thresholdRestoration=thresholdRestoration,\n",
    "                     wasteSpawnProbability=wasteSpawnProbability,\n",
    "                     appleRespawnProbability=appleRespawnProbability,\n",
    "                     use_randomness=False,\n",
    "                     dirt_multiplier=dirt_multiplier)\n",
    "picker_q = QAgent(state_dim=state_dim,\n",
    "                action_size=action_size,\n",
    "                num_action_outputs=num_action_outputs,\n",
    "                gamma=gamma,\n",
    "                epsilon=epsilon,\n",
    "                epsilon_decay=epsilon_decay,\n",
    "                epsilon_min=epsilon_min,\n",
    "                lr=lr,\n",
    "                device=device,\n",
    "                batch_size=batch_size,\n",
    "                q_layers=[\n",
    "                    (state_dim, 64),\n",
    "                    (64, 32),\n",
    "                    (32, action_size)\n",
    "                ])\n",
    "cleaner_q = QAgent(state_dim=state_dim,\n",
    "                action_size=action_size,\n",
    "                num_action_outputs=num_action_outputs,\n",
    "                gamma=gamma,\n",
    "                epsilon=epsilon,\n",
    "                epsilon_decay=epsilon_decay,\n",
    "                epsilon_min=epsilon_min,\n",
    "                lr=lr,\n",
    "                device=device,\n",
    "                batch_size=batch_size,\n",
    "                q_layers=[\n",
    "                    (state_dim, 64),\n",
    "                    (64, 32),\n",
    "                    (32, action_size)\n",
    "                ])"
   ]
  },
  {
   "cell_type": "code",
   "execution_count": 8,
   "metadata": {},
   "outputs": [],
   "source": [
    "ending_ep_rewards = []\n",
    "num_episodes = 100\n",
    "steps_per_epsiode = 1000\n",
    "verbose_episode = num_episodes - 1"
   ]
  },
  {
   "cell_type": "code",
   "execution_count": 9,
   "metadata": {},
   "outputs": [
    {
     "name": "stdout",
     "output_type": "stream",
     "text": [
      "========= Episode 0 =========\n"
     ]
    },
    {
     "name": "stderr",
     "output_type": "stream",
     "text": [
      "  1%|          | 9/1000 [00:00<00:11, 85.80it/s]"
     ]
    },
    {
     "name": "stderr",
     "output_type": "stream",
     "text": [
      "100%|█████████▉| 999/1000 [00:08<00:00, 122.18it/s]\n"
     ]
    },
    {
     "name": "stdout",
     "output_type": "stream",
     "text": [
      "ending reward: 127\n",
      "========= End of Episode 0 =========\n",
      "========= Episode 1 =========\n"
     ]
    },
    {
     "name": "stderr",
     "output_type": "stream",
     "text": [
      "100%|█████████▉| 999/1000 [00:08<00:00, 124.46it/s]\n"
     ]
    },
    {
     "name": "stdout",
     "output_type": "stream",
     "text": [
      "ending reward: 64\n",
      "========= End of Episode 1 =========\n",
      "========= Episode 2 =========\n"
     ]
    },
    {
     "name": "stderr",
     "output_type": "stream",
     "text": [
      "100%|█████████▉| 999/1000 [00:08<00:00, 117.44it/s]\n"
     ]
    },
    {
     "name": "stdout",
     "output_type": "stream",
     "text": [
      "ending reward: 96\n",
      "========= End of Episode 2 =========\n",
      "========= Episode 3 =========\n"
     ]
    },
    {
     "name": "stderr",
     "output_type": "stream",
     "text": [
      "100%|█████████▉| 999/1000 [00:08<00:00, 124.41it/s]\n"
     ]
    },
    {
     "name": "stdout",
     "output_type": "stream",
     "text": [
      "ending reward: 63\n",
      "========= End of Episode 3 =========\n",
      "========= Episode 4 =========\n"
     ]
    },
    {
     "name": "stderr",
     "output_type": "stream",
     "text": [
      "100%|█████████▉| 999/1000 [00:07<00:00, 125.39it/s]\n"
     ]
    },
    {
     "name": "stdout",
     "output_type": "stream",
     "text": [
      "ending reward: 89\n",
      "========= End of Episode 4 =========\n",
      "========= Episode 5 =========\n"
     ]
    },
    {
     "name": "stderr",
     "output_type": "stream",
     "text": [
      "100%|█████████▉| 999/1000 [00:10<00:00, 91.21it/s] \n"
     ]
    },
    {
     "name": "stdout",
     "output_type": "stream",
     "text": [
      "ending reward: 103\n",
      "========= End of Episode 5 =========\n",
      "========= Episode 6 =========\n"
     ]
    },
    {
     "name": "stderr",
     "output_type": "stream",
     "text": [
      "100%|█████████▉| 999/1000 [00:12<00:00, 77.26it/s] \n"
     ]
    },
    {
     "name": "stdout",
     "output_type": "stream",
     "text": [
      "ending reward: 100\n",
      "========= End of Episode 6 =========\n",
      "========= Episode 7 =========\n"
     ]
    },
    {
     "name": "stderr",
     "output_type": "stream",
     "text": [
      "100%|█████████▉| 999/1000 [00:08<00:00, 121.88it/s]\n"
     ]
    },
    {
     "name": "stdout",
     "output_type": "stream",
     "text": [
      "ending reward: 102\n",
      "========= End of Episode 7 =========\n",
      "========= Episode 8 =========\n"
     ]
    },
    {
     "name": "stderr",
     "output_type": "stream",
     "text": [
      "100%|█████████▉| 999/1000 [00:08<00:00, 123.36it/s]\n"
     ]
    },
    {
     "name": "stdout",
     "output_type": "stream",
     "text": [
      "ending reward: 100\n",
      "========= End of Episode 8 =========\n",
      "========= Episode 9 =========\n"
     ]
    },
    {
     "name": "stderr",
     "output_type": "stream",
     "text": [
      "100%|█████████▉| 999/1000 [00:07<00:00, 127.03it/s]\n"
     ]
    },
    {
     "name": "stdout",
     "output_type": "stream",
     "text": [
      "ending reward: 111\n",
      "========= End of Episode 9 =========\n",
      "========= Episode 10 =========\n"
     ]
    },
    {
     "name": "stderr",
     "output_type": "stream",
     "text": [
      "100%|█████████▉| 999/1000 [00:10<00:00, 99.03it/s] \n"
     ]
    },
    {
     "name": "stdout",
     "output_type": "stream",
     "text": [
      "ending reward: 97\n",
      "========= End of Episode 10 =========\n",
      "========= Episode 11 =========\n"
     ]
    },
    {
     "name": "stderr",
     "output_type": "stream",
     "text": [
      "100%|█████████▉| 999/1000 [00:50<00:00, 19.60it/s] \n"
     ]
    },
    {
     "name": "stdout",
     "output_type": "stream",
     "text": [
      "ending reward: 115\n",
      "========= End of Episode 11 =========\n",
      "========= Episode 12 =========\n"
     ]
    },
    {
     "name": "stderr",
     "output_type": "stream",
     "text": [
      "100%|█████████▉| 999/1000 [00:08<00:00, 123.62it/s]\n"
     ]
    },
    {
     "name": "stdout",
     "output_type": "stream",
     "text": [
      "ending reward: 99\n",
      "========= End of Episode 12 =========\n",
      "========= Episode 13 =========\n"
     ]
    },
    {
     "name": "stderr",
     "output_type": "stream",
     "text": [
      "100%|█████████▉| 999/1000 [04:16<00:00,  3.90it/s]  \n"
     ]
    },
    {
     "name": "stdout",
     "output_type": "stream",
     "text": [
      "ending reward: 109\n",
      "========= End of Episode 13 =========\n",
      "========= Episode 14 =========\n"
     ]
    },
    {
     "name": "stderr",
     "output_type": "stream",
     "text": [
      "100%|█████████▉| 999/1000 [00:07<00:00, 132.11it/s]\n"
     ]
    },
    {
     "name": "stdout",
     "output_type": "stream",
     "text": [
      "ending reward: 96\n",
      "========= End of Episode 14 =========\n",
      "========= Episode 15 =========\n"
     ]
    },
    {
     "name": "stderr",
     "output_type": "stream",
     "text": [
      "100%|█████████▉| 999/1000 [00:39<00:00, 25.03it/s] \n"
     ]
    },
    {
     "name": "stdout",
     "output_type": "stream",
     "text": [
      "ending reward: 114\n",
      "========= End of Episode 15 =========\n",
      "========= Episode 16 =========\n"
     ]
    },
    {
     "name": "stderr",
     "output_type": "stream",
     "text": [
      "100%|█████████▉| 999/1000 [00:07<00:00, 128.60it/s]\n"
     ]
    },
    {
     "name": "stdout",
     "output_type": "stream",
     "text": [
      "ending reward: 112\n",
      "========= End of Episode 16 =========\n",
      "========= Episode 17 =========\n"
     ]
    },
    {
     "name": "stderr",
     "output_type": "stream",
     "text": [
      "100%|█████████▉| 999/1000 [00:34<00:00, 29.03it/s] \n"
     ]
    },
    {
     "name": "stdout",
     "output_type": "stream",
     "text": [
      "ending reward: 115\n",
      "========= End of Episode 17 =========\n",
      "========= Episode 18 =========\n"
     ]
    },
    {
     "name": "stderr",
     "output_type": "stream",
     "text": [
      "100%|█████████▉| 999/1000 [00:08<00:00, 115.79it/s]\n"
     ]
    },
    {
     "name": "stdout",
     "output_type": "stream",
     "text": [
      "ending reward: 102\n",
      "========= End of Episode 18 =========\n",
      "========= Episode 19 =========\n"
     ]
    },
    {
     "name": "stderr",
     "output_type": "stream",
     "text": [
      "100%|█████████▉| 999/1000 [00:09<00:00, 107.80it/s]\n"
     ]
    },
    {
     "name": "stdout",
     "output_type": "stream",
     "text": [
      "ending reward: 109\n",
      "========= End of Episode 19 =========\n",
      "========= Episode 20 =========\n"
     ]
    },
    {
     "name": "stderr",
     "output_type": "stream",
     "text": [
      "100%|█████████▉| 999/1000 [00:08<00:00, 123.82it/s]\n"
     ]
    },
    {
     "name": "stdout",
     "output_type": "stream",
     "text": [
      "ending reward: 81\n",
      "========= End of Episode 20 =========\n",
      "========= Episode 21 =========\n"
     ]
    },
    {
     "name": "stderr",
     "output_type": "stream",
     "text": [
      "100%|█████████▉| 999/1000 [00:07<00:00, 132.00it/s]\n"
     ]
    },
    {
     "name": "stdout",
     "output_type": "stream",
     "text": [
      "ending reward: 102\n",
      "========= End of Episode 21 =========\n",
      "========= Episode 22 =========\n"
     ]
    },
    {
     "name": "stderr",
     "output_type": "stream",
     "text": [
      "100%|█████████▉| 999/1000 [02:11<00:00,  7.58it/s] \n"
     ]
    },
    {
     "name": "stdout",
     "output_type": "stream",
     "text": [
      "ending reward: 103\n",
      "========= End of Episode 22 =========\n",
      "========= Episode 23 =========\n"
     ]
    },
    {
     "name": "stderr",
     "output_type": "stream",
     "text": [
      "100%|█████████▉| 999/1000 [00:08<00:00, 111.37it/s]\n"
     ]
    },
    {
     "name": "stdout",
     "output_type": "stream",
     "text": [
      "ending reward: 84\n",
      "========= End of Episode 23 =========\n",
      "========= Episode 24 =========\n"
     ]
    },
    {
     "name": "stderr",
     "output_type": "stream",
     "text": [
      "100%|█████████▉| 999/1000 [00:09<00:00, 109.04it/s]\n"
     ]
    },
    {
     "name": "stdout",
     "output_type": "stream",
     "text": [
      "ending reward: 123\n",
      "========= End of Episode 24 =========\n",
      "========= Episode 25 =========\n"
     ]
    },
    {
     "name": "stderr",
     "output_type": "stream",
     "text": [
      "100%|█████████▉| 999/1000 [00:08<00:00, 116.41it/s]\n"
     ]
    },
    {
     "name": "stdout",
     "output_type": "stream",
     "text": [
      "ending reward: 111\n",
      "========= End of Episode 25 =========\n",
      "========= Episode 26 =========\n"
     ]
    },
    {
     "name": "stderr",
     "output_type": "stream",
     "text": [
      "100%|█████████▉| 999/1000 [00:08<00:00, 118.04it/s]\n"
     ]
    },
    {
     "name": "stdout",
     "output_type": "stream",
     "text": [
      "ending reward: 106\n",
      "========= End of Episode 26 =========\n",
      "========= Episode 27 =========\n"
     ]
    },
    {
     "name": "stderr",
     "output_type": "stream",
     "text": [
      "100%|█████████▉| 999/1000 [00:08<00:00, 121.29it/s]\n"
     ]
    },
    {
     "name": "stdout",
     "output_type": "stream",
     "text": [
      "ending reward: 126\n",
      "========= End of Episode 27 =========\n",
      "========= Episode 28 =========\n"
     ]
    },
    {
     "name": "stderr",
     "output_type": "stream",
     "text": [
      "100%|█████████▉| 999/1000 [00:07<00:00, 126.02it/s]\n"
     ]
    },
    {
     "name": "stdout",
     "output_type": "stream",
     "text": [
      "ending reward: 104\n",
      "========= End of Episode 28 =========\n",
      "========= Episode 29 =========\n"
     ]
    },
    {
     "name": "stderr",
     "output_type": "stream",
     "text": [
      "100%|█████████▉| 999/1000 [00:08<00:00, 122.50it/s]\n"
     ]
    },
    {
     "name": "stdout",
     "output_type": "stream",
     "text": [
      "ending reward: 106\n",
      "========= End of Episode 29 =========\n",
      "========= Episode 30 =========\n"
     ]
    },
    {
     "name": "stderr",
     "output_type": "stream",
     "text": [
      "100%|█████████▉| 999/1000 [00:08<00:00, 123.24it/s]\n"
     ]
    },
    {
     "name": "stdout",
     "output_type": "stream",
     "text": [
      "ending reward: 124\n",
      "========= End of Episode 30 =========\n",
      "========= Episode 31 =========\n"
     ]
    },
    {
     "name": "stderr",
     "output_type": "stream",
     "text": [
      "100%|█████████▉| 999/1000 [00:08<00:00, 112.35it/s]\n"
     ]
    },
    {
     "name": "stdout",
     "output_type": "stream",
     "text": [
      "ending reward: 118\n",
      "========= End of Episode 31 =========\n",
      "========= Episode 32 =========\n"
     ]
    },
    {
     "name": "stderr",
     "output_type": "stream",
     "text": [
      "100%|█████████▉| 999/1000 [00:07<00:00, 128.54it/s]\n"
     ]
    },
    {
     "name": "stdout",
     "output_type": "stream",
     "text": [
      "ending reward: 130\n",
      "========= End of Episode 32 =========\n",
      "========= Episode 33 =========\n"
     ]
    },
    {
     "name": "stderr",
     "output_type": "stream",
     "text": [
      "100%|█████████▉| 999/1000 [00:08<00:00, 119.23it/s]\n"
     ]
    },
    {
     "name": "stdout",
     "output_type": "stream",
     "text": [
      "ending reward: 105\n",
      "========= End of Episode 33 =========\n",
      "========= Episode 34 =========\n"
     ]
    },
    {
     "name": "stderr",
     "output_type": "stream",
     "text": [
      "100%|█████████▉| 999/1000 [00:08<00:00, 121.76it/s]\n"
     ]
    },
    {
     "name": "stdout",
     "output_type": "stream",
     "text": [
      "ending reward: 125\n",
      "========= End of Episode 34 =========\n",
      "========= Episode 35 =========\n"
     ]
    },
    {
     "name": "stderr",
     "output_type": "stream",
     "text": [
      "100%|█████████▉| 999/1000 [00:08<00:00, 121.73it/s]\n"
     ]
    },
    {
     "name": "stdout",
     "output_type": "stream",
     "text": [
      "ending reward: 113\n",
      "========= End of Episode 35 =========\n",
      "========= Episode 36 =========\n"
     ]
    },
    {
     "name": "stderr",
     "output_type": "stream",
     "text": [
      "100%|█████████▉| 999/1000 [00:07<00:00, 130.85it/s]\n"
     ]
    },
    {
     "name": "stdout",
     "output_type": "stream",
     "text": [
      "ending reward: 98\n",
      "========= End of Episode 36 =========\n",
      "========= Episode 37 =========\n"
     ]
    },
    {
     "name": "stderr",
     "output_type": "stream",
     "text": [
      "100%|█████████▉| 999/1000 [00:07<00:00, 129.85it/s]\n"
     ]
    },
    {
     "name": "stdout",
     "output_type": "stream",
     "text": [
      "ending reward: 117\n",
      "========= End of Episode 37 =========\n",
      "========= Episode 38 =========\n"
     ]
    },
    {
     "name": "stderr",
     "output_type": "stream",
     "text": [
      "100%|█████████▉| 999/1000 [00:08<00:00, 120.76it/s]\n"
     ]
    },
    {
     "name": "stdout",
     "output_type": "stream",
     "text": [
      "ending reward: 95\n",
      "========= End of Episode 38 =========\n",
      "========= Episode 39 =========\n"
     ]
    },
    {
     "name": "stderr",
     "output_type": "stream",
     "text": [
      "100%|█████████▉| 999/1000 [00:10<00:00, 99.25it/s] \n"
     ]
    },
    {
     "name": "stdout",
     "output_type": "stream",
     "text": [
      "ending reward: 121\n",
      "========= End of Episode 39 =========\n",
      "========= Episode 40 =========\n"
     ]
    },
    {
     "name": "stderr",
     "output_type": "stream",
     "text": [
      "100%|█████████▉| 999/1000 [00:07<00:00, 126.78it/s]\n"
     ]
    },
    {
     "name": "stdout",
     "output_type": "stream",
     "text": [
      "ending reward: 109\n",
      "========= End of Episode 40 =========\n",
      "========= Episode 41 =========\n"
     ]
    },
    {
     "name": "stderr",
     "output_type": "stream",
     "text": [
      "100%|█████████▉| 999/1000 [00:07<00:00, 128.79it/s]\n"
     ]
    },
    {
     "name": "stdout",
     "output_type": "stream",
     "text": [
      "ending reward: 94\n",
      "========= End of Episode 41 =========\n",
      "========= Episode 42 =========\n"
     ]
    },
    {
     "name": "stderr",
     "output_type": "stream",
     "text": [
      "100%|█████████▉| 999/1000 [00:07<00:00, 141.92it/s]\n"
     ]
    },
    {
     "name": "stdout",
     "output_type": "stream",
     "text": [
      "ending reward: 110\n",
      "========= End of Episode 42 =========\n",
      "========= Episode 43 =========\n"
     ]
    },
    {
     "name": "stderr",
     "output_type": "stream",
     "text": [
      "100%|█████████▉| 999/1000 [00:07<00:00, 139.88it/s]\n"
     ]
    },
    {
     "name": "stdout",
     "output_type": "stream",
     "text": [
      "ending reward: 107\n",
      "========= End of Episode 43 =========\n",
      "========= Episode 44 =========\n"
     ]
    },
    {
     "name": "stderr",
     "output_type": "stream",
     "text": [
      "100%|█████████▉| 999/1000 [00:08<00:00, 120.42it/s]\n"
     ]
    },
    {
     "name": "stdout",
     "output_type": "stream",
     "text": [
      "ending reward: 121\n",
      "========= End of Episode 44 =========\n",
      "========= Episode 45 =========\n"
     ]
    },
    {
     "name": "stderr",
     "output_type": "stream",
     "text": [
      "100%|█████████▉| 999/1000 [00:07<00:00, 138.52it/s]\n"
     ]
    },
    {
     "name": "stdout",
     "output_type": "stream",
     "text": [
      "ending reward: 129\n",
      "========= End of Episode 45 =========\n",
      "========= Episode 46 =========\n"
     ]
    },
    {
     "name": "stderr",
     "output_type": "stream",
     "text": [
      "100%|█████████▉| 999/1000 [00:07<00:00, 130.02it/s]\n"
     ]
    },
    {
     "name": "stdout",
     "output_type": "stream",
     "text": [
      "ending reward: 116\n",
      "========= End of Episode 46 =========\n",
      "========= Episode 47 =========\n"
     ]
    },
    {
     "name": "stderr",
     "output_type": "stream",
     "text": [
      "100%|█████████▉| 999/1000 [00:07<00:00, 137.38it/s]\n"
     ]
    },
    {
     "name": "stdout",
     "output_type": "stream",
     "text": [
      "ending reward: 120\n",
      "========= End of Episode 47 =========\n",
      "========= Episode 48 =========\n"
     ]
    },
    {
     "name": "stderr",
     "output_type": "stream",
     "text": [
      "100%|█████████▉| 999/1000 [00:07<00:00, 140.10it/s]\n"
     ]
    },
    {
     "name": "stdout",
     "output_type": "stream",
     "text": [
      "ending reward: 111\n",
      "========= End of Episode 48 =========\n",
      "========= Episode 49 =========\n"
     ]
    },
    {
     "name": "stderr",
     "output_type": "stream",
     "text": [
      "100%|█████████▉| 999/1000 [00:06<00:00, 144.80it/s]\n"
     ]
    },
    {
     "name": "stdout",
     "output_type": "stream",
     "text": [
      "ending reward: 102\n",
      "========= End of Episode 49 =========\n",
      "========= Episode 50 =========\n"
     ]
    },
    {
     "name": "stderr",
     "output_type": "stream",
     "text": [
      "100%|█████████▉| 999/1000 [00:07<00:00, 137.17it/s]\n"
     ]
    },
    {
     "name": "stdout",
     "output_type": "stream",
     "text": [
      "ending reward: 91\n",
      "========= End of Episode 50 =========\n",
      "========= Episode 51 =========\n"
     ]
    },
    {
     "name": "stderr",
     "output_type": "stream",
     "text": [
      "100%|█████████▉| 999/1000 [00:08<00:00, 119.44it/s]\n"
     ]
    },
    {
     "name": "stdout",
     "output_type": "stream",
     "text": [
      "ending reward: 93\n",
      "========= End of Episode 51 =========\n",
      "========= Episode 52 =========\n"
     ]
    },
    {
     "name": "stderr",
     "output_type": "stream",
     "text": [
      "100%|█████████▉| 999/1000 [00:07<00:00, 135.88it/s]\n"
     ]
    },
    {
     "name": "stdout",
     "output_type": "stream",
     "text": [
      "ending reward: 126\n",
      "========= End of Episode 52 =========\n",
      "========= Episode 53 =========\n"
     ]
    },
    {
     "name": "stderr",
     "output_type": "stream",
     "text": [
      "100%|█████████▉| 999/1000 [00:07<00:00, 127.72it/s]\n"
     ]
    },
    {
     "name": "stdout",
     "output_type": "stream",
     "text": [
      "ending reward: 105\n",
      "========= End of Episode 53 =========\n",
      "========= Episode 54 =========\n"
     ]
    },
    {
     "name": "stderr",
     "output_type": "stream",
     "text": [
      "100%|█████████▉| 999/1000 [00:08<00:00, 120.23it/s]\n"
     ]
    },
    {
     "name": "stdout",
     "output_type": "stream",
     "text": [
      "ending reward: 97\n",
      "========= End of Episode 54 =========\n",
      "========= Episode 55 =========\n"
     ]
    },
    {
     "name": "stderr",
     "output_type": "stream",
     "text": [
      "100%|█████████▉| 999/1000 [00:08<00:00, 124.35it/s]\n"
     ]
    },
    {
     "name": "stdout",
     "output_type": "stream",
     "text": [
      "ending reward: 97\n",
      "========= End of Episode 55 =========\n",
      "========= Episode 56 =========\n"
     ]
    },
    {
     "name": "stderr",
     "output_type": "stream",
     "text": [
      "100%|█████████▉| 999/1000 [00:06<00:00, 147.43it/s]\n"
     ]
    },
    {
     "name": "stdout",
     "output_type": "stream",
     "text": [
      "ending reward: 125\n",
      "========= End of Episode 56 =========\n",
      "========= Episode 57 =========\n"
     ]
    },
    {
     "name": "stderr",
     "output_type": "stream",
     "text": [
      "100%|█████████▉| 999/1000 [00:07<00:00, 126.09it/s]\n"
     ]
    },
    {
     "name": "stdout",
     "output_type": "stream",
     "text": [
      "ending reward: 104\n",
      "========= End of Episode 57 =========\n",
      "========= Episode 58 =========\n"
     ]
    },
    {
     "name": "stderr",
     "output_type": "stream",
     "text": [
      "100%|█████████▉| 999/1000 [00:07<00:00, 130.66it/s]\n"
     ]
    },
    {
     "name": "stdout",
     "output_type": "stream",
     "text": [
      "ending reward: 104\n",
      "========= End of Episode 58 =========\n",
      "========= Episode 59 =========\n"
     ]
    },
    {
     "name": "stderr",
     "output_type": "stream",
     "text": [
      "100%|█████████▉| 999/1000 [00:06<00:00, 148.32it/s]\n"
     ]
    },
    {
     "name": "stdout",
     "output_type": "stream",
     "text": [
      "ending reward: 91\n",
      "========= End of Episode 59 =========\n",
      "========= Episode 60 =========\n"
     ]
    },
    {
     "name": "stderr",
     "output_type": "stream",
     "text": [
      "100%|█████████▉| 999/1000 [00:06<00:00, 152.54it/s]\n"
     ]
    },
    {
     "name": "stdout",
     "output_type": "stream",
     "text": [
      "ending reward: 123\n",
      "========= End of Episode 60 =========\n",
      "========= Episode 61 =========\n"
     ]
    },
    {
     "name": "stderr",
     "output_type": "stream",
     "text": [
      "100%|█████████▉| 999/1000 [00:07<00:00, 138.67it/s]\n"
     ]
    },
    {
     "name": "stdout",
     "output_type": "stream",
     "text": [
      "ending reward: 126\n",
      "========= End of Episode 61 =========\n",
      "========= Episode 62 =========\n"
     ]
    },
    {
     "name": "stderr",
     "output_type": "stream",
     "text": [
      "100%|█████████▉| 999/1000 [00:07<00:00, 134.16it/s]\n"
     ]
    },
    {
     "name": "stdout",
     "output_type": "stream",
     "text": [
      "ending reward: 132\n",
      "========= End of Episode 62 =========\n",
      "========= Episode 63 =========\n"
     ]
    },
    {
     "name": "stderr",
     "output_type": "stream",
     "text": [
      "100%|█████████▉| 999/1000 [00:07<00:00, 130.30it/s]\n"
     ]
    },
    {
     "name": "stdout",
     "output_type": "stream",
     "text": [
      "ending reward: 104\n",
      "========= End of Episode 63 =========\n",
      "========= Episode 64 =========\n"
     ]
    },
    {
     "name": "stderr",
     "output_type": "stream",
     "text": [
      "100%|█████████▉| 999/1000 [00:07<00:00, 133.01it/s]\n"
     ]
    },
    {
     "name": "stdout",
     "output_type": "stream",
     "text": [
      "ending reward: 117\n",
      "========= End of Episode 64 =========\n",
      "========= Episode 65 =========\n"
     ]
    },
    {
     "name": "stderr",
     "output_type": "stream",
     "text": [
      "100%|█████████▉| 999/1000 [00:07<00:00, 138.42it/s]\n"
     ]
    },
    {
     "name": "stdout",
     "output_type": "stream",
     "text": [
      "ending reward: 100\n",
      "========= End of Episode 65 =========\n",
      "========= Episode 66 =========\n"
     ]
    },
    {
     "name": "stderr",
     "output_type": "stream",
     "text": [
      "100%|█████████▉| 999/1000 [00:06<00:00, 145.75it/s]\n"
     ]
    },
    {
     "name": "stdout",
     "output_type": "stream",
     "text": [
      "ending reward: 120\n",
      "========= End of Episode 66 =========\n",
      "========= Episode 67 =========\n"
     ]
    },
    {
     "name": "stderr",
     "output_type": "stream",
     "text": [
      "100%|█████████▉| 999/1000 [00:07<00:00, 136.99it/s]\n"
     ]
    },
    {
     "name": "stdout",
     "output_type": "stream",
     "text": [
      "ending reward: 122\n",
      "========= End of Episode 67 =========\n",
      "========= Episode 68 =========\n"
     ]
    },
    {
     "name": "stderr",
     "output_type": "stream",
     "text": [
      "100%|█████████▉| 999/1000 [00:06<00:00, 145.38it/s]\n"
     ]
    },
    {
     "name": "stdout",
     "output_type": "stream",
     "text": [
      "ending reward: 122\n",
      "========= End of Episode 68 =========\n",
      "========= Episode 69 =========\n"
     ]
    },
    {
     "name": "stderr",
     "output_type": "stream",
     "text": [
      "100%|█████████▉| 999/1000 [00:07<00:00, 129.42it/s]\n"
     ]
    },
    {
     "name": "stdout",
     "output_type": "stream",
     "text": [
      "ending reward: 122\n",
      "========= End of Episode 69 =========\n",
      "========= Episode 70 =========\n"
     ]
    },
    {
     "name": "stderr",
     "output_type": "stream",
     "text": [
      "100%|█████████▉| 999/1000 [00:08<00:00, 118.87it/s]\n"
     ]
    },
    {
     "name": "stdout",
     "output_type": "stream",
     "text": [
      "ending reward: 110\n",
      "========= End of Episode 70 =========\n",
      "========= Episode 71 =========\n"
     ]
    },
    {
     "name": "stderr",
     "output_type": "stream",
     "text": [
      "100%|█████████▉| 999/1000 [00:08<00:00, 114.70it/s]\n"
     ]
    },
    {
     "name": "stdout",
     "output_type": "stream",
     "text": [
      "ending reward: 100\n",
      "========= End of Episode 71 =========\n",
      "========= Episode 72 =========\n"
     ]
    },
    {
     "name": "stderr",
     "output_type": "stream",
     "text": [
      "100%|█████████▉| 999/1000 [00:08<00:00, 122.97it/s]\n"
     ]
    },
    {
     "name": "stdout",
     "output_type": "stream",
     "text": [
      "ending reward: 112\n",
      "========= End of Episode 72 =========\n",
      "========= Episode 73 =========\n"
     ]
    },
    {
     "name": "stderr",
     "output_type": "stream",
     "text": [
      "100%|█████████▉| 999/1000 [00:07<00:00, 135.60it/s]\n"
     ]
    },
    {
     "name": "stdout",
     "output_type": "stream",
     "text": [
      "ending reward: 103\n",
      "========= End of Episode 73 =========\n",
      "========= Episode 74 =========\n"
     ]
    },
    {
     "name": "stderr",
     "output_type": "stream",
     "text": [
      "100%|█████████▉| 999/1000 [00:07<00:00, 140.39it/s]\n"
     ]
    },
    {
     "name": "stdout",
     "output_type": "stream",
     "text": [
      "ending reward: 89\n",
      "========= End of Episode 74 =========\n",
      "========= Episode 75 =========\n"
     ]
    },
    {
     "name": "stderr",
     "output_type": "stream",
     "text": [
      "100%|█████████▉| 999/1000 [00:07<00:00, 141.32it/s]\n"
     ]
    },
    {
     "name": "stdout",
     "output_type": "stream",
     "text": [
      "ending reward: 100\n",
      "========= End of Episode 75 =========\n",
      "========= Episode 76 =========\n"
     ]
    },
    {
     "name": "stderr",
     "output_type": "stream",
     "text": [
      "100%|█████████▉| 999/1000 [00:07<00:00, 137.71it/s]\n"
     ]
    },
    {
     "name": "stdout",
     "output_type": "stream",
     "text": [
      "ending reward: 107\n",
      "========= End of Episode 76 =========\n",
      "========= Episode 77 =========\n"
     ]
    },
    {
     "name": "stderr",
     "output_type": "stream",
     "text": [
      "100%|█████████▉| 999/1000 [00:07<00:00, 139.20it/s]\n"
     ]
    },
    {
     "name": "stdout",
     "output_type": "stream",
     "text": [
      "ending reward: 98\n",
      "========= End of Episode 77 =========\n",
      "========= Episode 78 =========\n"
     ]
    },
    {
     "name": "stderr",
     "output_type": "stream",
     "text": [
      "100%|█████████▉| 999/1000 [00:07<00:00, 133.23it/s]\n"
     ]
    },
    {
     "name": "stdout",
     "output_type": "stream",
     "text": [
      "ending reward: 128\n",
      "========= End of Episode 78 =========\n",
      "========= Episode 79 =========\n"
     ]
    },
    {
     "name": "stderr",
     "output_type": "stream",
     "text": [
      "100%|█████████▉| 999/1000 [00:07<00:00, 137.14it/s]\n"
     ]
    },
    {
     "name": "stdout",
     "output_type": "stream",
     "text": [
      "ending reward: 117\n",
      "========= End of Episode 79 =========\n",
      "========= Episode 80 =========\n"
     ]
    },
    {
     "name": "stderr",
     "output_type": "stream",
     "text": [
      "100%|█████████▉| 999/1000 [00:06<00:00, 144.95it/s]\n"
     ]
    },
    {
     "name": "stdout",
     "output_type": "stream",
     "text": [
      "ending reward: 103\n",
      "========= End of Episode 80 =========\n",
      "========= Episode 81 =========\n"
     ]
    },
    {
     "name": "stderr",
     "output_type": "stream",
     "text": [
      "100%|█████████▉| 999/1000 [00:06<00:00, 149.02it/s]\n"
     ]
    },
    {
     "name": "stdout",
     "output_type": "stream",
     "text": [
      "ending reward: 110\n",
      "========= End of Episode 81 =========\n",
      "========= Episode 82 =========\n"
     ]
    },
    {
     "name": "stderr",
     "output_type": "stream",
     "text": [
      "100%|█████████▉| 999/1000 [00:06<00:00, 150.46it/s]\n"
     ]
    },
    {
     "name": "stdout",
     "output_type": "stream",
     "text": [
      "ending reward: 116\n",
      "========= End of Episode 82 =========\n",
      "========= Episode 83 =========\n"
     ]
    },
    {
     "name": "stderr",
     "output_type": "stream",
     "text": [
      "100%|█████████▉| 999/1000 [00:06<00:00, 153.77it/s]\n"
     ]
    },
    {
     "name": "stdout",
     "output_type": "stream",
     "text": [
      "ending reward: 91\n",
      "========= End of Episode 83 =========\n",
      "========= Episode 84 =========\n"
     ]
    },
    {
     "name": "stderr",
     "output_type": "stream",
     "text": [
      "100%|█████████▉| 999/1000 [00:06<00:00, 143.91it/s]\n"
     ]
    },
    {
     "name": "stdout",
     "output_type": "stream",
     "text": [
      "ending reward: 101\n",
      "========= End of Episode 84 =========\n",
      "========= Episode 85 =========\n"
     ]
    },
    {
     "name": "stderr",
     "output_type": "stream",
     "text": [
      "100%|█████████▉| 999/1000 [00:06<00:00, 154.40it/s]\n"
     ]
    },
    {
     "name": "stdout",
     "output_type": "stream",
     "text": [
      "ending reward: 101\n",
      "========= End of Episode 85 =========\n",
      "========= Episode 86 =========\n"
     ]
    },
    {
     "name": "stderr",
     "output_type": "stream",
     "text": [
      "100%|█████████▉| 999/1000 [00:07<00:00, 142.25it/s]\n"
     ]
    },
    {
     "name": "stdout",
     "output_type": "stream",
     "text": [
      "ending reward: 112\n",
      "========= End of Episode 86 =========\n",
      "========= Episode 87 =========\n"
     ]
    },
    {
     "name": "stderr",
     "output_type": "stream",
     "text": [
      "100%|█████████▉| 999/1000 [00:07<00:00, 133.90it/s]\n"
     ]
    },
    {
     "name": "stdout",
     "output_type": "stream",
     "text": [
      "ending reward: 114\n",
      "========= End of Episode 87 =========\n",
      "========= Episode 88 =========\n"
     ]
    },
    {
     "name": "stderr",
     "output_type": "stream",
     "text": [
      "100%|█████████▉| 999/1000 [00:08<00:00, 123.91it/s]\n"
     ]
    },
    {
     "name": "stdout",
     "output_type": "stream",
     "text": [
      "ending reward: 93\n",
      "========= End of Episode 88 =========\n",
      "========= Episode 89 =========\n"
     ]
    },
    {
     "name": "stderr",
     "output_type": "stream",
     "text": [
      "100%|█████████▉| 999/1000 [00:07<00:00, 134.86it/s]\n"
     ]
    },
    {
     "name": "stdout",
     "output_type": "stream",
     "text": [
      "ending reward: 105\n",
      "========= End of Episode 89 =========\n",
      "========= Episode 90 =========\n"
     ]
    },
    {
     "name": "stderr",
     "output_type": "stream",
     "text": [
      "100%|█████████▉| 999/1000 [00:07<00:00, 132.87it/s]\n"
     ]
    },
    {
     "name": "stdout",
     "output_type": "stream",
     "text": [
      "ending reward: 106\n",
      "========= End of Episode 90 =========\n",
      "========= Episode 91 =========\n"
     ]
    },
    {
     "name": "stderr",
     "output_type": "stream",
     "text": [
      "100%|█████████▉| 999/1000 [00:07<00:00, 141.17it/s]\n"
     ]
    },
    {
     "name": "stdout",
     "output_type": "stream",
     "text": [
      "ending reward: 113\n",
      "========= End of Episode 91 =========\n",
      "========= Episode 92 =========\n"
     ]
    },
    {
     "name": "stderr",
     "output_type": "stream",
     "text": [
      "100%|█████████▉| 999/1000 [00:07<00:00, 140.19it/s]\n"
     ]
    },
    {
     "name": "stdout",
     "output_type": "stream",
     "text": [
      "ending reward: 128\n",
      "========= End of Episode 92 =========\n",
      "========= Episode 93 =========\n"
     ]
    },
    {
     "name": "stderr",
     "output_type": "stream",
     "text": [
      "100%|█████████▉| 999/1000 [00:06<00:00, 147.05it/s]\n"
     ]
    },
    {
     "name": "stdout",
     "output_type": "stream",
     "text": [
      "ending reward: 88\n",
      "========= End of Episode 93 =========\n",
      "========= Episode 94 =========\n"
     ]
    },
    {
     "name": "stderr",
     "output_type": "stream",
     "text": [
      "100%|█████████▉| 999/1000 [00:06<00:00, 149.54it/s]\n"
     ]
    },
    {
     "name": "stdout",
     "output_type": "stream",
     "text": [
      "ending reward: 120\n",
      "========= End of Episode 94 =========\n",
      "========= Episode 95 =========\n"
     ]
    },
    {
     "name": "stderr",
     "output_type": "stream",
     "text": [
      "100%|█████████▉| 999/1000 [00:06<00:00, 146.04it/s]\n"
     ]
    },
    {
     "name": "stdout",
     "output_type": "stream",
     "text": [
      "ending reward: 120\n",
      "========= End of Episode 95 =========\n",
      "========= Episode 96 =========\n"
     ]
    },
    {
     "name": "stderr",
     "output_type": "stream",
     "text": [
      "100%|█████████▉| 999/1000 [00:06<00:00, 148.63it/s]\n"
     ]
    },
    {
     "name": "stdout",
     "output_type": "stream",
     "text": [
      "ending reward: 92\n",
      "========= End of Episode 96 =========\n",
      "========= Episode 97 =========\n"
     ]
    },
    {
     "name": "stderr",
     "output_type": "stream",
     "text": [
      "100%|█████████▉| 999/1000 [00:06<00:00, 151.47it/s]\n"
     ]
    },
    {
     "name": "stdout",
     "output_type": "stream",
     "text": [
      "ending reward: 98\n",
      "========= End of Episode 97 =========\n",
      "========= Episode 98 =========\n"
     ]
    },
    {
     "name": "stderr",
     "output_type": "stream",
     "text": [
      "100%|█████████▉| 999/1000 [00:06<00:00, 147.96it/s]\n"
     ]
    },
    {
     "name": "stdout",
     "output_type": "stream",
     "text": [
      "ending reward: 122\n",
      "========= End of Episode 98 =========\n",
      "========= Episode 99 =========\n"
     ]
    },
    {
     "name": "stderr",
     "output_type": "stream",
     "text": [
      "100%|█████████▉| 999/1000 [00:06<00:00, 150.86it/s]"
     ]
    },
    {
     "name": "stdout",
     "output_type": "stream",
     "text": [
      "ending reward: 91\n",
      "========= End of Episode 99 =========\n"
     ]
    },
    {
     "name": "stderr",
     "output_type": "stream",
     "text": [
      "\n"
     ]
    }
   ],
   "source": [
    "max_reward = 0\n",
    "for episode in range(num_episodes):\n",
    "    print(f\"========= Episode {episode} =========\")\n",
    "\n",
    "    states, info = env.reset()\n",
    "\n",
    "    #print(f\"info: {info}\")\n",
    "\n",
    "    prev_assignments = {id: env._agents[id].region for id in agent_ids}\n",
    "\n",
    "    picker_has_stepped = False\n",
    "    cleaner_has_stepped = False\n",
    "\n",
    "    for step in tqdm(range(steps_per_epsiode)):\n",
    "        num_apples, num_dirt, _, _ = states[\"coordinator\"]\n",
    "        agent_frequency_in_dirt = num_dirt / (num_apples + num_dirt)\n",
    "        num_cleaner = round(num_agents * agent_frequency_in_dirt)\n",
    "        num_picker = num_agents - num_cleaner\n",
    "        assignments = env.get_greedy_assignments(num_picker, num_cleaner)\n",
    "        directions = {}\n",
    "        for agent_id in agent_ids:\n",
    "            if assignments[agent_id] != prev_assignments[agent_id]:\n",
    "                directions[agent_id] = 0\n",
    "            elif assignments[agent_id] == CleanupRegion.APPLE:\n",
    "                directions[agent_id] = picker_q.act(np.array(states[agent_id])).flatten()[0] - 1\n",
    "            else:\n",
    "                directions[agent_id] = cleaner_q.act(np.array(states[agent_id])).flatten()[0] - 1\n",
    "        #print(f\"actions: {actions}\")\n",
    "        actions = {agent_id: (assignments[agent_id], directions[agent_id]) for agent_id in agent_ids}\n",
    "        next_states, rewards, dones, _, info = env.step(actions)\n",
    "\n",
    "        # print('dirt rewards', {agent_id: rewards[agent_id] for agent_id in agent_ids if assignments[agent_id] == CleanupRegion.WASTE})\n",
    "        # print('apple rewards', {agent_id: rewards[agent_id] for agent_id in agent_ids if assignments[agent_id] == CleanupRegion.APPLE})\n",
    "\n",
    "        for agent_id in agent_ids:\n",
    "            if assignments[agent_id] != prev_assignments[agent_id]:\n",
    "                continue\n",
    "            elif assignments[agent_id] == CleanupRegion.APPLE:\n",
    "                picker_q.step(np.array(states[agent_id]), actions[agent_id][1] + 1, rewards[agent_id], np.array(next_states[agent_id]))\n",
    "                picker_has_stepped = True\n",
    "            else:\n",
    "                cleaner_q.step(np.array(states[agent_id]), actions[agent_id][1] + 1, rewards[agent_id], np.array(next_states[agent_id]))\n",
    "                cleaner_has_stepped = True\n",
    "\n",
    "        if episode > verbose_episode:\n",
    "            print(f\"========= Step {step} =========\")\n",
    "            print(f\"info: {info}\")\n",
    "\n",
    "        states = next_states\n",
    "\n",
    "        prev_assignments = assignments\n",
    "\n",
    "        if dones[\"__all__\"]:\n",
    "            break \n",
    "\n",
    "    ending_reward = info[\"total_apple_consumed\"]\n",
    "\n",
    "    print(f\"ending reward: {ending_reward}\")\n",
    "    print(f\"========= End of Episode {episode} =========\")\n",
    "\n",
    "    ending_ep_rewards.append(ending_reward)\n",
    "\n",
    "    if picker_has_stepped:\n",
    "        picker_q.scheduler.step()\n",
    "        picker_has_stepped = False\n",
    "    if cleaner_has_stepped:\n",
    "        cleaner_q.scheduler.step()\n",
    "        cleaner_has_stepped = False\n",
    "\n",
    "    if ending_reward > max_reward:\n",
    "        max_reward = ending_reward"
   ]
  },
  {
   "cell_type": "code",
   "execution_count": 10,
   "metadata": {},
   "outputs": [
    {
     "data": {
      "image/png": "[encoded data removed]",
      "text/plain": [
       "<Figure size 640x480 with 1 Axes>"
      ]
     },
     "metadata": {},
     "output_type": "display_data"
    }
   ],
   "source": [
    "plt.title(\"Reward by Training Episode\")\n",
    "plt.xlabel(\"Episode\")\n",
    "plt.ylabel(\"Reward\")\n",
    "plt.plot(ending_ep_rewards)\n",
    "plt.axhline(y=2875.1, color='r', linestyle='-')\n",
    "plt.show()"
   ]
  },
  {
   "cell_type": "code",
   "execution_count": 11,
   "metadata": {},
   "outputs": [
    {
     "name": "stdout",
     "output_type": "stream",
     "text": [
      "========= Episode 0 =========\n"
     ]
    },
    {
     "name": "stderr",
     "output_type": "stream",
     "text": [
      "100%|█████████▉| 999/1000 [00:00<00:00, 1556.01it/s]\n"
     ]
    },
    {
     "name": "stdout",
     "output_type": "stream",
     "text": [
      "ending reward: 95\n",
      "========= End of Episode 0 =========\n",
      "========= Episode 1 =========\n"
     ]
    },
    {
     "name": "stderr",
     "output_type": "stream",
     "text": [
      "100%|█████████▉| 999/1000 [00:00<00:00, 1688.01it/s]\n"
     ]
    },
    {
     "name": "stdout",
     "output_type": "stream",
     "text": [
      "ending reward: 121\n",
      "========= End of Episode 1 =========\n",
      "========= Episode 2 =========\n"
     ]
    },
    {
     "name": "stderr",
     "output_type": "stream",
     "text": [
      "100%|█████████▉| 999/1000 [00:00<00:00, 1671.08it/s]\n"
     ]
    },
    {
     "name": "stdout",
     "output_type": "stream",
     "text": [
      "ending reward: 123\n",
      "========= End of Episode 2 =========\n",
      "========= Episode 3 =========\n"
     ]
    },
    {
     "name": "stderr",
     "output_type": "stream",
     "text": [
      "100%|█████████▉| 999/1000 [00:00<00:00, 1640.77it/s]\n"
     ]
    },
    {
     "name": "stdout",
     "output_type": "stream",
     "text": [
      "ending reward: 126\n",
      "========= End of Episode 3 =========\n",
      "========= Episode 4 =========\n"
     ]
    },
    {
     "name": "stderr",
     "output_type": "stream",
     "text": [
      "100%|█████████▉| 999/1000 [00:00<00:00, 1568.23it/s]\n"
     ]
    },
    {
     "name": "stdout",
     "output_type": "stream",
     "text": [
      "ending reward: 108\n",
      "========= End of Episode 4 =========\n",
      "========= Episode 5 =========\n"
     ]
    },
    {
     "name": "stderr",
     "output_type": "stream",
     "text": [
      "100%|█████████▉| 999/1000 [00:00<00:00, 1577.40it/s]\n"
     ]
    },
    {
     "name": "stdout",
     "output_type": "stream",
     "text": [
      "ending reward: 108\n",
      "========= End of Episode 5 =========\n",
      "========= Episode 6 =========\n"
     ]
    },
    {
     "name": "stderr",
     "output_type": "stream",
     "text": [
      "100%|█████████▉| 999/1000 [00:00<00:00, 1633.71it/s]\n"
     ]
    },
    {
     "name": "stdout",
     "output_type": "stream",
     "text": [
      "ending reward: 115\n",
      "========= End of Episode 6 =========\n",
      "========= Episode 7 =========\n"
     ]
    },
    {
     "name": "stderr",
     "output_type": "stream",
     "text": [
      "100%|█████████▉| 999/1000 [00:00<00:00, 1679.40it/s]\n"
     ]
    },
    {
     "name": "stdout",
     "output_type": "stream",
     "text": [
      "ending reward: 96\n",
      "========= End of Episode 7 =========\n",
      "========= Episode 8 =========\n"
     ]
    },
    {
     "name": "stderr",
     "output_type": "stream",
     "text": [
      "100%|█████████▉| 999/1000 [00:00<00:00, 1676.21it/s]\n"
     ]
    },
    {
     "name": "stdout",
     "output_type": "stream",
     "text": [
      "ending reward: 106\n",
      "========= End of Episode 8 =========\n",
      "========= Episode 9 =========\n"
     ]
    },
    {
     "name": "stderr",
     "output_type": "stream",
     "text": [
      "100%|█████████▉| 999/1000 [00:00<00:00, 1632.41it/s]\n"
     ]
    },
    {
     "name": "stdout",
     "output_type": "stream",
     "text": [
      "ending reward: 112\n",
      "========= End of Episode 9 =========\n",
      "========= Episode 10 =========\n"
     ]
    },
    {
     "name": "stderr",
     "output_type": "stream",
     "text": [
      "100%|█████████▉| 999/1000 [00:00<00:00, 1682.36it/s]\n"
     ]
    },
    {
     "name": "stdout",
     "output_type": "stream",
     "text": [
      "ending reward: 101\n",
      "========= End of Episode 10 =========\n",
      "========= Episode 11 =========\n"
     ]
    },
    {
     "name": "stderr",
     "output_type": "stream",
     "text": [
      "100%|█████████▉| 999/1000 [00:00<00:00, 1658.34it/s]\n"
     ]
    },
    {
     "name": "stdout",
     "output_type": "stream",
     "text": [
      "ending reward: 119\n",
      "========= End of Episode 11 =========\n",
      "========= Episode 12 =========\n"
     ]
    },
    {
     "name": "stderr",
     "output_type": "stream",
     "text": [
      "100%|█████████▉| 999/1000 [00:00<00:00, 1595.11it/s]\n"
     ]
    },
    {
     "name": "stdout",
     "output_type": "stream",
     "text": [
      "ending reward: 110\n",
      "========= End of Episode 12 =========\n",
      "========= Episode 13 =========\n"
     ]
    },
    {
     "name": "stderr",
     "output_type": "stream",
     "text": [
      "100%|█████████▉| 999/1000 [00:00<00:00, 1675.05it/s]\n"
     ]
    },
    {
     "name": "stdout",
     "output_type": "stream",
     "text": [
      "ending reward: 115\n",
      "========= End of Episode 13 =========\n",
      "========= Episode 14 =========\n"
     ]
    },
    {
     "name": "stderr",
     "output_type": "stream",
     "text": [
      "100%|█████████▉| 999/1000 [00:00<00:00, 1674.73it/s]\n"
     ]
    },
    {
     "name": "stdout",
     "output_type": "stream",
     "text": [
      "ending reward: 107\n",
      "========= End of Episode 14 =========\n",
      "========= Episode 15 =========\n"
     ]
    },
    {
     "name": "stderr",
     "output_type": "stream",
     "text": [
      "100%|█████████▉| 999/1000 [00:00<00:00, 1666.27it/s]\n"
     ]
    },
    {
     "name": "stdout",
     "output_type": "stream",
     "text": [
      "ending reward: 102\n",
      "========= End of Episode 15 =========\n",
      "========= Episode 16 =========\n"
     ]
    },
    {
     "name": "stderr",
     "output_type": "stream",
     "text": [
      "100%|█████████▉| 999/1000 [00:00<00:00, 1689.59it/s]\n"
     ]
    },
    {
     "name": "stdout",
     "output_type": "stream",
     "text": [
      "ending reward: 111\n",
      "========= End of Episode 16 =========\n",
      "========= Episode 17 =========\n"
     ]
    },
    {
     "name": "stderr",
     "output_type": "stream",
     "text": [
      "100%|█████████▉| 999/1000 [00:00<00:00, 1677.61it/s]\n"
     ]
    },
    {
     "name": "stdout",
     "output_type": "stream",
     "text": [
      "ending reward: 130\n",
      "========= End of Episode 17 =========\n",
      "========= Episode 18 =========\n"
     ]
    },
    {
     "name": "stderr",
     "output_type": "stream",
     "text": [
      "100%|█████████▉| 999/1000 [00:00<00:00, 1661.48it/s]\n"
     ]
    },
    {
     "name": "stdout",
     "output_type": "stream",
     "text": [
      "ending reward: 100\n",
      "========= End of Episode 18 =========\n",
      "========= Episode 19 =========\n"
     ]
    },
    {
     "name": "stderr",
     "output_type": "stream",
     "text": [
      "100%|█████████▉| 999/1000 [00:00<00:00, 1681.32it/s]"
     ]
    },
    {
     "name": "stdout",
     "output_type": "stream",
     "text": [
      "ending reward: 118\n",
      "========= End of Episode 19 =========\n"
     ]
    },
    {
     "name": "stderr",
     "output_type": "stream",
     "text": [
      "\n"
     ]
    }
   ],
   "source": [
    "num_episodes = 20\n",
    "verbose_episode = num_episodes - 1\n",
    "test_stats = []\n",
    "picker_q.q_network.eval()\n",
    "cleaner_q.q_network.eval()\n",
    "for episode in range(num_episodes):\n",
    "    test_stats.append({\n",
    "        \"num_apples\": [],\n",
    "        \"num_dirt\": [],\n",
    "        \"pickers\": [],\n",
    "        \"cleaners\": [],\n",
    "        \"total_reward\": 0,\n",
    "    })\n",
    "    \n",
    "    print(f\"========= Episode {episode} =========\")\n",
    "\n",
    "    states, info = env.reset()\n",
    "    test_stats[-1][\"num_apples\"].append(info[\"apple\"])\n",
    "    test_stats[-1][\"num_dirt\"].append(info[\"dirt\"])\n",
    "    test_stats[-1][\"pickers\"].append(info[\"picker\"])\n",
    "    test_stats[-1][\"cleaners\"].append(info[\"cleaner\"])\n",
    "\n",
    "    #print(f\"info: {info}\")\n",
    "\n",
    "    prev_assignments = {id: env._agents[id].region for id in agent_ids}\n",
    "\n",
    "    for step in tqdm(range(steps_per_episode)):\n",
    "        num_apples, num_dirt, _, _ = states[\"coordinator\"]\n",
    "        agent_frequency_in_dirt = num_dirt / (num_apples + num_dirt)\n",
    "        num_cleaner = round(num_agents * agent_frequency_in_dirt)\n",
    "        num_picker = num_agents - num_cleaner\n",
    "        assignments = env.get_greedy_assignments(num_picker, num_cleaner)\n",
    "        directions = {}\n",
    "        for agent_id in agent_ids:\n",
    "            if assignments[agent_id] != prev_assignments[agent_id]:\n",
    "                directions[agent_id] = 0\n",
    "            elif assignments[agent_id] == CleanupRegion.APPLE:\n",
    "                directions[agent_id] = picker_q.act(np.array(states[agent_id])).flatten()[0] - 1\n",
    "            else:\n",
    "                directions[agent_id] = cleaner_q.act(np.array(states[agent_id])).flatten()[0] - 1\n",
    "        #print(f\"actions: {actions}\")\n",
    "        actions = {agent_id: (assignments[agent_id], directions[agent_id]) for agent_id in agent_ids}\n",
    "        next_states, reward, dones, _, info = env.step(actions)\n",
    "        \n",
    "        test_stats[-1][\"num_apples\"].append(info[\"apple\"])\n",
    "        test_stats[-1][\"num_dirt\"].append(info[\"dirt\"])\n",
    "        test_stats[-1][\"pickers\"].append(info[\"picker\"])\n",
    "        test_stats[-1][\"cleaners\"].append(info[\"cleaner\"])\n",
    "\n",
    "        states = next_states\n",
    "        prev_assignments = assignments\n",
    "\n",
    "        if episode > verbose_episode:\n",
    "            print(f\"========= Step {step} =========\")\n",
    "            print(f\"info: {info}\")\n",
    "\n",
    "        if dones[\"__all__\"]:\n",
    "            break \n",
    "\n",
    "    ending_reward = info[\"total_apple_consumed\"]\n",
    "\n",
    "    test_stats[-1][\"total_reward\"] = ending_reward\n",
    "\n",
    "    print(f\"ending reward: {ending_reward}\")\n",
    "    #print(f\"reward graph: {reward_graph}\")\n",
    "    print(f\"========= End of Episode {episode} =========\")\n",
    "\n"
   ]
  },
  {
   "cell_type": "code",
   "execution_count": 12,
   "metadata": {},
   "outputs": [
    {
     "data": {
      "image/png": "[encoded data removed]",
      "text/plain": [
       "<Figure size 640x480 with 1 Axes>"
      ]
     },
     "metadata": {},
     "output_type": "display_data"
    },
    {
     "data": {
      "image/png": "[encoded data removed]",
      "text/plain": [
       "<Figure size 640x480 with 1 Axes>"
      ]
     },
     "metadata": {},
     "output_type": "display_data"
    },
    {
     "name": "stderr",
     "output_type": "stream",
     "text": [
      "/Users/gabeguralnick/git/social_reinforcement_learning/environments/one_d_cleanup_env.py:481: FutureWarning: elementwise comparison failed; returning scalar instead, but in the future will perform elementwise comparison\n",
      "  apple_agent_map[np.where(apple_agent_map == id)] = 1\n"
     ]
    },
    {
     "data": {
      "image/png": "[encoded data removed]",
      "text/plain": [
       "<Figure size 640x480 with 1 Axes>"
      ]
     },
     "metadata": {},
     "output_type": "display_data"
    },
    {
     "name": "stderr",
     "output_type": "stream",
     "text": [
      "/Users/gabeguralnick/git/social_reinforcement_learning/environments/one_d_cleanup_env.py:491: FutureWarning: elementwise comparison failed; returning scalar instead, but in the future will perform elementwise comparison\n",
      "  waste_agent_map[np.where(waste_agent_map == id)] = 1\n"
     ]
    },
    {
     "data": {
      "image/png": "[encoded data removed]",
      "text/plain": [
       "<Figure size 640x480 with 1 Axes>"
      ]
     },
     "metadata": {},
     "output_type": "display_data"
    }
   ],
   "source": [
    "env.render()"
   ]
  },
  {
   "cell_type": "code",
   "execution_count": 13,
   "metadata": {},
   "outputs": [
    {
     "data": {
      "image/png": "[encoded data removed]",
      "text/plain": [
       "<Figure size 640x480 with 1 Axes>"
      ]
     },
     "metadata": {},
     "output_type": "display_data"
    },
    {
     "name": "stdout",
     "output_type": "stream",
     "text": [
      "Average reward: 111.15\n"
     ]
    }
   ],
   "source": [
    "plt.figure()\n",
    "plt.title(\"Reward by Test Episode\")\n",
    "plt.xlabel(\"Episode\")\n",
    "plt.ylabel(\"Reward\")\n",
    "plt.plot([stat['total_reward'] for stat in test_stats])\n",
    "plt.show()\n",
    "print(f\"Average reward: {np.mean([stat['total_reward'] for stat in test_stats])}\")"
   ]
  },
  {
   "cell_type": "code",
   "execution_count": 14,
   "metadata": {},
   "outputs": [
    {
     "data": {
      "image/png": "[encoded data removed]",
      "text/plain": [
       "<Figure size 640x480 with 1 Axes>"
      ]
     },
     "metadata": {},
     "output_type": "display_data"
    }
   ],
   "source": [
    "plt.figure()\n",
    "plt.title(\"Average Number of Apples and Dirt by Test Step\")\n",
    "plt.xlabel(\"Step\")\n",
    "plt.ylabel(\"Number\")\n",
    "avg_num_apples = []\n",
    "avg_num_dirt = []\n",
    "for i in range(steps_per_episode):\n",
    "    avg_num_apples.append(np.mean([stat['num_apples'][i] for stat in test_stats]))\n",
    "    avg_num_dirt.append(np.mean([stat['num_dirt'][i] for stat in test_stats]))\n",
    "plt.plot(avg_num_apples, label=\"Apples\")\n",
    "plt.plot(avg_num_dirt, label=\"Dirt\")\n",
    "plt.legend()\n",
    "plt.show()"
   ]
  },
  {
   "cell_type": "code",
   "execution_count": 15,
   "metadata": {},
   "outputs": [
    {
     "data": {
      "image/png": "[encoded data removed]",
      "text/plain": [
       "<Figure size 640x480 with 1 Axes>"
      ]
     },
     "metadata": {},
     "output_type": "display_data"
    }
   ],
   "source": [
    "plt.figure()\n",
    "plt.title(\"Average Number of Pickers and Cleaners by Test Step\")\n",
    "plt.xlabel(\"Step\")\n",
    "plt.ylabel(\"Number\")\n",
    "avg_num_pickers = []\n",
    "avg_num_cleaners = []\n",
    "for i in range(steps_per_episode):\n",
    "    avg_num_pickers.append(np.mean([stat['pickers'][i] for stat in test_stats]))\n",
    "    avg_num_cleaners.append(np.mean([stat['cleaners'][i] for stat in test_stats]))\n",
    "plt.plot(avg_num_pickers, label=\"Pickers\")\n",
    "plt.plot(avg_num_cleaners, label=\"Cleaners\")\n",
    "plt.legend()\n",
    "plt.show()"
   ]
  },
  {
   "cell_type": "code",
   "execution_count": 16,
   "metadata": {},
   "outputs": [
    {
     "data": {
      "image/png": "[encoded data removed]",
      "text/plain": [
       "<Figure size 640x480 with 1 Axes>"
      ]
     },
     "metadata": {},
     "output_type": "display_data"
    }
   ],
   "source": [
    "plt.figure()\n",
    "plt.title(\"Average Ratios by Test Step\")\n",
    "plt.xlabel(\"Step\")\n",
    "plt.ylabel(\"Ratio\")\n",
    "avg_apple_dirt_ratios = []\n",
    "apple_dirt_steps = []\n",
    "avg_picker_cleaner_ratios = []\n",
    "picker_cleaner_steps = []\n",
    "for i in range(steps_per_episode):\n",
    "    #avg_apple_dirt_ratios.append(np.mean([stat['num_apples'][i] / (stat['num_dirt'][i] + 1e-8) for stat in test_stats]))\n",
    "    #avg_picker_cleaner_ratios.append(np.mean([stat['pickers'][i] / (stat['cleaners'][i]) for stat in test_stats if stat['cleaners'][i] > 0]))\n",
    "    apple_dirt = []\n",
    "    picker_cleaner = []\n",
    "    for stat in test_stats:\n",
    "        if stat['num_dirt'][i] > 0:\n",
    "            apple_dirt.append(stat['num_apples'][i] / stat['num_dirt'][i])\n",
    "        if stat['cleaners'][i] > 0:\n",
    "            picker_cleaner.append(stat['pickers'][i] / stat['cleaners'][i])\n",
    "    if len(apple_dirt) > 0:\n",
    "        avg_apple_dirt_ratios.append(np.mean(apple_dirt))\n",
    "        apple_dirt_steps.append(i)\n",
    "    if len(picker_cleaner) > 0:\n",
    "        avg_picker_cleaner_ratios.append(np.mean(picker_cleaner))\n",
    "        picker_cleaner_steps.append(i)\n",
    "\n",
    "plt.plot(apple_dirt_steps[400:600], avg_apple_dirt_ratios[400:600], label=\"Apples/Dirt\")\n",
    "plt.plot(picker_cleaner_steps[400:600], avg_picker_cleaner_ratios[400:600], label=\"Pickers/Cleaners\")\n",
    "plt.legend()\n",
    "plt.show()"
   ]
  },
  {
   "cell_type": "code",
   "execution_count": 17,
   "metadata": {},
   "outputs": [
    {
     "data": {
      "image/png": "[encoded data removed]",
      "text/plain": [
       "<Figure size 640x480 with 1 Axes>"
      ]
     },
     "metadata": {},
     "output_type": "display_data"
    }
   ],
   "source": [
    "plt.figure()\n",
    "plt.title(\"Number of Pickers and Cleaners by Test Step\")\n",
    "plt.xlabel(\"Step\")\n",
    "plt.ylabel(\"Number\")\n",
    "episode = test_stats[0]\n",
    "plt.plot(episode['pickers'], label=\"Pickers\")\n",
    "plt.plot(episode['cleaners'], label=\"Cleaners\")\n",
    "plt.legend()\n",
    "plt.show()"
   ]
  }
 ],
 "metadata": {
  "kernelspec": {
   "display_name": "venv",
   "language": "python",
   "name": "python3"
  },
  "language_info": {
   "codemirror_mode": {
    "name": "ipython",
    "version": 3
   },
   "file_extension": ".py",
   "mimetype": "text/x-python",
   "name": "python",
   "nbconvert_exporter": "python",
   "pygments_lexer": "ipython3",
   "version": "3.10.7"
  }
 },
 "nbformat": 4,
 "nbformat_minor": 2
}
