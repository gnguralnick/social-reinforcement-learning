{
 "cells": [
  {
   "cell_type": "code",
   "execution_count": 1,
   "metadata": {},
   "outputs": [
    {
     "name": "stderr",
     "output_type": "stream",
     "text": [
      "2023-11-29 00:45:15,206\tWARNING deprecation.py:50 -- DeprecationWarning: `DirectStepOptimizer` has been deprecated. This will raise an error in the future!\n"
     ]
    }
   ],
   "source": [
    "from environments import ZeroDCleanupEnv\n",
    "import numpy as np\n",
    "import torch\n",
    "from agents import UAgent\n",
    "from tqdm import tqdm"
   ]
  },
  {
   "cell_type": "code",
   "execution_count": 2,
   "metadata": {},
   "outputs": [
    {
     "name": "stdout",
     "output_type": "stream",
     "text": [
      "cuda available: False\n"
     ]
    }
   ],
   "source": [
    "device = torch.device(\"cuda\" if torch.cuda.is_available() else \"cpu\")\n",
    "print(f\"cuda available: {torch.cuda.is_available()}\")\n",
    "np.set_printoptions(threshold=np.inf)"
   ]
  },
  {
   "cell_type": "code",
   "execution_count": 3,
   "metadata": {},
   "outputs": [],
   "source": [
    "num_agents = 10\n",
    "reward_multiplier = 10\n",
    "\n",
    "# for printing options\n",
    "pp = False\n",
    "verbose = False\n",
    "verbose_episode = 200  # start printing at which epoch"
   ]
  },
  {
   "cell_type": "code",
   "execution_count": 4,
   "metadata": {},
   "outputs": [],
   "source": [
    "thresholdDepletion = 0.4\n",
    "thresholdRestoration = 0.0\n",
    "wasteSpawnProbability = 0.5\n",
    "appleRespawnProbability = 0.05\n",
    "dirt_multiplier = 10\n",
    "division_ep = 1e-7"
   ]
  },
  {
   "cell_type": "code",
   "execution_count": 5,
   "metadata": {},
   "outputs": [],
   "source": [
    "gamma = 0.999\n",
    "epsilon = 1.0\n",
    "epsilon_decay = 0.99995\n",
    "epsilon_min = 0.1\n",
    "lr = 0.0001\n",
    "batch_size = 8"
   ]
  },
  {
   "cell_type": "code",
   "execution_count": 6,
   "metadata": {},
   "outputs": [],
   "source": [
    "num_agents = 10\n",
    "agent_ids = [str(i) for i in range(num_agents)]"
   ]
  },
  {
   "cell_type": "code",
   "execution_count": 7,
   "metadata": {},
   "outputs": [],
   "source": [
    "state_dim = 4\n",
    "action_dim = 2"
   ]
  },
  {
   "cell_type": "code",
   "execution_count": 8,
   "metadata": {},
   "outputs": [],
   "source": [
    "env = ZeroDCleanupEnv(agent_ids=agent_ids, \n",
    "                      num_agents=num_agents, \n",
    "                      thresholdDepletion=thresholdDepletion,\n",
    "                        thresholdRestoration=thresholdRestoration,\n",
    "                        wasteSpawnProbability=wasteSpawnProbability,\n",
    "                        appleRespawnProbability=appleRespawnProbability,\n",
    "                        dirt_multiplier=dirt_multiplier,\n",
    "                        area=150)\n",
    "\n",
    "agentCoordinator = UAgent(device=device,\n",
    "                          num_action_outputs=num_agents,\n",
    "                          action_size=action_dim,\n",
    "                          buffer_size=4000,\n",
    "                          batch_size=batch_size,\n",
    "                          lr=lr,\n",
    "                          gamma=gamma,\n",
    "                          epsilon=epsilon,\n",
    "                          epsilon_decay=epsilon_decay,\n",
    "                          epsilon_min=epsilon_min,\n",
    "                          u_layers=[\n",
    "                              (state_dim, 256),\n",
    "                              (256, 128),\n",
    "                              (128, 64),\n",
    "                              (64, 1)\n",
    "                          ])"
   ]
  },
  {
   "cell_type": "code",
   "execution_count": 9,
   "metadata": {},
   "outputs": [],
   "source": [
    "ending_ep_rewards = []\n",
    "num_episodes = 200\n",
    "num_steps_per_epsiode = 1000"
   ]
  },
  {
   "cell_type": "code",
   "execution_count": 10,
   "metadata": {},
   "outputs": [
    {
     "name": "stdout",
     "output_type": "stream",
     "text": [
      "========= Episode 0 =========\n",
      "info: {'total_apple_consumed': 0, 'step_apple_consumed': 0, 'apple': 0, 'dirt': 78, 'picker': 0, 'cleaner': 0}\n"
     ]
    },
    {
     "name": "stderr",
     "output_type": "stream",
     "text": [
      "  4%|▍         | 45/1000 [00:00<00:02, 449.72it/s]"
     ]
    },
    {
     "name": "stderr",
     "output_type": "stream",
     "text": [
      "100%|█████████▉| 999/1000 [00:01<00:00, 573.12it/s] \n"
     ]
    },
    {
     "name": "stdout",
     "output_type": "stream",
     "text": [
      "ending reward: 2613.3232006599483\n",
      "========= End of Episode 0 =========\n",
      "========= Episode 1 =========\n",
      "info: {'total_apple_consumed': 0, 'step_apple_consumed': 0, 'apple': 0, 'dirt': 78, 'picker': 0, 'cleaner': 0}\n"
     ]
    },
    {
     "name": "stderr",
     "output_type": "stream",
     "text": [
      "100%|█████████▉| 999/1000 [00:00<00:00, 1066.53it/s]\n"
     ]
    },
    {
     "name": "stdout",
     "output_type": "stream",
     "text": [
      "ending reward: 2613.820067819557\n",
      "========= End of Episode 1 =========\n",
      "========= Episode 2 =========\n",
      "info: {'total_apple_consumed': 0, 'step_apple_consumed': 0, 'apple': 0, 'dirt': 78, 'picker': 0, 'cleaner': 0}\n"
     ]
    },
    {
     "name": "stderr",
     "output_type": "stream",
     "text": [
      "100%|█████████▉| 999/1000 [00:01<00:00, 692.76it/s] \n"
     ]
    },
    {
     "name": "stdout",
     "output_type": "stream",
     "text": [
      "ending reward: 2554.523539428866\n",
      "========= End of Episode 2 =========\n",
      "========= Episode 3 =========\n",
      "info: {'total_apple_consumed': 0, 'step_apple_consumed': 0, 'apple': 0, 'dirt': 78, 'picker': 0, 'cleaner': 0}\n"
     ]
    },
    {
     "name": "stderr",
     "output_type": "stream",
     "text": [
      "100%|█████████▉| 999/1000 [00:00<00:00, 1199.47it/s]\n"
     ]
    },
    {
     "name": "stdout",
     "output_type": "stream",
     "text": [
      "ending reward: 2547.0703895097613\n",
      "========= End of Episode 3 =========\n",
      "========= Episode 4 =========\n",
      "info: {'total_apple_consumed': 0, 'step_apple_consumed': 0, 'apple': 0, 'dirt': 78, 'picker': 0, 'cleaner': 0}\n"
     ]
    },
    {
     "name": "stderr",
     "output_type": "stream",
     "text": [
      "100%|█████████▉| 999/1000 [00:00<00:00, 1203.61it/s]\n"
     ]
    },
    {
     "name": "stdout",
     "output_type": "stream",
     "text": [
      "ending reward: 2412.3307788767743\n",
      "========= End of Episode 4 =========\n",
      "========= Episode 5 =========\n",
      "info: {'total_apple_consumed': 0, 'step_apple_consumed': 0, 'apple': 0, 'dirt': 78, 'picker': 0, 'cleaner': 0}\n"
     ]
    },
    {
     "name": "stderr",
     "output_type": "stream",
     "text": [
      "100%|█████████▉| 999/1000 [00:00<00:00, 1233.28it/s]\n"
     ]
    },
    {
     "name": "stdout",
     "output_type": "stream",
     "text": [
      "ending reward: 2496.5846469483563\n",
      "========= End of Episode 5 =========\n",
      "========= Episode 6 =========\n",
      "info: {'total_apple_consumed': 0, 'step_apple_consumed': 0, 'apple': 0, 'dirt': 78, 'picker': 0, 'cleaner': 0}\n"
     ]
    },
    {
     "name": "stderr",
     "output_type": "stream",
     "text": [
      "100%|█████████▉| 999/1000 [00:00<00:00, 1162.52it/s]\n"
     ]
    },
    {
     "name": "stdout",
     "output_type": "stream",
     "text": [
      "ending reward: 2397.213632651052\n",
      "========= End of Episode 6 =========\n",
      "========= Episode 7 =========\n",
      "info: {'total_apple_consumed': 0, 'step_apple_consumed': 0, 'apple': 0, 'dirt': 78, 'picker': 0, 'cleaner': 0}\n"
     ]
    },
    {
     "name": "stderr",
     "output_type": "stream",
     "text": [
      "100%|█████████▉| 999/1000 [00:00<00:00, 1240.71it/s]\n"
     ]
    },
    {
     "name": "stdout",
     "output_type": "stream",
     "text": [
      "ending reward: 2643.8731570722016\n",
      "========= End of Episode 7 =========\n",
      "========= Episode 8 =========\n",
      "info: {'total_apple_consumed': 0, 'step_apple_consumed': 0, 'apple': 0, 'dirt': 78, 'picker': 0, 'cleaner': 0}\n"
     ]
    },
    {
     "name": "stderr",
     "output_type": "stream",
     "text": [
      "100%|█████████▉| 999/1000 [00:00<00:00, 1054.57it/s]\n"
     ]
    },
    {
     "name": "stdout",
     "output_type": "stream",
     "text": [
      "ending reward: 2581.335971108786\n",
      "========= End of Episode 8 =========\n",
      "========= Episode 9 =========\n",
      "info: {'total_apple_consumed': 0, 'step_apple_consumed': 0, 'apple': 0, 'dirt': 78, 'picker': 0, 'cleaner': 0}\n"
     ]
    },
    {
     "name": "stderr",
     "output_type": "stream",
     "text": [
      "100%|█████████▉| 999/1000 [00:00<00:00, 1035.50it/s]\n"
     ]
    },
    {
     "name": "stdout",
     "output_type": "stream",
     "text": [
      "ending reward: 2141.556595160986\n",
      "========= End of Episode 9 =========\n",
      "========= Episode 10 =========\n",
      "info: {'total_apple_consumed': 0, 'step_apple_consumed': 0, 'apple': 0, 'dirt': 78, 'picker': 0, 'cleaner': 0}\n"
     ]
    },
    {
     "name": "stderr",
     "output_type": "stream",
     "text": [
      "100%|█████████▉| 999/1000 [00:00<00:00, 1211.89it/s]\n"
     ]
    },
    {
     "name": "stdout",
     "output_type": "stream",
     "text": [
      "ending reward: 2171.7028335926707\n",
      "========= End of Episode 10 =========\n",
      "========= Episode 11 =========\n",
      "info: {'total_apple_consumed': 0, 'step_apple_consumed': 0, 'apple': 0, 'dirt': 78, 'picker': 0, 'cleaner': 0}\n"
     ]
    },
    {
     "name": "stderr",
     "output_type": "stream",
     "text": [
      "100%|█████████▉| 999/1000 [00:00<00:00, 1133.02it/s]\n"
     ]
    },
    {
     "name": "stdout",
     "output_type": "stream",
     "text": [
      "ending reward: 2598.114019701382\n",
      "========= End of Episode 11 =========\n",
      "========= Episode 12 =========\n",
      "info: {'total_apple_consumed': 0, 'step_apple_consumed': 0, 'apple': 0, 'dirt': 78, 'picker': 0, 'cleaner': 0}\n"
     ]
    },
    {
     "name": "stderr",
     "output_type": "stream",
     "text": [
      "100%|█████████▉| 999/1000 [00:00<00:00, 1266.13it/s]\n"
     ]
    },
    {
     "name": "stdout",
     "output_type": "stream",
     "text": [
      "ending reward: 2566.116894282652\n",
      "========= End of Episode 12 =========\n",
      "========= Episode 13 =========\n",
      "info: {'total_apple_consumed': 0, 'step_apple_consumed': 0, 'apple': 0, 'dirt': 78, 'picker': 0, 'cleaner': 0}\n"
     ]
    },
    {
     "name": "stderr",
     "output_type": "stream",
     "text": [
      "100%|█████████▉| 999/1000 [00:00<00:00, 1181.30it/s]\n"
     ]
    },
    {
     "name": "stdout",
     "output_type": "stream",
     "text": [
      "ending reward: 2408.258926189243\n",
      "========= End of Episode 13 =========\n",
      "========= Episode 14 =========\n",
      "info: {'total_apple_consumed': 0, 'step_apple_consumed': 0, 'apple': 0, 'dirt': 78, 'picker': 0, 'cleaner': 0}\n"
     ]
    },
    {
     "name": "stderr",
     "output_type": "stream",
     "text": [
      "100%|█████████▉| 999/1000 [00:00<00:00, 1225.69it/s]\n"
     ]
    },
    {
     "name": "stdout",
     "output_type": "stream",
     "text": [
      "ending reward: 2263.2346079234508\n",
      "========= End of Episode 14 =========\n",
      "========= Episode 15 =========\n",
      "info: {'total_apple_consumed': 0, 'step_apple_consumed': 0, 'apple': 0, 'dirt': 78, 'picker': 0, 'cleaner': 0}\n"
     ]
    },
    {
     "name": "stderr",
     "output_type": "stream",
     "text": [
      "100%|█████████▉| 999/1000 [00:00<00:00, 1217.64it/s]\n"
     ]
    },
    {
     "name": "stdout",
     "output_type": "stream",
     "text": [
      "ending reward: 2269.0851831421805\n",
      "========= End of Episode 15 =========\n",
      "========= Episode 16 =========\n",
      "info: {'total_apple_consumed': 0, 'step_apple_consumed': 0, 'apple': 0, 'dirt': 78, 'picker': 0, 'cleaner': 0}\n"
     ]
    },
    {
     "name": "stderr",
     "output_type": "stream",
     "text": [
      "100%|█████████▉| 999/1000 [00:00<00:00, 1236.07it/s]\n"
     ]
    },
    {
     "name": "stdout",
     "output_type": "stream",
     "text": [
      "ending reward: 2553.5956715672933\n",
      "========= End of Episode 16 =========\n",
      "========= Episode 17 =========\n",
      "info: {'total_apple_consumed': 0, 'step_apple_consumed': 0, 'apple': 0, 'dirt': 78, 'picker': 0, 'cleaner': 0}\n"
     ]
    },
    {
     "name": "stderr",
     "output_type": "stream",
     "text": [
      "100%|█████████▉| 999/1000 [00:00<00:00, 1161.05it/s]\n"
     ]
    },
    {
     "name": "stdout",
     "output_type": "stream",
     "text": [
      "ending reward: 2408.1434738193593\n",
      "========= End of Episode 17 =========\n",
      "========= Episode 18 =========\n",
      "info: {'total_apple_consumed': 0, 'step_apple_consumed': 0, 'apple': 0, 'dirt': 78, 'picker': 0, 'cleaner': 0}\n"
     ]
    },
    {
     "name": "stderr",
     "output_type": "stream",
     "text": [
      "100%|█████████▉| 999/1000 [00:00<00:00, 1218.41it/s]\n"
     ]
    },
    {
     "name": "stdout",
     "output_type": "stream",
     "text": [
      "ending reward: 2311.518433080075\n",
      "========= End of Episode 18 =========\n",
      "========= Episode 19 =========\n",
      "info: {'total_apple_consumed': 0, 'step_apple_consumed': 0, 'apple': 0, 'dirt': 78, 'picker': 0, 'cleaner': 0}\n"
     ]
    },
    {
     "name": "stderr",
     "output_type": "stream",
     "text": [
      "100%|█████████▉| 999/1000 [00:00<00:00, 1206.05it/s]\n"
     ]
    },
    {
     "name": "stdout",
     "output_type": "stream",
     "text": [
      "ending reward: 2200.377022258648\n",
      "========= End of Episode 19 =========\n",
      "========= Episode 20 =========\n",
      "info: {'total_apple_consumed': 0, 'step_apple_consumed': 0, 'apple': 0, 'dirt': 78, 'picker': 0, 'cleaner': 0}\n"
     ]
    },
    {
     "name": "stderr",
     "output_type": "stream",
     "text": [
      "100%|█████████▉| 999/1000 [00:00<00:00, 1030.86it/s]\n"
     ]
    },
    {
     "name": "stdout",
     "output_type": "stream",
     "text": [
      "ending reward: 2293.2078711989857\n",
      "========= End of Episode 20 =========\n",
      "========= Episode 21 =========\n",
      "info: {'total_apple_consumed': 0, 'step_apple_consumed': 0, 'apple': 0, 'dirt': 78, 'picker': 0, 'cleaner': 0}\n"
     ]
    },
    {
     "name": "stderr",
     "output_type": "stream",
     "text": [
      "100%|█████████▉| 999/1000 [00:00<00:00, 1065.32it/s]\n"
     ]
    },
    {
     "name": "stdout",
     "output_type": "stream",
     "text": [
      "ending reward: 2120.861733172483\n",
      "========= End of Episode 21 =========\n",
      "========= Episode 22 =========\n",
      "info: {'total_apple_consumed': 0, 'step_apple_consumed': 0, 'apple': 0, 'dirt': 78, 'picker': 0, 'cleaner': 0}\n"
     ]
    },
    {
     "name": "stderr",
     "output_type": "stream",
     "text": [
      "100%|█████████▉| 999/1000 [00:00<00:00, 1032.07it/s]\n"
     ]
    },
    {
     "name": "stdout",
     "output_type": "stream",
     "text": [
      "ending reward: 2194.8566859518614\n",
      "========= End of Episode 22 =========\n",
      "========= Episode 23 =========\n",
      "info: {'total_apple_consumed': 0, 'step_apple_consumed': 0, 'apple': 0, 'dirt': 78, 'picker': 0, 'cleaner': 0}\n"
     ]
    },
    {
     "name": "stderr",
     "output_type": "stream",
     "text": [
      "100%|█████████▉| 999/1000 [00:00<00:00, 1044.14it/s]\n"
     ]
    },
    {
     "name": "stdout",
     "output_type": "stream",
     "text": [
      "ending reward: 2171.447733120354\n",
      "========= End of Episode 23 =========\n",
      "========= Episode 24 =========\n",
      "info: {'total_apple_consumed': 0, 'step_apple_consumed': 0, 'apple': 0, 'dirt': 78, 'picker': 0, 'cleaner': 0}\n"
     ]
    },
    {
     "name": "stderr",
     "output_type": "stream",
     "text": [
      "100%|█████████▉| 999/1000 [00:00<00:00, 1129.23it/s]\n"
     ]
    },
    {
     "name": "stdout",
     "output_type": "stream",
     "text": [
      "ending reward: 2305.441445554202\n",
      "========= End of Episode 24 =========\n",
      "========= Episode 25 =========\n",
      "info: {'total_apple_consumed': 0, 'step_apple_consumed': 0, 'apple': 0, 'dirt': 78, 'picker': 0, 'cleaner': 0}\n"
     ]
    },
    {
     "name": "stderr",
     "output_type": "stream",
     "text": [
      "100%|█████████▉| 999/1000 [00:00<00:00, 1097.89it/s]\n"
     ]
    },
    {
     "name": "stdout",
     "output_type": "stream",
     "text": [
      "ending reward: 1972.9314537381213\n",
      "========= End of Episode 25 =========\n",
      "========= Episode 26 =========\n",
      "info: {'total_apple_consumed': 0, 'step_apple_consumed': 0, 'apple': 0, 'dirt': 78, 'picker': 0, 'cleaner': 0}\n"
     ]
    },
    {
     "name": "stderr",
     "output_type": "stream",
     "text": [
      "100%|█████████▉| 999/1000 [00:00<00:00, 1034.24it/s]\n"
     ]
    },
    {
     "name": "stdout",
     "output_type": "stream",
     "text": [
      "ending reward: 1495.0473159573726\n",
      "========= End of Episode 26 =========\n",
      "========= Episode 27 =========\n",
      "info: {'total_apple_consumed': 0, 'step_apple_consumed': 0, 'apple': 0, 'dirt': 78, 'picker': 0, 'cleaner': 0}\n"
     ]
    },
    {
     "name": "stderr",
     "output_type": "stream",
     "text": [
      "100%|█████████▉| 999/1000 [00:00<00:00, 1078.48it/s]\n"
     ]
    },
    {
     "name": "stdout",
     "output_type": "stream",
     "text": [
      "ending reward: 2333.4250443039414\n",
      "========= End of Episode 27 =========\n",
      "========= Episode 28 =========\n",
      "info: {'total_apple_consumed': 0, 'step_apple_consumed': 0, 'apple': 0, 'dirt': 78, 'picker': 0, 'cleaner': 0}\n"
     ]
    },
    {
     "name": "stderr",
     "output_type": "stream",
     "text": [
      "100%|█████████▉| 999/1000 [00:00<00:00, 1067.41it/s]\n"
     ]
    },
    {
     "name": "stdout",
     "output_type": "stream",
     "text": [
      "ending reward: 2049.503006444098\n",
      "========= End of Episode 28 =========\n",
      "========= Episode 29 =========\n",
      "info: {'total_apple_consumed': 0, 'step_apple_consumed': 0, 'apple': 0, 'dirt': 78, 'picker': 0, 'cleaner': 0}\n"
     ]
    },
    {
     "name": "stderr",
     "output_type": "stream",
     "text": [
      "100%|█████████▉| 999/1000 [00:00<00:00, 1042.91it/s]\n"
     ]
    },
    {
     "name": "stdout",
     "output_type": "stream",
     "text": [
      "ending reward: 2200.0052716014256\n",
      "========= End of Episode 29 =========\n",
      "========= Episode 30 =========\n",
      "info: {'total_apple_consumed': 0, 'step_apple_consumed': 0, 'apple': 0, 'dirt': 78, 'picker': 0, 'cleaner': 0}\n"
     ]
    },
    {
     "name": "stderr",
     "output_type": "stream",
     "text": [
      "100%|█████████▉| 999/1000 [00:01<00:00, 977.98it/s] \n"
     ]
    },
    {
     "name": "stdout",
     "output_type": "stream",
     "text": [
      "ending reward: 2077.867581698296\n",
      "========= End of Episode 30 =========\n",
      "========= Episode 31 =========\n",
      "info: {'total_apple_consumed': 0, 'step_apple_consumed': 0, 'apple': 0, 'dirt': 78, 'picker': 0, 'cleaner': 0}\n"
     ]
    },
    {
     "name": "stderr",
     "output_type": "stream",
     "text": [
      "100%|█████████▉| 999/1000 [00:01<00:00, 660.07it/s]\n"
     ]
    },
    {
     "name": "stdout",
     "output_type": "stream",
     "text": [
      "ending reward: 2257.9783015523885\n",
      "========= End of Episode 31 =========\n",
      "========= Episode 32 =========\n",
      "info: {'total_apple_consumed': 0, 'step_apple_consumed': 0, 'apple': 0, 'dirt': 78, 'picker': 0, 'cleaner': 0}\n"
     ]
    },
    {
     "name": "stderr",
     "output_type": "stream",
     "text": [
      "100%|█████████▉| 999/1000 [00:01<00:00, 859.85it/s] \n"
     ]
    },
    {
     "name": "stdout",
     "output_type": "stream",
     "text": [
      "ending reward: 2136.8109596946524\n",
      "========= End of Episode 32 =========\n",
      "========= Episode 33 =========\n",
      "info: {'total_apple_consumed': 0, 'step_apple_consumed': 0, 'apple': 0, 'dirt': 78, 'picker': 0, 'cleaner': 0}\n"
     ]
    },
    {
     "name": "stderr",
     "output_type": "stream",
     "text": [
      "100%|█████████▉| 999/1000 [00:01<00:00, 927.48it/s]\n"
     ]
    },
    {
     "name": "stdout",
     "output_type": "stream",
     "text": [
      "ending reward: 1927.7803763688423\n",
      "========= End of Episode 33 =========\n",
      "========= Episode 34 =========\n",
      "info: {'total_apple_consumed': 0, 'step_apple_consumed': 0, 'apple': 0, 'dirt': 78, 'picker': 0, 'cleaner': 0}\n"
     ]
    },
    {
     "name": "stderr",
     "output_type": "stream",
     "text": [
      "100%|█████████▉| 999/1000 [00:01<00:00, 959.92it/s] \n"
     ]
    },
    {
     "name": "stdout",
     "output_type": "stream",
     "text": [
      "ending reward: 2082.0657667809\n",
      "========= End of Episode 34 =========\n",
      "========= Episode 35 =========\n",
      "info: {'total_apple_consumed': 0, 'step_apple_consumed': 0, 'apple': 0, 'dirt': 78, 'picker': 0, 'cleaner': 0}\n"
     ]
    },
    {
     "name": "stderr",
     "output_type": "stream",
     "text": [
      "100%|█████████▉| 999/1000 [00:01<00:00, 925.30it/s]\n"
     ]
    },
    {
     "name": "stdout",
     "output_type": "stream",
     "text": [
      "ending reward: 1874.1679007493735\n",
      "========= End of Episode 35 =========\n",
      "========= Episode 36 =========\n",
      "info: {'total_apple_consumed': 0, 'step_apple_consumed': 0, 'apple': 0, 'dirt': 78, 'picker': 0, 'cleaner': 0}\n"
     ]
    },
    {
     "name": "stderr",
     "output_type": "stream",
     "text": [
      "100%|█████████▉| 999/1000 [00:01<00:00, 854.60it/s]\n"
     ]
    },
    {
     "name": "stdout",
     "output_type": "stream",
     "text": [
      "ending reward: 2513.6332490374925\n",
      "========= End of Episode 36 =========\n",
      "========= Episode 37 =========\n",
      "info: {'total_apple_consumed': 0, 'step_apple_consumed': 0, 'apple': 0, 'dirt': 78, 'picker': 0, 'cleaner': 0}\n"
     ]
    },
    {
     "name": "stderr",
     "output_type": "stream",
     "text": [
      "100%|█████████▉| 999/1000 [00:01<00:00, 947.46it/s] \n"
     ]
    },
    {
     "name": "stdout",
     "output_type": "stream",
     "text": [
      "ending reward: 2548.4796423537064\n",
      "========= End of Episode 37 =========\n",
      "========= Episode 38 =========\n",
      "info: {'total_apple_consumed': 0, 'step_apple_consumed': 0, 'apple': 0, 'dirt': 78, 'picker': 0, 'cleaner': 0}\n"
     ]
    },
    {
     "name": "stderr",
     "output_type": "stream",
     "text": [
      "100%|█████████▉| 999/1000 [00:01<00:00, 863.72it/s] \n"
     ]
    },
    {
     "name": "stdout",
     "output_type": "stream",
     "text": [
      "ending reward: 2344.9071352112337\n",
      "========= End of Episode 38 =========\n",
      "========= Episode 39 =========\n",
      "info: {'total_apple_consumed': 0, 'step_apple_consumed': 0, 'apple': 0, 'dirt': 78, 'picker': 0, 'cleaner': 0}\n"
     ]
    },
    {
     "name": "stderr",
     "output_type": "stream",
     "text": [
      "100%|█████████▉| 999/1000 [00:01<00:00, 891.35it/s]\n"
     ]
    },
    {
     "name": "stdout",
     "output_type": "stream",
     "text": [
      "ending reward: 2373.2759919159753\n",
      "========= End of Episode 39 =========\n",
      "========= Episode 40 =========\n",
      "info: {'total_apple_consumed': 0, 'step_apple_consumed': 0, 'apple': 0, 'dirt': 78, 'picker': 0, 'cleaner': 0}\n"
     ]
    },
    {
     "name": "stderr",
     "output_type": "stream",
     "text": [
      "100%|█████████▉| 999/1000 [00:01<00:00, 772.94it/s] \n"
     ]
    },
    {
     "name": "stdout",
     "output_type": "stream",
     "text": [
      "ending reward: 2317.5231022733174\n",
      "========= End of Episode 40 =========\n",
      "========= Episode 41 =========\n",
      "info: {'total_apple_consumed': 0, 'step_apple_consumed': 0, 'apple': 0, 'dirt': 78, 'picker': 0, 'cleaner': 0}\n"
     ]
    },
    {
     "name": "stderr",
     "output_type": "stream",
     "text": [
      "100%|█████████▉| 999/1000 [00:01<00:00, 931.81it/s] \n"
     ]
    },
    {
     "name": "stdout",
     "output_type": "stream",
     "text": [
      "ending reward: 2541.55821032433\n",
      "========= End of Episode 41 =========\n",
      "========= Episode 42 =========\n",
      "info: {'total_apple_consumed': 0, 'step_apple_consumed': 0, 'apple': 0, 'dirt': 78, 'picker': 0, 'cleaner': 0}\n"
     ]
    },
    {
     "name": "stderr",
     "output_type": "stream",
     "text": [
      "100%|█████████▉| 999/1000 [00:00<00:00, 999.70it/s] \n"
     ]
    },
    {
     "name": "stdout",
     "output_type": "stream",
     "text": [
      "ending reward: 2422.2971213855844\n",
      "========= End of Episode 42 =========\n",
      "========= Episode 43 =========\n",
      "info: {'total_apple_consumed': 0, 'step_apple_consumed': 0, 'apple': 0, 'dirt': 78, 'picker': 0, 'cleaner': 0}\n"
     ]
    },
    {
     "name": "stderr",
     "output_type": "stream",
     "text": [
      "100%|█████████▉| 999/1000 [00:01<00:00, 952.59it/s] \n"
     ]
    },
    {
     "name": "stdout",
     "output_type": "stream",
     "text": [
      "ending reward: 2441.7163462878275\n",
      "========= End of Episode 43 =========\n",
      "========= Episode 44 =========\n",
      "info: {'total_apple_consumed': 0, 'step_apple_consumed': 0, 'apple': 0, 'dirt': 78, 'picker': 0, 'cleaner': 0}\n"
     ]
    },
    {
     "name": "stderr",
     "output_type": "stream",
     "text": [
      "100%|█████████▉| 999/1000 [00:01<00:00, 970.45it/s] \n"
     ]
    },
    {
     "name": "stdout",
     "output_type": "stream",
     "text": [
      "ending reward: 2409.6646921140323\n",
      "========= End of Episode 44 =========\n",
      "========= Episode 45 =========\n",
      "info: {'total_apple_consumed': 0, 'step_apple_consumed': 0, 'apple': 0, 'dirt': 78, 'picker': 0, 'cleaner': 0}\n"
     ]
    },
    {
     "name": "stderr",
     "output_type": "stream",
     "text": [
      "100%|█████████▉| 999/1000 [00:01<00:00, 952.48it/s] \n"
     ]
    },
    {
     "name": "stdout",
     "output_type": "stream",
     "text": [
      "ending reward: 2578.486717930247\n",
      "========= End of Episode 45 =========\n",
      "========= Episode 46 =========\n",
      "info: {'total_apple_consumed': 0, 'step_apple_consumed': 0, 'apple': 0, 'dirt': 78, 'picker': 0, 'cleaner': 0}\n"
     ]
    },
    {
     "name": "stderr",
     "output_type": "stream",
     "text": [
      "100%|█████████▉| 999/1000 [00:00<00:00, 1008.41it/s]\n"
     ]
    },
    {
     "name": "stdout",
     "output_type": "stream",
     "text": [
      "ending reward: 2542.984407211113\n",
      "========= End of Episode 46 =========\n",
      "========= Episode 47 =========\n",
      "info: {'total_apple_consumed': 0, 'step_apple_consumed': 0, 'apple': 0, 'dirt': 78, 'picker': 0, 'cleaner': 0}\n"
     ]
    },
    {
     "name": "stderr",
     "output_type": "stream",
     "text": [
      "100%|█████████▉| 999/1000 [00:01<00:00, 839.91it/s]\n"
     ]
    },
    {
     "name": "stdout",
     "output_type": "stream",
     "text": [
      "ending reward: 2648.1188602746224\n",
      "========= End of Episode 47 =========\n",
      "========= Episode 48 =========\n",
      "info: {'total_apple_consumed': 0, 'step_apple_consumed': 0, 'apple': 0, 'dirt': 78, 'picker': 0, 'cleaner': 0}\n"
     ]
    },
    {
     "name": "stderr",
     "output_type": "stream",
     "text": [
      "100%|█████████▉| 999/1000 [00:01<00:00, 726.60it/s]\n"
     ]
    },
    {
     "name": "stdout",
     "output_type": "stream",
     "text": [
      "ending reward: 2365.6628680651843\n",
      "========= End of Episode 48 =========\n",
      "========= Episode 49 =========\n",
      "info: {'total_apple_consumed': 0, 'step_apple_consumed': 0, 'apple': 0, 'dirt': 78, 'picker': 0, 'cleaner': 0}\n"
     ]
    },
    {
     "name": "stderr",
     "output_type": "stream",
     "text": [
      "100%|█████████▉| 999/1000 [00:01<00:00, 940.62it/s]\n"
     ]
    },
    {
     "name": "stdout",
     "output_type": "stream",
     "text": [
      "ending reward: 2616.369185506807\n",
      "========= End of Episode 49 =========\n",
      "========= Episode 50 =========\n",
      "info: {'total_apple_consumed': 0, 'step_apple_consumed': 0, 'apple': 0, 'dirt': 78, 'picker': 0, 'cleaner': 0}\n"
     ]
    },
    {
     "name": "stderr",
     "output_type": "stream",
     "text": [
      "100%|█████████▉| 999/1000 [00:01<00:00, 970.44it/s] \n"
     ]
    },
    {
     "name": "stdout",
     "output_type": "stream",
     "text": [
      "ending reward: 2060.1347024323045\n",
      "========= End of Episode 50 =========\n",
      "========= Episode 51 =========\n",
      "info: {'total_apple_consumed': 0, 'step_apple_consumed': 0, 'apple': 0, 'dirt': 78, 'picker': 0, 'cleaner': 0}\n"
     ]
    },
    {
     "name": "stderr",
     "output_type": "stream",
     "text": [
      "100%|█████████▉| 999/1000 [00:01<00:00, 971.49it/s] \n"
     ]
    },
    {
     "name": "stdout",
     "output_type": "stream",
     "text": [
      "ending reward: 2635.9559154748927\n",
      "========= End of Episode 51 =========\n",
      "========= Episode 52 =========\n",
      "info: {'total_apple_consumed': 0, 'step_apple_consumed': 0, 'apple': 0, 'dirt': 78, 'picker': 0, 'cleaner': 0}\n"
     ]
    },
    {
     "name": "stderr",
     "output_type": "stream",
     "text": [
      "100%|█████████▉| 999/1000 [00:01<00:00, 973.63it/s] \n"
     ]
    },
    {
     "name": "stdout",
     "output_type": "stream",
     "text": [
      "ending reward: 2420.5319686888406\n",
      "========= End of Episode 52 =========\n",
      "========= Episode 53 =========\n",
      "info: {'total_apple_consumed': 0, 'step_apple_consumed': 0, 'apple': 0, 'dirt': 78, 'picker': 0, 'cleaner': 0}\n"
     ]
    },
    {
     "name": "stderr",
     "output_type": "stream",
     "text": [
      "100%|█████████▉| 999/1000 [00:01<00:00, 967.86it/s] \n"
     ]
    },
    {
     "name": "stdout",
     "output_type": "stream",
     "text": [
      "ending reward: 2563.1069453781315\n",
      "========= End of Episode 53 =========\n",
      "========= Episode 54 =========\n",
      "info: {'total_apple_consumed': 0, 'step_apple_consumed': 0, 'apple': 0, 'dirt': 78, 'picker': 0, 'cleaner': 0}\n"
     ]
    },
    {
     "name": "stderr",
     "output_type": "stream",
     "text": [
      "100%|█████████▉| 999/1000 [00:00<00:00, 1036.28it/s]\n"
     ]
    },
    {
     "name": "stdout",
     "output_type": "stream",
     "text": [
      "ending reward: 2546.5472086395066\n",
      "========= End of Episode 54 =========\n",
      "========= Episode 55 =========\n",
      "info: {'total_apple_consumed': 0, 'step_apple_consumed': 0, 'apple': 0, 'dirt': 78, 'picker': 0, 'cleaner': 0}\n"
     ]
    },
    {
     "name": "stderr",
     "output_type": "stream",
     "text": [
      "100%|█████████▉| 999/1000 [00:01<00:00, 953.30it/s] \n"
     ]
    },
    {
     "name": "stdout",
     "output_type": "stream",
     "text": [
      "ending reward: 2694.4324018146704\n",
      "========= End of Episode 55 =========\n",
      "========= Episode 56 =========\n",
      "info: {'total_apple_consumed': 0, 'step_apple_consumed': 0, 'apple': 0, 'dirt': 78, 'picker': 0, 'cleaner': 0}\n"
     ]
    },
    {
     "name": "stderr",
     "output_type": "stream",
     "text": [
      "100%|█████████▉| 999/1000 [00:01<00:00, 923.28it/s] \n"
     ]
    },
    {
     "name": "stdout",
     "output_type": "stream",
     "text": [
      "ending reward: 2716.6505112333825\n",
      "========= End of Episode 56 =========\n",
      "========= Episode 57 =========\n",
      "info: {'total_apple_consumed': 0, 'step_apple_consumed': 0, 'apple': 0, 'dirt': 78, 'picker': 0, 'cleaner': 0}\n"
     ]
    },
    {
     "name": "stderr",
     "output_type": "stream",
     "text": [
      "100%|█████████▉| 999/1000 [00:01<00:00, 806.77it/s] \n"
     ]
    },
    {
     "name": "stdout",
     "output_type": "stream",
     "text": [
      "ending reward: 2689.1263334372493\n",
      "========= End of Episode 57 =========\n",
      "========= Episode 58 =========\n",
      "info: {'total_apple_consumed': 0, 'step_apple_consumed': 0, 'apple': 0, 'dirt': 78, 'picker': 0, 'cleaner': 0}\n"
     ]
    },
    {
     "name": "stderr",
     "output_type": "stream",
     "text": [
      "100%|█████████▉| 999/1000 [00:01<00:00, 941.75it/s] \n"
     ]
    },
    {
     "name": "stdout",
     "output_type": "stream",
     "text": [
      "ending reward: 2460.1095734451146\n",
      "========= End of Episode 58 =========\n",
      "========= Episode 59 =========\n",
      "info: {'total_apple_consumed': 0, 'step_apple_consumed': 0, 'apple': 0, 'dirt': 78, 'picker': 0, 'cleaner': 0}\n"
     ]
    },
    {
     "name": "stderr",
     "output_type": "stream",
     "text": [
      "100%|█████████▉| 999/1000 [00:00<00:00, 1031.01it/s]\n"
     ]
    },
    {
     "name": "stdout",
     "output_type": "stream",
     "text": [
      "ending reward: 2652.8356486196944\n",
      "========= End of Episode 59 =========\n",
      "========= Episode 60 =========\n",
      "info: {'total_apple_consumed': 0, 'step_apple_consumed': 0, 'apple': 0, 'dirt': 78, 'picker': 0, 'cleaner': 0}\n"
     ]
    },
    {
     "name": "stderr",
     "output_type": "stream",
     "text": [
      "100%|█████████▉| 999/1000 [00:01<00:00, 909.12it/s] \n"
     ]
    },
    {
     "name": "stdout",
     "output_type": "stream",
     "text": [
      "ending reward: 2655.363668765854\n",
      "========= End of Episode 60 =========\n",
      "========= Episode 61 =========\n",
      "info: {'total_apple_consumed': 0, 'step_apple_consumed': 0, 'apple': 0, 'dirt': 78, 'picker': 0, 'cleaner': 0}\n"
     ]
    },
    {
     "name": "stderr",
     "output_type": "stream",
     "text": [
      "100%|█████████▉| 999/1000 [00:01<00:00, 842.98it/s]\n"
     ]
    },
    {
     "name": "stdout",
     "output_type": "stream",
     "text": [
      "ending reward: 2689.2829374085204\n",
      "========= End of Episode 61 =========\n",
      "========= Episode 62 =========\n",
      "info: {'total_apple_consumed': 0, 'step_apple_consumed': 0, 'apple': 0, 'dirt': 78, 'picker': 0, 'cleaner': 0}\n"
     ]
    },
    {
     "name": "stderr",
     "output_type": "stream",
     "text": [
      "100%|█████████▉| 999/1000 [00:01<00:00, 837.21it/s]\n"
     ]
    },
    {
     "name": "stdout",
     "output_type": "stream",
     "text": [
      "ending reward: 2668.253348753396\n",
      "========= End of Episode 62 =========\n",
      "========= Episode 63 =========\n",
      "info: {'total_apple_consumed': 0, 'step_apple_consumed': 0, 'apple': 0, 'dirt': 78, 'picker': 0, 'cleaner': 0}\n"
     ]
    },
    {
     "name": "stderr",
     "output_type": "stream",
     "text": [
      "100%|█████████▉| 999/1000 [00:01<00:00, 881.10it/s]\n"
     ]
    },
    {
     "name": "stdout",
     "output_type": "stream",
     "text": [
      "ending reward: 2702.0018818280255\n",
      "========= End of Episode 63 =========\n",
      "========= Episode 64 =========\n",
      "info: {'total_apple_consumed': 0, 'step_apple_consumed': 0, 'apple': 0, 'dirt': 78, 'picker': 0, 'cleaner': 0}\n"
     ]
    },
    {
     "name": "stderr",
     "output_type": "stream",
     "text": [
      "100%|█████████▉| 999/1000 [00:01<00:00, 998.52it/s] \n"
     ]
    },
    {
     "name": "stdout",
     "output_type": "stream",
     "text": [
      "ending reward: 2730.5878273413614\n",
      "========= End of Episode 64 =========\n",
      "========= Episode 65 =========\n",
      "info: {'total_apple_consumed': 0, 'step_apple_consumed': 0, 'apple': 0, 'dirt': 78, 'picker': 0, 'cleaner': 0}\n"
     ]
    },
    {
     "name": "stderr",
     "output_type": "stream",
     "text": [
      "100%|█████████▉| 999/1000 [00:01<00:00, 906.49it/s] \n"
     ]
    },
    {
     "name": "stdout",
     "output_type": "stream",
     "text": [
      "ending reward: 2681.7721346135077\n",
      "========= End of Episode 65 =========\n",
      "========= Episode 66 =========\n",
      "info: {'total_apple_consumed': 0, 'step_apple_consumed': 0, 'apple': 0, 'dirt': 78, 'picker': 0, 'cleaner': 0}\n"
     ]
    },
    {
     "name": "stderr",
     "output_type": "stream",
     "text": [
      "100%|█████████▉| 999/1000 [00:01<00:00, 958.42it/s] \n"
     ]
    },
    {
     "name": "stdout",
     "output_type": "stream",
     "text": [
      "ending reward: 2689.0828244618115\n",
      "========= End of Episode 66 =========\n",
      "========= Episode 67 =========\n",
      "info: {'total_apple_consumed': 0, 'step_apple_consumed': 0, 'apple': 0, 'dirt': 78, 'picker': 0, 'cleaner': 0}\n"
     ]
    },
    {
     "name": "stderr",
     "output_type": "stream",
     "text": [
      "100%|█████████▉| 999/1000 [00:00<00:00, 1033.73it/s]\n"
     ]
    },
    {
     "name": "stdout",
     "output_type": "stream",
     "text": [
      "ending reward: 2618.7817460232286\n",
      "========= End of Episode 67 =========\n",
      "========= Episode 68 =========\n",
      "info: {'total_apple_consumed': 0, 'step_apple_consumed': 0, 'apple': 0, 'dirt': 78, 'picker': 0, 'cleaner': 0}\n"
     ]
    },
    {
     "name": "stderr",
     "output_type": "stream",
     "text": [
      "100%|█████████▉| 999/1000 [00:01<00:00, 915.15it/s]\n"
     ]
    },
    {
     "name": "stdout",
     "output_type": "stream",
     "text": [
      "ending reward: 2700.0753226345973\n",
      "========= End of Episode 68 =========\n",
      "========= Episode 69 =========\n",
      "info: {'total_apple_consumed': 0, 'step_apple_consumed': 0, 'apple': 0, 'dirt': 78, 'picker': 0, 'cleaner': 0}\n"
     ]
    },
    {
     "name": "stderr",
     "output_type": "stream",
     "text": [
      "100%|█████████▉| 999/1000 [00:01<00:00, 922.46it/s] \n"
     ]
    },
    {
     "name": "stdout",
     "output_type": "stream",
     "text": [
      "ending reward: 2659.9142214340345\n",
      "========= End of Episode 69 =========\n",
      "========= Episode 70 =========\n",
      "info: {'total_apple_consumed': 0, 'step_apple_consumed': 0, 'apple': 0, 'dirt': 78, 'picker': 0, 'cleaner': 0}\n"
     ]
    },
    {
     "name": "stderr",
     "output_type": "stream",
     "text": [
      "100%|█████████▉| 999/1000 [00:01<00:00, 923.40it/s] \n"
     ]
    },
    {
     "name": "stdout",
     "output_type": "stream",
     "text": [
      "ending reward: 2693.854010386603\n",
      "========= End of Episode 70 =========\n",
      "========= Episode 71 =========\n",
      "info: {'total_apple_consumed': 0, 'step_apple_consumed': 0, 'apple': 0, 'dirt': 78, 'picker': 0, 'cleaner': 0}\n"
     ]
    },
    {
     "name": "stderr",
     "output_type": "stream",
     "text": [
      "100%|█████████▉| 999/1000 [00:01<00:00, 912.85it/s]\n"
     ]
    },
    {
     "name": "stdout",
     "output_type": "stream",
     "text": [
      "ending reward: 2552.442092760133\n",
      "========= End of Episode 71 =========\n",
      "========= Episode 72 =========\n",
      "info: {'total_apple_consumed': 0, 'step_apple_consumed': 0, 'apple': 0, 'dirt': 78, 'picker': 0, 'cleaner': 0}\n"
     ]
    },
    {
     "name": "stderr",
     "output_type": "stream",
     "text": [
      "100%|█████████▉| 999/1000 [00:01<00:00, 838.35it/s]\n"
     ]
    },
    {
     "name": "stdout",
     "output_type": "stream",
     "text": [
      "ending reward: 2378.7879748340615\n",
      "========= End of Episode 72 =========\n",
      "========= Episode 73 =========\n",
      "info: {'total_apple_consumed': 0, 'step_apple_consumed': 0, 'apple': 0, 'dirt': 78, 'picker': 0, 'cleaner': 0}\n"
     ]
    },
    {
     "name": "stderr",
     "output_type": "stream",
     "text": [
      "100%|█████████▉| 999/1000 [00:01<00:00, 883.98it/s] \n"
     ]
    },
    {
     "name": "stdout",
     "output_type": "stream",
     "text": [
      "ending reward: 2715.123995763773\n",
      "========= End of Episode 73 =========\n",
      "========= Episode 74 =========\n",
      "info: {'total_apple_consumed': 0, 'step_apple_consumed': 0, 'apple': 0, 'dirt': 78, 'picker': 0, 'cleaner': 0}\n"
     ]
    },
    {
     "name": "stderr",
     "output_type": "stream",
     "text": [
      "100%|█████████▉| 999/1000 [00:01<00:00, 905.69it/s]\n"
     ]
    },
    {
     "name": "stdout",
     "output_type": "stream",
     "text": [
      "ending reward: 2731.346503180495\n",
      "========= End of Episode 74 =========\n",
      "========= Episode 75 =========\n",
      "info: {'total_apple_consumed': 0, 'step_apple_consumed': 0, 'apple': 0, 'dirt': 78, 'picker': 0, 'cleaner': 0}\n"
     ]
    },
    {
     "name": "stderr",
     "output_type": "stream",
     "text": [
      "100%|█████████▉| 999/1000 [00:01<00:00, 882.27it/s]\n"
     ]
    },
    {
     "name": "stdout",
     "output_type": "stream",
     "text": [
      "ending reward: 2701.43588110889\n",
      "========= End of Episode 75 =========\n",
      "========= Episode 76 =========\n",
      "info: {'total_apple_consumed': 0, 'step_apple_consumed': 0, 'apple': 0, 'dirt': 78, 'picker': 0, 'cleaner': 0}\n"
     ]
    },
    {
     "name": "stderr",
     "output_type": "stream",
     "text": [
      "100%|█████████▉| 999/1000 [00:01<00:00, 914.87it/s]\n"
     ]
    },
    {
     "name": "stdout",
     "output_type": "stream",
     "text": [
      "ending reward: 2709.8438203200326\n",
      "========= End of Episode 76 =========\n",
      "========= Episode 77 =========\n",
      "info: {'total_apple_consumed': 0, 'step_apple_consumed': 0, 'apple': 0, 'dirt': 78, 'picker': 0, 'cleaner': 0}\n"
     ]
    },
    {
     "name": "stderr",
     "output_type": "stream",
     "text": [
      "100%|█████████▉| 999/1000 [00:01<00:00, 945.43it/s] \n"
     ]
    },
    {
     "name": "stdout",
     "output_type": "stream",
     "text": [
      "ending reward: 2738.507068227199\n",
      "========= End of Episode 77 =========\n",
      "========= Episode 78 =========\n",
      "info: {'total_apple_consumed': 0, 'step_apple_consumed': 0, 'apple': 0, 'dirt': 78, 'picker': 0, 'cleaner': 0}\n"
     ]
    },
    {
     "name": "stderr",
     "output_type": "stream",
     "text": [
      "100%|█████████▉| 999/1000 [00:01<00:00, 975.52it/s] \n"
     ]
    },
    {
     "name": "stdout",
     "output_type": "stream",
     "text": [
      "ending reward: 2441.482438559579\n",
      "========= End of Episode 78 =========\n",
      "========= Episode 79 =========\n",
      "info: {'total_apple_consumed': 0, 'step_apple_consumed': 0, 'apple': 0, 'dirt': 78, 'picker': 0, 'cleaner': 0}\n"
     ]
    },
    {
     "name": "stderr",
     "output_type": "stream",
     "text": [
      "100%|█████████▉| 999/1000 [00:00<00:00, 1013.06it/s]\n"
     ]
    },
    {
     "name": "stdout",
     "output_type": "stream",
     "text": [
      "ending reward: 2509.462772140224\n",
      "========= End of Episode 79 =========\n",
      "========= Episode 80 =========\n",
      "info: {'total_apple_consumed': 0, 'step_apple_consumed': 0, 'apple': 0, 'dirt': 78, 'picker': 0, 'cleaner': 0}\n"
     ]
    },
    {
     "name": "stderr",
     "output_type": "stream",
     "text": [
      "100%|█████████▉| 999/1000 [00:01<00:00, 964.33it/s] \n"
     ]
    },
    {
     "name": "stdout",
     "output_type": "stream",
     "text": [
      "ending reward: 2672.99636100679\n",
      "========= End of Episode 80 =========\n",
      "========= Episode 81 =========\n",
      "info: {'total_apple_consumed': 0, 'step_apple_consumed': 0, 'apple': 0, 'dirt': 78, 'picker': 0, 'cleaner': 0}\n"
     ]
    },
    {
     "name": "stderr",
     "output_type": "stream",
     "text": [
      "100%|█████████▉| 999/1000 [00:01<00:00, 941.55it/s] \n"
     ]
    },
    {
     "name": "stdout",
     "output_type": "stream",
     "text": [
      "ending reward: 2717.226210383293\n",
      "========= End of Episode 81 =========\n",
      "========= Episode 82 =========\n",
      "info: {'total_apple_consumed': 0, 'step_apple_consumed': 0, 'apple': 0, 'dirt': 78, 'picker': 0, 'cleaner': 0}\n"
     ]
    },
    {
     "name": "stderr",
     "output_type": "stream",
     "text": [
      "100%|█████████▉| 999/1000 [00:00<00:00, 1013.53it/s]\n"
     ]
    },
    {
     "name": "stdout",
     "output_type": "stream",
     "text": [
      "ending reward: 2745.865888463733\n",
      "========= End of Episode 82 =========\n",
      "========= Episode 83 =========\n",
      "info: {'total_apple_consumed': 0, 'step_apple_consumed': 0, 'apple': 0, 'dirt': 78, 'picker': 0, 'cleaner': 0}\n"
     ]
    },
    {
     "name": "stderr",
     "output_type": "stream",
     "text": [
      "100%|█████████▉| 999/1000 [00:01<00:00, 903.21it/s]\n"
     ]
    },
    {
     "name": "stdout",
     "output_type": "stream",
     "text": [
      "ending reward: 2736.0549488235265\n",
      "========= End of Episode 83 =========\n",
      "========= Episode 84 =========\n",
      "info: {'total_apple_consumed': 0, 'step_apple_consumed': 0, 'apple': 0, 'dirt': 78, 'picker': 0, 'cleaner': 0}\n"
     ]
    },
    {
     "name": "stderr",
     "output_type": "stream",
     "text": [
      "100%|█████████▉| 999/1000 [00:01<00:00, 897.76it/s]\n"
     ]
    },
    {
     "name": "stdout",
     "output_type": "stream",
     "text": [
      "ending reward: 2741.922833647625\n",
      "========= End of Episode 84 =========\n",
      "========= Episode 85 =========\n",
      "info: {'total_apple_consumed': 0, 'step_apple_consumed': 0, 'apple': 0, 'dirt': 78, 'picker': 0, 'cleaner': 0}\n"
     ]
    },
    {
     "name": "stderr",
     "output_type": "stream",
     "text": [
      "100%|█████████▉| 999/1000 [00:01<00:00, 791.82it/s]\n"
     ]
    },
    {
     "name": "stdout",
     "output_type": "stream",
     "text": [
      "ending reward: 2550.570915581892\n",
      "========= End of Episode 85 =========\n",
      "========= Episode 86 =========\n",
      "info: {'total_apple_consumed': 0, 'step_apple_consumed': 0, 'apple': 0, 'dirt': 78, 'picker': 0, 'cleaner': 0}\n"
     ]
    },
    {
     "name": "stderr",
     "output_type": "stream",
     "text": [
      "100%|█████████▉| 999/1000 [00:01<00:00, 791.44it/s]\n"
     ]
    },
    {
     "name": "stdout",
     "output_type": "stream",
     "text": [
      "ending reward: 2491.0045805635787\n",
      "========= End of Episode 86 =========\n",
      "========= Episode 87 =========\n",
      "info: {'total_apple_consumed': 0, 'step_apple_consumed': 0, 'apple': 0, 'dirt': 78, 'picker': 0, 'cleaner': 0}\n"
     ]
    },
    {
     "name": "stderr",
     "output_type": "stream",
     "text": [
      "100%|█████████▉| 999/1000 [00:01<00:00, 991.59it/s] \n"
     ]
    },
    {
     "name": "stdout",
     "output_type": "stream",
     "text": [
      "ending reward: 2600.7634752117283\n",
      "========= End of Episode 87 =========\n",
      "========= Episode 88 =========\n",
      "info: {'total_apple_consumed': 0, 'step_apple_consumed': 0, 'apple': 0, 'dirt': 78, 'picker': 0, 'cleaner': 0}\n"
     ]
    },
    {
     "name": "stderr",
     "output_type": "stream",
     "text": [
      "100%|█████████▉| 999/1000 [00:01<00:00, 959.79it/s] \n"
     ]
    },
    {
     "name": "stdout",
     "output_type": "stream",
     "text": [
      "ending reward: 2748.59554850573\n",
      "========= End of Episode 88 =========\n",
      "========= Episode 89 =========\n",
      "info: {'total_apple_consumed': 0, 'step_apple_consumed': 0, 'apple': 0, 'dirt': 78, 'picker': 0, 'cleaner': 0}\n"
     ]
    },
    {
     "name": "stderr",
     "output_type": "stream",
     "text": [
      "100%|█████████▉| 999/1000 [00:01<00:00, 925.62it/s]\n"
     ]
    },
    {
     "name": "stdout",
     "output_type": "stream",
     "text": [
      "ending reward: 2653.092204819146\n",
      "========= End of Episode 89 =========\n",
      "========= Episode 90 =========\n",
      "info: {'total_apple_consumed': 0, 'step_apple_consumed': 0, 'apple': 0, 'dirt': 78, 'picker': 0, 'cleaner': 0}\n"
     ]
    },
    {
     "name": "stderr",
     "output_type": "stream",
     "text": [
      "100%|█████████▉| 999/1000 [00:01<00:00, 962.75it/s] \n"
     ]
    },
    {
     "name": "stdout",
     "output_type": "stream",
     "text": [
      "ending reward: 2766.239973775677\n",
      "========= End of Episode 90 =========\n",
      "========= Episode 91 =========\n",
      "info: {'total_apple_consumed': 0, 'step_apple_consumed': 0, 'apple': 0, 'dirt': 78, 'picker': 0, 'cleaner': 0}\n"
     ]
    },
    {
     "name": "stderr",
     "output_type": "stream",
     "text": [
      "100%|█████████▉| 999/1000 [00:01<00:00, 923.78it/s]\n"
     ]
    },
    {
     "name": "stdout",
     "output_type": "stream",
     "text": [
      "ending reward: 2559.9718638664626\n",
      "========= End of Episode 91 =========\n",
      "========= Episode 92 =========\n",
      "info: {'total_apple_consumed': 0, 'step_apple_consumed': 0, 'apple': 0, 'dirt': 78, 'picker': 0, 'cleaner': 0}\n"
     ]
    },
    {
     "name": "stderr",
     "output_type": "stream",
     "text": [
      "100%|█████████▉| 999/1000 [00:01<00:00, 943.33it/s] \n"
     ]
    },
    {
     "name": "stdout",
     "output_type": "stream",
     "text": [
      "ending reward: 2720.9858979149044\n",
      "========= End of Episode 92 =========\n",
      "========= Episode 93 =========\n",
      "info: {'total_apple_consumed': 0, 'step_apple_consumed': 0, 'apple': 0, 'dirt': 78, 'picker': 0, 'cleaner': 0}\n"
     ]
    },
    {
     "name": "stderr",
     "output_type": "stream",
     "text": [
      "100%|█████████▉| 999/1000 [00:01<00:00, 952.25it/s] \n"
     ]
    },
    {
     "name": "stdout",
     "output_type": "stream",
     "text": [
      "ending reward: 2685.4862168635877\n",
      "========= End of Episode 93 =========\n",
      "========= Episode 94 =========\n",
      "info: {'total_apple_consumed': 0, 'step_apple_consumed': 0, 'apple': 0, 'dirt': 78, 'picker': 0, 'cleaner': 0}\n"
     ]
    },
    {
     "name": "stderr",
     "output_type": "stream",
     "text": [
      "100%|█████████▉| 999/1000 [00:01<00:00, 969.86it/s] \n"
     ]
    },
    {
     "name": "stdout",
     "output_type": "stream",
     "text": [
      "ending reward: 2742.6199805211263\n",
      "========= End of Episode 94 =========\n",
      "========= Episode 95 =========\n",
      "info: {'total_apple_consumed': 0, 'step_apple_consumed': 0, 'apple': 0, 'dirt': 78, 'picker': 0, 'cleaner': 0}\n"
     ]
    },
    {
     "name": "stderr",
     "output_type": "stream",
     "text": [
      "100%|█████████▉| 999/1000 [00:01<00:00, 964.91it/s] \n"
     ]
    },
    {
     "name": "stdout",
     "output_type": "stream",
     "text": [
      "ending reward: 2638.049884785784\n",
      "========= End of Episode 95 =========\n",
      "========= Episode 96 =========\n",
      "info: {'total_apple_consumed': 0, 'step_apple_consumed': 0, 'apple': 0, 'dirt': 78, 'picker': 0, 'cleaner': 0}\n"
     ]
    },
    {
     "name": "stderr",
     "output_type": "stream",
     "text": [
      "100%|█████████▉| 999/1000 [00:01<00:00, 861.01it/s]\n"
     ]
    },
    {
     "name": "stdout",
     "output_type": "stream",
     "text": [
      "ending reward: 2725.7787153931245\n",
      "========= End of Episode 96 =========\n",
      "========= Episode 97 =========\n",
      "info: {'total_apple_consumed': 0, 'step_apple_consumed': 0, 'apple': 0, 'dirt': 78, 'picker': 0, 'cleaner': 0}\n"
     ]
    },
    {
     "name": "stderr",
     "output_type": "stream",
     "text": [
      "100%|█████████▉| 999/1000 [00:01<00:00, 958.68it/s] \n"
     ]
    },
    {
     "name": "stdout",
     "output_type": "stream",
     "text": [
      "ending reward: 2718.5256913630387\n",
      "========= End of Episode 97 =========\n",
      "========= Episode 98 =========\n",
      "info: {'total_apple_consumed': 0, 'step_apple_consumed': 0, 'apple': 0, 'dirt': 78, 'picker': 0, 'cleaner': 0}\n"
     ]
    },
    {
     "name": "stderr",
     "output_type": "stream",
     "text": [
      "100%|█████████▉| 999/1000 [00:01<00:00, 963.98it/s] \n"
     ]
    },
    {
     "name": "stdout",
     "output_type": "stream",
     "text": [
      "ending reward: 2661.6401366961363\n",
      "========= End of Episode 98 =========\n",
      "========= Episode 99 =========\n",
      "info: {'total_apple_consumed': 0, 'step_apple_consumed': 0, 'apple': 0, 'dirt': 78, 'picker': 0, 'cleaner': 0}\n"
     ]
    },
    {
     "name": "stderr",
     "output_type": "stream",
     "text": [
      "100%|█████████▉| 999/1000 [00:01<00:00, 826.30it/s]\n"
     ]
    },
    {
     "name": "stdout",
     "output_type": "stream",
     "text": [
      "ending reward: 2760.81201977809\n",
      "========= End of Episode 99 =========\n",
      "========= Episode 100 =========\n",
      "info: {'total_apple_consumed': 0, 'step_apple_consumed': 0, 'apple': 0, 'dirt': 78, 'picker': 0, 'cleaner': 0}\n"
     ]
    },
    {
     "name": "stderr",
     "output_type": "stream",
     "text": [
      "100%|█████████▉| 999/1000 [00:01<00:00, 959.17it/s] \n"
     ]
    },
    {
     "name": "stdout",
     "output_type": "stream",
     "text": [
      "ending reward: 2717.826556333061\n",
      "========= End of Episode 100 =========\n",
      "========= Episode 101 =========\n",
      "info: {'total_apple_consumed': 0, 'step_apple_consumed': 0, 'apple': 0, 'dirt': 78, 'picker': 0, 'cleaner': 0}\n"
     ]
    },
    {
     "name": "stderr",
     "output_type": "stream",
     "text": [
      "100%|█████████▉| 999/1000 [00:01<00:00, 976.47it/s] \n"
     ]
    },
    {
     "name": "stdout",
     "output_type": "stream",
     "text": [
      "ending reward: 2274.2262083828377\n",
      "========= End of Episode 101 =========\n",
      "========= Episode 102 =========\n",
      "info: {'total_apple_consumed': 0, 'step_apple_consumed': 0, 'apple': 0, 'dirt': 78, 'picker': 0, 'cleaner': 0}\n"
     ]
    },
    {
     "name": "stderr",
     "output_type": "stream",
     "text": [
      "100%|█████████▉| 999/1000 [00:01<00:00, 964.49it/s] \n"
     ]
    },
    {
     "name": "stdout",
     "output_type": "stream",
     "text": [
      "ending reward: 2670.892680743092\n",
      "========= End of Episode 102 =========\n",
      "========= Episode 103 =========\n",
      "info: {'total_apple_consumed': 0, 'step_apple_consumed': 0, 'apple': 0, 'dirt': 78, 'picker': 0, 'cleaner': 0}\n"
     ]
    },
    {
     "name": "stderr",
     "output_type": "stream",
     "text": [
      "100%|█████████▉| 999/1000 [00:01<00:00, 872.21it/s]\n"
     ]
    },
    {
     "name": "stdout",
     "output_type": "stream",
     "text": [
      "ending reward: 2764.2794979409455\n",
      "========= End of Episode 103 =========\n",
      "========= Episode 104 =========\n",
      "info: {'total_apple_consumed': 0, 'step_apple_consumed': 0, 'apple': 0, 'dirt': 78, 'picker': 0, 'cleaner': 0}\n"
     ]
    },
    {
     "name": "stderr",
     "output_type": "stream",
     "text": [
      "100%|█████████▉| 999/1000 [00:01<00:00, 650.77it/s]\n"
     ]
    },
    {
     "name": "stdout",
     "output_type": "stream",
     "text": [
      "ending reward: 2727.1320988197826\n",
      "========= End of Episode 104 =========\n",
      "========= Episode 105 =========\n",
      "info: {'total_apple_consumed': 0, 'step_apple_consumed': 0, 'apple': 0, 'dirt': 78, 'picker': 0, 'cleaner': 0}\n"
     ]
    },
    {
     "name": "stderr",
     "output_type": "stream",
     "text": [
      "100%|█████████▉| 999/1000 [00:01<00:00, 855.68it/s]\n"
     ]
    },
    {
     "name": "stdout",
     "output_type": "stream",
     "text": [
      "ending reward: 2763.5214022436344\n",
      "========= End of Episode 105 =========\n",
      "========= Episode 106 =========\n",
      "info: {'total_apple_consumed': 0, 'step_apple_consumed': 0, 'apple': 0, 'dirt': 78, 'picker': 0, 'cleaner': 0}\n"
     ]
    },
    {
     "name": "stderr",
     "output_type": "stream",
     "text": [
      "100%|█████████▉| 999/1000 [00:01<00:00, 967.68it/s] \n"
     ]
    },
    {
     "name": "stdout",
     "output_type": "stream",
     "text": [
      "ending reward: 2691.737686615249\n",
      "========= End of Episode 106 =========\n",
      "========= Episode 107 =========\n",
      "info: {'total_apple_consumed': 0, 'step_apple_consumed': 0, 'apple': 0, 'dirt': 78, 'picker': 0, 'cleaner': 0}\n"
     ]
    },
    {
     "name": "stderr",
     "output_type": "stream",
     "text": [
      "  6%|▌         | 57/1000 [00:00<00:01, 880.13it/s]\n"
     ]
    },
    {
     "ename": "KeyboardInterrupt",
     "evalue": "",
     "output_type": "error",
     "traceback": [
      "\u001b[0;31m---------------------------------------------------------------------------\u001b[0m",
      "\u001b[0;31mKeyboardInterrupt\u001b[0m                         Traceback (most recent call last)",
      "\u001b[1;32m/Users/gabeguralnick/git/social_reinforcement_learning/notebooks/exp_u_simple copy.ipynb Cell 10\u001b[0m line \u001b[0;36m2\n\u001b[1;32m     <a href='vscode-notebook-cell:/Users/gabeguralnick/git/social_reinforcement_learning/notebooks/exp_u_simple%20copy.ipynb#X12sZmlsZQ%3D%3D?line=17'>18</a>\u001b[0m next_state \u001b[39m=\u001b[39m next_states[agent_ids[\u001b[39m0\u001b[39m]]\n\u001b[1;32m     <a href='vscode-notebook-cell:/Users/gabeguralnick/git/social_reinforcement_learning/notebooks/exp_u_simple%20copy.ipynb#X12sZmlsZQ%3D%3D?line=18'>19</a>\u001b[0m \u001b[39m#num_apples, num_dirt, _, _ = next_state\u001b[39;00m\n\u001b[1;32m     <a href='vscode-notebook-cell:/Users/gabeguralnick/git/social_reinforcement_learning/notebooks/exp_u_simple%20copy.ipynb#X12sZmlsZQ%3D%3D?line=19'>20</a>\u001b[0m \u001b[39m#next_state = np.array([num_apples, num_dirt])\u001b[39;00m\n\u001b[1;32m     <a href='vscode-notebook-cell:/Users/gabeguralnick/git/social_reinforcement_learning/notebooks/exp_u_simple%20copy.ipynb#X12sZmlsZQ%3D%3D?line=20'>21</a>\u001b[0m \u001b[39m#reward_graph.append(reward)\u001b[39;00m\n\u001b[0;32m---> <a href='vscode-notebook-cell:/Users/gabeguralnick/git/social_reinforcement_learning/notebooks/exp_u_simple%20copy.ipynb#X12sZmlsZQ%3D%3D?line=21'>22</a>\u001b[0m agentCoordinator\u001b[39m.\u001b[39;49mstep(state, reward, next_state)\n\u001b[1;32m     <a href='vscode-notebook-cell:/Users/gabeguralnick/git/social_reinforcement_learning/notebooks/exp_u_simple%20copy.ipynb#X12sZmlsZQ%3D%3D?line=23'>24</a>\u001b[0m \u001b[39mif\u001b[39;00m episode \u001b[39m>\u001b[39m verbose_episode:\n\u001b[1;32m     <a href='vscode-notebook-cell:/Users/gabeguralnick/git/social_reinforcement_learning/notebooks/exp_u_simple%20copy.ipynb#X12sZmlsZQ%3D%3D?line=24'>25</a>\u001b[0m     \u001b[39mprint\u001b[39m(\u001b[39mf\u001b[39m\u001b[39m\"\u001b[39m\u001b[39m========= Step \u001b[39m\u001b[39m{\u001b[39;00mstep\u001b[39m}\u001b[39;00m\u001b[39m =========\u001b[39m\u001b[39m\"\u001b[39m)\n",
      "File \u001b[0;32m~/git/social_reinforcement_learning/agents/u_agent.py:69\u001b[0m, in \u001b[0;36mUAgent.step\u001b[0;34m(self, state, reward, next_state)\u001b[0m\n\u001b[1;32m     67\u001b[0m \u001b[39mif\u001b[39;00m \u001b[39mlen\u001b[39m(\u001b[39mself\u001b[39m\u001b[39m.\u001b[39mmemory) \u001b[39m>\u001b[39m \u001b[39mself\u001b[39m\u001b[39m.\u001b[39mbatch_size:\n\u001b[1;32m     68\u001b[0m     experiences \u001b[39m=\u001b[39m \u001b[39mself\u001b[39m\u001b[39m.\u001b[39mmemory\u001b[39m.\u001b[39msample(\u001b[39mself\u001b[39m\u001b[39m.\u001b[39mbatch_size)\n\u001b[0;32m---> 69\u001b[0m     \u001b[39mself\u001b[39;49m\u001b[39m.\u001b[39;49mtrain(experiences)\n",
      "File \u001b[0;32m~/git/social_reinforcement_learning/agents/u_agent.py:84\u001b[0m, in \u001b[0;36mUAgent.train\u001b[0;34m(self, experiences)\u001b[0m\n\u001b[1;32m     82\u001b[0m loss \u001b[39m=\u001b[39m torch\u001b[39m.\u001b[39mnn\u001b[39m.\u001b[39mfunctional\u001b[39m.\u001b[39mmse_loss(current_values, expected_values)\n\u001b[1;32m     83\u001b[0m \u001b[39mself\u001b[39m\u001b[39m.\u001b[39mu_optimizer\u001b[39m.\u001b[39mzero_grad()\n\u001b[0;32m---> 84\u001b[0m loss\u001b[39m.\u001b[39;49mbackward()\n\u001b[1;32m     85\u001b[0m \u001b[39mself\u001b[39m\u001b[39m.\u001b[39mu_optimizer\u001b[39m.\u001b[39mstep()\n",
      "File \u001b[0;32m~/git/social_reinforcement_learning/venv/lib/python3.10/site-packages/torch/_tensor.py:487\u001b[0m, in \u001b[0;36mTensor.backward\u001b[0;34m(self, gradient, retain_graph, create_graph, inputs)\u001b[0m\n\u001b[1;32m    477\u001b[0m \u001b[39mif\u001b[39;00m has_torch_function_unary(\u001b[39mself\u001b[39m):\n\u001b[1;32m    478\u001b[0m     \u001b[39mreturn\u001b[39;00m handle_torch_function(\n\u001b[1;32m    479\u001b[0m         Tensor\u001b[39m.\u001b[39mbackward,\n\u001b[1;32m    480\u001b[0m         (\u001b[39mself\u001b[39m,),\n\u001b[0;32m   (...)\u001b[0m\n\u001b[1;32m    485\u001b[0m         inputs\u001b[39m=\u001b[39minputs,\n\u001b[1;32m    486\u001b[0m     )\n\u001b[0;32m--> 487\u001b[0m torch\u001b[39m.\u001b[39;49mautograd\u001b[39m.\u001b[39;49mbackward(\n\u001b[1;32m    488\u001b[0m     \u001b[39mself\u001b[39;49m, gradient, retain_graph, create_graph, inputs\u001b[39m=\u001b[39;49minputs\n\u001b[1;32m    489\u001b[0m )\n",
      "File \u001b[0;32m~/git/social_reinforcement_learning/venv/lib/python3.10/site-packages/torch/autograd/__init__.py:200\u001b[0m, in \u001b[0;36mbackward\u001b[0;34m(tensors, grad_tensors, retain_graph, create_graph, grad_variables, inputs)\u001b[0m\n\u001b[1;32m    195\u001b[0m     retain_graph \u001b[39m=\u001b[39m create_graph\n\u001b[1;32m    197\u001b[0m \u001b[39m# The reason we repeat same the comment below is that\u001b[39;00m\n\u001b[1;32m    198\u001b[0m \u001b[39m# some Python versions print out the first line of a multi-line function\u001b[39;00m\n\u001b[1;32m    199\u001b[0m \u001b[39m# calls in the traceback and some print out the last line\u001b[39;00m\n\u001b[0;32m--> 200\u001b[0m Variable\u001b[39m.\u001b[39;49m_execution_engine\u001b[39m.\u001b[39;49mrun_backward(  \u001b[39m# Calls into the C++ engine to run the backward pass\u001b[39;49;00m\n\u001b[1;32m    201\u001b[0m     tensors, grad_tensors_, retain_graph, create_graph, inputs,\n\u001b[1;32m    202\u001b[0m     allow_unreachable\u001b[39m=\u001b[39;49m\u001b[39mTrue\u001b[39;49;00m, accumulate_grad\u001b[39m=\u001b[39;49m\u001b[39mTrue\u001b[39;49;00m)\n",
      "\u001b[0;31mKeyboardInterrupt\u001b[0m: "
     ]
    }
   ],
   "source": [
    "max_reward = 0\n",
    "for episode in range(num_episodes):\n",
    "    print(f\"========= Episode {episode} =========\")\n",
    "\n",
    "    states, info = env.reset()\n",
    "    #states = np.concatenate(list(states.values()), axis=0)\n",
    "    state = states[agent_ids[0]]\n",
    "    #num_apples, num_dirt, _, _ = state\n",
    "    #state = np.array([num_apples, num_dirt])\n",
    "\n",
    "    print(f\"info: {info}\")\n",
    "\n",
    "    for step in tqdm(range(num_steps_per_epsiode)):\n",
    "        actions_list = agentCoordinator.act(env)[0]\n",
    "        actions = {agent_id: actions_list[i] for i, agent_id in enumerate(agent_ids)}\n",
    "        next_states, reward, dones, _, info = env.step(actions)\n",
    "        #next_states = np.concatenate(list(next_states.values()), axis=0)\n",
    "        next_state = next_states[agent_ids[0]]\n",
    "        #num_apples, num_dirt, _, _ = next_state\n",
    "        #next_state = np.array([num_apples, num_dirt])\n",
    "        #reward_graph.append(reward)\n",
    "        agentCoordinator.step(state, reward, next_state)\n",
    "\n",
    "        if episode > verbose_episode:\n",
    "            print(f\"========= Step {step} =========\")\n",
    "            print(f\"info: {info}\")\n",
    "\n",
    "        state = next_state\n",
    "\n",
    "        if dones[\"__all__\"]:\n",
    "            break \n",
    "\n",
    "    ending_reward = info[\"total_apple_consumed\"]\n",
    "\n",
    "    \n",
    "\n",
    "    print(f\"ending reward: {ending_reward}\")\n",
    "    #print(f\"reward graph: {reward_graph}\")\n",
    "    print(f\"========= End of Episode {episode} =========\")\n",
    "\n",
    "    ending_ep_rewards.append(ending_reward)\n",
    "\n",
    "    agentCoordinator.scheduler.step()\n",
    "\n",
    "    # if ending_ep_rewards[-1] > 2700 and agentCoordinator.epsilon < 0.1 and ending_ep_rewards[-1] > max_reward:\n",
    "    #     break\n",
    "\n",
    "    if ending_reward > max_reward:\n",
    "        max_reward = ending_reward\n",
    "\n",
    "    \n",
    "\n",
    "#torch.save(agentCoordinator.q_network.state_dict(), \"results/q_simple_\" + str(test_id) + \"/q_network.pt\")\n",
    "\n",
    "        "
   ]
  },
  {
   "cell_type": "code",
   "execution_count": 11,
   "metadata": {},
   "outputs": [
    {
     "data": {
      "text/plain": [
       "0.004733767760059576"
      ]
     },
     "execution_count": 11,
     "metadata": {},
     "output_type": "execute_result"
    }
   ],
   "source": [
    "agentCoordinator.epsilon"
   ]
  },
  {
   "cell_type": "code",
   "execution_count": 12,
   "metadata": {},
   "outputs": [],
   "source": [
    "import matplotlib.pyplot as plt"
   ]
  },
  {
   "cell_type": "code",
   "execution_count": 13,
   "metadata": {},
   "outputs": [
    {
     "data": {
      "image/png": "[encoded data removed]",
      "text/plain": [
       "<Figure size 640x480 with 1 Axes>"
      ]
     },
     "metadata": {},
     "output_type": "display_data"
    }
   ],
   "source": [
    "plt.title(\"Reward by Training Episode\")\n",
    "plt.xlabel(\"Episode\")\n",
    "plt.ylabel(\"Reward\")\n",
    "plt.plot(ending_ep_rewards)\n",
    "plt.axhline(y=2695.57, color='r', linestyle='-')\n",
    "plt.show()"
   ]
  },
  {
   "cell_type": "code",
   "execution_count": 14,
   "metadata": {},
   "outputs": [
    {
     "name": "stdout",
     "output_type": "stream",
     "text": [
      "========= Testing =========\n",
      "info: {'total_apple_consumed': 0, 'step_apple_consumed': 0, 'apple': 0, 'dirt': 78, 'picker': 0, 'cleaner': 0}\n"
     ]
    },
    {
     "name": "stderr",
     "output_type": "stream",
     "text": [
      "100%|█████████▉| 999/1000 [00:00<00:00, 6388.66it/s]\n"
     ]
    },
    {
     "name": "stdout",
     "output_type": "stream",
     "text": [
      "ending info: {'total_apple_consumed': 110.84206127209993, 'step_apple_consumed': 0.0618239854898651, 'apple': 0.8655357968581114, 'dirt': 60.43828703676267, 'picker': 10, 'cleaner': 0}\n",
      "========= End of Test =========\n",
      "110.84206127209993\n",
      "info: {'total_apple_consumed': 0, 'step_apple_consumed': 0, 'apple': 0, 'dirt': 78, 'picker': 0, 'cleaner': 0}\n"
     ]
    },
    {
     "name": "stderr",
     "output_type": "stream",
     "text": [
      "100%|█████████▉| 999/1000 [00:00<00:00, 5472.35it/s]\n"
     ]
    },
    {
     "name": "stdout",
     "output_type": "stream",
     "text": [
      "ending info: {'total_apple_consumed': 586.3790928727303, 'step_apple_consumed': 2.0982806301408803, 'apple': 31.006751302899367, 'dirt': 44.32655390816154, 'picker': 10, 'cleaner': 0}\n",
      "========= End of Test =========\n",
      "586.3790928727303\n",
      "info: {'total_apple_consumed': 0, 'step_apple_consumed': 0, 'apple': 0, 'dirt': 78, 'picker': 0, 'cleaner': 0}\n"
     ]
    },
    {
     "name": "stderr",
     "output_type": "stream",
     "text": [
      "100%|█████████▉| 999/1000 [00:00<00:00, 6166.78it/s]\n"
     ]
    },
    {
     "name": "stdout",
     "output_type": "stream",
     "text": [
      "ending info: {'total_apple_consumed': 1230.5484629649973, 'step_apple_consumed': 3.1320463497980713, 'apple': 46.25792550645372, 'dirt': 33.48007540993583, 'picker': 10, 'cleaner': 0}\n",
      "========= End of Test =========\n",
      "1230.5484629649973\n",
      "info: {'total_apple_consumed': 0, 'step_apple_consumed': 0, 'apple': 0, 'dirt': 78, 'picker': 0, 'cleaner': 0}\n"
     ]
    },
    {
     "name": "stderr",
     "output_type": "stream",
     "text": [
      "100%|█████████▉| 999/1000 [00:00<00:00, 6184.31it/s]\n"
     ]
    },
    {
     "name": "stdout",
     "output_type": "stream",
     "text": [
      "ending info: {'total_apple_consumed': 663.5646951010084, 'step_apple_consumed': 0.0, 'apple': 32.92880364748432, 'dirt': 41.67229542743576, 'picker': 0, 'cleaner': 10}\n",
      "========= End of Test =========\n",
      "663.5646951010084\n",
      "info: {'total_apple_consumed': 0, 'step_apple_consumed': 0, 'apple': 0, 'dirt': 78, 'picker': 0, 'cleaner': 0}\n"
     ]
    },
    {
     "name": "stderr",
     "output_type": "stream",
     "text": [
      "100%|█████████▉| 999/1000 [00:00<00:00, 6727.23it/s]\n"
     ]
    },
    {
     "name": "stdout",
     "output_type": "stream",
     "text": [
      "ending info: {'total_apple_consumed': 89.08207196209595, 'step_apple_consumed': 0.041515207116815916, 'apple': 0.5812128996354229, 'dirt': 60.112644550715146, 'picker': 10, 'cleaner': 0}\n",
      "========= End of Test =========\n",
      "89.08207196209595\n",
      "info: {'total_apple_consumed': 0, 'step_apple_consumed': 0, 'apple': 0, 'dirt': 78, 'picker': 0, 'cleaner': 0}\n"
     ]
    },
    {
     "name": "stderr",
     "output_type": "stream",
     "text": [
      "100%|█████████▉| 999/1000 [00:00<00:00, 6623.09it/s]\n"
     ]
    },
    {
     "name": "stdout",
     "output_type": "stream",
     "text": [
      "ending info: {'total_apple_consumed': 98.5386299563298, 'step_apple_consumed': 0.20108920907025943, 'apple': 10.815987088256785, 'dirt': 52.30752473349726, 'picker': 3, 'cleaner': 7}\n",
      "========= End of Test =========\n",
      "98.5386299563298\n",
      "info: {'total_apple_consumed': 0, 'step_apple_consumed': 0, 'apple': 0, 'dirt': 78, 'picker': 0, 'cleaner': 0}\n"
     ]
    },
    {
     "name": "stderr",
     "output_type": "stream",
     "text": [
      "100%|█████████▉| 999/1000 [00:00<00:00, 5031.78it/s]\n"
     ]
    },
    {
     "name": "stdout",
     "output_type": "stream",
     "text": [
      "ending info: {'total_apple_consumed': 1120.0992815440106, 'step_apple_consumed': 2.089965191360531, 'apple': 30.91462233536084, 'dirt': 44.08568935887531, 'picker': 10, 'cleaner': 0}\n",
      "========= End of Test =========\n",
      "1120.0992815440106\n",
      "info: {'total_apple_consumed': 0, 'step_apple_consumed': 0, 'apple': 0, 'dirt': 78, 'picker': 0, 'cleaner': 0}\n"
     ]
    },
    {
     "name": "stderr",
     "output_type": "stream",
     "text": [
      "100%|█████████▉| 999/1000 [00:00<00:00, 6684.59it/s]\n"
     ]
    },
    {
     "name": "stdout",
     "output_type": "stream",
     "text": [
      "ending info: {'total_apple_consumed': 1590.7244551162603, 'step_apple_consumed': 3.133706161400952, 'apple': 46.281610509945025, 'dirt': 33.47505513646689, 'picker': 10, 'cleaner': 0}\n",
      "========= End of Test =========\n",
      "1590.7244551162603\n",
      "info: {'total_apple_consumed': 0, 'step_apple_consumed': 0, 'apple': 0, 'dirt': 78, 'picker': 0, 'cleaner': 0}\n"
     ]
    },
    {
     "name": "stderr",
     "output_type": "stream",
     "text": [
      "100%|█████████▉| 999/1000 [00:00<00:00, 6331.12it/s]\n"
     ]
    },
    {
     "name": "stdout",
     "output_type": "stream",
     "text": [
      "ending info: {'total_apple_consumed': 2112.2622211602516, 'step_apple_consumed': 2.8106542435175585, 'apple': 46.43000297477029, 'dirt': 33.37071894722398, 'picker': 9, 'cleaner': 1}\n",
      "========= End of Test =========\n",
      "2112.2622211602516\n",
      "info: {'total_apple_consumed': 0, 'step_apple_consumed': 0, 'apple': 0, 'dirt': 78, 'picker': 0, 'cleaner': 0}\n"
     ]
    },
    {
     "name": "stderr",
     "output_type": "stream",
     "text": [
      "100%|█████████▉| 999/1000 [00:00<00:00, 6236.70it/s]\n"
     ]
    },
    {
     "name": "stdout",
     "output_type": "stream",
     "text": [
      "ending info: {'total_apple_consumed': 835.6061562575665, 'step_apple_consumed': 2.21892564620879, 'apple': 32.878598248856015, 'dirt': 42.21120132504589, 'picker': 10, 'cleaner': 0}\n",
      "========= End of Test =========\n",
      "835.6061562575665\n",
      "info: {'total_apple_consumed': 0, 'step_apple_consumed': 0, 'apple': 0, 'dirt': 78, 'picker': 0, 'cleaner': 0}\n"
     ]
    },
    {
     "name": "stderr",
     "output_type": "stream",
     "text": [
      "100%|█████████▉| 999/1000 [00:00<00:00, 6655.08it/s]\n"
     ]
    },
    {
     "name": "stdout",
     "output_type": "stream",
     "text": [
      "ending info: {'total_apple_consumed': 956.5995551958856, 'step_apple_consumed': 3.228501904647589, 'apple': 47.64969652968304, 'dirt': 32.492344404379416, 'picker': 10, 'cleaner': 0}\n",
      "========= End of Test =========\n",
      "956.5995551958856\n",
      "info: {'total_apple_consumed': 0, 'step_apple_consumed': 0, 'apple': 0, 'dirt': 78, 'picker': 0, 'cleaner': 0}\n"
     ]
    },
    {
     "name": "stderr",
     "output_type": "stream",
     "text": [
      "100%|█████████▉| 999/1000 [00:00<00:00, 6879.32it/s]\n"
     ]
    },
    {
     "name": "stdout",
     "output_type": "stream",
     "text": [
      "ending info: {'total_apple_consumed': 401.32568135812005, 'step_apple_consumed': 3.1432323910532736, 'apple': 46.40137652174073, 'dirt': 33.37407871326531, 'picker': 10, 'cleaner': 0}\n",
      "========= End of Test =========\n",
      "401.32568135812005\n",
      "info: {'total_apple_consumed': 0, 'step_apple_consumed': 0, 'apple': 0, 'dirt': 78, 'picker': 0, 'cleaner': 0}\n"
     ]
    },
    {
     "name": "stderr",
     "output_type": "stream",
     "text": [
      "100%|█████████▉| 999/1000 [00:00<00:00, 5249.38it/s]\n"
     ]
    },
    {
     "name": "stdout",
     "output_type": "stream",
     "text": [
      "ending info: {'total_apple_consumed': 1562.0566343023618, 'step_apple_consumed': 2.811326012586796, 'apple': 46.442025549584095, 'dirt': 33.35375827481931, 'picker': 9, 'cleaner': 1}\n",
      "========= End of Test =========\n",
      "1562.0566343023618\n",
      "info: {'total_apple_consumed': 0, 'step_apple_consumed': 0, 'apple': 0, 'dirt': 78, 'picker': 0, 'cleaner': 0}\n"
     ]
    },
    {
     "name": "stderr",
     "output_type": "stream",
     "text": [
      "100%|█████████▉| 999/1000 [00:00<00:00, 6142.36it/s]\n"
     ]
    },
    {
     "name": "stdout",
     "output_type": "stream",
     "text": [
      "ending info: {'total_apple_consumed': 247.28808066127684, 'step_apple_consumed': 1.6131405591928647, 'apple': 24.287976955763504, 'dirt': 44.52491443378065, 'picker': 10, 'cleaner': 0}\n",
      "========= End of Test =========\n",
      "247.28808066127684\n",
      "info: {'total_apple_consumed': 0, 'step_apple_consumed': 0, 'apple': 0, 'dirt': 78, 'picker': 0, 'cleaner': 0}\n"
     ]
    },
    {
     "name": "stderr",
     "output_type": "stream",
     "text": [
      "100%|█████████▉| 999/1000 [00:00<00:00, 6294.98it/s]"
     ]
    },
    {
     "name": "stdout",
     "output_type": "stream",
     "text": [
      "ending info: {'total_apple_consumed': 93.97597312017837, 'step_apple_consumed': 0.6753465356752745, 'apple': 9.942906619072803, 'dirt': 56.34633940749822, 'picker': 10, 'cleaner': 0}\n",
      "========= End of Test =========\n",
      "93.97597312017837\n"
     ]
    },
    {
     "name": "stderr",
     "output_type": "stream",
     "text": [
      "\n"
     ]
    }
   ],
   "source": [
    "test_stats = []\n",
    "num_test_episodes = 15\n",
    "print(\"========= Testing =========\")\n",
    "\n",
    "for episode in range(num_test_episodes):\n",
    "    test_stats.append({\n",
    "        \"num_apples\": [],\n",
    "        \"num_dirt\": [],\n",
    "        \"pickers\": [],\n",
    "        \"cleaners\": [],\n",
    "        \"total_reward\": 0,\n",
    "    })\n",
    "\n",
    "    states, info = env.reset()\n",
    "    test_stats[-1][\"num_apples\"].append(info[\"apple\"])\n",
    "    test_stats[-1][\"num_dirt\"].append(info[\"dirt\"])\n",
    "    test_stats[-1][\"pickers\"].append(info[\"picker\"])\n",
    "    test_stats[-1][\"cleaners\"].append(info[\"cleaner\"])\n",
    "\n",
    "    #states = np.concatenate(list(states.values()), axis=0)\n",
    "    state = states[agent_ids[0]]\n",
    "\n",
    "    print(f\"info: {info}\")\n",
    "\n",
    "    for step in tqdm(range(num_steps_per_epsiode)):\n",
    "        actions_list = agentCoordinator.act(env)[0]\n",
    "        actions = {agent_id: actions_list[i] for i, agent_id in enumerate(agent_ids)}\n",
    "        next_states, reward, dones, _, info = env.step(actions)\n",
    "        test_stats[-1][\"num_apples\"].append(info[\"apple\"])\n",
    "        test_stats[-1][\"num_dirt\"].append(info[\"dirt\"])\n",
    "        test_stats[-1][\"pickers\"].append(info[\"picker\"])\n",
    "        test_stats[-1][\"cleaners\"].append(info[\"cleaner\"])\n",
    "        #next_states = np.concatenate(list(next_states.values()), axis=0)\n",
    "        next_state = next_states[agent_ids[0]]\n",
    "        #reward_graph.append(reward)\n",
    "\n",
    "        if episode > verbose_episode:\n",
    "            print(f\"========= Step {step} =========\")\n",
    "            print(f\"info: {info}\")\n",
    "\n",
    "        state = next_state\n",
    "\n",
    "        if dones[\"__all__\"]:\n",
    "            break \n",
    "\n",
    "    print(f\"ending info: {info}\")\n",
    "    #print(f\"reward graph: {reward_graph}\")\n",
    "    print(f\"========= End of Test =========\")\n",
    "\n",
    "    test_reward = info[\"total_apple_consumed\"]\n",
    "\n",
    "    test_stats[-1][\"total_reward\"] = test_reward\n",
    "\n",
    "    print(test_reward)"
   ]
  },
  {
   "cell_type": "code",
   "execution_count": 15,
   "metadata": {},
   "outputs": [
    {
     "data": {
      "image/png": "[encoded data removed]",
      "text/plain": [
       "<Figure size 640x480 with 1 Axes>"
      ]
     },
     "metadata": {},
     "output_type": "display_data"
    },
    {
     "name": "stdout",
     "output_type": "stream",
     "text": [
      "average reward 779.9262035230115\n"
     ]
    }
   ],
   "source": [
    "plt.figure()\n",
    "plt.title(\"Reward by Test Episode\")\n",
    "plt.xlabel(\"Episode\")\n",
    "plt.ylabel(\"Reward\")\n",
    "plt.plot([stat['total_reward'] for stat in test_stats])\n",
    "plt.axhline(y=2695.57, color='r', linestyle='-')\n",
    "plt.show()\n",
    "print('average reward', np.mean([stat['total_reward'] for stat in test_stats]))"
   ]
  },
  {
   "cell_type": "code",
   "execution_count": 16,
   "metadata": {},
   "outputs": [
    {
     "data": {
      "image/png": "[encoded data removed]",
      "text/plain": [
       "<Figure size 640x480 with 1 Axes>"
      ]
     },
     "metadata": {},
     "output_type": "display_data"
    }
   ],
   "source": [
    "plt.figure()\n",
    "plt.title(\"Average Number of Apples and Dirt by Test Step\")\n",
    "plt.xlabel(\"Step\")\n",
    "plt.ylabel(\"Number\")\n",
    "avg_num_apples = []\n",
    "avg_num_dirt = []\n",
    "for i in range(num_steps_per_epsiode):\n",
    "    avg_num_apples.append(np.mean([stat['num_apples'][i] for stat in test_stats]))\n",
    "    avg_num_dirt.append(np.mean([stat['num_dirt'][i] for stat in test_stats]))\n",
    "plt.plot(avg_num_apples, label=\"Apples\")\n",
    "plt.plot(avg_num_dirt, label=\"Dirt\")\n",
    "plt.legend()\n",
    "plt.show()"
   ]
  },
  {
   "cell_type": "code",
   "execution_count": 17,
   "metadata": {},
   "outputs": [
    {
     "data": {
      "image/png": "[encoded data removed]",
      "text/plain": [
       "<Figure size 640x480 with 1 Axes>"
      ]
     },
     "metadata": {},
     "output_type": "display_data"
    }
   ],
   "source": [
    "plt.figure()\n",
    "plt.title(\"Average Number of Pickers and Cleaners by Test Step\")\n",
    "plt.xlabel(\"Step\")\n",
    "plt.ylabel(\"Number\")\n",
    "avg_num_pickers = []\n",
    "avg_num_cleaners = []\n",
    "for i in range(num_steps_per_epsiode):\n",
    "    avg_num_pickers.append(np.mean([stat['pickers'][i] for stat in test_stats]))\n",
    "    avg_num_cleaners.append(np.mean([stat['cleaners'][i] for stat in test_stats]))\n",
    "plt.plot(avg_num_pickers, label=\"Pickers\")\n",
    "plt.plot(avg_num_cleaners, label=\"Cleaners\")\n",
    "plt.legend()\n",
    "plt.show()"
   ]
  },
  {
   "cell_type": "code",
   "execution_count": 18,
   "metadata": {},
   "outputs": [
    {
     "name": "stdout",
     "output_type": "stream",
     "text": [
      "average number of pickers 9.294705294705295\n",
      "average number of cleaners 0.6953046953046953\n"
     ]
    },
    {
     "data": {
      "image/png": "[encoded data removed]",
      "text/plain": [
       "<Figure size 640x480 with 1 Axes>"
      ]
     },
     "metadata": {},
     "output_type": "display_data"
    }
   ],
   "source": [
    "plt.figure()\n",
    "plt.title(\"Number of Pickers and Cleaners by Test Step\")\n",
    "plt.xlabel(\"Step\")\n",
    "plt.ylabel(\"Number\")\n",
    "episode = test_stats[0]\n",
    "plt.plot(episode['pickers'], label=\"Pickers\")\n",
    "plt.plot(episode['cleaners'], label=\"Cleaners\")\n",
    "print('average number of pickers', np.mean(episode['pickers']))\n",
    "print('average number of cleaners', np.mean(episode['cleaners']))\n",
    "plt.legend()\n",
    "plt.show()"
   ]
  },
  {
   "cell_type": "code",
   "execution_count": 19,
   "metadata": {},
   "outputs": [
    {
     "name": "stdout",
     "output_type": "stream",
     "text": [
      "average picker cleaner ratio 2.608922558922559\n",
      "average apple dirt ratio 0.030607015565538225\n"
     ]
    },
    {
     "data": {
      "image/png": "[encoded data removed]",
      "text/plain": [
       "<Figure size 640x480 with 1 Axes>"
      ]
     },
     "metadata": {},
     "output_type": "display_data"
    }
   ],
   "source": [
    "plt.figure()\n",
    "plt.title(\"Ratios by Test Step\")\n",
    "plt.xlabel(\"Step\")\n",
    "plt.ylabel(\"Ratio\")\n",
    "episode = test_stats[0]\n",
    "#plt.plot([episode['pickers'][i] / (episode['cleaners'][i] + 1e-1) for i in range(len(episode['pickers']))])\n",
    "\n",
    "picker_cleaner_ratios = []\n",
    "picker_cleaner_steps = []\n",
    "for i, (num_pickers, num_cleaners) in enumerate(zip(episode['pickers'], episode['cleaners'])):\n",
    "    if num_cleaners > 0:\n",
    "        picker_cleaner_ratios.append(num_pickers / num_cleaners)\n",
    "        picker_cleaner_steps.append(i)\n",
    "print('average picker cleaner ratio', np.mean(picker_cleaner_ratios))\n",
    "plt.plot(picker_cleaner_steps, picker_cleaner_ratios, label='Pickers / Cleaners')\n",
    "\n",
    "apple_dirt_ratios = []\n",
    "apple_dirt_steps = []\n",
    "for i, (num_apples, num_dirt) in enumerate(zip(episode['num_apples'], episode['num_dirt'])):\n",
    "    if num_dirt > 0:\n",
    "        apple_dirt_ratios.append(num_apples / num_dirt)\n",
    "        apple_dirt_steps.append(i)\n",
    "plt.plot(apple_dirt_steps, apple_dirt_ratios, label='Apples / Dirt')\n",
    "print('average apple dirt ratio', np.mean(apple_dirt_ratios))\n",
    "plt.legend()\n",
    "plt.show()"
   ]
  },
  {
   "cell_type": "code",
   "execution_count": null,
   "metadata": {},
   "outputs": [],
   "source": []
  },
  {
   "cell_type": "code",
   "execution_count": 20,
   "metadata": {},
   "outputs": [
    {
     "data": {
      "image/png": "[encoded data removed]",
      "text/plain": [
       "<Figure size 640x480 with 1 Axes>"
      ]
     },
     "metadata": {},
     "output_type": "display_data"
    }
   ],
   "source": [
    "plt.figure()\n",
    "plt.title(\"Average Ratios by Test Step\")\n",
    "plt.xlabel(\"Step\")\n",
    "plt.ylabel(\"Ratio\")\n",
    "avg_apple_dirt_ratios = []\n",
    "apple_dirt_steps = []\n",
    "avg_picker_cleaner_ratios = []\n",
    "picker_cleaner_steps = []\n",
    "for i in range(num_steps_per_epsiode):\n",
    "    #avg_apple_dirt_ratios.append(np.mean([stat['num_apples'][i] / (stat['num_dirt'][i] + 1e-8) for stat in test_stats]))\n",
    "    #avg_picker_cleaner_ratios.append(np.mean([stat['pickers'][i] / (stat['cleaners'][i]) for stat in test_stats if stat['cleaners'][i] > 0]))\n",
    "    apple_dirt = []\n",
    "    picker_cleaner = []\n",
    "    for stat in test_stats:\n",
    "        if stat['num_dirt'][i] > 0:\n",
    "            apple_dirt.append(stat['num_apples'][i] / stat['num_dirt'][i])\n",
    "        if stat['cleaners'][i] > 0:\n",
    "            picker_cleaner.append(stat['pickers'][i] / stat['cleaners'][i])\n",
    "    if len(apple_dirt) > 0:\n",
    "        avg_apple_dirt_ratios.append(np.mean(apple_dirt))\n",
    "        apple_dirt_steps.append(i)\n",
    "    if len(picker_cleaner) > 0:\n",
    "        avg_picker_cleaner_ratios.append(np.mean(picker_cleaner))\n",
    "        picker_cleaner_steps.append(i)\n",
    "\n",
    "plt.plot(apple_dirt_steps, avg_apple_dirt_ratios, label=\"Apples/Dirt\")\n",
    "plt.plot(picker_cleaner_steps, avg_picker_cleaner_ratios, label=\"Pickers/Cleaners\")\n",
    "plt.legend()\n",
    "plt.show()"
   ]
  }
 ],
 "metadata": {
  "kernelspec": {
   "display_name": "venv",
   "language": "python",
   "name": "python3"
  },
  "language_info": {
   "codemirror_mode": {
    "name": "ipython",
    "version": 3
   },
   "file_extension": ".py",
   "mimetype": "text/x-python",
   "name": "python",
   "nbconvert_exporter": "python",
   "pygments_lexer": "ipython3",
   "version": "3.10.7"
  }
 },
 "nbformat": 4,
 "nbformat_minor": 2
}
