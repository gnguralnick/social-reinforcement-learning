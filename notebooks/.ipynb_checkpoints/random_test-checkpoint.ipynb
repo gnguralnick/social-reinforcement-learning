{
 "cells": [
  {
   "cell_type": "code",
   "execution_count": 16,
   "id": "initial_id",
   "metadata": {
    "collapsed": true,
    "ExecuteTime": {
     "end_time": "2023-09-24T03:55:48.836043Z",
     "start_time": "2023-09-24T03:55:48.830764Z"
    }
   },
   "outputs": [],
   "source": [
    "from environments.cleanup_env import CleanupEnv\n",
    "from models.random import RandomModel\n",
    "from train import train\n",
    "from test import test"
   ]
  },
  {
   "cell_type": "code",
   "execution_count": 17,
   "outputs": [],
   "source": [
    "num_agents = 20\n",
    "env = CleanupEnv(num_agents=num_agents)"
   ],
   "metadata": {
    "collapsed": false,
    "ExecuteTime": {
     "end_time": "2023-09-24T03:55:49.366821Z",
     "start_time": "2023-09-24T03:55:49.364073Z"
    }
   },
   "id": "7e12af9f34b062fa"
  },
  {
   "cell_type": "code",
   "execution_count": 18,
   "outputs": [],
   "source": [
    "models = { str(i): RandomModel(env.observation_space, env.action_space, 1, None, 'random-' + str(i)) for i in range(num_agents) }"
   ],
   "metadata": {
    "collapsed": false,
    "ExecuteTime": {
     "end_time": "2023-09-24T03:55:49.676590Z",
     "start_time": "2023-09-24T03:55:49.641635Z"
    }
   },
   "id": "8e97f5f21c7edf0e"
  },
  {
   "cell_type": "code",
   "execution_count": 19,
   "outputs": [
    {
     "ename": "IndexError",
     "evalue": "invalid index to scalar variable.",
     "output_type": "error",
     "traceback": [
      "\u001B[0;31m---------------------------------------------------------------------------\u001B[0m",
      "\u001B[0;31mIndexError\u001B[0m                                Traceback (most recent call last)",
      "Cell \u001B[0;32mIn[19], line 1\u001B[0m\n\u001B[0;32m----> 1\u001B[0m \u001B[43mtrain\u001B[49m\u001B[43m(\u001B[49m\u001B[43mmodels\u001B[49m\u001B[43m,\u001B[49m\u001B[43m \u001B[49m\u001B[43menv\u001B[49m\u001B[43m,\u001B[49m\u001B[43m \u001B[49m\u001B[38;5;241;43m10\u001B[39;49m\u001B[43m,\u001B[49m\u001B[43m \u001B[49m\u001B[38;5;241;43m0\u001B[39;49m\u001B[43m,\u001B[49m\u001B[43m \u001B[49m\u001B[38;5;241;43m0\u001B[39;49m\u001B[43m,\u001B[49m\u001B[43m \u001B[49m\u001B[38;5;241;43m0\u001B[39;49m\u001B[43m,\u001B[49m\u001B[43m \u001B[49m\u001B[38;5;241;43m0\u001B[39;49m\u001B[43m)\u001B[49m\n",
      "File \u001B[0;32m~/git/social_reinforcement_learning/train.py:44\u001B[0m, in \u001B[0;36mtrain\u001B[0;34m(models, env, num_episodes, eps, eps_decay_factor, discount_factor, alpha)\u001B[0m\n\u001B[1;32m     39\u001B[0m     target \u001B[38;5;241m=\u001B[39m rewards[agent_id] \u001B[38;5;241m+\u001B[39m discount_factor \u001B[38;5;241m*\u001B[39m np\u001B[38;5;241m.\u001B[39mmax(models[agent_id]\u001B[38;5;241m.\u001B[39mpredict(\n\u001B[1;32m     40\u001B[0m         [new_states[agent_id][\u001B[38;5;241m0\u001B[39m]\u001B[38;5;241m.\u001B[39mreshape(\u001B[38;5;241m1\u001B[39m, num_agents, \u001B[38;5;241m2\u001B[39m),\n\u001B[1;32m     41\u001B[0m          new_states[agent_id][\u001B[38;5;241m1\u001B[39m]\u001B[38;5;241m.\u001B[39mreshape(\u001B[38;5;241m1\u001B[39m, \u001B[38;5;241m25\u001B[39m, \u001B[38;5;241m18\u001B[39m)]))\n\u001B[1;32m     42\u001B[0m     target_vector \u001B[38;5;241m=\u001B[39m models[agent_id]\u001B[38;5;241m.\u001B[39mpredict(\n\u001B[1;32m     43\u001B[0m         [states[agent_id][\u001B[38;5;241m0\u001B[39m]\u001B[38;5;241m.\u001B[39mreshape(\u001B[38;5;241m1\u001B[39m, num_agents, \u001B[38;5;241m2\u001B[39m), states[agent_id][\u001B[38;5;241m1\u001B[39m]\u001B[38;5;241m.\u001B[39mreshape(\u001B[38;5;241m1\u001B[39m, \u001B[38;5;241m25\u001B[39m, \u001B[38;5;241m18\u001B[39m)])[\u001B[38;5;241m0\u001B[39m]\n\u001B[0;32m---> 44\u001B[0m     target_vector[actions[agent_id]] \u001B[38;5;241m=\u001B[39m (\u001B[38;5;241m1\u001B[39m \u001B[38;5;241m-\u001B[39m alpha) \u001B[38;5;241m*\u001B[39m \u001B[43mtarget_vector\u001B[49m\u001B[43m[\u001B[49m\u001B[43mactions\u001B[49m\u001B[43m[\u001B[49m\u001B[43magent_id\u001B[49m\u001B[43m]\u001B[49m\u001B[43m]\u001B[49m \u001B[38;5;241m+\u001B[39m alpha \u001B[38;5;241m*\u001B[39m target\n\u001B[1;32m     45\u001B[0m     target_batches[agent_id]\u001B[38;5;241m.\u001B[39mappend(target_vector)\n\u001B[1;32m     46\u001B[0m \u001B[38;5;28;01mif\u001B[39;00m \u001B[38;5;28mlen\u001B[39m(state_batches[\u001B[38;5;124m\"\u001B[39m\u001B[38;5;124m0\u001B[39m\u001B[38;5;124m\"\u001B[39m]) \u001B[38;5;241m==\u001B[39m batch_size:\n",
      "\u001B[0;31mIndexError\u001B[0m: invalid index to scalar variable."
     ]
    }
   ],
   "source": [
    "train(models, env, 10, 0, 0, 0, 0)"
   ],
   "metadata": {
    "collapsed": false,
    "ExecuteTime": {
     "end_time": "2023-09-24T03:55:50.214071Z",
     "start_time": "2023-09-24T03:55:50.148772Z"
    }
   },
   "id": "1200cb074a6673de"
  },
  {
   "cell_type": "code",
   "execution_count": null,
   "outputs": [],
   "source": [
    "test(models, env, 10, num_agents)"
   ],
   "metadata": {
    "collapsed": false
   },
   "id": "fc347f211d280100"
  }
 ],
 "metadata": {
  "kernelspec": {
   "display_name": "Python 3",
   "language": "python",
   "name": "python3"
  },
  "language_info": {
   "codemirror_mode": {
    "name": "ipython",
    "version": 2
   },
   "file_extension": ".py",
   "mimetype": "text/x-python",
   "name": "python",
   "nbconvert_exporter": "python",
   "pygments_lexer": "ipython2",
   "version": "2.7.6"
  }
 },
 "nbformat": 4,
 "nbformat_minor": 5
}
