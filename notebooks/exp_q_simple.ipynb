{
 "cells": [
  {
   "cell_type": "code",
   "execution_count": 1,
   "metadata": {},
   "outputs": [
    {
     "name": "stderr",
     "output_type": "stream",
     "text": [
      "2023-11-19 23:06:57,053\tWARNING deprecation.py:50 -- DeprecationWarning: `DirectStepOptimizer` has been deprecated. This will raise an error in the future!\n"
     ]
    }
   ],
   "source": [
    "from environments import ZeroDCleanupEnv\n",
    "from agents import CentralizedQAgent\n",
    "import numpy as np\n",
    "from collections import defaultdict\n",
    "import torch\n",
    "import sys\n",
    "from tqdm import tqdm"
   ]
  },
  {
   "cell_type": "code",
   "execution_count": 2,
   "metadata": {},
   "outputs": [
    {
     "name": "stdout",
     "output_type": "stream",
     "text": [
      "cpu\n"
     ]
    }
   ],
   "source": [
    "device = torch.device(\"cuda\" if torch.cuda.is_available() else \"cpu\")\n",
    "print(device)\n",
    "np.set_printoptions(threshold=sys.maxsize)"
   ]
  },
  {
   "cell_type": "code",
   "execution_count": 3,
   "metadata": {},
   "outputs": [],
   "source": [
    "num_agents = 10\n",
    "agent_ids = [str(i) for i in range(num_agents)]\n",
    "reward_multiplier = 10"
   ]
  },
  {
   "cell_type": "code",
   "execution_count": 4,
   "metadata": {},
   "outputs": [],
   "source": [
    "pp = False\n",
    "verbose = False\n",
    "verbose_episode = 1999"
   ]
  },
  {
   "cell_type": "code",
   "execution_count": 5,
   "metadata": {},
   "outputs": [],
   "source": [
    "num_episodes = 10\n",
    "max_steps_per_episode = 1000\n",
    "state_dim = 4\n",
    "action_dim = 2"
   ]
  },
  {
   "cell_type": "code",
   "execution_count": 6,
   "metadata": {},
   "outputs": [],
   "source": [
    "thresholdDepletion = 0.4\n",
    "thresholdRestoration = 0.0\n",
    "wasteSpawnProbability = 0.5\n",
    "appleRespawnProbability = 0.05\n",
    "dirt_multiplier = 10\n",
    "\n",
    "area = 150"
   ]
  },
  {
   "cell_type": "code",
   "execution_count": 7,
   "metadata": {},
   "outputs": [],
   "source": [
    "env = ZeroDCleanupEnv(agent_ids, \n",
    "                      num_agents=num_agents, \n",
    "                      area=area, \n",
    "                      thresholdDepletion=thresholdDepletion,\n",
    "                      thresholdRestoration=thresholdRestoration,\n",
    "                      wasteSpawnProbability=wasteSpawnProbability,\n",
    "                      appleRespawnProbability=appleRespawnProbability,\n",
    "                      dirt_multiplier=dirt_multiplier)\n",
    "\n",
    "agentCoordinator = CentralizedQAgent(device=device,\n",
    "                                     num_agents=num_agents,\n",
    "                                     action_size=action_dim,\n",
    "                                     state_dim=state_dim,\n",
    "                                     verbose=False)"
   ]
  },
  {
   "cell_type": "code",
   "execution_count": 8,
   "metadata": {},
   "outputs": [],
   "source": [
    "ending_ep_rewards = []\n",
    "weight_graph = defaultdict(list)"
   ]
  },
  {
   "cell_type": "code",
   "execution_count": 9,
   "metadata": {},
   "outputs": [],
   "source": [
    "import uuid\n",
    "import os\n",
    "\n",
    "if not os.path.exists(\"results\"):\n",
    "    os.mkdir(\"results\")\n",
    "\n",
    "test_id = uuid.uuid4()\n",
    "os.mkdir(\"results/q_simple_\" + str(test_id))\n",
    "f = open(\"results/q_simple_\" + str(test_id) + \"/logs.txt\", \"x\")"
   ]
  },
  {
   "cell_type": "code",
   "execution_count": 10,
   "metadata": {},
   "outputs": [
    {
     "name": "stdout",
     "output_type": "stream",
     "text": [
      "========= Episode 0 =========\n",
      "info: {'total_apple_consumed': 0, 'step_apple_consumed': 0, 'apple': array([0]), 'dirt': array([78]), 'picker': array([0]), 'cleaner': array([0])}\n"
     ]
    },
    {
     "name": "stderr",
     "output_type": "stream",
     "text": [
      "  0%|          | 0/1000 [00:00<?, ?it/s]"
     ]
    },
    {
     "name": "stderr",
     "output_type": "stream",
     "text": [
      "100%|█████████▉| 999/1000 [00:01<00:00, 615.56it/s] \n"
     ]
    },
    {
     "name": "stdout",
     "output_type": "stream",
     "text": [
      "ending info: {'total_apple_consumed': 4682, 'step_apple_consumed': 8, 'apple': array([144]), 'dirt': array([16]), 'picker': array([0]), 'cleaner': array([0])}\n",
      "========= End of Episode 0 =========\n",
      "========= Episode 1 =========\n",
      "info: {'total_apple_consumed': 0, 'step_apple_consumed': 0, 'apple': array([0]), 'dirt': array([78]), 'picker': array([0]), 'cleaner': array([0])}\n"
     ]
    },
    {
     "name": "stderr",
     "output_type": "stream",
     "text": [
      "100%|█████████▉| 999/1000 [00:01<00:00, 595.62it/s]\n"
     ]
    },
    {
     "name": "stdout",
     "output_type": "stream",
     "text": [
      "ending info: {'total_apple_consumed': 4895, 'step_apple_consumed': 4, 'apple': array([149]), 'dirt': array([13]), 'picker': array([0]), 'cleaner': array([0])}\n",
      "========= End of Episode 1 =========\n",
      "========= Episode 2 =========\n",
      "info: {'total_apple_consumed': 0, 'step_apple_consumed': 0, 'apple': array([0]), 'dirt': array([78]), 'picker': array([0]), 'cleaner': array([0])}\n"
     ]
    },
    {
     "name": "stderr",
     "output_type": "stream",
     "text": [
      "100%|█████████▉| 999/1000 [00:01<00:00, 754.88it/s]\n"
     ]
    },
    {
     "name": "stdout",
     "output_type": "stream",
     "text": [
      "ending info: {'total_apple_consumed': 4983, 'step_apple_consumed': 3, 'apple': array([145]), 'dirt': array([13]), 'picker': array([0]), 'cleaner': array([0])}\n",
      "========= End of Episode 2 =========\n",
      "========= Episode 3 =========\n",
      "info: {'total_apple_consumed': 0, 'step_apple_consumed': 0, 'apple': array([0]), 'dirt': array([78]), 'picker': array([0]), 'cleaner': array([0])}\n"
     ]
    },
    {
     "name": "stderr",
     "output_type": "stream",
     "text": [
      "100%|█████████▉| 999/1000 [00:01<00:00, 765.02it/s]\n"
     ]
    },
    {
     "name": "stdout",
     "output_type": "stream",
     "text": [
      "ending info: {'total_apple_consumed': 5075, 'step_apple_consumed': 2, 'apple': array([131]), 'dirt': array([17]), 'picker': array([0]), 'cleaner': array([0])}\n",
      "========= End of Episode 3 =========\n",
      "========= Episode 4 =========\n",
      "info: {'total_apple_consumed': 0, 'step_apple_consumed': 0, 'apple': array([0]), 'dirt': array([78]), 'picker': array([0]), 'cleaner': array([0])}\n"
     ]
    },
    {
     "name": "stderr",
     "output_type": "stream",
     "text": [
      "100%|█████████▉| 999/1000 [00:01<00:00, 701.25it/s]\n"
     ]
    },
    {
     "name": "stdout",
     "output_type": "stream",
     "text": [
      "ending info: {'total_apple_consumed': 5024, 'step_apple_consumed': 5, 'apple': array([146]), 'dirt': array([16]), 'picker': array([0]), 'cleaner': array([0])}\n",
      "========= End of Episode 4 =========\n",
      "========= Episode 5 =========\n",
      "info: {'total_apple_consumed': 0, 'step_apple_consumed': 0, 'apple': array([0]), 'dirt': array([78]), 'picker': array([0]), 'cleaner': array([0])}\n"
     ]
    },
    {
     "name": "stderr",
     "output_type": "stream",
     "text": [
      "100%|█████████▉| 999/1000 [00:01<00:00, 684.57it/s]\n"
     ]
    },
    {
     "name": "stdout",
     "output_type": "stream",
     "text": [
      "ending info: {'total_apple_consumed': 5009, 'step_apple_consumed': 3, 'apple': array([149]), 'dirt': array([17]), 'picker': array([0]), 'cleaner': array([0])}\n",
      "========= End of Episode 5 =========\n",
      "========= Episode 6 =========\n",
      "info: {'total_apple_consumed': 0, 'step_apple_consumed': 0, 'apple': array([0]), 'dirt': array([78]), 'picker': array([0]), 'cleaner': array([0])}\n"
     ]
    },
    {
     "name": "stderr",
     "output_type": "stream",
     "text": [
      "100%|█████████▉| 999/1000 [00:01<00:00, 739.19it/s]\n"
     ]
    },
    {
     "name": "stdout",
     "output_type": "stream",
     "text": [
      "ending info: {'total_apple_consumed': 5159, 'step_apple_consumed': 6, 'apple': array([148]), 'dirt': array([20]), 'picker': array([0]), 'cleaner': array([0])}\n",
      "========= End of Episode 6 =========\n",
      "========= Episode 7 =========\n",
      "info: {'total_apple_consumed': 0, 'step_apple_consumed': 0, 'apple': array([0]), 'dirt': array([78]), 'picker': array([0]), 'cleaner': array([0])}\n"
     ]
    },
    {
     "name": "stderr",
     "output_type": "stream",
     "text": [
      "100%|█████████▉| 999/1000 [00:01<00:00, 765.53it/s]\n"
     ]
    },
    {
     "name": "stdout",
     "output_type": "stream",
     "text": [
      "ending info: {'total_apple_consumed': 5044, 'step_apple_consumed': 2, 'apple': array([150]), 'dirt': array([18]), 'picker': array([0]), 'cleaner': array([0])}\n",
      "========= End of Episode 7 =========\n",
      "========= Episode 8 =========\n",
      "info: {'total_apple_consumed': 0, 'step_apple_consumed': 0, 'apple': array([0]), 'dirt': array([78]), 'picker': array([0]), 'cleaner': array([0])}\n"
     ]
    },
    {
     "name": "stderr",
     "output_type": "stream",
     "text": [
      "100%|█████████▉| 999/1000 [00:01<00:00, 760.00it/s]\n"
     ]
    },
    {
     "name": "stdout",
     "output_type": "stream",
     "text": [
      "ending info: {'total_apple_consumed': 5162, 'step_apple_consumed': 4, 'apple': array([146]), 'dirt': array([16]), 'picker': array([0]), 'cleaner': array([0])}\n",
      "========= End of Episode 8 =========\n",
      "========= Episode 9 =========\n",
      "info: {'total_apple_consumed': 0, 'step_apple_consumed': 0, 'apple': array([0]), 'dirt': array([78]), 'picker': array([0]), 'cleaner': array([0])}\n"
     ]
    },
    {
     "name": "stderr",
     "output_type": "stream",
     "text": [
      "100%|█████████▉| 999/1000 [00:01<00:00, 739.24it/s]"
     ]
    },
    {
     "name": "stdout",
     "output_type": "stream",
     "text": [
      "ending info: {'total_apple_consumed': 4909, 'step_apple_consumed': 6, 'apple': array([150]), 'dirt': array([19]), 'picker': array([0]), 'cleaner': array([0])}\n",
      "========= End of Episode 9 =========\n"
     ]
    },
    {
     "name": "stderr",
     "output_type": "stream",
     "text": [
      "\n"
     ]
    }
   ],
   "source": [
    "for episode in range(num_episodes):\n",
    "    print(f\"========= Episode {episode} =========\")\n",
    "    f.write(f\"========= Episode {episode} =========\\n\")\n",
    "\n",
    "    states, info = env.reset()\n",
    "    states = np.concatenate(list(states.values()), axis=0)\n",
    "\n",
    "    print(f\"info: {info}\")\n",
    "    f.write(f\"info: {info}\\n\")\n",
    "\n",
    "    for step in tqdm(range(max_steps_per_episode)):\n",
    "        actions_list = agentCoordinator.act(states)[0]\n",
    "        actions = {agent_id: actions_list[i] for i, agent_id in enumerate(agent_ids)}\n",
    "        next_states, rewards, dones, _, info = env.step(actions)\n",
    "        next_states = np.concatenate(list(next_states.values()), axis=0)\n",
    "        reward = sum(rewards.values())\n",
    "        #reward_graph.append(reward)\n",
    "        agentCoordinator.step(states, actions_list, reward, next_states)\n",
    "\n",
    "        if episode > verbose_episode:\n",
    "            print(f\"========= Step {step} =========\")\n",
    "            print(f\"info: {info}\")\n",
    "            f.write(f\"========= Step {step} =========\\n\")\n",
    "            f.write(f\"info: {info}\\n\")\n",
    "\n",
    "        states = next_states\n",
    "\n",
    "        if dones[\"__all__\"]:\n",
    "            break \n",
    "\n",
    "    print(f\"ending info: {info}\")\n",
    "    #print(f\"reward graph: {reward_graph}\")\n",
    "    print(f\"========= End of Episode {episode} =========\")\n",
    "    \n",
    "    f.write(f\"ending info: {info}\\n\")\n",
    "    #f.write(f\"reward graph: {reward_graph}\\n\")\n",
    "    f.write(f\"========= End of Episode {episode} =========\\n\")\n",
    "\n",
    "    ending_reward = info[\"total_apple_consumed\"]\n",
    "\n",
    "    ending_ep_rewards.append(ending_reward)\n",
    "\n",
    "torch.save(agentCoordinator.q_network.state_dict(), \"results/q_simple_\" + str(test_id) + \"/q_network.pt\")\n",
    "\n",
    "        "
   ]
  },
  {
   "cell_type": "code",
   "execution_count": 11,
   "metadata": {},
   "outputs": [
    {
     "name": "stdout",
     "output_type": "stream",
     "text": [
      "========= Testing =========\n",
      "info: {'total_apple_consumed': 0, 'step_apple_consumed': 0, 'apple': array([0]), 'dirt': array([78]), 'picker': array([0]), 'cleaner': array([0])}\n"
     ]
    },
    {
     "name": "stderr",
     "output_type": "stream",
     "text": [
      "100%|█████████▉| 999/1000 [00:01<00:00, 620.33it/s]"
     ]
    },
    {
     "name": "stdout",
     "output_type": "stream",
     "text": [
      "ending info: {'total_apple_consumed': 5038, 'step_apple_consumed': 8, 'apple': array([144]), 'dirt': array([15]), 'picker': array([0]), 'cleaner': array([0])}\n",
      "========= End of Episode 9 =========\n",
      "5038\n"
     ]
    },
    {
     "name": "stderr",
     "output_type": "stream",
     "text": [
      "\n"
     ]
    }
   ],
   "source": [
    "print(\"========= Testing =========\")\n",
    "f.write(\"========= Testing =========\\n\")\n",
    "\n",
    "states, info = env.reset()\n",
    "states = np.concatenate(list(states.values()), axis=0)\n",
    "\n",
    "print(f\"info: {info}\")\n",
    "f.write(f\"info: {info}\\n\")\n",
    "\n",
    "for step in tqdm(range(max_steps_per_episode)):\n",
    "    actions_list = agentCoordinator.act(states)[0]\n",
    "    actions = {agent_id: actions_list[i] for i, agent_id in enumerate(agent_ids)}\n",
    "    next_states, rewards, dones, _, info = env.step(actions)\n",
    "    next_states = np.concatenate(list(next_states.values()), axis=0)\n",
    "    reward = sum(rewards.values())\n",
    "    #reward_graph.append(reward)\n",
    "    agentCoordinator.step(states, actions_list, reward, next_states)\n",
    "\n",
    "    if episode > verbose_episode:\n",
    "        print(f\"========= Step {step} =========\")\n",
    "        print(f\"info: {info}\")\n",
    "        f.write(f\"========= Step {step} =========\\n\")\n",
    "        f.write(f\"info: {info}\\n\")\n",
    "\n",
    "    states = next_states\n",
    "\n",
    "    if dones[\"__all__\"]:\n",
    "        break \n",
    "\n",
    "print(f\"ending info: {info}\")\n",
    "#print(f\"reward graph: {reward_graph}\")\n",
    "print(f\"========= End of Test =========\")\n",
    "\n",
    "f.write(f\"ending info: {info}\\n\")\n",
    "#f.write(f\"reward graph: {reward_graph}\\n\")\n",
    "f.write(f\"========= End of Test =========\\n\")\n",
    "\n",
    "test_reward = info[\"total_apple_consumed\"]\n",
    "\n",
    "print(test_reward)"
   ]
  },
  {
   "cell_type": "code",
   "execution_count": 12,
   "metadata": {},
   "outputs": [],
   "source": [
    "import matplotlib.pyplot as plt"
   ]
  },
  {
   "cell_type": "code",
   "execution_count": 13,
   "metadata": {},
   "outputs": [
    {
     "data": {
      "text/plain": [
       "[<matplotlib.lines.Line2D at 0x29929f370>]"
      ]
     },
     "execution_count": 13,
     "metadata": {},
     "output_type": "execute_result"
    },
    {
     "data": {
      "image/png": "[encoded data removed]",
      "text/plain": [
       "<Figure size 640x480 with 1 Axes>"
      ]
     },
     "metadata": {},
     "output_type": "display_data"
    }
   ],
   "source": [
    "plt.title(\"Reward by Episode\")\n",
    "plt.xlabel(\"Episode\")\n",
    "plt.ylabel(\"Reward\")\n",
    "plt.plot(ending_ep_rewards)\n",
    "plt.show()"
   ]
  }
 ],
 "metadata": {
  "kernelspec": {
   "display_name": "venv",
   "language": "python",
   "name": "python3"
  },
  "language_info": {
   "codemirror_mode": {
    "name": "ipython",
    "version": 3
   },
   "file_extension": ".py",
   "mimetype": "text/x-python",
   "name": "python",
   "nbconvert_exporter": "python",
   "pygments_lexer": "ipython3",
   "version": "3.10.7"
  }
 },
 "nbformat": 4,
 "nbformat_minor": 2
}
