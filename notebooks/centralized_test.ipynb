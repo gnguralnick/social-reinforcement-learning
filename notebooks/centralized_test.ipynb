{
 "cells": [
  {
   "cell_type": "code",
   "execution_count": 1,
   "id": "initial_id",
   "metadata": {
    "ExecuteTime": {
     "end_time": "2023-09-27T23:50:09.228100Z",
     "start_time": "2023-09-27T23:49:57.369510Z"
    },
    "collapsed": true
   },
   "outputs": [
    {
     "name": "stderr",
     "output_type": "stream",
     "text": [
      "2023-09-27 20:49:04,661\tWARNING deprecation.py:50 -- DeprecationWarning: `DirectStepOptimizer` has been deprecated. This will raise an error in the future!\n"
     ]
    }
   ],
   "source": [
    "from environments.cleanup_env import CleanupEnv"
   ]
  },
  {
   "cell_type": "code",
   "execution_count": 2,
   "id": "c50ce6af795ee9a1",
   "metadata": {
    "ExecuteTime": {
     "end_time": "2023-09-28T00:00:35.963560Z",
     "start_time": "2023-09-28T00:00:35.959370Z"
    },
    "collapsed": false
   },
   "outputs": [],
   "source": [
    "num_agents_cleanup = 10\n",
    "env = CleanupEnv(num_agents=num_agents_cleanup)"
   ]
  },
  {
   "cell_type": "code",
   "execution_count": 3,
   "id": "a348e0cd7880b84c",
   "metadata": {
    "ExecuteTime": {
     "end_time": "2023-09-28T00:00:36.783833Z",
     "start_time": "2023-09-28T00:00:36.781228Z"
    },
    "collapsed": false
   },
   "outputs": [],
   "source": [
    "discount_factor = 0.99\n",
    "eps = 0.2\n",
    "eps_decay_factor = 0.999\n",
    "num_episodes = 20\n",
    "alpha = 0.1\n",
    "batch_size = 10"
   ]
  },
  {
   "cell_type": "code",
   "execution_count": 4,
   "id": "8e7708851791189b",
   "metadata": {
    "ExecuteTime": {
     "end_time": "2023-09-28T00:00:37.616867Z",
     "start_time": "2023-09-28T00:00:37.603899Z"
    },
    "collapsed": false
   },
   "outputs": [],
   "source": [
    "from models.centralized import CentralizedQModel"
   ]
  },
  {
   "cell_type": "code",
   "execution_count": 5,
   "id": "5c7ae4e698a58747",
   "metadata": {
    "ExecuteTime": {
     "end_time": "2023-09-28T00:00:38.295504Z",
     "start_time": "2023-09-28T00:00:38.224541Z"
    },
    "collapsed": false
   },
   "outputs": [],
   "source": [
    "model = CentralizedQModel(env, num_agents_cleanup, None, 'central')\n",
    "model.compile(loss='mse', optimizer='adam')"
   ]
  },
  {
   "cell_type": "code",
   "execution_count": 6,
   "id": "c1d18594a95e728a",
   "metadata": {
    "ExecuteTime": {
     "end_time": "2023-09-28T00:00:39.123818Z",
     "start_time": "2023-09-28T00:00:39.113378Z"
    },
    "collapsed": false
   },
   "outputs": [
    {
     "name": "stdout",
     "output_type": "stream",
     "text": [
      "Model: \"model\"\n",
      "__________________________________________________________________________________________________\n",
      "Layer (type)                    Output Shape         Param #     Connected to                     \n",
      "==================================================================================================\n",
      "pos_input (InputLayer)          [(None, 10, 2)]      0                                            \n",
      "__________________________________________________________________________________________________\n",
      "state_input (InputLayer)        [(None, 25, 18)]     0                                            \n",
      "__________________________________________________________________________________________________\n",
      "flatten_1 (Flatten)             (None, 20)           0           pos_input[0][0]                  \n",
      "__________________________________________________________________________________________________\n",
      "flatten (Flatten)               (None, 450)          0           state_input[0][0]                \n",
      "__________________________________________________________________________________________________\n",
      "dense_1 (Dense)                 (None, 16)           336         flatten_1[0][0]                  \n",
      "__________________________________________________________________________________________________\n",
      "dense (Dense)                   (None, 512)          230912      flatten[0][0]                    \n",
      "__________________________________________________________________________________________________\n",
      "concatenate (Concatenate)       (None, 528)          0           dense_1[0][0]                    \n",
      "                                                                 dense[0][0]                      \n",
      "__________________________________________________________________________________________________\n",
      "dense_2 (Dense)                 (None, 256)          135424      concatenate[0][0]                \n",
      "__________________________________________________________________________________________________\n",
      "dense_3 (Dense)                 (None, 40)           10280       dense_2[0][0]                    \n",
      "__________________________________________________________________________________________________\n",
      "reshape (Reshape)               (None, 10, 4)        0           dense_3[0][0]                    \n",
      "==================================================================================================\n",
      "Total params: 376,952\n",
      "Trainable params: 376,952\n",
      "Non-trainable params: 0\n",
      "__________________________________________________________________________________________________\n"
     ]
    }
   ],
   "source": [
    "model.summary()"
   ]
  },
  {
   "cell_type": "code",
   "execution_count": 7,
   "id": "845766c40df1f267",
   "metadata": {
    "ExecuteTime": {
     "end_time": "2023-09-28T00:00:41.129529Z",
     "start_time": "2023-09-28T00:00:41.117481Z"
    },
    "collapsed": false
   },
   "outputs": [],
   "source": [
    "from train import train\n",
    "from test import test_centralized"
   ]
  },
  {
   "cell_type": "code",
   "execution_count": 9,
   "id": "1e959cfae8dc3241",
   "metadata": {
    "ExecuteTime": {
     "end_time": "2023-09-28T00:00:59.729843Z",
     "start_time": "2023-09-28T00:00:59.556385Z"
    },
    "collapsed": false
   },
   "outputs": [
    {
     "ename": "IndexError",
     "evalue": "invalid index to scalar variable.",
     "output_type": "error",
     "traceback": [
      "\u001b[0;31m---------------------------------------------------------------------------\u001b[0m",
      "\u001b[0;31mIndexError\u001b[0m                                Traceback (most recent call last)",
      "\u001b[1;32m/Users/gabeguralnick/git/social_reinforcement_learning/notebooks/centralized_test.ipynb Cell 8\u001b[0m line \u001b[0;36m1\n\u001b[0;32m----> <a href='vscode-notebook-cell:/Users/gabeguralnick/git/social_reinforcement_learning/notebooks/centralized_test.ipynb#X11sZmlsZQ%3D%3D?line=0'>1</a>\u001b[0m train({\u001b[39m\"\u001b[39;49m\u001b[39m0\u001b[39;49m\u001b[39m\"\u001b[39;49m: model}, env, num_episodes, discount_factor, eps, eps_decay_factor, alpha, batch_size, centralized\u001b[39m=\u001b[39;49m\u001b[39mTrue\u001b[39;49;00m)\n",
      "File \u001b[0;32m~/git/social_reinforcement_learning/train.py:71\u001b[0m, in \u001b[0;36mtrain\u001b[0;34m(models, env, num_episodes, eps, eps_decay_factor, discount_factor, alpha, batch_size, render, centralized)\u001b[0m\n\u001b[1;32m     69\u001b[0m target \u001b[39m=\u001b[39m rewards[agent_id] \u001b[39m+\u001b[39m discount_factor \u001b[39m*\u001b[39m np\u001b[39m.\u001b[39mmax(new_preds[agent_id])\n\u001b[1;32m     70\u001b[0m \u001b[39mif\u001b[39;00m centralized:\n\u001b[0;32m---> 71\u001b[0m     target_vector[i][actions[agent_id]] \u001b[39m=\u001b[39m (\u001b[39m1\u001b[39m \u001b[39m-\u001b[39m alpha) \u001b[39m*\u001b[39m target_vector[i][actions[agent_id]] \u001b[39m+\u001b[39m alpha \u001b[39m*\u001b[39m (\n\u001b[1;32m     72\u001b[0m         target)\n\u001b[1;32m     73\u001b[0m \u001b[39melse\u001b[39;00m:\n\u001b[1;32m     74\u001b[0m     target_vector \u001b[39m=\u001b[39m preds[agent_id]\n",
      "\u001b[0;31mIndexError\u001b[0m: invalid index to scalar variable."
     ]
    }
   ],
   "source": [
    "train({\"0\": model}, env, num_episodes, discount_factor, eps, eps_decay_factor, alpha, batch_size, centralized=True)"
   ]
  },
  {
   "cell_type": "code",
   "execution_count": 11,
   "id": "5d111b7c9d8fdf34",
   "metadata": {
    "ExecuteTime": {
     "end_time": "2023-09-24T19:49:56.001470Z",
     "start_time": "2023-09-24T19:49:46.305014Z"
    },
    "collapsed": false
   },
   "outputs": [
    {
     "name": "stdout",
     "output_type": "stream",
     "text": [
      "Episode:1 Score:defaultdict(<class 'int'>, {'0': 0, '1': 0, '2': 0, '3': 0, '4': 0, '5': 0, '6': 0, '7': 0, '8': 0, '9': 0})\n",
      "Average Agent Reward: 0.0\n",
      "Episode:2 Score:defaultdict(<class 'int'>, {'0': 0, '1': 0, '2': 0, '3': 0, '4': 0, '5': 0, '6': 0, '7': 0, '8': 0, '9': 0})\n",
      "Average Agent Reward: 0.0\n",
      "Episode:3 Score:defaultdict(<class 'int'>, {'0': 0, '1': 0, '2': 0, '3': 0, '4': 0, '5': 0, '6': 0, '7': 0, '8': 0, '9': 0})\n",
      "Average Agent Reward: 0.0\n",
      "Episode:4 Score:defaultdict(<class 'int'>, {'0': 0, '1': 1, '2': 0, '3': 0, '4': 0, '5': 1, '6': 2, '7': 0, '8': 0, '9': 0})\n",
      "Average Agent Reward: 0.4\n",
      "Episode:5 Score:defaultdict(<class 'int'>, {'0': 0, '1': 1, '2': 0, '3': 0, '4': 0, '5': 0, '6': 0, '7': 0, '8': 0, '9': 0})\n",
      "Average Agent Reward: 0.1\n",
      "Episode:6 Score:defaultdict(<class 'int'>, {'0': 0, '1': 0, '2': 0, '3': 1, '4': 0, '5': 0, '6': 0, '7': 0, '8': 0, '9': 0})\n",
      "Average Agent Reward: 0.1\n",
      "Episode:7 Score:defaultdict(<class 'int'>, {'0': 0, '1': 0, '2': 0, '3': 0, '4': 0, '5': 0, '6': 0, '7': 0, '8': 0, '9': 0})\n",
      "Average Agent Reward: 0.0\n",
      "Episode:8 Score:defaultdict(<class 'int'>, {'0': 0, '1': 1, '2': 0, '3': 0, '4': 0, '5': 0, '6': 0, '7': 0, '8': 0, '9': 0})\n",
      "Average Agent Reward: 0.1\n",
      "Episode:9 Score:defaultdict(<class 'int'>, {'0': 0, '1': 0, '2': 0, '3': 0, '4': 0, '5': 0, '6': 1, '7': 0, '8': 0, '9': 0})\n",
      "Average Agent Reward: 0.1\n",
      "Episode:10 Score:defaultdict(<class 'int'>, {'0': 0, '1': 0, '2': 0, '3': 0, '4': 0, '5': 1, '6': 2, '7': 0, '8': 0, '9': 0})\n",
      "Average Agent Reward: 0.3\n",
      "Episode:11 Score:defaultdict(<class 'int'>, {'0': 0, '1': 1, '2': 0, '3': 0, '4': 0, '5': 0, '6': 0, '7': 0, '8': 0, '9': 0})\n",
      "Average Agent Reward: 0.1\n",
      "Episode:12 Score:defaultdict(<class 'int'>, {'0': 3, '1': 0, '2': 2, '3': 0, '4': 0, '5': 5, '6': 2, '7': 0, '8': 0, '9': 0})\n",
      "Average Agent Reward: 1.2\n",
      "Episode:13 Score:defaultdict(<class 'int'>, {'0': 0, '1': 3, '2': 0, '3': 0, '4': 0, '5': 0, '6': 0, '7': 0, '8': 0, '9': 0})\n",
      "Average Agent Reward: 0.3\n",
      "Episode:14 Score:defaultdict(<class 'int'>, {'0': 0, '1': 0, '2': 0, '3': 0, '4': 0, '5': 0, '6': 0, '7': 0, '8': 0, '9': 0})\n",
      "Average Agent Reward: 0.0\n",
      "Episode:15 Score:defaultdict(<class 'int'>, {'0': 0, '1': 0, '2': 0, '3': 0, '4': 1, '5': 0, '6': 1, '7': 0, '8': 0, '9': 0})\n",
      "Average Agent Reward: 0.2\n",
      "Episode:16 Score:defaultdict(<class 'int'>, {'0': 0, '1': 0, '2': 0, '3': 0, '4': 0, '5': 0, '6': 0, '7': 0, '8': 0, '9': 0})\n",
      "Average Agent Reward: 0.0\n",
      "Episode:17 Score:defaultdict(<class 'int'>, {'0': 0, '1': 0, '2': 0, '3': 0, '4': 0, '5': 0, '6': 0, '7': 0, '8': 0, '9': 0})\n",
      "Average Agent Reward: 0.0\n",
      "Episode:18 Score:defaultdict(<class 'int'>, {'0': 0, '1': 3, '2': 0, '3': 0, '4': 0, '5': 0, '6': 1, '7': 0, '8': 0, '9': 0})\n",
      "Average Agent Reward: 0.4\n",
      "Episode:19 Score:defaultdict(<class 'int'>, {'0': 0, '1': 0, '2': 0, '3': 0, '4': 0, '5': 0, '6': 0, '7': 0, '8': 0, '9': 0})\n",
      "Average Agent Reward: 0.0\n",
      "Episode:20 Score:defaultdict(<class 'int'>, {'0': 0, '1': 0, '2': 2, '3': 0, '4': 0, '5': 0, '6': 0, '7': 1, '8': 0, '9': 0})\n",
      "Average Agent Reward: 0.3\n",
      "Total avg: 0.36\n"
     ]
    }
   ],
   "source": [
    "test_centralized(model, env, num_episodes, num_agents_cleanup)"
   ]
  },
  {
   "cell_type": "code",
   "execution_count": null,
   "id": "e190421d7eb56fdc",
   "metadata": {
    "collapsed": false
   },
   "outputs": [],
   "source": []
  }
 ],
 "metadata": {
  "kernelspec": {
   "display_name": "Python 3",
   "language": "python",
   "name": "python3"
  },
  "language_info": {
   "codemirror_mode": {
    "name": "ipython",
    "version": 3
   },
   "file_extension": ".py",
   "mimetype": "text/x-python",
   "name": "python",
   "nbconvert_exporter": "python",
   "pygments_lexer": "ipython3",
   "version": "3.10.7"
  }
 },
 "nbformat": 4,
 "nbformat_minor": 5
}
