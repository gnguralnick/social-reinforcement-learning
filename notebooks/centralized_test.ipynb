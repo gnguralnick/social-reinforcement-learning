{
 "cells": [
  {
   "cell_type": "code",
   "execution_count": 1,
   "id": "initial_id",
   "metadata": {
    "collapsed": true,
    "ExecuteTime": {
     "end_time": "2023-09-24T19:46:08.325729Z",
     "start_time": "2023-09-24T19:46:03.446832Z"
    }
   },
   "outputs": [
    {
     "name": "stderr",
     "output_type": "stream",
     "text": [
      "2023-09-24 14:46:08,272\tWARNING deprecation.py:50 -- DeprecationWarning: `DirectStepOptimizer` has been deprecated. This will raise an error in the future!\n"
     ]
    }
   ],
   "source": [
    "from environments.cleanup_env import CleanupEnv"
   ]
  },
  {
   "cell_type": "code",
   "execution_count": 2,
   "outputs": [],
   "source": [
    "num_agents_cleanup = 10\n",
    "env = CleanupEnv(num_agents=num_agents_cleanup)"
   ],
   "metadata": {
    "collapsed": false,
    "ExecuteTime": {
     "end_time": "2023-09-24T19:46:09.021377Z",
     "start_time": "2023-09-24T19:46:09.016949Z"
    }
   },
   "id": "c50ce6af795ee9a1"
  },
  {
   "cell_type": "code",
   "execution_count": 8,
   "outputs": [],
   "source": [
    "discount_factor = 0.99\n",
    "eps = 0.2\n",
    "eps_decay_factor = 0.999\n",
    "num_episodes = 20\n",
    "alpha = 0.1\n",
    "batch_size = 10"
   ],
   "metadata": {
    "collapsed": false,
    "ExecuteTime": {
     "end_time": "2023-09-24T19:47:16.659793Z",
     "start_time": "2023-09-24T19:47:16.655960Z"
    }
   },
   "id": "a348e0cd7880b84c"
  },
  {
   "cell_type": "code",
   "execution_count": 4,
   "outputs": [],
   "source": [
    "from models.centralized import CentralizedQModel"
   ],
   "metadata": {
    "collapsed": false,
    "ExecuteTime": {
     "end_time": "2023-09-24T19:46:10.483582Z",
     "start_time": "2023-09-24T19:46:10.475187Z"
    }
   },
   "id": "8e7708851791189b"
  },
  {
   "cell_type": "code",
   "execution_count": 5,
   "outputs": [],
   "source": [
    "model = CentralizedQModel(env, num_agents_cleanup, None, 'central')\n",
    "model.compile(loss='mse', optimizer='adam')"
   ],
   "metadata": {
    "collapsed": false,
    "ExecuteTime": {
     "end_time": "2023-09-24T19:46:10.996802Z",
     "start_time": "2023-09-24T19:46:10.955722Z"
    }
   },
   "id": "5c7ae4e698a58747"
  },
  {
   "cell_type": "code",
   "execution_count": 6,
   "outputs": [
    {
     "name": "stdout",
     "output_type": "stream",
     "text": [
      "Model: \"model\"\n",
      "__________________________________________________________________________________________________\n",
      "Layer (type)                    Output Shape         Param #     Connected to                     \n",
      "==================================================================================================\n",
      "pos_input (InputLayer)          [(None, 10, 2)]      0                                            \n",
      "__________________________________________________________________________________________________\n",
      "state_input (InputLayer)        [(None, 25, 18)]     0                                            \n",
      "__________________________________________________________________________________________________\n",
      "flatten_1 (Flatten)             (None, 20)           0           pos_input[0][0]                  \n",
      "__________________________________________________________________________________________________\n",
      "flatten (Flatten)               (None, 450)          0           state_input[0][0]                \n",
      "__________________________________________________________________________________________________\n",
      "dense_1 (Dense)                 (None, 16)           336         flatten_1[0][0]                  \n",
      "__________________________________________________________________________________________________\n",
      "dense (Dense)                   (None, 512)          230912      flatten[0][0]                    \n",
      "__________________________________________________________________________________________________\n",
      "concatenate (Concatenate)       (None, 528)          0           dense_1[0][0]                    \n",
      "                                                                 dense[0][0]                      \n",
      "__________________________________________________________________________________________________\n",
      "dense_2 (Dense)                 (None, 256)          135424      concatenate[0][0]                \n",
      "__________________________________________________________________________________________________\n",
      "dense_3 (Dense)                 (None, 40)           10280       dense_2[0][0]                    \n",
      "__________________________________________________________________________________________________\n",
      "reshape (Reshape)               (None, 10, 4)        0           dense_3[0][0]                    \n",
      "==================================================================================================\n",
      "Total params: 376,952\n",
      "Trainable params: 376,952\n",
      "Non-trainable params: 0\n",
      "__________________________________________________________________________________________________\n"
     ]
    }
   ],
   "source": [
    "model.summary()"
   ],
   "metadata": {
    "collapsed": false,
    "ExecuteTime": {
     "end_time": "2023-09-24T19:46:12.221204Z",
     "start_time": "2023-09-24T19:46:12.216592Z"
    }
   },
   "id": "c1d18594a95e728a"
  },
  {
   "cell_type": "code",
   "execution_count": 7,
   "outputs": [],
   "source": [
    "from train import train_centralized\n",
    "from test import test_centralized"
   ],
   "metadata": {
    "collapsed": false,
    "ExecuteTime": {
     "end_time": "2023-09-24T19:46:50.770088Z",
     "start_time": "2023-09-24T19:46:50.753051Z"
    }
   },
   "id": "845766c40df1f267"
  },
  {
   "cell_type": "code",
   "execution_count": 10,
   "outputs": [
    {
     "name": "stderr",
     "output_type": "stream",
     "text": [
      "/Users/gabeguralnick/git/social_reinforcement_learning/venv/lib/python3.10/site-packages/tensorflow/python/keras/engine/training.py:2456: UserWarning: `Model.state_updates` will be removed in a future version. This property should not be used in TensorFlow 2.0, as `updates` are applied automatically.\n",
      "  warnings.warn('`Model.state_updates` will be removed in a future version. '\n"
     ]
    },
    {
     "name": "stdout",
     "output_type": "stream",
     "text": [
      "Episode 1/20 (total reward: 26)\n",
      "Agent rewards: [0, 3, 2, 2, 0, 8, 6, 0, 4, 1]\n",
      "[26]\n",
      "Episode 2/20 (total reward: 10)\n",
      "Agent rewards: [5, 0, 1, 0, 0, 0, 0, 1, 3, 0]\n",
      "[26, 10]\n",
      "Episode 3/20 (total reward: 18)\n",
      "Agent rewards: [0, 6, 2, 0, 0, 0, 3, 7, 0, 0]\n",
      "[26, 10, 18]\n",
      "Episode 4/20 (total reward: 40)\n",
      "Agent rewards: [7, 9, 1, 0, 0, 0, 3, 3, 9, 8]\n",
      "[26, 10, 18, 40]\n",
      "Episode 5/20 (total reward: 15)\n",
      "Agent rewards: [1, 6, 0, 3, 0, 0, 2, 2, 1, 0]\n",
      "[26, 10, 18, 40, 15]\n",
      "Episode 6/20 (total reward: 35)\n",
      "Agent rewards: [3, 5, 8, 1, 0, 0, 3, 2, 4, 9]\n",
      "[26, 10, 18, 40, 15, 35]\n",
      "Episode 7/20 (total reward: 26)\n",
      "Agent rewards: [2, 1, 7, 1, 0, 0, 2, 1, 9, 3]\n",
      "[26, 10, 18, 40, 15, 35, 26]\n",
      "Episode 8/20 (total reward: 41)\n",
      "Agent rewards: [4, 1, 10, 6, 0, 0, 3, 4, 12, 1]\n",
      "[26, 10, 18, 40, 15, 35, 26, 41]\n",
      "Episode 9/20 (total reward: 45)\n",
      "Agent rewards: [3, 0, 0, 6, 0, 5, 7, 7, 14, 3]\n",
      "[26, 10, 18, 40, 15, 35, 26, 41, 45]\n",
      "Episode 10/20 (total reward: 76)\n",
      "Agent rewards: [1, 28, 2, 3, 0, 0, 12, 10, 0, 20]\n",
      "[26, 10, 18, 40, 15, 35, 26, 41, 45, 76]\n",
      "Episode 11/20 (total reward: 58)\n",
      "Agent rewards: [4, 4, 2, 6, 1, 4, 9, 4, 19, 5]\n",
      "[26, 10, 18, 40, 15, 35, 26, 41, 45, 76, 58]\n",
      "Episode 12/20 (total reward: 39)\n",
      "Agent rewards: [0, 2, 0, 11, 3, 2, 4, 4, 11, 2]\n",
      "[26, 10, 18, 40, 15, 35, 26, 41, 45, 76, 58, 39]\n",
      "Episode 13/20 (total reward: 63)\n",
      "Agent rewards: [6, 4, 3, 3, 5, 6, 12, 10, 4, 10]\n",
      "[26, 10, 18, 40, 15, 35, 26, 41, 45, 76, 58, 39, 63]\n",
      "Episode 14/20 (total reward: 36)\n",
      "Agent rewards: [3, 3, 5, 2, 4, 9, 2, 3, 4, 1]\n",
      "[26, 10, 18, 40, 15, 35, 26, 41, 45, 76, 58, 39, 63, 36]\n",
      "Episode 15/20 (total reward: 72)\n",
      "Agent rewards: [1, 6, 12, 3, 19, 4, 8, 5, 8, 6]\n",
      "[26, 10, 18, 40, 15, 35, 26, 41, 45, 76, 58, 39, 63, 36, 72]\n",
      "Episode 16/20 (total reward: 54)\n",
      "Agent rewards: [1, 5, 4, 8, 0, 14, 5, 6, 2, 9]\n",
      "[26, 10, 18, 40, 15, 35, 26, 41, 45, 76, 58, 39, 63, 36, 72, 54]\n",
      "Episode 17/20 (total reward: 36)\n",
      "Agent rewards: [5, 1, 8, 4, 11, 2, 3, 0, 2, 0]\n",
      "[26, 10, 18, 40, 15, 35, 26, 41, 45, 76, 58, 39, 63, 36, 72, 54, 36]\n",
      "Episode 18/20 (total reward: 27)\n",
      "Agent rewards: [1, 1, 1, 2, 3, 1, 0, 3, 13, 2]\n",
      "[26, 10, 18, 40, 15, 35, 26, 41, 45, 76, 58, 39, 63, 36, 72, 54, 36, 27]\n",
      "Episode 19/20 (total reward: 27)\n",
      "Agent rewards: [1, 9, 2, 1, 3, 3, 2, 1, 2, 3]\n",
      "[26, 10, 18, 40, 15, 35, 26, 41, 45, 76, 58, 39, 63, 36, 72, 54, 36, 27, 27]\n",
      "Episode 20/20 (total reward: 16)\n",
      "Agent rewards: [1, 1, 4, 0, 1, 1, 6, 1, 0, 1]\n",
      "[26, 10, 18, 40, 15, 35, 26, 41, 45, 76, 58, 39, 63, 36, 72, 54, 36, 27, 27, 16]\n"
     ]
    }
   ],
   "source": [
    "train_centralized(model, env, num_episodes, discount_factor, eps, eps_decay_factor, alpha, batch_size)"
   ],
   "metadata": {
    "collapsed": false,
    "ExecuteTime": {
     "end_time": "2023-09-24T19:49:39.414902Z",
     "start_time": "2023-09-24T19:48:12.503428Z"
    }
   },
   "id": "1e959cfae8dc3241"
  },
  {
   "cell_type": "code",
   "execution_count": 11,
   "outputs": [
    {
     "name": "stdout",
     "output_type": "stream",
     "text": [
      "Episode:1 Score:defaultdict(<class 'int'>, {'0': 0, '1': 0, '2': 0, '3': 0, '4': 0, '5': 0, '6': 0, '7': 0, '8': 0, '9': 0})\n",
      "Average Agent Reward: 0.0\n",
      "Episode:2 Score:defaultdict(<class 'int'>, {'0': 0, '1': 0, '2': 0, '3': 0, '4': 0, '5': 0, '6': 0, '7': 0, '8': 0, '9': 0})\n",
      "Average Agent Reward: 0.0\n",
      "Episode:3 Score:defaultdict(<class 'int'>, {'0': 0, '1': 0, '2': 0, '3': 0, '4': 0, '5': 0, '6': 0, '7': 0, '8': 0, '9': 0})\n",
      "Average Agent Reward: 0.0\n",
      "Episode:4 Score:defaultdict(<class 'int'>, {'0': 0, '1': 1, '2': 0, '3': 0, '4': 0, '5': 1, '6': 2, '7': 0, '8': 0, '9': 0})\n",
      "Average Agent Reward: 0.4\n",
      "Episode:5 Score:defaultdict(<class 'int'>, {'0': 0, '1': 1, '2': 0, '3': 0, '4': 0, '5': 0, '6': 0, '7': 0, '8': 0, '9': 0})\n",
      "Average Agent Reward: 0.1\n",
      "Episode:6 Score:defaultdict(<class 'int'>, {'0': 0, '1': 0, '2': 0, '3': 1, '4': 0, '5': 0, '6': 0, '7': 0, '8': 0, '9': 0})\n",
      "Average Agent Reward: 0.1\n",
      "Episode:7 Score:defaultdict(<class 'int'>, {'0': 0, '1': 0, '2': 0, '3': 0, '4': 0, '5': 0, '6': 0, '7': 0, '8': 0, '9': 0})\n",
      "Average Agent Reward: 0.0\n",
      "Episode:8 Score:defaultdict(<class 'int'>, {'0': 0, '1': 1, '2': 0, '3': 0, '4': 0, '5': 0, '6': 0, '7': 0, '8': 0, '9': 0})\n",
      "Average Agent Reward: 0.1\n",
      "Episode:9 Score:defaultdict(<class 'int'>, {'0': 0, '1': 0, '2': 0, '3': 0, '4': 0, '5': 0, '6': 1, '7': 0, '8': 0, '9': 0})\n",
      "Average Agent Reward: 0.1\n",
      "Episode:10 Score:defaultdict(<class 'int'>, {'0': 0, '1': 0, '2': 0, '3': 0, '4': 0, '5': 1, '6': 2, '7': 0, '8': 0, '9': 0})\n",
      "Average Agent Reward: 0.3\n",
      "Episode:11 Score:defaultdict(<class 'int'>, {'0': 0, '1': 1, '2': 0, '3': 0, '4': 0, '5': 0, '6': 0, '7': 0, '8': 0, '9': 0})\n",
      "Average Agent Reward: 0.1\n",
      "Episode:12 Score:defaultdict(<class 'int'>, {'0': 3, '1': 0, '2': 2, '3': 0, '4': 0, '5': 5, '6': 2, '7': 0, '8': 0, '9': 0})\n",
      "Average Agent Reward: 1.2\n",
      "Episode:13 Score:defaultdict(<class 'int'>, {'0': 0, '1': 3, '2': 0, '3': 0, '4': 0, '5': 0, '6': 0, '7': 0, '8': 0, '9': 0})\n",
      "Average Agent Reward: 0.3\n",
      "Episode:14 Score:defaultdict(<class 'int'>, {'0': 0, '1': 0, '2': 0, '3': 0, '4': 0, '5': 0, '6': 0, '7': 0, '8': 0, '9': 0})\n",
      "Average Agent Reward: 0.0\n",
      "Episode:15 Score:defaultdict(<class 'int'>, {'0': 0, '1': 0, '2': 0, '3': 0, '4': 1, '5': 0, '6': 1, '7': 0, '8': 0, '9': 0})\n",
      "Average Agent Reward: 0.2\n",
      "Episode:16 Score:defaultdict(<class 'int'>, {'0': 0, '1': 0, '2': 0, '3': 0, '4': 0, '5': 0, '6': 0, '7': 0, '8': 0, '9': 0})\n",
      "Average Agent Reward: 0.0\n",
      "Episode:17 Score:defaultdict(<class 'int'>, {'0': 0, '1': 0, '2': 0, '3': 0, '4': 0, '5': 0, '6': 0, '7': 0, '8': 0, '9': 0})\n",
      "Average Agent Reward: 0.0\n",
      "Episode:18 Score:defaultdict(<class 'int'>, {'0': 0, '1': 3, '2': 0, '3': 0, '4': 0, '5': 0, '6': 1, '7': 0, '8': 0, '9': 0})\n",
      "Average Agent Reward: 0.4\n",
      "Episode:19 Score:defaultdict(<class 'int'>, {'0': 0, '1': 0, '2': 0, '3': 0, '4': 0, '5': 0, '6': 0, '7': 0, '8': 0, '9': 0})\n",
      "Average Agent Reward: 0.0\n",
      "Episode:20 Score:defaultdict(<class 'int'>, {'0': 0, '1': 0, '2': 2, '3': 0, '4': 0, '5': 0, '6': 0, '7': 1, '8': 0, '9': 0})\n",
      "Average Agent Reward: 0.3\n",
      "Total avg: 0.36\n"
     ]
    }
   ],
   "source": [
    "test_centralized(model, env, num_episodes, num_agents_cleanup)"
   ],
   "metadata": {
    "collapsed": false,
    "ExecuteTime": {
     "end_time": "2023-09-24T19:49:56.001470Z",
     "start_time": "2023-09-24T19:49:46.305014Z"
    }
   },
   "id": "5d111b7c9d8fdf34"
  },
  {
   "cell_type": "code",
   "execution_count": null,
   "outputs": [],
   "source": [],
   "metadata": {
    "collapsed": false
   },
   "id": "e190421d7eb56fdc"
  }
 ],
 "metadata": {
  "kernelspec": {
   "display_name": "Python 3",
   "language": "python",
   "name": "python3"
  },
  "language_info": {
   "codemirror_mode": {
    "name": "ipython",
    "version": 2
   },
   "file_extension": ".py",
   "mimetype": "text/x-python",
   "name": "python",
   "nbconvert_exporter": "python",
   "pygments_lexer": "ipython2",
   "version": "2.7.6"
  }
 },
 "nbformat": 4,
 "nbformat_minor": 5
}
